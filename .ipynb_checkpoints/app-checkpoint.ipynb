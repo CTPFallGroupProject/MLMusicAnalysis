{
 "cells": [
  {
   "cell_type": "code",
   "execution_count": 2,
   "id": "167497dc",
   "metadata": {},
   "outputs": [],
   "source": [
    "import pandas as pd\n"
   ]
  },
  {
   "cell_type": "code",
   "execution_count": 7,
   "id": "c563e63e",
   "metadata": {},
   "outputs": [],
   "source": [
    "url = 'https://drive.google.com/file/d/1TmSL2T17HVBa-Fn_rcarhKPl8jfrAd7n/view?usp=sharing'\n",
    "path = 'https://drive.google.com/uc?export=download&id='+url.split('/')[-2]\n",
    "df = pd.read_csv(path)"
   ]
  },
  {
   "cell_type": "code",
   "execution_count": 8,
   "id": "b2c6125b",
   "metadata": {},
   "outputs": [
    {
     "data": {
      "text/html": [
       "<div>\n",
       "<style scoped>\n",
       "    .dataframe tbody tr th:only-of-type {\n",
       "        vertical-align: middle;\n",
       "    }\n",
       "\n",
       "    .dataframe tbody tr th {\n",
       "        vertical-align: top;\n",
       "    }\n",
       "\n",
       "    .dataframe thead th {\n",
       "        text-align: right;\n",
       "    }\n",
       "</style>\n",
       "<table border=\"1\" class=\"dataframe\">\n",
       "  <thead>\n",
       "    <tr style=\"text-align: right;\">\n",
       "      <th></th>\n",
       "      <th>Track name</th>\n",
       "      <th>Artist name</th>\n",
       "      <th>Album</th>\n",
       "      <th>Playlist name</th>\n",
       "      <th>Type</th>\n",
       "    </tr>\n",
       "  </thead>\n",
       "  <tbody>\n",
       "    <tr>\n",
       "      <th>0</th>\n",
       "      <td>Jodi Baron Koro Tobe-Bonna</td>\n",
       "      <td>NaN</td>\n",
       "      <td>NaN</td>\n",
       "      <td>Rabindra Sangeet</td>\n",
       "      <td>Playlist track</td>\n",
       "    </tr>\n",
       "    <tr>\n",
       "      <th>1</th>\n",
       "      <td>JODI BARONO KORO I ANIMA ROY I TAGORE SONG</td>\n",
       "      <td>NaN</td>\n",
       "      <td>NaN</td>\n",
       "      <td>Rabindra Sangeet</td>\n",
       "      <td>Playlist track</td>\n",
       "    </tr>\n",
       "    <tr>\n",
       "      <th>2</th>\n",
       "      <td>Esho Amar Ghore | Rabindranath &amp; Meera Bai in ...</td>\n",
       "      <td>NaN</td>\n",
       "      <td>NaN</td>\n",
       "      <td>Rabindra Sangeet</td>\n",
       "      <td>Playlist track</td>\n",
       "    </tr>\n",
       "    <tr>\n",
       "      <th>3</th>\n",
       "      <td>64. Esho Esho Amar Ghore - Srikanto Acharya</td>\n",
       "      <td>NaN</td>\n",
       "      <td>NaN</td>\n",
       "      <td>Rabindra Sangeet</td>\n",
       "      <td>Playlist track</td>\n",
       "    </tr>\n",
       "    <tr>\n",
       "      <th>4</th>\n",
       "      <td>আজি কমলমুকুলদল খুলিল - Aji Komolmukuldol Khulilo</td>\n",
       "      <td>NaN</td>\n",
       "      <td>NaN</td>\n",
       "      <td>Rabindra Sangeet</td>\n",
       "      <td>Playlist track</td>\n",
       "    </tr>\n",
       "  </tbody>\n",
       "</table>\n",
       "</div>"
      ],
      "text/plain": [
       "                                          Track name   Artist name   Album  \\\n",
       "0                         Jodi Baron Koro Tobe-Bonna           NaN     NaN   \n",
       "1         JODI BARONO KORO I ANIMA ROY I TAGORE SONG           NaN     NaN   \n",
       "2  Esho Amar Ghore | Rabindranath & Meera Bai in ...           NaN     NaN   \n",
       "3        64. Esho Esho Amar Ghore - Srikanto Acharya           NaN     NaN   \n",
       "4   আজি কমলমুকুলদল খুলিল - Aji Komolmukuldol Khulilo           NaN     NaN   \n",
       "\n",
       "      Playlist name            Type  \n",
       "0  Rabindra Sangeet  Playlist track  \n",
       "1  Rabindra Sangeet  Playlist track  \n",
       "2  Rabindra Sangeet  Playlist track  \n",
       "3  Rabindra Sangeet  Playlist track  \n",
       "4  Rabindra Sangeet  Playlist track  "
      ]
     },
     "execution_count": 8,
     "metadata": {},
     "output_type": "execute_result"
    }
   ],
   "source": [
    "df.head()"
   ]
  }
 ],
 "metadata": {
  "kernelspec": {
   "display_name": "Python 3 (ipykernel)",
   "language": "python",
   "name": "python3"
  },
  "language_info": {
   "codemirror_mode": {
    "name": "ipython",
    "version": 3
   },
   "file_extension": ".py",
   "mimetype": "text/x-python",
   "name": "python",
   "nbconvert_exporter": "python",
   "pygments_lexer": "ipython3",
   "version": "3.10.4"
  }
 },
 "nbformat": 4,
 "nbformat_minor": 5
}
