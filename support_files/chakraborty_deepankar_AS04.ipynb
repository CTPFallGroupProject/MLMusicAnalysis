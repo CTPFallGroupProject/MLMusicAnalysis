{
 "cells": [
  {
   "cell_type": "markdown",
   "id": "5a5d0b5c",
   "metadata": {},
   "source": [
    "## Please see line 616 for confusion matrix."
   ]
  },
  {
   "cell_type": "code",
   "execution_count": 140,
   "id": "6e6f5659",
   "metadata": {},
   "outputs": [],
   "source": [
    "import pandas as pd\n",
    "import numpy as np\n",
    "import matplotlib.pyplot as plt\n",
    "import seaborn as sns\n",
    "import pydot\n",
    "import graphviz\n",
    "import pydotplus\n",
    "\n",
    "%matplotlib inline\n",
    "\n",
    "import sklearn\n",
    "from sklearn.model_selection import train_test_split\n",
    "from sklearn.preprocessing import LabelEncoder\n",
    "from sklearn.preprocessing import OneHotEncoder\n",
    "from sklearn.svm import SVC\n",
    "from sklearn import metrics\n",
    "\n",
    "import decimal"
   ]
  },
  {
   "cell_type": "code",
   "execution_count": 141,
   "id": "eec4155e",
   "metadata": {},
   "outputs": [],
   "source": [
    "import tensorflow as tf\n",
    "from keras import datasets\n",
    "from keras import models\n",
    "from keras import layers\n",
    "from tensorflow.keras.utils import to_categorical, plot_model\n",
    "from keras import models\n",
    "from keras.layers import Activation, Dense\n",
    "from tensorflow.keras.layers import Dense\n",
    "import tensorflow_probability as tfp\n",
    "from keras.optimizers import Adam\n",
    "from keras.layers import Dropout"
   ]
  },
  {
   "cell_type": "markdown",
   "id": "3743d279",
   "metadata": {},
   "source": [
    "Import Dataset"
   ]
  },
  {
   "cell_type": "code",
   "execution_count": 391,
   "id": "bd9fb18d",
   "metadata": {},
   "outputs": [],
   "source": [
    "df = pd.read_csv('https://archive.ics.uci.edu/ml/machine-learning-databases/iris/iris.data', header = None)\n",
    "df = df.rename(columns={0:\"sepal length (cm)\", 1:\"sepal width (cm)\", 2:\"petal length (cm)\", 3:\"petal width (cm)\", 4:\"class\"})\n",
    "df.columns = df.columns.str.replace(' ', '_')"
   ]
  },
  {
   "cell_type": "code",
   "execution_count": 392,
   "id": "50149c47",
   "metadata": {},
   "outputs": [
    {
     "data": {
      "text/html": [
       "<div>\n",
       "<style scoped>\n",
       "    .dataframe tbody tr th:only-of-type {\n",
       "        vertical-align: middle;\n",
       "    }\n",
       "\n",
       "    .dataframe tbody tr th {\n",
       "        vertical-align: top;\n",
       "    }\n",
       "\n",
       "    .dataframe thead th {\n",
       "        text-align: right;\n",
       "    }\n",
       "</style>\n",
       "<table border=\"1\" class=\"dataframe\">\n",
       "  <thead>\n",
       "    <tr style=\"text-align: right;\">\n",
       "      <th></th>\n",
       "      <th>sepal_length_(cm)</th>\n",
       "      <th>sepal_width_(cm)</th>\n",
       "      <th>petal_length_(cm)</th>\n",
       "      <th>petal_width_(cm)</th>\n",
       "      <th>class</th>\n",
       "    </tr>\n",
       "  </thead>\n",
       "  <tbody>\n",
       "    <tr>\n",
       "      <th>0</th>\n",
       "      <td>5.1</td>\n",
       "      <td>3.5</td>\n",
       "      <td>1.4</td>\n",
       "      <td>0.2</td>\n",
       "      <td>Iris-setosa</td>\n",
       "    </tr>\n",
       "    <tr>\n",
       "      <th>1</th>\n",
       "      <td>4.9</td>\n",
       "      <td>3.0</td>\n",
       "      <td>1.4</td>\n",
       "      <td>0.2</td>\n",
       "      <td>Iris-setosa</td>\n",
       "    </tr>\n",
       "    <tr>\n",
       "      <th>2</th>\n",
       "      <td>4.7</td>\n",
       "      <td>3.2</td>\n",
       "      <td>1.3</td>\n",
       "      <td>0.2</td>\n",
       "      <td>Iris-setosa</td>\n",
       "    </tr>\n",
       "    <tr>\n",
       "      <th>3</th>\n",
       "      <td>4.6</td>\n",
       "      <td>3.1</td>\n",
       "      <td>1.5</td>\n",
       "      <td>0.2</td>\n",
       "      <td>Iris-setosa</td>\n",
       "    </tr>\n",
       "    <tr>\n",
       "      <th>4</th>\n",
       "      <td>5.0</td>\n",
       "      <td>3.6</td>\n",
       "      <td>1.4</td>\n",
       "      <td>0.2</td>\n",
       "      <td>Iris-setosa</td>\n",
       "    </tr>\n",
       "  </tbody>\n",
       "</table>\n",
       "</div>"
      ],
      "text/plain": [
       "   sepal_length_(cm)  sepal_width_(cm)  petal_length_(cm)  petal_width_(cm)  \\\n",
       "0                5.1               3.5                1.4               0.2   \n",
       "1                4.9               3.0                1.4               0.2   \n",
       "2                4.7               3.2                1.3               0.2   \n",
       "3                4.6               3.1                1.5               0.2   \n",
       "4                5.0               3.6                1.4               0.2   \n",
       "\n",
       "         class  \n",
       "0  Iris-setosa  \n",
       "1  Iris-setosa  \n",
       "2  Iris-setosa  \n",
       "3  Iris-setosa  \n",
       "4  Iris-setosa  "
      ]
     },
     "execution_count": 392,
     "metadata": {},
     "output_type": "execute_result"
    }
   ],
   "source": [
    "df.head()"
   ]
  },
  {
   "cell_type": "markdown",
   "id": "cd4374ec",
   "metadata": {},
   "source": [
    "### Vizualizing the Dataset\n",
    "The next step is to visualize the dataset to capture the relationships between the features and the associated classes."
   ]
  },
  {
   "cell_type": "code",
   "execution_count": 144,
   "id": "0a8b7414",
   "metadata": {},
   "outputs": [
    {
     "data": {
      "image/png": "[encoded data removed]",
      "text/plain": [
       "<Figure size 432x288 with 1 Axes>"
      ]
     },
     "metadata": {
      "needs_background": "light"
     },
     "output_type": "display_data"
    }
   ],
   "source": [
    "sns.scatterplot(x='sepal_length_(cm)', y='sepal_width_(cm)',\n",
    "                hue='class', style='class', data=df, )\n",
    "  \n",
    "# Placing Legend outside the Figure\n",
    "plt.legend(bbox_to_anchor=(1, 1), loc=2)\n",
    "  \n",
    "plt.show()"
   ]
  },
  {
   "cell_type": "markdown",
   "id": "2b68a569",
   "metadata": {},
   "source": [
    "From the graph above we can see, one of the classes(Iris-Setosa) are easily linearly separable from the other two based on its sepal lengh, and width, However, the latter two(Iris-versicolor and Iris-Virginica) are not so easily separable from each other. That creates a challenge of how can we come up with a Machine learning model that can accurately predict the species of the flower given the challenge mentioned above. "
   ]
  },
  {
   "cell_type": "markdown",
   "id": "192cff4c",
   "metadata": {},
   "source": [
    "### Turing the categorical label columns into 3 individual binary columns.  "
   ]
  },
  {
   "cell_type": "code",
   "execution_count": 393,
   "id": "61def7d2",
   "metadata": {},
   "outputs": [],
   "source": [
    "def create_dummies(df,column_name):\n",
    "    dummies = pd.get_dummies(df[column_name],prefix=column_name)\n",
    "    df = pd.concat([df,dummies],axis=1)\n",
    "    return df\n",
    "df = create_dummies(df,\"class\")"
   ]
  },
  {
   "cell_type": "code",
   "execution_count": 394,
   "id": "d657cbf4",
   "metadata": {},
   "outputs": [
    {
     "data": {
      "text/html": [
       "<div>\n",
       "<style scoped>\n",
       "    .dataframe tbody tr th:only-of-type {\n",
       "        vertical-align: middle;\n",
       "    }\n",
       "\n",
       "    .dataframe tbody tr th {\n",
       "        vertical-align: top;\n",
       "    }\n",
       "\n",
       "    .dataframe thead th {\n",
       "        text-align: right;\n",
       "    }\n",
       "</style>\n",
       "<table border=\"1\" class=\"dataframe\">\n",
       "  <thead>\n",
       "    <tr style=\"text-align: right;\">\n",
       "      <th></th>\n",
       "      <th>sepal_length_(cm)</th>\n",
       "      <th>sepal_width_(cm)</th>\n",
       "      <th>petal_length_(cm)</th>\n",
       "      <th>petal_width_(cm)</th>\n",
       "      <th>class</th>\n",
       "      <th>class_Iris-setosa</th>\n",
       "      <th>class_Iris-versicolor</th>\n",
       "      <th>class_Iris-virginica</th>\n",
       "    </tr>\n",
       "  </thead>\n",
       "  <tbody>\n",
       "    <tr>\n",
       "      <th>0</th>\n",
       "      <td>5.1</td>\n",
       "      <td>3.5</td>\n",
       "      <td>1.4</td>\n",
       "      <td>0.2</td>\n",
       "      <td>Iris-setosa</td>\n",
       "      <td>1</td>\n",
       "      <td>0</td>\n",
       "      <td>0</td>\n",
       "    </tr>\n",
       "    <tr>\n",
       "      <th>1</th>\n",
       "      <td>4.9</td>\n",
       "      <td>3.0</td>\n",
       "      <td>1.4</td>\n",
       "      <td>0.2</td>\n",
       "      <td>Iris-setosa</td>\n",
       "      <td>1</td>\n",
       "      <td>0</td>\n",
       "      <td>0</td>\n",
       "    </tr>\n",
       "    <tr>\n",
       "      <th>2</th>\n",
       "      <td>4.7</td>\n",
       "      <td>3.2</td>\n",
       "      <td>1.3</td>\n",
       "      <td>0.2</td>\n",
       "      <td>Iris-setosa</td>\n",
       "      <td>1</td>\n",
       "      <td>0</td>\n",
       "      <td>0</td>\n",
       "    </tr>\n",
       "    <tr>\n",
       "      <th>3</th>\n",
       "      <td>4.6</td>\n",
       "      <td>3.1</td>\n",
       "      <td>1.5</td>\n",
       "      <td>0.2</td>\n",
       "      <td>Iris-setosa</td>\n",
       "      <td>1</td>\n",
       "      <td>0</td>\n",
       "      <td>0</td>\n",
       "    </tr>\n",
       "    <tr>\n",
       "      <th>4</th>\n",
       "      <td>5.0</td>\n",
       "      <td>3.6</td>\n",
       "      <td>1.4</td>\n",
       "      <td>0.2</td>\n",
       "      <td>Iris-setosa</td>\n",
       "      <td>1</td>\n",
       "      <td>0</td>\n",
       "      <td>0</td>\n",
       "    </tr>\n",
       "  </tbody>\n",
       "</table>\n",
       "</div>"
      ],
      "text/plain": [
       "   sepal_length_(cm)  sepal_width_(cm)  petal_length_(cm)  petal_width_(cm)  \\\n",
       "0                5.1               3.5                1.4               0.2   \n",
       "1                4.9               3.0                1.4               0.2   \n",
       "2                4.7               3.2                1.3               0.2   \n",
       "3                4.6               3.1                1.5               0.2   \n",
       "4                5.0               3.6                1.4               0.2   \n",
       "\n",
       "         class  class_Iris-setosa  class_Iris-versicolor  class_Iris-virginica  \n",
       "0  Iris-setosa                  1                      0                     0  \n",
       "1  Iris-setosa                  1                      0                     0  \n",
       "2  Iris-setosa                  1                      0                     0  \n",
       "3  Iris-setosa                  1                      0                     0  \n",
       "4  Iris-setosa                  1                      0                     0  "
      ]
     },
     "execution_count": 394,
     "metadata": {},
     "output_type": "execute_result"
    }
   ],
   "source": [
    "df.head()"
   ]
  },
  {
   "cell_type": "markdown",
   "id": "6a1af8b8",
   "metadata": {},
   "source": [
    "Select the feature columns:"
   ]
  },
  {
   "cell_type": "code",
   "execution_count": 395,
   "id": "24593cb7",
   "metadata": {},
   "outputs": [],
   "source": [
    "x_features = df.columns[0:2]\n",
    "y_features = df.columns[5:]"
   ]
  },
  {
   "cell_type": "markdown",
   "id": "bee02a0a",
   "metadata": {},
   "source": [
    "Confirminig the feature columns names:"
   ]
  },
  {
   "cell_type": "code",
   "execution_count": 396,
   "id": "1fb3f21a",
   "metadata": {},
   "outputs": [
    {
     "data": {
      "text/plain": [
       "(Index(['sepal_length_(cm)', 'sepal_width_(cm)'], dtype='object'),\n",
       " Index(['class_Iris-setosa', 'class_Iris-versicolor', 'class_Iris-virginica'], dtype='object'))"
      ]
     },
     "execution_count": 396,
     "metadata": {},
     "output_type": "execute_result"
    }
   ],
   "source": [
    "x_features, y_features"
   ]
  },
  {
   "cell_type": "code",
   "execution_count": 397,
   "id": "cb4e4af7",
   "metadata": {},
   "outputs": [],
   "source": [
    "X = df[x_features]\n",
    "y = df[y_features]"
   ]
  },
  {
   "cell_type": "code",
   "execution_count": 613,
   "id": "b4eb2a37",
   "metadata": {},
   "outputs": [],
   "source": [
    "X_train, X_test, y_train, y_test = train_test_split(X, y, test_size=0.20, random_state=20)"
   ]
  },
  {
   "cell_type": "markdown",
   "id": "e6c7ca6c",
   "metadata": {},
   "source": [
    "<hr>"
   ]
  },
  {
   "cell_type": "markdown",
   "id": "581f07a6",
   "metadata": {},
   "source": [
    "# Models"
   ]
  },
  {
   "cell_type": "markdown",
   "id": "256f4842",
   "metadata": {},
   "source": [
    "## SVM Model with Linear Kernel"
   ]
  },
  {
   "cell_type": "code",
   "execution_count": 251,
   "id": "36ceedad",
   "metadata": {},
   "outputs": [],
   "source": [
    "#only extracting the class column for each example. The other columns will be used in the NN. \n",
    "listt = [] \n",
    "for i in X_train.index:\n",
    "    listt.append(df.iloc[i]['class'])\n",
    "y_train = listt"
   ]
  },
  {
   "cell_type": "code",
   "execution_count": 111,
   "id": "acc49526",
   "metadata": {
    "scrolled": true
   },
   "outputs": [
    {
     "data": {
      "text/html": [
       "<style>#sk-container-id-1 {color: black;background-color: white;}#sk-container-id-1 pre{padding: 0;}#sk-container-id-1 div.sk-toggleable {background-color: white;}#sk-container-id-1 label.sk-toggleable__label {cursor: pointer;display: block;width: 100%;margin-bottom: 0;padding: 0.3em;box-sizing: border-box;text-align: center;}#sk-container-id-1 label.sk-toggleable__label-arrow:before {content: \"▸\";float: left;margin-right: 0.25em;color: #696969;}#sk-container-id-1 label.sk-toggleable__label-arrow:hover:before {color: black;}#sk-container-id-1 div.sk-estimator:hover label.sk-toggleable__label-arrow:before {color: black;}#sk-container-id-1 div.sk-toggleable__content {max-height: 0;max-width: 0;overflow: hidden;text-align: left;background-color: #f0f8ff;}#sk-container-id-1 div.sk-toggleable__content pre {margin: 0.2em;color: black;border-radius: 0.25em;background-color: #f0f8ff;}#sk-container-id-1 input.sk-toggleable__control:checked~div.sk-toggleable__content {max-height: 200px;max-width: 100%;overflow: auto;}#sk-container-id-1 input.sk-toggleable__control:checked~label.sk-toggleable__label-arrow:before {content: \"▾\";}#sk-container-id-1 div.sk-estimator input.sk-toggleable__control:checked~label.sk-toggleable__label {background-color: #d4ebff;}#sk-container-id-1 div.sk-label input.sk-toggleable__control:checked~label.sk-toggleable__label {background-color: #d4ebff;}#sk-container-id-1 input.sk-hidden--visually {border: 0;clip: rect(1px 1px 1px 1px);clip: rect(1px, 1px, 1px, 1px);height: 1px;margin: -1px;overflow: hidden;padding: 0;position: absolute;width: 1px;}#sk-container-id-1 div.sk-estimator {font-family: monospace;background-color: #f0f8ff;border: 1px dotted black;border-radius: 0.25em;box-sizing: border-box;margin-bottom: 0.5em;}#sk-container-id-1 div.sk-estimator:hover {background-color: #d4ebff;}#sk-container-id-1 div.sk-parallel-item::after {content: \"\";width: 100%;border-bottom: 1px solid gray;flex-grow: 1;}#sk-container-id-1 div.sk-label:hover label.sk-toggleable__label {background-color: #d4ebff;}#sk-container-id-1 div.sk-serial::before {content: \"\";position: absolute;border-left: 1px solid gray;box-sizing: border-box;top: 0;bottom: 0;left: 50%;z-index: 0;}#sk-container-id-1 div.sk-serial {display: flex;flex-direction: column;align-items: center;background-color: white;padding-right: 0.2em;padding-left: 0.2em;position: relative;}#sk-container-id-1 div.sk-item {position: relative;z-index: 1;}#sk-container-id-1 div.sk-parallel {display: flex;align-items: stretch;justify-content: center;background-color: white;position: relative;}#sk-container-id-1 div.sk-item::before, #sk-container-id-1 div.sk-parallel-item::before {content: \"\";position: absolute;border-left: 1px solid gray;box-sizing: border-box;top: 0;bottom: 0;left: 50%;z-index: -1;}#sk-container-id-1 div.sk-parallel-item {display: flex;flex-direction: column;z-index: 1;position: relative;background-color: white;}#sk-container-id-1 div.sk-parallel-item:first-child::after {align-self: flex-end;width: 50%;}#sk-container-id-1 div.sk-parallel-item:last-child::after {align-self: flex-start;width: 50%;}#sk-container-id-1 div.sk-parallel-item:only-child::after {width: 0;}#sk-container-id-1 div.sk-dashed-wrapped {border: 1px dashed gray;margin: 0 0.4em 0.5em 0.4em;box-sizing: border-box;padding-bottom: 0.4em;background-color: white;}#sk-container-id-1 div.sk-label label {font-family: monospace;font-weight: bold;display: inline-block;line-height: 1.2em;}#sk-container-id-1 div.sk-label-container {text-align: center;}#sk-container-id-1 div.sk-container {/* jupyter's `normalize.less` sets `[hidden] { display: none; }` but bootstrap.min.css set `[hidden] { display: none !important; }` so we also need the `!important` here to be able to override the default hidden behavior on the sphinx rendered scikit-learn.org. See: https://github.com/scikit-learn/scikit-learn/issues/21755 */display: inline-block !important;position: relative;}#sk-container-id-1 div.sk-text-repr-fallback {display: none;}</style><div id=\"sk-container-id-1\" class=\"sk-top-container\"><div class=\"sk-text-repr-fallback\"><pre>SVC(kernel=&#x27;linear&#x27;, random_state=30)</pre><b>In a Jupyter environment, please rerun this cell to show the HTML representation or trust the notebook. <br />On GitHub, the HTML representation is unable to render, please try loading this page with nbviewer.org.</b></div><div class=\"sk-container\" hidden><div class=\"sk-item\"><div class=\"sk-estimator sk-toggleable\"><input class=\"sk-toggleable__control sk-hidden--visually\" id=\"sk-estimator-id-1\" type=\"checkbox\" checked><label for=\"sk-estimator-id-1\" class=\"sk-toggleable__label sk-toggleable__label-arrow\">SVC</label><div class=\"sk-toggleable__content\"><pre>SVC(kernel=&#x27;linear&#x27;, random_state=30)</pre></div></div></div></div></div>"
      ],
      "text/plain": [
       "SVC(kernel='linear', random_state=30)"
      ]
     },
     "execution_count": 111,
     "metadata": {},
     "output_type": "execute_result"
    }
   ],
   "source": [
    "SVM_model = SVC(kernel='linear', random_state=30)\n",
    "SVM_model.fit(X_train, y_train)"
   ]
  },
  {
   "cell_type": "code",
   "execution_count": 112,
   "id": "ae3a49e4",
   "metadata": {},
   "outputs": [
    {
     "name": "stdout",
     "output_type": "stream",
     "text": [
      "0.84\n"
     ]
    }
   ],
   "source": [
    "accuracy = round(SVM_model.score(X_train, y_train),2)\n",
    "print(accuracy)"
   ]
  },
  {
   "cell_type": "markdown",
   "id": "7152ba51",
   "metadata": {},
   "source": [
    "| Architenture| Model Accuracy | Test Accuracy | \n",
    "| ----------- | ---------------|-------------- |\n",
    "| SVM(Liniar)      | 84%       |-- |"
   ]
  },
  {
   "cell_type": "markdown",
   "id": "ebc93c88",
   "metadata": {},
   "source": [
    "<hr> "
   ]
  },
  {
   "cell_type": "markdown",
   "id": "99763a00",
   "metadata": {},
   "source": [
    "# Sequential NN Model:"
   ]
  },
  {
   "cell_type": "code",
   "execution_count": 399,
   "id": "e955977a",
   "metadata": {},
   "outputs": [],
   "source": [
    "epochs= 100"
   ]
  },
  {
   "cell_type": "markdown",
   "id": "4c9358a7",
   "metadata": {},
   "source": [
    "#### Let us first build the model using only one layer with 'relu' activation function"
   ]
  },
  {
   "cell_type": "code",
   "execution_count": 614,
   "id": "a0f3261a",
   "metadata": {},
   "outputs": [
    {
     "name": "stdout",
     "output_type": "stream",
     "text": [
      "Model: \"sequential_56\"\n",
      "_________________________________________________________________\n",
      " Layer (type)                Output Shape              Param #   \n",
      "=================================================================\n",
      " dense_151 (Dense)           (None, 4)                 12        \n",
      "                                                                 \n",
      " dense_152 (Dense)           (None, 3)                 15        \n",
      "                                                                 \n",
      "=================================================================\n",
      "Total params: 27\n",
      "Trainable params: 27\n",
      "Non-trainable params: 0\n",
      "_________________________________________________________________\n"
     ]
    }
   ],
   "source": [
    "model = models.Sequential()\n",
    "\n",
    "model.add(Dense(4, \n",
    "                input_shape=(2,),\n",
    "                activation='relu'))\n",
    "# model.add(Dense(6,\n",
    "#                 input_shape=(2,),\n",
    "#                 activation='relu'))\n",
    "\n",
    "# model.add(Dropout(0.2, input_shape=(2,)))\n",
    "\n",
    "model.add(Dense(3,activation='softmax'))\n",
    "\n",
    "model.compile(Adam(learning_rate=0.01), loss='categorical_crossentropy', metrics=['accuracy'])\n",
    "model.summary()"
   ]
  },
  {
   "cell_type": "markdown",
   "id": "a05a0aa1",
   "metadata": {},
   "source": [
    "The softmax activation function is used in the last layer of the model primarily for classification problems. Since we have 3 classes of flowers, the final layer has 3 neurons and the softmax produces 3 outputs with 3 probabilities indicating the probability of that particular flower belonging to a particular class. The class with the maximum probability will be selected as the predicted class."
   ]
  },
  {
   "cell_type": "code",
   "execution_count": 401,
   "id": "bf8926a0",
   "metadata": {},
   "outputs": [
    {
     "data": {
      "image/png": "[encoded data removed]",
      "text/plain": [
       "<IPython.core.display.Image object>"
      ]
     },
     "execution_count": 401,
     "metadata": {},
     "output_type": "execute_result"
    }
   ],
   "source": [
    "plot_model(model, to_file='oo.png', show_shapes=True, show_layer_names=True, show_layer_activations= True)"
   ]
  },
  {
   "cell_type": "code",
   "execution_count": 410,
   "id": "2ea9dd1f",
   "metadata": {},
   "outputs": [
    {
     "name": "stdout",
     "output_type": "stream",
     "text": [
      "Epoch 1/100\n",
      "4/4 [==============================] - 0s 54ms/step - loss: 1.6291 - accuracy: 0.3333 - val_loss: 1.3517 - val_accuracy: 0.3333\n",
      "Epoch 2/100\n",
      "4/4 [==============================] - 0s 11ms/step - loss: 1.0892 - accuracy: 0.3500 - val_loss: 0.9800 - val_accuracy: 0.2667\n",
      "Epoch 3/100\n",
      "4/4 [==============================] - 0s 8ms/step - loss: 0.8735 - accuracy: 0.5667 - val_loss: 0.8902 - val_accuracy: 0.6667\n",
      "Epoch 4/100\n",
      "4/4 [==============================] - 0s 10ms/step - loss: 0.8848 - accuracy: 0.6500 - val_loss: 0.8969 - val_accuracy: 0.6333\n",
      "Epoch 5/100\n",
      "4/4 [==============================] - 0s 10ms/step - loss: 0.8948 - accuracy: 0.6417 - val_loss: 0.8806 - val_accuracy: 0.6667\n",
      "Epoch 6/100\n",
      "4/4 [==============================] - 0s 16ms/step - loss: 0.8610 - accuracy: 0.6583 - val_loss: 0.8514 - val_accuracy: 0.6667\n",
      "Epoch 7/100\n",
      "4/4 [==============================] - 0s 10ms/step - loss: 0.8184 - accuracy: 0.6583 - val_loss: 0.8256 - val_accuracy: 0.6667\n",
      "Epoch 8/100\n",
      "4/4 [==============================] - 0s 5ms/step - loss: 0.7936 - accuracy: 0.6500 - val_loss: 0.7937 - val_accuracy: 0.6667\n",
      "Epoch 9/100\n",
      "4/4 [==============================] - 0s 10ms/step - loss: 0.7753 - accuracy: 0.6667 - val_loss: 0.7626 - val_accuracy: 0.7000\n",
      "Epoch 10/100\n",
      "4/4 [==============================] - 0s 10ms/step - loss: 0.7625 - accuracy: 0.6667 - val_loss: 0.7403 - val_accuracy: 0.6667\n",
      "Epoch 11/100\n",
      "4/4 [==============================] - 0s 13ms/step - loss: 0.7531 - accuracy: 0.6667 - val_loss: 0.7252 - val_accuracy: 0.6333\n",
      "Epoch 12/100\n",
      "4/4 [==============================] - 0s 10ms/step - loss: 0.7359 - accuracy: 0.6583 - val_loss: 0.7177 - val_accuracy: 0.7000\n",
      "Epoch 13/100\n",
      "4/4 [==============================] - 0s 10ms/step - loss: 0.7248 - accuracy: 0.6667 - val_loss: 0.7142 - val_accuracy: 0.7000\n",
      "Epoch 14/100\n",
      "4/4 [==============================] - 0s 7ms/step - loss: 0.7101 - accuracy: 0.6500 - val_loss: 0.6985 - val_accuracy: 0.6667\n",
      "Epoch 15/100\n",
      "4/4 [==============================] - 0s 10ms/step - loss: 0.6988 - accuracy: 0.6500 - val_loss: 0.6813 - val_accuracy: 0.6667\n",
      "Epoch 16/100\n",
      "4/4 [==============================] - 0s 10ms/step - loss: 0.6911 - accuracy: 0.6500 - val_loss: 0.6686 - val_accuracy: 0.6667\n",
      "Epoch 17/100\n",
      "4/4 [==============================] - 0s 12ms/step - loss: 0.6786 - accuracy: 0.6500 - val_loss: 0.6581 - val_accuracy: 0.6333\n",
      "Epoch 18/100\n",
      "4/4 [==============================] - 0s 8ms/step - loss: 0.6669 - accuracy: 0.6750 - val_loss: 0.6477 - val_accuracy: 0.6667\n",
      "Epoch 19/100\n",
      "4/4 [==============================] - 0s 10ms/step - loss: 0.6582 - accuracy: 0.6917 - val_loss: 0.6342 - val_accuracy: 0.7000\n",
      "Epoch 20/100\n",
      "4/4 [==============================] - 0s 5ms/step - loss: 0.6494 - accuracy: 0.6833 - val_loss: 0.6245 - val_accuracy: 0.7000\n",
      "Epoch 21/100\n",
      "4/4 [==============================] - 0s 5ms/step - loss: 0.6425 - accuracy: 0.6833 - val_loss: 0.6158 - val_accuracy: 0.7000\n",
      "Epoch 22/100\n",
      "4/4 [==============================] - 0s 5ms/step - loss: 0.6350 - accuracy: 0.6917 - val_loss: 0.6093 - val_accuracy: 0.7000\n",
      "Epoch 23/100\n",
      "4/4 [==============================] - 0s 7ms/step - loss: 0.6270 - accuracy: 0.6917 - val_loss: 0.5989 - val_accuracy: 0.7000\n",
      "Epoch 24/100\n",
      "4/4 [==============================] - 0s 10ms/step - loss: 0.6216 - accuracy: 0.6917 - val_loss: 0.5899 - val_accuracy: 0.6667\n",
      "Epoch 25/100\n",
      "4/4 [==============================] - 0s 10ms/step - loss: 0.6154 - accuracy: 0.6833 - val_loss: 0.5860 - val_accuracy: 0.7000\n",
      "Epoch 26/100\n",
      "4/4 [==============================] - 0s 13ms/step - loss: 0.6097 - accuracy: 0.6833 - val_loss: 0.5787 - val_accuracy: 0.7000\n",
      "Epoch 27/100\n",
      "4/4 [==============================] - 0s 10ms/step - loss: 0.6036 - accuracy: 0.6833 - val_loss: 0.5743 - val_accuracy: 0.7000\n",
      "Epoch 28/100\n",
      "4/4 [==============================] - 0s 10ms/step - loss: 0.5984 - accuracy: 0.6833 - val_loss: 0.5652 - val_accuracy: 0.6667\n",
      "Epoch 29/100\n",
      "4/4 [==============================] - 0s 7ms/step - loss: 0.5940 - accuracy: 0.6833 - val_loss: 0.5561 - val_accuracy: 0.6333\n",
      "Epoch 30/100\n",
      "4/4 [==============================] - 0s 5ms/step - loss: 0.5893 - accuracy: 0.7083 - val_loss: 0.5506 - val_accuracy: 0.7000\n",
      "Epoch 31/100\n",
      "4/4 [==============================] - 0s 10ms/step - loss: 0.5884 - accuracy: 0.6750 - val_loss: 0.5447 - val_accuracy: 0.7333\n",
      "Epoch 32/100\n",
      "4/4 [==============================] - 0s 7ms/step - loss: 0.5806 - accuracy: 0.7000 - val_loss: 0.5432 - val_accuracy: 0.6667\n",
      "Epoch 33/100\n",
      "4/4 [==============================] - 0s 10ms/step - loss: 0.5764 - accuracy: 0.6917 - val_loss: 0.5395 - val_accuracy: 0.7333\n",
      "Epoch 34/100\n",
      "4/4 [==============================] - 0s 14ms/step - loss: 0.5752 - accuracy: 0.6833 - val_loss: 0.5404 - val_accuracy: 0.6667\n",
      "Epoch 35/100\n",
      "4/4 [==============================] - 0s 9ms/step - loss: 0.5719 - accuracy: 0.6667 - val_loss: 0.5351 - val_accuracy: 0.7000\n",
      "Epoch 36/100\n",
      "4/4 [==============================] - 0s 12ms/step - loss: 0.5669 - accuracy: 0.6833 - val_loss: 0.5242 - val_accuracy: 0.6667\n",
      "Epoch 37/100\n",
      "4/4 [==============================] - 0s 16ms/step - loss: 0.5639 - accuracy: 0.6917 - val_loss: 0.5166 - val_accuracy: 0.7333\n",
      "Epoch 38/100\n",
      "4/4 [==============================] - 0s 11ms/step - loss: 0.5611 - accuracy: 0.7000 - val_loss: 0.5136 - val_accuracy: 0.7333\n",
      "Epoch 39/100\n",
      "4/4 [==============================] - 0s 10ms/step - loss: 0.5580 - accuracy: 0.6917 - val_loss: 0.5111 - val_accuracy: 0.7000\n",
      "Epoch 40/100\n",
      "4/4 [==============================] - 0s 10ms/step - loss: 0.5548 - accuracy: 0.7167 - val_loss: 0.5128 - val_accuracy: 0.7000\n",
      "Epoch 41/100\n",
      "4/4 [==============================] - 0s 13ms/step - loss: 0.5533 - accuracy: 0.7167 - val_loss: 0.5092 - val_accuracy: 0.6667\n",
      "Epoch 42/100\n",
      "4/4 [==============================] - 0s 10ms/step - loss: 0.5507 - accuracy: 0.7000 - val_loss: 0.5079 - val_accuracy: 0.7333\n",
      "Epoch 43/100\n",
      "4/4 [==============================] - 0s 10ms/step - loss: 0.5483 - accuracy: 0.7083 - val_loss: 0.4992 - val_accuracy: 0.7000\n",
      "Epoch 44/100\n",
      "4/4 [==============================] - 0s 13ms/step - loss: 0.5459 - accuracy: 0.7167 - val_loss: 0.4950 - val_accuracy: 0.7000\n",
      "Epoch 45/100\n",
      "4/4 [==============================] - 0s 10ms/step - loss: 0.5443 - accuracy: 0.7250 - val_loss: 0.4946 - val_accuracy: 0.7000\n",
      "Epoch 46/100\n",
      "4/4 [==============================] - 0s 10ms/step - loss: 0.5427 - accuracy: 0.7167 - val_loss: 0.4923 - val_accuracy: 0.7000\n",
      "Epoch 47/100\n",
      "4/4 [==============================] - 0s 7ms/step - loss: 0.5407 - accuracy: 0.7000 - val_loss: 0.4848 - val_accuracy: 0.7000\n",
      "Epoch 48/100\n",
      "4/4 [==============================] - 0s 10ms/step - loss: 0.5387 - accuracy: 0.6833 - val_loss: 0.4827 - val_accuracy: 0.7333\n",
      "Epoch 49/100\n",
      "4/4 [==============================] - 0s 12ms/step - loss: 0.5378 - accuracy: 0.6917 - val_loss: 0.4851 - val_accuracy: 0.6667\n",
      "Epoch 50/100\n",
      "4/4 [==============================] - 0s 5ms/step - loss: 0.5342 - accuracy: 0.7333 - val_loss: 0.4809 - val_accuracy: 0.7667\n",
      "Epoch 51/100\n",
      "4/4 [==============================] - 0s 10ms/step - loss: 0.5325 - accuracy: 0.7250 - val_loss: 0.4779 - val_accuracy: 0.7333\n",
      "Epoch 52/100\n",
      "4/4 [==============================] - 0s 10ms/step - loss: 0.5302 - accuracy: 0.7167 - val_loss: 0.4752 - val_accuracy: 0.7333\n",
      "Epoch 53/100\n",
      "4/4 [==============================] - 0s 12ms/step - loss: 0.5305 - accuracy: 0.7083 - val_loss: 0.4726 - val_accuracy: 0.7333\n",
      "Epoch 54/100\n",
      "4/4 [==============================] - 0s 10ms/step - loss: 0.5273 - accuracy: 0.6917 - val_loss: 0.4711 - val_accuracy: 0.7333\n",
      "Epoch 55/100\n",
      "4/4 [==============================] - 0s 10ms/step - loss: 0.5257 - accuracy: 0.7250 - val_loss: 0.4718 - val_accuracy: 0.7000\n",
      "Epoch 56/100\n",
      "4/4 [==============================] - 0s 7ms/step - loss: 0.5256 - accuracy: 0.7250 - val_loss: 0.4698 - val_accuracy: 0.7333\n",
      "Epoch 57/100\n",
      "4/4 [==============================] - 0s 10ms/step - loss: 0.5238 - accuracy: 0.7250 - val_loss: 0.4681 - val_accuracy: 0.7000\n",
      "Epoch 58/100\n",
      "4/4 [==============================] - 0s 5ms/step - loss: 0.5223 - accuracy: 0.7250 - val_loss: 0.4671 - val_accuracy: 0.6667\n",
      "Epoch 59/100\n"
     ]
    },
    {
     "name": "stdout",
     "output_type": "stream",
     "text": [
      "4/4 [==============================] - 0s 13ms/step - loss: 0.5210 - accuracy: 0.7250 - val_loss: 0.4653 - val_accuracy: 0.7000\n",
      "Epoch 60/100\n",
      "4/4 [==============================] - 0s 10ms/step - loss: 0.5186 - accuracy: 0.7333 - val_loss: 0.4613 - val_accuracy: 0.7333\n",
      "Epoch 61/100\n",
      "4/4 [==============================] - 0s 5ms/step - loss: 0.5173 - accuracy: 0.7000 - val_loss: 0.4572 - val_accuracy: 0.7333\n",
      "Epoch 62/100\n",
      "4/4 [==============================] - 0s 7ms/step - loss: 0.5192 - accuracy: 0.7167 - val_loss: 0.4556 - val_accuracy: 0.7333\n",
      "Epoch 63/100\n",
      "4/4 [==============================] - 0s 10ms/step - loss: 0.5166 - accuracy: 0.7250 - val_loss: 0.4554 - val_accuracy: 0.7333\n",
      "Epoch 64/100\n",
      "4/4 [==============================] - 0s 10ms/step - loss: 0.5164 - accuracy: 0.7167 - val_loss: 0.4537 - val_accuracy: 0.7333\n",
      "Epoch 65/100\n",
      "4/4 [==============================] - 0s 10ms/step - loss: 0.5128 - accuracy: 0.7333 - val_loss: 0.4567 - val_accuracy: 0.6667\n",
      "Epoch 66/100\n",
      "4/4 [==============================] - 0s 9ms/step - loss: 0.5118 - accuracy: 0.7417 - val_loss: 0.4550 - val_accuracy: 0.6667\n",
      "Epoch 67/100\n",
      "4/4 [==============================] - 0s 7ms/step - loss: 0.5111 - accuracy: 0.7333 - val_loss: 0.4509 - val_accuracy: 0.7333\n",
      "Epoch 68/100\n",
      "4/4 [==============================] - 0s 10ms/step - loss: 0.5104 - accuracy: 0.7083 - val_loss: 0.4479 - val_accuracy: 0.7333\n",
      "Epoch 69/100\n",
      "4/4 [==============================] - 0s 11ms/step - loss: 0.5092 - accuracy: 0.7167 - val_loss: 0.4472 - val_accuracy: 0.7333\n",
      "Epoch 70/100\n",
      "4/4 [==============================] - 0s 5ms/step - loss: 0.5117 - accuracy: 0.7333 - val_loss: 0.4524 - val_accuracy: 0.6667\n",
      "Epoch 71/100\n",
      "4/4 [==============================] - 0s 10ms/step - loss: 0.5099 - accuracy: 0.7333 - val_loss: 0.4435 - val_accuracy: 0.7333\n",
      "Epoch 72/100\n",
      "4/4 [==============================] - 0s 13ms/step - loss: 0.5058 - accuracy: 0.7167 - val_loss: 0.4427 - val_accuracy: 0.7333\n",
      "Epoch 73/100\n",
      "4/4 [==============================] - 0s 10ms/step - loss: 0.5070 - accuracy: 0.7250 - val_loss: 0.4448 - val_accuracy: 0.7667\n",
      "Epoch 74/100\n",
      "4/4 [==============================] - 0s 13ms/step - loss: 0.5041 - accuracy: 0.7250 - val_loss: 0.4422 - val_accuracy: 0.7333\n",
      "Epoch 75/100\n",
      "4/4 [==============================] - 0s 10ms/step - loss: 0.5050 - accuracy: 0.7250 - val_loss: 0.4405 - val_accuracy: 0.7333\n",
      "Epoch 76/100\n",
      "4/4 [==============================] - 0s 10ms/step - loss: 0.5063 - accuracy: 0.7167 - val_loss: 0.4360 - val_accuracy: 0.7667\n",
      "Epoch 77/100\n",
      "4/4 [==============================] - 0s 13ms/step - loss: 0.5042 - accuracy: 0.7250 - val_loss: 0.4376 - val_accuracy: 0.7333\n",
      "Epoch 78/100\n",
      "4/4 [==============================] - 0s 5ms/step - loss: 0.5016 - accuracy: 0.7167 - val_loss: 0.4414 - val_accuracy: 0.7333\n",
      "Epoch 79/100\n",
      "4/4 [==============================] - 0s 5ms/step - loss: 0.5038 - accuracy: 0.7083 - val_loss: 0.4357 - val_accuracy: 0.7333\n",
      "Epoch 80/100\n",
      "4/4 [==============================] - 0s 5ms/step - loss: 0.5017 - accuracy: 0.7333 - val_loss: 0.4346 - val_accuracy: 0.7333\n",
      "Epoch 81/100\n",
      "4/4 [==============================] - 0s 7ms/step - loss: 0.5014 - accuracy: 0.7333 - val_loss: 0.4399 - val_accuracy: 0.7000\n",
      "Epoch 82/100\n",
      "4/4 [==============================] - 0s 11ms/step - loss: 0.4995 - accuracy: 0.7417 - val_loss: 0.4368 - val_accuracy: 0.7333\n",
      "Epoch 83/100\n",
      "4/4 [==============================] - 0s 5ms/step - loss: 0.4978 - accuracy: 0.7083 - val_loss: 0.4323 - val_accuracy: 0.7333\n",
      "Epoch 84/100\n",
      "4/4 [==============================] - 0s 6ms/step - loss: 0.4974 - accuracy: 0.7250 - val_loss: 0.4309 - val_accuracy: 0.7333\n",
      "Epoch 85/100\n",
      "4/4 [==============================] - 0s 10ms/step - loss: 0.4957 - accuracy: 0.7250 - val_loss: 0.4299 - val_accuracy: 0.7333\n",
      "Epoch 86/100\n",
      "4/4 [==============================] - 0s 10ms/step - loss: 0.4950 - accuracy: 0.7417 - val_loss: 0.4294 - val_accuracy: 0.7333\n",
      "Epoch 87/100\n",
      "4/4 [==============================] - 0s 7ms/step - loss: 0.4945 - accuracy: 0.7417 - val_loss: 0.4291 - val_accuracy: 0.7333\n",
      "Epoch 88/100\n",
      "4/4 [==============================] - 0s 10ms/step - loss: 0.4932 - accuracy: 0.7250 - val_loss: 0.4266 - val_accuracy: 0.7333\n",
      "Epoch 89/100\n",
      "4/4 [==============================] - 0s 10ms/step - loss: 0.4935 - accuracy: 0.7417 - val_loss: 0.4248 - val_accuracy: 0.7667\n",
      "Epoch 90/100\n",
      "4/4 [==============================] - 0s 13ms/step - loss: 0.4931 - accuracy: 0.7250 - val_loss: 0.4260 - val_accuracy: 0.7333\n",
      "Epoch 91/100\n",
      "4/4 [==============================] - 0s 10ms/step - loss: 0.4918 - accuracy: 0.7250 - val_loss: 0.4278 - val_accuracy: 0.7667\n",
      "Epoch 92/100\n",
      "4/4 [==============================] - 0s 10ms/step - loss: 0.4907 - accuracy: 0.7417 - val_loss: 0.4255 - val_accuracy: 0.7333\n",
      "Epoch 93/100\n",
      "4/4 [==============================] - 0s 13ms/step - loss: 0.4906 - accuracy: 0.7167 - val_loss: 0.4233 - val_accuracy: 0.7333\n",
      "Epoch 94/100\n",
      "4/4 [==============================] - 0s 10ms/step - loss: 0.4895 - accuracy: 0.7500 - val_loss: 0.4213 - val_accuracy: 0.7667\n",
      "Epoch 95/100\n",
      "4/4 [==============================] - 0s 10ms/step - loss: 0.4898 - accuracy: 0.7500 - val_loss: 0.4250 - val_accuracy: 0.7667\n",
      "Epoch 96/100\n",
      "4/4 [==============================] - 0s 7ms/step - loss: 0.4901 - accuracy: 0.7417 - val_loss: 0.4208 - val_accuracy: 0.7333\n",
      "Epoch 97/100\n",
      "4/4 [==============================] - 0s 10ms/step - loss: 0.4888 - accuracy: 0.7417 - val_loss: 0.4207 - val_accuracy: 0.7333\n",
      "Epoch 98/100\n",
      "4/4 [==============================] - 0s 13ms/step - loss: 0.4870 - accuracy: 0.7417 - val_loss: 0.4205 - val_accuracy: 0.7333\n",
      "Epoch 99/100\n",
      "4/4 [==============================] - 0s 9ms/step - loss: 0.4868 - accuracy: 0.7417 - val_loss: 0.4187 - val_accuracy: 0.7333\n",
      "Epoch 100/100\n",
      "4/4 [==============================] - 0s 10ms/step - loss: 0.4867 - accuracy: 0.7250 - val_loss: 0.4189 - val_accuracy: 0.7333\n"
     ]
    }
   ],
   "source": [
    "history = model.fit(X_train,y_train, \n",
    "          epochs=epochs,\n",
    "          validation_data=(X_test,y_test))"
   ]
  },
  {
   "cell_type": "markdown",
   "id": "c65dbc78",
   "metadata": {},
   "source": []
  },
  {
   "cell_type": "markdown",
   "id": "09f4e7dc",
   "metadata": {},
   "source": [
    "#### Making a function to plot the accuracy score of the tranning and vaidation set."
   ]
  },
  {
   "cell_type": "code",
   "execution_count": 364,
   "id": "aabf642e",
   "metadata": {},
   "outputs": [],
   "source": [
    "def plot_accuracy(history):\n",
    "    # plot the acccuracy\n",
    "\n",
    "    plt.figure(figsize=(8,8))\n",
    "    plt.plot(history.history['accuracy'], label='training accuracy',color='blue')\n",
    "    try:\n",
    "        plt.plot(history.history['val_accuracy'], label = 'validation accuracy',color='red')\n",
    "    except:\n",
    "        pass\n",
    "    plt.title('Accuracy by Epoch')\n",
    "    plt.xlabel('Epoch')\n",
    "    plt.ylabel('Accuracy')\n",
    "    #plt.ylim([0.5, .85])\n",
    "    plt.legend(loc='lower right')"
   ]
  },
  {
   "cell_type": "markdown",
   "id": "8b413bec",
   "metadata": {},
   "source": [
    "#### Making a function to plot the loss score of the tranning and vaidation set."
   ]
  },
  {
   "cell_type": "code",
   "execution_count": 365,
   "id": "1030b4f3",
   "metadata": {},
   "outputs": [],
   "source": [
    "def plot_loss(history):\n",
    "    # plot the loss\n",
    "\n",
    "    plt.figure(figsize=(8,8))\n",
    "    plt.plot(history.history['loss'], label='training categorical cross-entropy', color='blue')\n",
    "    try:\n",
    "        plt.plot(history.history['val_loss'], label='validation categorical cross-entropy', color='red')\n",
    "    except:\n",
    "        pass\n",
    "    plt.title('Loss by Epoch')\n",
    "    plt.xlabel('Epoch')\n",
    "    plt.ylabel('Loss')\n",
    "    #plt.ylim([0.0, .1])\n",
    "    plt.legend(loc='upper right')"
   ]
  },
  {
   "cell_type": "code",
   "execution_count": 412,
   "id": "64f8db59",
   "metadata": {},
   "outputs": [
    {
     "data": {
      "image/png": "[encoded data removed]",
      "text/plain": [
       "<Figure size 576x576 with 1 Axes>"
      ]
     },
     "metadata": {
      "needs_background": "light"
     },
     "output_type": "display_data"
    }
   ],
   "source": [
    "# plot the loss\n",
    "plot_loss(history)"
   ]
  },
  {
   "cell_type": "markdown",
   "id": "08712868",
   "metadata": {},
   "source": [
    "From the graph, we can see the loss has been decreasing steadily over a period of time. The validation accuracy is increasing much faster than the training accuracy. It could be because the testing data may have more examples of Iris-Setosa which is easy to predict or in other words linearly separable. "
   ]
  },
  {
   "cell_type": "code",
   "execution_count": 413,
   "id": "f35f374c",
   "metadata": {},
   "outputs": [
    {
     "data": {
      "image/png": "[encoded data removed]",
      "text/plain": [
       "<Figure size 576x576 with 1 Axes>"
      ]
     },
     "metadata": {
      "needs_background": "light"
     },
     "output_type": "display_data"
    }
   ],
   "source": [
    "# plot the acccuracy\n",
    "plot_accuracy(history)"
   ]
  },
  {
   "cell_type": "markdown",
   "id": "0ac2248c",
   "metadata": {},
   "source": [
    "Let us now evaluate our tranning and testing dataset using the builtin evaluate() function. It Returns the loss value & accuracy values for the model for the given dataset."
   ]
  },
  {
   "cell_type": "code",
   "execution_count": 414,
   "id": "443e501f",
   "metadata": {},
   "outputs": [
    {
     "name": "stdout",
     "output_type": "stream",
     "text": [
      "4/4 [==============================] - 0s 0s/step - loss: 0.4846 - accuracy: 0.7500\n"
     ]
    },
    {
     "data": {
      "text/plain": [
       "[0.4846288561820984, 0.75]"
      ]
     },
     "execution_count": 414,
     "metadata": {},
     "output_type": "execute_result"
    }
   ],
   "source": [
    "model.evaluate(X_train, y_train)"
   ]
  },
  {
   "cell_type": "code",
   "execution_count": 415,
   "id": "4ab082a9",
   "metadata": {},
   "outputs": [
    {
     "name": "stdout",
     "output_type": "stream",
     "text": [
      "1/1 [==============================] - 0s 16ms/step - loss: 0.4189 - accuracy: 0.7333\n"
     ]
    },
    {
     "data": {
      "text/plain": [
       "[0.41885003447532654, 0.7333333492279053]"
      ]
     },
     "execution_count": 415,
     "metadata": {},
     "output_type": "execute_result"
    }
   ],
   "source": [
    "model.evaluate(X_test, y_test)"
   ]
  },
  {
   "cell_type": "markdown",
   "id": "c49f4d46",
   "metadata": {},
   "source": [
    "| Architenture| Model Accuracy | Test Accuracy | \n",
    "| ----------- | ---------------|-------------- |\n",
    "| SVM(Liniar)      | 84%       |-- |\n",
    "| 3 Layer NN      | 75%       |73% |"
   ]
  },
  {
   "cell_type": "markdown",
   "id": "b616f0e0",
   "metadata": {},
   "source": [
    "## No Free Lunch"
   ]
  },
  {
   "cell_type": "markdown",
   "id": "1c2d7202",
   "metadata": {},
   "source": [
    "In my CSc 322 class, I have learned an interesting theorem called 'No free lunch' theorem for machine learning, which states that, \"any given algorithm can solve some classes of problems well but can’t solve some other classes at all. This means that, for any given problem, a specific neural network architecture could be effective, while another will not function well, if at all.\" \n",
    "So, I want to built a few different architectures to see if some other NN model can provide a better answer."
   ]
  },
  {
   "cell_type": "markdown",
   "id": "ca658758",
   "metadata": {},
   "source": [
    "## Using Entire Dataset"
   ]
  },
  {
   "cell_type": "code",
   "execution_count": 606,
   "id": "1ac3ccab",
   "metadata": {},
   "outputs": [
    {
     "name": "stdout",
     "output_type": "stream",
     "text": [
      "(150, 2) (150, 3)\n"
     ]
    }
   ],
   "source": [
    "print(X.shape, y.shape)"
   ]
  },
  {
   "cell_type": "code",
   "execution_count": 615,
   "id": "e0b85f2c",
   "metadata": {},
   "outputs": [
    {
     "name": "stdout",
     "output_type": "stream",
     "text": [
      "Epoch 1/200\n",
      "5/5 [==============================] - 0s 4ms/step - loss: 2.2674 - accuracy: 0.3333\n",
      "Epoch 2/200\n",
      "5/5 [==============================] - 0s 0s/step - loss: 1.6957 - accuracy: 0.3133\n",
      "Epoch 3/200\n",
      "5/5 [==============================] - 0s 2ms/step - loss: 1.4512 - accuracy: 0.3333\n",
      "Epoch 4/200\n",
      "5/5 [==============================] - 0s 0s/step - loss: 1.2589 - accuracy: 0.3333\n",
      "Epoch 5/200\n",
      "5/5 [==============================] - 0s 4ms/step - loss: 1.1811 - accuracy: 0.2400\n",
      "Epoch 6/200\n",
      "5/5 [==============================] - 0s 0s/step - loss: 1.1547 - accuracy: 0.1200\n",
      "Epoch 7/200\n",
      "5/5 [==============================] - 0s 0s/step - loss: 1.1434 - accuracy: 0.1333\n",
      "Epoch 8/200\n",
      "5/5 [==============================] - 0s 4ms/step - loss: 1.1358 - accuracy: 0.3267\n",
      "Epoch 9/200\n",
      "5/5 [==============================] - 0s 2ms/step - loss: 1.1212 - accuracy: 0.3333\n",
      "Epoch 10/200\n",
      "5/5 [==============================] - 0s 223us/step - loss: 1.1128 - accuracy: 0.2933\n",
      "Epoch 11/200\n",
      "5/5 [==============================] - 0s 4ms/step - loss: 1.1106 - accuracy: 0.3267\n",
      "Epoch 12/200\n",
      "5/5 [==============================] - 0s 0s/step - loss: 1.1012 - accuracy: 0.3333\n",
      "Epoch 13/200\n",
      "5/5 [==============================] - 0s 377us/step - loss: 1.0922 - accuracy: 0.3667\n",
      "Epoch 14/200\n",
      "5/5 [==============================] - 0s 0s/step - loss: 1.0910 - accuracy: 0.3400\n",
      "Epoch 15/200\n",
      "5/5 [==============================] - 0s 0s/step - loss: 1.0867 - accuracy: 0.3333\n",
      "Epoch 16/200\n",
      "5/5 [==============================] - 0s 4ms/step - loss: 1.0806 - accuracy: 0.3467\n",
      "Epoch 17/200\n",
      "5/5 [==============================] - 0s 0s/step - loss: 1.0755 - accuracy: 0.4533\n",
      "Epoch 18/200\n",
      "5/5 [==============================] - 0s 0s/step - loss: 1.0704 - accuracy: 0.4933\n",
      "Epoch 19/200\n",
      "5/5 [==============================] - 0s 0s/step - loss: 1.0654 - accuracy: 0.4533\n",
      "Epoch 20/200\n",
      "5/5 [==============================] - 0s 4ms/step - loss: 1.0609 - accuracy: 0.3667\n",
      "Epoch 21/200\n",
      "5/5 [==============================] - 0s 0s/step - loss: 1.0575 - accuracy: 0.3333\n",
      "Epoch 22/200\n",
      "5/5 [==============================] - 0s 2ms/step - loss: 1.0529 - accuracy: 0.3600\n",
      "Epoch 23/200\n",
      "5/5 [==============================] - 0s 0s/step - loss: 1.0494 - accuracy: 0.4333\n",
      "Epoch 24/200\n",
      "5/5 [==============================] - 0s 0s/step - loss: 1.0463 - accuracy: 0.4733\n",
      "Epoch 25/200\n",
      "5/5 [==============================] - 0s 4ms/step - loss: 1.0391 - accuracy: 0.5267\n",
      "Epoch 26/200\n",
      "5/5 [==============================] - 0s 4ms/step - loss: 1.0346 - accuracy: 0.5733\n",
      "Epoch 27/200\n",
      "5/5 [==============================] - 0s 0s/step - loss: 1.0294 - accuracy: 0.5533\n",
      "Epoch 28/200\n",
      "5/5 [==============================] - 0s 0s/step - loss: 1.0262 - accuracy: 0.4267\n",
      "Epoch 29/200\n",
      "5/5 [==============================] - 0s 4ms/step - loss: 1.0209 - accuracy: 0.4467\n",
      "Epoch 30/200\n",
      "5/5 [==============================] - 0s 4ms/step - loss: 1.0161 - accuracy: 0.5267\n",
      "Epoch 31/200\n",
      "5/5 [==============================] - 0s 0s/step - loss: 1.0114 - accuracy: 0.5733\n",
      "Epoch 32/200\n",
      "5/5 [==============================] - 0s 4ms/step - loss: 1.0098 - accuracy: 0.5733\n",
      "Epoch 33/200\n",
      "5/5 [==============================] - 0s 4ms/step - loss: 1.0012 - accuracy: 0.5933\n",
      "Epoch 34/200\n",
      "5/5 [==============================] - 0s 0s/step - loss: 0.9955 - accuracy: 0.6400\n",
      "Epoch 35/200\n",
      "5/5 [==============================] - 0s 0s/step - loss: 0.9910 - accuracy: 0.6000\n",
      "Epoch 36/200\n",
      "5/5 [==============================] - 0s 4ms/step - loss: 0.9890 - accuracy: 0.6000\n",
      "Epoch 37/200\n",
      "5/5 [==============================] - 0s 4ms/step - loss: 0.9781 - accuracy: 0.6800\n",
      "Epoch 38/200\n",
      "5/5 [==============================] - 0s 0s/step - loss: 0.9728 - accuracy: 0.6933\n",
      "Epoch 39/200\n",
      "5/5 [==============================] - 0s 2ms/step - loss: 0.9680 - accuracy: 0.6800\n",
      "Epoch 40/200\n",
      "5/5 [==============================] - 0s 0s/step - loss: 0.9603 - accuracy: 0.6933\n",
      "Epoch 41/200\n",
      "5/5 [==============================] - 0s 0s/step - loss: 0.9543 - accuracy: 0.6800\n",
      "Epoch 42/200\n",
      "5/5 [==============================] - 0s 4ms/step - loss: 0.9452 - accuracy: 0.6867\n",
      "Epoch 43/200\n",
      "5/5 [==============================] - 0s 4ms/step - loss: 0.9392 - accuracy: 0.7133\n",
      "Epoch 44/200\n",
      "5/5 [==============================] - 0s 0s/step - loss: 0.9306 - accuracy: 0.7267\n",
      "Epoch 45/200\n",
      "5/5 [==============================] - 0s 0s/step - loss: 0.9224 - accuracy: 0.7200\n",
      "Epoch 46/200\n",
      "5/5 [==============================] - 0s 4ms/step - loss: 0.9142 - accuracy: 0.7133\n",
      "Epoch 47/200\n",
      "5/5 [==============================] - 0s 4ms/step - loss: 0.9090 - accuracy: 0.7067\n",
      "Epoch 48/200\n",
      "5/5 [==============================] - 0s 2ms/step - loss: 0.8970 - accuracy: 0.7333\n",
      "Epoch 49/200\n",
      "5/5 [==============================] - 0s 0s/step - loss: 0.8887 - accuracy: 0.7200\n",
      "Epoch 50/200\n",
      "5/5 [==============================] - 0s 0s/step - loss: 0.8804 - accuracy: 0.7267\n",
      "Epoch 51/200\n",
      "5/5 [==============================] - 0s 5ms/step - loss: 0.8704 - accuracy: 0.7133\n",
      "Epoch 52/200\n",
      "5/5 [==============================] - 0s 1ms/step - loss: 0.8620 - accuracy: 0.7067\n",
      "Epoch 53/200\n",
      "5/5 [==============================] - 0s 1ms/step - loss: 0.8504 - accuracy: 0.7067\n",
      "Epoch 54/200\n",
      "5/5 [==============================] - 0s 1ms/step - loss: 0.8413 - accuracy: 0.7067\n",
      "Epoch 55/200\n",
      "5/5 [==============================] - 0s 0s/step - loss: 0.8328 - accuracy: 0.6933\n",
      "Epoch 56/200\n",
      "5/5 [==============================] - 0s 0s/step - loss: 0.8228 - accuracy: 0.7000\n",
      "Epoch 57/200\n",
      "5/5 [==============================] - 0s 5ms/step - loss: 0.8135 - accuracy: 0.7333\n",
      "Epoch 58/200\n",
      "5/5 [==============================] - 0s 0s/step - loss: 0.8007 - accuracy: 0.7133\n",
      "Epoch 59/200\n",
      "5/5 [==============================] - 0s 4ms/step - loss: 0.7901 - accuracy: 0.7200\n",
      "Epoch 60/200\n",
      "5/5 [==============================] - 0s 0s/step - loss: 0.7811 - accuracy: 0.7133\n",
      "Epoch 61/200\n",
      "5/5 [==============================] - 0s 4ms/step - loss: 0.7708 - accuracy: 0.7200\n",
      "Epoch 62/200\n",
      "5/5 [==============================] - 0s 4ms/step - loss: 0.7602 - accuracy: 0.7200\n",
      "Epoch 63/200\n",
      "5/5 [==============================] - 0s 0s/step - loss: 0.7491 - accuracy: 0.7333\n",
      "Epoch 64/200\n",
      "5/5 [==============================] - 0s 4ms/step - loss: 0.7396 - accuracy: 0.7400\n",
      "Epoch 65/200\n",
      "5/5 [==============================] - 0s 0s/step - loss: 0.7309 - accuracy: 0.7333\n",
      "Epoch 66/200\n",
      "5/5 [==============================] - 0s 4ms/step - loss: 0.7204 - accuracy: 0.7267\n",
      "Epoch 67/200\n",
      "5/5 [==============================] - 0s 4ms/step - loss: 0.7123 - accuracy: 0.7200\n",
      "Epoch 68/200\n",
      "5/5 [==============================] - 0s 2ms/step - loss: 0.7023 - accuracy: 0.7267\n",
      "Epoch 69/200\n",
      "5/5 [==============================] - 0s 0s/step - loss: 0.6926 - accuracy: 0.7333\n",
      "Epoch 70/200\n",
      "5/5 [==============================] - 0s 0s/step - loss: 0.6845 - accuracy: 0.7333\n",
      "Epoch 71/200\n",
      "5/5 [==============================] - 0s 4ms/step - loss: 0.6775 - accuracy: 0.7400\n",
      "Epoch 72/200\n",
      "5/5 [==============================] - 0s 0s/step - loss: 0.6703 - accuracy: 0.7467\n",
      "Epoch 73/200\n",
      "5/5 [==============================] - 0s 4ms/step - loss: 0.6613 - accuracy: 0.7267\n",
      "Epoch 74/200\n",
      "5/5 [==============================] - 0s 0s/step - loss: 0.6538 - accuracy: 0.7400\n",
      "Epoch 75/200\n",
      "5/5 [==============================] - 0s 0s/step - loss: 0.6464 - accuracy: 0.7400\n",
      "Epoch 76/200\n",
      "5/5 [==============================] - 0s 4ms/step - loss: 0.6395 - accuracy: 0.7400\n",
      "Epoch 77/200\n",
      "5/5 [==============================] - 0s 0s/step - loss: 0.6328 - accuracy: 0.7333\n",
      "Epoch 78/200\n",
      "5/5 [==============================] - 0s 4ms/step - loss: 0.6271 - accuracy: 0.7267\n",
      "Epoch 79/200\n",
      "5/5 [==============================] - 0s 0s/step - loss: 0.6207 - accuracy: 0.7333\n",
      "Epoch 80/200\n",
      "5/5 [==============================] - 0s 4ms/step - loss: 0.6161 - accuracy: 0.7400\n",
      "Epoch 81/200\n",
      "5/5 [==============================] - 0s 0s/step - loss: 0.6087 - accuracy: 0.7333\n",
      "Epoch 82/200\n",
      "5/5 [==============================] - 0s 0s/step - loss: 0.6028 - accuracy: 0.7333\n",
      "Epoch 83/200\n",
      "5/5 [==============================] - 0s 4ms/step - loss: 0.5986 - accuracy: 0.7200\n",
      "Epoch 84/200\n",
      "5/5 [==============================] - 0s 0s/step - loss: 0.5939 - accuracy: 0.7400\n",
      "Epoch 85/200\n"
     ]
    },
    {
     "name": "stdout",
     "output_type": "stream",
     "text": [
      "5/5 [==============================] - 0s 0s/step - loss: 0.5909 - accuracy: 0.7400\n",
      "Epoch 86/200\n",
      "5/5 [==============================] - 0s 4ms/step - loss: 0.5838 - accuracy: 0.7533\n",
      "Epoch 87/200\n",
      "5/5 [==============================] - 0s 0s/step - loss: 0.5802 - accuracy: 0.7400\n",
      "Epoch 88/200\n",
      "5/5 [==============================] - 0s 4ms/step - loss: 0.5787 - accuracy: 0.7333\n",
      "Epoch 89/200\n",
      "5/5 [==============================] - 0s 0s/step - loss: 0.5704 - accuracy: 0.7467\n",
      "Epoch 90/200\n",
      "5/5 [==============================] - 0s 0s/step - loss: 0.5731 - accuracy: 0.7733\n",
      "Epoch 91/200\n",
      "5/5 [==============================] - 0s 0s/step - loss: 0.5673 - accuracy: 0.7600\n",
      "Epoch 92/200\n",
      "5/5 [==============================] - 0s 4ms/step - loss: 0.5643 - accuracy: 0.7333\n",
      "Epoch 93/200\n",
      "5/5 [==============================] - 0s 0s/step - loss: 0.5573 - accuracy: 0.7400\n",
      "Epoch 94/200\n",
      "5/5 [==============================] - 0s 4ms/step - loss: 0.5549 - accuracy: 0.7400\n",
      "Epoch 95/200\n",
      "5/5 [==============================] - 0s 4ms/step - loss: 0.5520 - accuracy: 0.7467\n",
      "Epoch 96/200\n",
      "5/5 [==============================] - 0s 0s/step - loss: 0.5492 - accuracy: 0.7400\n",
      "Epoch 97/200\n",
      "5/5 [==============================] - 0s 4ms/step - loss: 0.5452 - accuracy: 0.7400\n",
      "Epoch 98/200\n",
      "5/5 [==============================] - 0s 0s/step - loss: 0.5442 - accuracy: 0.7467\n",
      "Epoch 99/200\n",
      "5/5 [==============================] - 0s 2ms/step - loss: 0.5412 - accuracy: 0.7600\n",
      "Epoch 100/200\n",
      "5/5 [==============================] - 0s 0s/step - loss: 0.5388 - accuracy: 0.7467\n",
      "Epoch 101/200\n",
      "5/5 [==============================] - 0s 4ms/step - loss: 0.5364 - accuracy: 0.7267\n",
      "Epoch 102/200\n",
      "5/5 [==============================] - 0s 0s/step - loss: 0.5357 - accuracy: 0.7400\n",
      "Epoch 103/200\n",
      "5/5 [==============================] - 0s 0s/step - loss: 0.5323 - accuracy: 0.7400\n",
      "Epoch 104/200\n",
      "5/5 [==============================] - 0s 4ms/step - loss: 0.5301 - accuracy: 0.7400\n",
      "Epoch 105/200\n",
      "5/5 [==============================] - 0s 0s/step - loss: 0.5262 - accuracy: 0.7467\n",
      "Epoch 106/200\n",
      "5/5 [==============================] - 0s 5ms/step - loss: 0.5256 - accuracy: 0.7733\n",
      "Epoch 107/200\n",
      "5/5 [==============================] - 0s 1ms/step - loss: 0.5232 - accuracy: 0.7600\n",
      "Epoch 108/200\n",
      "5/5 [==============================] - 0s 283us/step - loss: 0.5214 - accuracy: 0.7467\n",
      "Epoch 109/200\n",
      "5/5 [==============================] - 0s 0s/step - loss: 0.5192 - accuracy: 0.7467\n",
      "Epoch 110/200\n",
      "5/5 [==============================] - 0s 0s/step - loss: 0.5185 - accuracy: 0.7467\n",
      "Epoch 111/200\n",
      "5/5 [==============================] - 0s 0s/step - loss: 0.5171 - accuracy: 0.7333\n",
      "Epoch 112/200\n",
      "5/5 [==============================] - 0s 0s/step - loss: 0.5142 - accuracy: 0.7467\n",
      "Epoch 113/200\n",
      "5/5 [==============================] - 0s 4ms/step - loss: 0.5139 - accuracy: 0.7333\n",
      "Epoch 114/200\n",
      "5/5 [==============================] - 0s 0s/step - loss: 0.5108 - accuracy: 0.7333\n",
      "Epoch 115/200\n",
      "5/5 [==============================] - 0s 0s/step - loss: 0.5106 - accuracy: 0.7533\n",
      "Epoch 116/200\n",
      "5/5 [==============================] - 0s 0s/step - loss: 0.5090 - accuracy: 0.7467\n",
      "Epoch 117/200\n",
      "5/5 [==============================] - 0s 0s/step - loss: 0.5070 - accuracy: 0.7467\n",
      "Epoch 118/200\n",
      "5/5 [==============================] - 0s 0s/step - loss: 0.5053 - accuracy: 0.7467\n",
      "Epoch 119/200\n",
      "5/5 [==============================] - 0s 4ms/step - loss: 0.5063 - accuracy: 0.7733\n",
      "Epoch 120/200\n",
      "5/5 [==============================] - 0s 0s/step - loss: 0.5025 - accuracy: 0.7467\n",
      "Epoch 121/200\n",
      "5/5 [==============================] - 0s 4ms/step - loss: 0.5016 - accuracy: 0.7467\n",
      "Epoch 122/200\n",
      "5/5 [==============================] - 0s 0s/step - loss: 0.5000 - accuracy: 0.7400\n",
      "Epoch 123/200\n",
      "5/5 [==============================] - 0s 4ms/step - loss: 0.4992 - accuracy: 0.7467\n",
      "Epoch 124/200\n",
      "5/5 [==============================] - 0s 0s/step - loss: 0.5021 - accuracy: 0.7600\n",
      "Epoch 125/200\n",
      "5/5 [==============================] - 0s 0s/step - loss: 0.4955 - accuracy: 0.7733\n",
      "Epoch 126/200\n",
      "5/5 [==============================] - 0s 4ms/step - loss: 0.4968 - accuracy: 0.7400\n",
      "Epoch 127/200\n",
      "5/5 [==============================] - 0s 0s/step - loss: 0.4962 - accuracy: 0.7333\n",
      "Epoch 128/200\n",
      "5/5 [==============================] - 0s 0s/step - loss: 0.4949 - accuracy: 0.7400\n",
      "Epoch 129/200\n",
      "5/5 [==============================] - 0s 4ms/step - loss: 0.4928 - accuracy: 0.7533\n",
      "Epoch 130/200\n",
      "5/5 [==============================] - 0s 2ms/step - loss: 0.4981 - accuracy: 0.7267\n",
      "Epoch 131/200\n",
      "5/5 [==============================] - 0s 0s/step - loss: 0.4897 - accuracy: 0.7600\n",
      "Epoch 132/200\n",
      "5/5 [==============================] - 0s 0s/step - loss: 0.4912 - accuracy: 0.7800\n",
      "Epoch 133/200\n",
      "5/5 [==============================] - 0s 0s/step - loss: 0.4896 - accuracy: 0.7733\n",
      "Epoch 134/200\n",
      "5/5 [==============================] - 0s 0s/step - loss: 0.4894 - accuracy: 0.7733\n",
      "Epoch 135/200\n",
      "5/5 [==============================] - 0s 4ms/step - loss: 0.4880 - accuracy: 0.7667\n",
      "Epoch 136/200\n",
      "5/5 [==============================] - 0s 0s/step - loss: 0.4872 - accuracy: 0.7800\n",
      "Epoch 137/200\n",
      "5/5 [==============================] - 0s 4ms/step - loss: 0.4869 - accuracy: 0.7733\n",
      "Epoch 138/200\n",
      "5/5 [==============================] - 0s 0s/step - loss: 0.4841 - accuracy: 0.7533\n",
      "Epoch 139/200\n",
      "5/5 [==============================] - 0s 0s/step - loss: 0.4834 - accuracy: 0.7467\n",
      "Epoch 140/200\n",
      "5/5 [==============================] - 0s 4ms/step - loss: 0.4830 - accuracy: 0.7600\n",
      "Epoch 141/200\n",
      "5/5 [==============================] - 0s 2ms/step - loss: 0.4819 - accuracy: 0.7600\n",
      "Epoch 142/200\n",
      "5/5 [==============================] - 0s 4ms/step - loss: 0.4814 - accuracy: 0.7600\n",
      "Epoch 143/200\n",
      "5/5 [==============================] - 0s 0s/step - loss: 0.4800 - accuracy: 0.7667\n",
      "Epoch 144/200\n",
      "5/5 [==============================] - 0s 4ms/step - loss: 0.4803 - accuracy: 0.7600\n",
      "Epoch 145/200\n",
      "5/5 [==============================] - 0s 0s/step - loss: 0.4784 - accuracy: 0.7600\n",
      "Epoch 146/200\n",
      "5/5 [==============================] - 0s 4ms/step - loss: 0.4784 - accuracy: 0.7800\n",
      "Epoch 147/200\n",
      "5/5 [==============================] - 0s 0s/step - loss: 0.4781 - accuracy: 0.7800\n",
      "Epoch 148/200\n",
      "5/5 [==============================] - 0s 0s/step - loss: 0.4763 - accuracy: 0.7733\n",
      "Epoch 149/200\n",
      "5/5 [==============================] - 0s 4ms/step - loss: 0.4765 - accuracy: 0.7600\n",
      "Epoch 150/200\n",
      "5/5 [==============================] - 0s 0s/step - loss: 0.4755 - accuracy: 0.7667\n",
      "Epoch 151/200\n",
      "5/5 [==============================] - 0s 2ms/step - loss: 0.4743 - accuracy: 0.7733\n",
      "Epoch 152/200\n",
      "5/5 [==============================] - 0s 0s/step - loss: 0.4741 - accuracy: 0.7667\n",
      "Epoch 153/200\n",
      "5/5 [==============================] - 0s 4ms/step - loss: 0.4731 - accuracy: 0.7733\n",
      "Epoch 154/200\n",
      "5/5 [==============================] - 0s 0s/step - loss: 0.4728 - accuracy: 0.7600\n",
      "Epoch 155/200\n",
      "5/5 [==============================] - 0s 0s/step - loss: 0.4761 - accuracy: 0.7733\n",
      "Epoch 156/200\n",
      "5/5 [==============================] - 0s 4ms/step - loss: 0.4734 - accuracy: 0.7533\n",
      "Epoch 157/200\n",
      "5/5 [==============================] - 0s 0s/step - loss: 0.4708 - accuracy: 0.7800\n",
      "Epoch 158/200\n",
      "5/5 [==============================] - 0s 4ms/step - loss: 0.4758 - accuracy: 0.7467\n",
      "Epoch 159/200\n",
      "5/5 [==============================] - 0s 0s/step - loss: 0.4694 - accuracy: 0.7667\n",
      "Epoch 160/200\n",
      "5/5 [==============================] - 0s 4ms/step - loss: 0.4718 - accuracy: 0.7800\n",
      "Epoch 161/200\n",
      "5/5 [==============================] - 0s 0s/step - loss: 0.4687 - accuracy: 0.7667\n",
      "Epoch 162/200\n",
      "5/5 [==============================] - 0s 1ms/step - loss: 0.4733 - accuracy: 0.7333\n",
      "Epoch 163/200\n",
      "5/5 [==============================] - 0s 1ms/step - loss: 0.4699 - accuracy: 0.7667\n",
      "Epoch 164/200\n",
      "5/5 [==============================] - 0s 0s/step - loss: 0.4672 - accuracy: 0.7800\n",
      "Epoch 165/200\n",
      "5/5 [==============================] - 0s 4ms/step - loss: 0.4661 - accuracy: 0.7800\n",
      "Epoch 166/200\n",
      "5/5 [==============================] - 0s 0s/step - loss: 0.4688 - accuracy: 0.7600\n",
      "Epoch 167/200\n",
      "5/5 [==============================] - 0s 4ms/step - loss: 0.4683 - accuracy: 0.7800\n",
      "Epoch 168/200\n"
     ]
    },
    {
     "name": "stdout",
     "output_type": "stream",
     "text": [
      "5/5 [==============================] - 0s 0s/step - loss: 0.4653 - accuracy: 0.7733\n",
      "Epoch 169/200\n",
      "5/5 [==============================] - 0s 4ms/step - loss: 0.4709 - accuracy: 0.7733\n",
      "Epoch 170/200\n",
      "5/5 [==============================] - 0s 0s/step - loss: 0.4661 - accuracy: 0.7733\n",
      "Epoch 171/200\n",
      "5/5 [==============================] - 0s 0s/step - loss: 0.4647 - accuracy: 0.7800\n",
      "Epoch 172/200\n",
      "5/5 [==============================] - 0s 4ms/step - loss: 0.4626 - accuracy: 0.7800\n",
      "Epoch 173/200\n",
      "5/5 [==============================] - 0s 2ms/step - loss: 0.4647 - accuracy: 0.7800\n",
      "Epoch 174/200\n",
      "5/5 [==============================] - 0s 0s/step - loss: 0.4634 - accuracy: 0.7667\n",
      "Epoch 175/200\n",
      "5/5 [==============================] - 0s 4ms/step - loss: 0.4625 - accuracy: 0.7800\n",
      "Epoch 176/200\n",
      "5/5 [==============================] - 0s 0s/step - loss: 0.4622 - accuracy: 0.7733\n",
      "Epoch 177/200\n",
      "5/5 [==============================] - 0s 0s/step - loss: 0.4605 - accuracy: 0.7800\n",
      "Epoch 178/200\n",
      "5/5 [==============================] - 0s 4ms/step - loss: 0.4602 - accuracy: 0.7733\n",
      "Epoch 179/200\n",
      "5/5 [==============================] - 0s 0s/step - loss: 0.4601 - accuracy: 0.7667\n",
      "Epoch 180/200\n",
      "5/5 [==============================] - 0s 0s/step - loss: 0.4606 - accuracy: 0.7733\n",
      "Epoch 181/200\n",
      "5/5 [==============================] - 0s 4ms/step - loss: 0.4594 - accuracy: 0.7800\n",
      "Epoch 182/200\n",
      "5/5 [==============================] - 0s 0s/step - loss: 0.4601 - accuracy: 0.7667\n",
      "Epoch 183/200\n",
      "5/5 [==============================] - 0s 6ms/step - loss: 0.4618 - accuracy: 0.7600\n",
      "Epoch 184/200\n",
      "5/5 [==============================] - 0s 0s/step - loss: 0.4575 - accuracy: 0.7800\n",
      "Epoch 185/200\n",
      "5/5 [==============================] - 0s 4ms/step - loss: 0.4593 - accuracy: 0.7733\n",
      "Epoch 186/200\n",
      "5/5 [==============================] - 0s 0s/step - loss: 0.4563 - accuracy: 0.7800\n",
      "Epoch 187/200\n",
      "5/5 [==============================] - 0s 4ms/step - loss: 0.4581 - accuracy: 0.7733\n",
      "Epoch 188/200\n",
      "5/5 [==============================] - 0s 0s/step - loss: 0.4600 - accuracy: 0.7667\n",
      "Epoch 189/200\n",
      "5/5 [==============================] - 0s 0s/step - loss: 0.4554 - accuracy: 0.7867\n",
      "Epoch 190/200\n",
      "5/5 [==============================] - 0s 4ms/step - loss: 0.4555 - accuracy: 0.7800\n",
      "Epoch 191/200\n",
      "5/5 [==============================] - 0s 0s/step - loss: 0.4553 - accuracy: 0.7733\n",
      "Epoch 192/200\n",
      "5/5 [==============================] - 0s 4ms/step - loss: 0.4551 - accuracy: 0.7800\n",
      "Epoch 193/200\n",
      "5/5 [==============================] - 0s 0s/step - loss: 0.4554 - accuracy: 0.7800\n",
      "Epoch 194/200\n",
      "5/5 [==============================] - 0s 2ms/step - loss: 0.4541 - accuracy: 0.7867\n",
      "Epoch 195/200\n",
      "5/5 [==============================] - 0s 0s/step - loss: 0.4537 - accuracy: 0.7733\n",
      "Epoch 196/200\n",
      "5/5 [==============================] - 0s 4ms/step - loss: 0.4529 - accuracy: 0.7867\n",
      "Epoch 197/200\n",
      "5/5 [==============================] - 0s 0s/step - loss: 0.4527 - accuracy: 0.7933\n",
      "Epoch 198/200\n",
      "5/5 [==============================] - 0s 0s/step - loss: 0.4533 - accuracy: 0.7667\n",
      "Epoch 199/200\n",
      "5/5 [==============================] - 0s 0s/step - loss: 0.4516 - accuracy: 0.7667\n",
      "Epoch 200/200\n",
      "5/5 [==============================] - 0s 0s/step - loss: 0.4518 - accuracy: 0.8000\n"
     ]
    }
   ],
   "source": [
    "history = model.fit(X,y, \n",
    "          epochs=epochs,)"
   ]
  },
  {
   "cell_type": "code",
   "execution_count": 442,
   "id": "8e3e2165",
   "metadata": {},
   "outputs": [
    {
     "name": "stdout",
     "output_type": "stream",
     "text": [
      "5/5 [==============================] - 0s 4ms/step - loss: 0.5278 - accuracy: 0.7800\n"
     ]
    },
    {
     "data": {
      "text/plain": [
       "[0.5278337001800537, 0.7799999713897705]"
      ]
     },
     "execution_count": 442,
     "metadata": {},
     "output_type": "execute_result"
    }
   ],
   "source": [
    "model.evaluate(X, y)"
   ]
  },
  {
   "cell_type": "markdown",
   "id": "403a57fc",
   "metadata": {},
   "source": [
    "| Architenture| Model Accuracy | Test Accuracy | \n",
    "| ----------- | ---------------|-------------- |\n",
    "| SVM(Liniar)      | 84%       |-- |\n",
    "| 3 Layer NN      | 75%       |73% |\n",
    "| 3 Layer NN(Full Dataset)   | 78%        |77% |"
   ]
  },
  {
   "cell_type": "code",
   "execution_count": 418,
   "id": "203803a5",
   "metadata": {},
   "outputs": [
    {
     "data": {
      "image/png": "[encoded data removed]",
      "text/plain": [
       "<Figure size 576x576 with 1 Axes>"
      ]
     },
     "metadata": {
      "needs_background": "light"
     },
     "output_type": "display_data"
    }
   ],
   "source": [
    "plot_accuracy(history)"
   ]
  },
  {
   "cell_type": "markdown",
   "id": "3ff9ced5",
   "metadata": {},
   "source": [
    "The Accuracy score of the model has some interesting outcome over time. The trainning accuracy has a lot of fluctuation. It started as low and gradually gets better over time."
   ]
  },
  {
   "cell_type": "markdown",
   "id": "b6d5997c",
   "metadata": {},
   "source": [
    "#### Using the full dataset, the accuracy of the model increased slightly. It could be because of sheer chance. Or it also could be because of a larger dataset the model was able to do better."
   ]
  },
  {
   "cell_type": "markdown",
   "id": "225429aa",
   "metadata": {},
   "source": [
    "<hr>"
   ]
  },
  {
   "cell_type": "markdown",
   "id": "b86334e5",
   "metadata": {},
   "source": [
    "## Let's try with an additional layer to see if we can do any better."
   ]
  },
  {
   "cell_type": "code",
   "execution_count": 585,
   "id": "d72bb539",
   "metadata": {
    "scrolled": true
   },
   "outputs": [],
   "source": [
    "model = models.Sequential()\n",
    "model.add(Dense(4, input_shape=(2,),activation='relu'))\n",
    "\n",
    "model.add(Dense(6,\n",
    "                input_shape=(2,),\n",
    "                activation='relu'))\n",
    "model.add(Dense(3,activation='softmax'))\n",
    "\n",
    "model.compile(Adam(learning_rate=0.01), loss='categorical_crossentropy', metrics=['accuracy'])"
   ]
  },
  {
   "cell_type": "code",
   "execution_count": 586,
   "id": "fa921171",
   "metadata": {},
   "outputs": [
    {
     "data": {
      "image/png": "[encoded data removed]",
      "text/plain": [
       "<IPython.core.display.Image object>"
      ]
     },
     "execution_count": 586,
     "metadata": {},
     "output_type": "execute_result"
    }
   ],
   "source": [
    "plot_model(model, to_file='oo.png', show_shapes=True, show_layer_names=True, show_layer_activations= True)"
   ]
  },
  {
   "cell_type": "markdown",
   "id": "3a1786c6",
   "metadata": {},
   "source": [
    "Now we have,...<br>\n",
    "1 input layer with 2 input features, \n",
    "<br> \n",
    "2 dense layers with 4 and 6 nodes, and <br> \n",
    "1 output layer. "
   ]
  },
  {
   "cell_type": "markdown",
   "id": "992c02b4",
   "metadata": {},
   "source": [
    "#### Since we have already seen that the model performs well with the full dataset, let's choose the entire dataset for the next model"
   ]
  },
  {
   "cell_type": "code",
   "execution_count": 576,
   "id": "ed2e02c2",
   "metadata": {},
   "outputs": [
    {
     "name": "stdout",
     "output_type": "stream",
     "text": [
      "Epoch 1/100\n",
      "5/5 [==============================] - 0s 4ms/step - loss: 1.0874 - accuracy: 0.3467\n",
      "Epoch 2/100\n",
      "5/5 [==============================] - 0s 0s/step - loss: 1.0485 - accuracy: 0.4200\n",
      "Epoch 3/100\n",
      "5/5 [==============================] - 0s 4ms/step - loss: 1.0349 - accuracy: 0.3667\n",
      "Epoch 4/100\n",
      "5/5 [==============================] - 0s 0s/step - loss: 1.0148 - accuracy: 0.3333\n",
      "Epoch 5/100\n",
      "5/5 [==============================] - 0s 0s/step - loss: 0.9961 - accuracy: 0.5467\n",
      "Epoch 6/100\n",
      "5/5 [==============================] - 0s 4ms/step - loss: 0.9722 - accuracy: 0.5800\n",
      "Epoch 7/100\n",
      "5/5 [==============================] - 0s 0s/step - loss: 0.9448 - accuracy: 0.6067\n",
      "Epoch 8/100\n",
      "5/5 [==============================] - 0s 0s/step - loss: 0.9081 - accuracy: 0.6533\n",
      "Epoch 9/100\n",
      "5/5 [==============================] - 0s 2ms/step - loss: 0.8630 - accuracy: 0.6467\n",
      "Epoch 10/100\n",
      "5/5 [==============================] - 0s 2ms/step - loss: 0.8112 - accuracy: 0.6867\n",
      "Epoch 11/100\n",
      "5/5 [==============================] - 0s 0s/step - loss: 0.7653 - accuracy: 0.7133\n",
      "Epoch 12/100\n",
      "5/5 [==============================] - 0s 4ms/step - loss: 0.7232 - accuracy: 0.7067\n",
      "Epoch 13/100\n",
      "5/5 [==============================] - 0s 4ms/step - loss: 0.6734 - accuracy: 0.6867\n",
      "Epoch 14/100\n",
      "5/5 [==============================] - 0s 0s/step - loss: 0.6385 - accuracy: 0.7067\n",
      "Epoch 15/100\n",
      "5/5 [==============================] - 0s 0s/step - loss: 0.6152 - accuracy: 0.6867\n",
      "Epoch 16/100\n",
      "5/5 [==============================] - 0s 4ms/step - loss: 0.5887 - accuracy: 0.6933\n",
      "Epoch 17/100\n",
      "5/5 [==============================] - 0s 4ms/step - loss: 0.5687 - accuracy: 0.6867\n",
      "Epoch 18/100\n",
      "5/5 [==============================] - 0s 2ms/step - loss: 0.5528 - accuracy: 0.6933\n",
      "Epoch 19/100\n",
      "5/5 [==============================] - 0s 0s/step - loss: 0.5463 - accuracy: 0.7067\n",
      "Epoch 20/100\n",
      "5/5 [==============================] - 0s 0s/step - loss: 0.5341 - accuracy: 0.6933\n",
      "Epoch 21/100\n",
      "5/5 [==============================] - 0s 4ms/step - loss: 0.5222 - accuracy: 0.6867\n",
      "Epoch 22/100\n",
      "5/5 [==============================] - 0s 4ms/step - loss: 0.5254 - accuracy: 0.6867\n",
      "Epoch 23/100\n",
      "5/5 [==============================] - 0s 0s/step - loss: 0.5122 - accuracy: 0.7133\n",
      "Epoch 24/100\n",
      "5/5 [==============================] - 0s 0s/step - loss: 0.5144 - accuracy: 0.6867\n",
      "Epoch 25/100\n",
      "5/5 [==============================] - 0s 4ms/step - loss: 0.5061 - accuracy: 0.6867\n",
      "Epoch 26/100\n",
      "5/5 [==============================] - 0s 4ms/step - loss: 0.5105 - accuracy: 0.6933\n",
      "Epoch 27/100\n",
      "5/5 [==============================] - 0s 2ms/step - loss: 0.5053 - accuracy: 0.7133\n",
      "Epoch 28/100\n",
      "5/5 [==============================] - 0s 4ms/step - loss: 0.4968 - accuracy: 0.7200\n",
      "Epoch 29/100\n",
      "5/5 [==============================] - 0s 0s/step - loss: 0.4948 - accuracy: 0.7000\n",
      "Epoch 30/100\n",
      "5/5 [==============================] - 0s 4ms/step - loss: 0.4898 - accuracy: 0.7000\n",
      "Epoch 31/100\n",
      "5/5 [==============================] - 0s 0s/step - loss: 0.4901 - accuracy: 0.7067\n",
      "Epoch 32/100\n",
      "5/5 [==============================] - 0s 0s/step - loss: 0.4877 - accuracy: 0.7067\n",
      "Epoch 33/100\n",
      "5/5 [==============================] - 0s 0s/step - loss: 0.4863 - accuracy: 0.6867\n",
      "Epoch 34/100\n",
      "5/5 [==============================] - 0s 0s/step - loss: 0.4846 - accuracy: 0.7067\n",
      "Epoch 35/100\n",
      "5/5 [==============================] - 0s 0s/step - loss: 0.4846 - accuracy: 0.7000\n",
      "Epoch 36/100\n",
      "5/5 [==============================] - 0s 4ms/step - loss: 0.4826 - accuracy: 0.7000\n",
      "Epoch 37/100\n",
      "5/5 [==============================] - 0s 0s/step - loss: 0.4805 - accuracy: 0.7200\n",
      "Epoch 38/100\n",
      "5/5 [==============================] - 0s 0s/step - loss: 0.4805 - accuracy: 0.7067\n",
      "Epoch 39/100\n",
      "5/5 [==============================] - 0s 0s/step - loss: 0.4772 - accuracy: 0.7333\n",
      "Epoch 40/100\n",
      "5/5 [==============================] - 0s 4ms/step - loss: 0.4758 - accuracy: 0.7000\n",
      "Epoch 41/100\n",
      "5/5 [==============================] - 0s 0s/step - loss: 0.4768 - accuracy: 0.7200\n",
      "Epoch 42/100\n",
      "5/5 [==============================] - 0s 0s/step - loss: 0.4845 - accuracy: 0.6933\n",
      "Epoch 43/100\n",
      "5/5 [==============================] - 0s 4ms/step - loss: 0.4734 - accuracy: 0.7067\n",
      "Epoch 44/100\n",
      "5/5 [==============================] - 0s 0s/step - loss: 0.4740 - accuracy: 0.7267\n",
      "Epoch 45/100\n",
      "5/5 [==============================] - 0s 0s/step - loss: 0.4728 - accuracy: 0.7333\n",
      "Epoch 46/100\n",
      "5/5 [==============================] - 0s 6ms/step - loss: 0.4714 - accuracy: 0.7400\n",
      "Epoch 47/100\n",
      "5/5 [==============================] - 0s 0s/step - loss: 0.4710 - accuracy: 0.7333\n",
      "Epoch 48/100\n",
      "5/5 [==============================] - 0s 4ms/step - loss: 0.4664 - accuracy: 0.7200\n",
      "Epoch 49/100\n",
      "5/5 [==============================] - 0s 4ms/step - loss: 0.4710 - accuracy: 0.7200\n",
      "Epoch 50/100\n",
      "5/5 [==============================] - 0s 0s/step - loss: 0.4686 - accuracy: 0.7067\n",
      "Epoch 51/100\n",
      "5/5 [==============================] - 0s 4ms/step - loss: 0.4714 - accuracy: 0.7267\n",
      "Epoch 52/100\n",
      "5/5 [==============================] - 0s 4ms/step - loss: 0.4686 - accuracy: 0.7133\n",
      "Epoch 53/100\n",
      "5/5 [==============================] - 0s 0s/step - loss: 0.4661 - accuracy: 0.7200\n",
      "Epoch 54/100\n",
      "5/5 [==============================] - 0s 0s/step - loss: 0.4694 - accuracy: 0.7200\n",
      "Epoch 55/100\n",
      "5/5 [==============================] - 0s 2ms/step - loss: 0.4606 - accuracy: 0.7200\n",
      "Epoch 56/100\n",
      "5/5 [==============================] - 0s 0s/step - loss: 0.4751 - accuracy: 0.7400\n",
      "Epoch 57/100\n",
      "5/5 [==============================] - 0s 1ms/step - loss: 0.4680 - accuracy: 0.7000\n",
      "Epoch 58/100\n",
      "5/5 [==============================] - 0s 2ms/step - loss: 0.4612 - accuracy: 0.7133\n",
      "Epoch 59/100\n",
      "5/5 [==============================] - 0s 2ms/step - loss: 0.4659 - accuracy: 0.7267\n",
      "Epoch 60/100\n",
      "5/5 [==============================] - 0s 0s/step - loss: 0.4582 - accuracy: 0.7133\n",
      "Epoch 61/100\n",
      "5/5 [==============================] - 0s 0s/step - loss: 0.4583 - accuracy: 0.7333\n",
      "Epoch 62/100\n",
      "5/5 [==============================] - 0s 4ms/step - loss: 0.4582 - accuracy: 0.7400\n",
      "Epoch 63/100\n",
      "5/5 [==============================] - 0s 0s/step - loss: 0.4627 - accuracy: 0.7600\n",
      "Epoch 64/100\n",
      "5/5 [==============================] - 0s 2ms/step - loss: 0.4609 - accuracy: 0.7267\n",
      "Epoch 65/100\n",
      "5/5 [==============================] - 0s 0s/step - loss: 0.4563 - accuracy: 0.7600\n",
      "Epoch 66/100\n",
      "5/5 [==============================] - 0s 0s/step - loss: 0.4557 - accuracy: 0.7333\n",
      "Epoch 67/100\n",
      "5/5 [==============================] - 0s 4ms/step - loss: 0.4559 - accuracy: 0.7400\n",
      "Epoch 68/100\n",
      "5/5 [==============================] - 0s 0s/step - loss: 0.4551 - accuracy: 0.7333\n",
      "Epoch 69/100\n",
      "5/5 [==============================] - 0s 0s/step - loss: 0.4565 - accuracy: 0.7533\n",
      "Epoch 70/100\n",
      "5/5 [==============================] - 0s 4ms/step - loss: 0.4490 - accuracy: 0.7333\n",
      "Epoch 71/100\n",
      "5/5 [==============================] - 0s 0s/step - loss: 0.4542 - accuracy: 0.7400\n",
      "Epoch 72/100\n",
      "5/5 [==============================] - 0s 0s/step - loss: 0.4556 - accuracy: 0.7467\n",
      "Epoch 73/100\n",
      "5/5 [==============================] - 0s 6ms/step - loss: 0.4498 - accuracy: 0.7533\n",
      "Epoch 74/100\n",
      "5/5 [==============================] - 0s 4ms/step - loss: 0.4538 - accuracy: 0.7333\n",
      "Epoch 75/100\n",
      "5/5 [==============================] - 0s 0s/step - loss: 0.4490 - accuracy: 0.7667\n",
      "Epoch 76/100\n",
      "5/5 [==============================] - 0s 0s/step - loss: 0.4504 - accuracy: 0.7400\n",
      "Epoch 77/100\n",
      "5/5 [==============================] - 0s 4ms/step - loss: 0.4496 - accuracy: 0.7400\n",
      "Epoch 78/100\n",
      "5/5 [==============================] - 0s 0s/step - loss: 0.4496 - accuracy: 0.7600\n",
      "Epoch 79/100\n",
      "5/5 [==============================] - 0s 4ms/step - loss: 0.4528 - accuracy: 0.7333\n",
      "Epoch 80/100\n",
      "5/5 [==============================] - 0s 4ms/step - loss: 0.4477 - accuracy: 0.7133\n",
      "Epoch 81/100\n",
      "5/5 [==============================] - 0s 0s/step - loss: 0.4473 - accuracy: 0.7467\n",
      "Epoch 82/100\n",
      "5/5 [==============================] - 0s 2ms/step - loss: 0.4432 - accuracy: 0.7467\n",
      "Epoch 83/100\n",
      "5/5 [==============================] - 0s 0s/step - loss: 0.4424 - accuracy: 0.7600\n",
      "Epoch 84/100\n",
      "5/5 [==============================] - 0s 4ms/step - loss: 0.4479 - accuracy: 0.7667\n",
      "Epoch 85/100\n"
     ]
    },
    {
     "name": "stdout",
     "output_type": "stream",
     "text": [
      "5/5 [==============================] - 0s 0s/step - loss: 0.4454 - accuracy: 0.7467\n",
      "Epoch 86/100\n",
      "5/5 [==============================] - 0s 0s/step - loss: 0.4492 - accuracy: 0.7533\n",
      "Epoch 87/100\n",
      "5/5 [==============================] - 0s 4ms/step - loss: 0.4434 - accuracy: 0.7533\n",
      "Epoch 88/100\n",
      "5/5 [==============================] - 0s 0s/step - loss: 0.4423 - accuracy: 0.7400\n",
      "Epoch 89/100\n",
      "5/5 [==============================] - 0s 0s/step - loss: 0.4430 - accuracy: 0.7733\n",
      "Epoch 90/100\n",
      "5/5 [==============================] - 0s 0s/step - loss: 0.4404 - accuracy: 0.7800\n",
      "Epoch 91/100\n",
      "5/5 [==============================] - 0s 0s/step - loss: 0.4407 - accuracy: 0.7667\n",
      "Epoch 92/100\n",
      "5/5 [==============================] - 0s 2ms/step - loss: 0.4381 - accuracy: 0.7467\n",
      "Epoch 93/100\n",
      "5/5 [==============================] - 0s 0s/step - loss: 0.4396 - accuracy: 0.7533\n",
      "Epoch 94/100\n",
      "5/5 [==============================] - 0s 0s/step - loss: 0.4368 - accuracy: 0.7800\n",
      "Epoch 95/100\n",
      "5/5 [==============================] - 0s 4ms/step - loss: 0.4372 - accuracy: 0.7600\n",
      "Epoch 96/100\n",
      "5/5 [==============================] - 0s 0s/step - loss: 0.4418 - accuracy: 0.7600\n",
      "Epoch 97/100\n",
      "5/5 [==============================] - 0s 0s/step - loss: 0.4558 - accuracy: 0.7600\n",
      "Epoch 98/100\n",
      "5/5 [==============================] - 0s 4ms/step - loss: 0.4453 - accuracy: 0.7600\n",
      "Epoch 99/100\n",
      "5/5 [==============================] - 0s 4ms/step - loss: 0.4392 - accuracy: 0.7867\n",
      "Epoch 100/100\n",
      "5/5 [==============================] - 0s 0s/step - loss: 0.4342 - accuracy: 0.7467\n"
     ]
    }
   ],
   "source": [
    "history = model.fit(X,y, \n",
    "          epochs=100,\n",
    "          )"
   ]
  },
  {
   "cell_type": "code",
   "execution_count": 509,
   "id": "28f010ee",
   "metadata": {},
   "outputs": [
    {
     "data": {
      "image/png": "[encoded data removed]",
      "text/plain": [
       "<Figure size 576x576 with 1 Axes>"
      ]
     },
     "metadata": {
      "needs_background": "light"
     },
     "output_type": "display_data"
    }
   ],
   "source": [
    "plot_accuracy(history)"
   ]
  },
  {
   "cell_type": "code",
   "execution_count": 518,
   "id": "6765f364",
   "metadata": {},
   "outputs": [
    {
     "name": "stdout",
     "output_type": "stream",
     "text": [
      "5/5 [==============================] - 0s 4ms/step - loss: 0.4239 - accuracy: 0.8067\n"
     ]
    },
    {
     "data": {
      "text/plain": [
       "[0.42386937141418457, 0.8066666722297668]"
      ]
     },
     "execution_count": 518,
     "metadata": {},
     "output_type": "execute_result"
    }
   ],
   "source": [
    "model.evaluate(X, y)"
   ]
  },
  {
   "cell_type": "code",
   "execution_count": 577,
   "id": "5605ad98",
   "metadata": {},
   "outputs": [
    {
     "name": "stdout",
     "output_type": "stream",
     "text": [
      "1/1 [==============================] - 0s 16ms/step - loss: 0.5682 - accuracy: 0.6333\n"
     ]
    },
    {
     "data": {
      "text/plain": [
       "[0.5682273507118225, 0.6333333253860474]"
      ]
     },
     "execution_count": 577,
     "metadata": {},
     "output_type": "execute_result"
    }
   ],
   "source": [
    "model.evaluate(X_test, y_test)"
   ]
  },
  {
   "cell_type": "markdown",
   "id": "64aa7530",
   "metadata": {},
   "source": [
    "| Architenture| Model Accuracy | Test Accuracy | \n",
    "| ----------- | ---------------|-------------- |\n",
    "| SVM(Liniar)      | 84%       |-- |\n",
    "| 3 Layer NN      | 75%       |73% |\n",
    "| 3 Layer NN(Full Dataset)   | 78%        |77% |\n",
    "| 4 Layer NN(Full Dataset)   | 80%        |63% |"
   ]
  },
  {
   "cell_type": "markdown",
   "id": "30c4a2ad",
   "metadata": {},
   "source": [
    "<hr> "
   ]
  },
  {
   "cell_type": "markdown",
   "id": "b0a2f092",
   "metadata": {},
   "source": [
    "### Let us now increase the epoch size using the same 4 layer sturcture defined right above:"
   ]
  },
  {
   "cell_type": "code",
   "execution_count": 587,
   "id": "cf100bd4",
   "metadata": {},
   "outputs": [
    {
     "name": "stdout",
     "output_type": "stream",
     "text": [
      "Epoch 1/200\n",
      "5/5 [==============================] - 0s 0s/step - loss: 1.3478 - accuracy: 0.3333\n",
      "Epoch 2/200\n",
      "5/5 [==============================] - 0s 4ms/step - loss: 1.1746 - accuracy: 0.2800\n",
      "Epoch 3/200\n",
      "5/5 [==============================] - 0s 4ms/step - loss: 1.1394 - accuracy: 0.3333\n",
      "Epoch 4/200\n",
      "5/5 [==============================] - 0s 2ms/step - loss: 1.1107 - accuracy: 0.3333\n",
      "Epoch 5/200\n",
      "5/5 [==============================] - 0s 4ms/step - loss: 1.0964 - accuracy: 0.3200\n",
      "Epoch 6/200\n",
      "5/5 [==============================] - 0s 0s/step - loss: 1.0928 - accuracy: 0.1800\n",
      "Epoch 7/200\n",
      "5/5 [==============================] - 0s 0s/step - loss: 1.0946 - accuracy: 0.2000\n",
      "Epoch 8/200\n",
      "5/5 [==============================] - 0s 4ms/step - loss: 1.0907 - accuracy: 0.2467\n",
      "Epoch 9/200\n",
      "5/5 [==============================] - 0s 0s/step - loss: 1.0888 - accuracy: 0.3200\n",
      "Epoch 10/200\n",
      "5/5 [==============================] - 0s 0s/step - loss: 1.0856 - accuracy: 0.3333\n",
      "Epoch 11/200\n",
      "5/5 [==============================] - 0s 4ms/step - loss: 1.0839 - accuracy: 0.3200\n",
      "Epoch 12/200\n",
      "5/5 [==============================] - 0s 4ms/step - loss: 1.0798 - accuracy: 0.2733\n",
      "Epoch 13/200\n",
      "5/5 [==============================] - 0s 0s/step - loss: 1.0754 - accuracy: 0.3000\n",
      "Epoch 14/200\n",
      "5/5 [==============================] - 0s 4ms/step - loss: 1.0721 - accuracy: 0.3533\n",
      "Epoch 15/200\n",
      "5/5 [==============================] - 0s 0s/step - loss: 1.0692 - accuracy: 0.5600\n",
      "Epoch 16/200\n",
      "5/5 [==============================] - 0s 776us/step - loss: 1.0619 - accuracy: 0.5867\n",
      "Epoch 17/200\n",
      "5/5 [==============================] - 0s 0s/step - loss: 1.0556 - accuracy: 0.5000\n",
      "Epoch 18/200\n",
      "5/5 [==============================] - 0s 0s/step - loss: 1.0530 - accuracy: 0.5000\n",
      "Epoch 19/200\n",
      "5/5 [==============================] - 0s 0s/step - loss: 1.0405 - accuracy: 0.5867\n",
      "Epoch 20/200\n",
      "5/5 [==============================] - 0s 4ms/step - loss: 1.0345 - accuracy: 0.6067\n",
      "Epoch 21/200\n",
      "5/5 [==============================] - 0s 0s/step - loss: 1.0202 - accuracy: 0.6000\n",
      "Epoch 22/200\n",
      "5/5 [==============================] - 0s 0s/step - loss: 1.0163 - accuracy: 0.5067\n",
      "Epoch 23/200\n",
      "5/5 [==============================] - 0s 4ms/step - loss: 0.9917 - accuracy: 0.5400\n",
      "Epoch 24/200\n",
      "5/5 [==============================] - 0s 0s/step - loss: 0.9759 - accuracy: 0.6200\n",
      "Epoch 25/200\n",
      "5/5 [==============================] - 0s 0s/step - loss: 0.9642 - accuracy: 0.6400\n",
      "Epoch 26/200\n",
      "5/5 [==============================] - 0s 4ms/step - loss: 0.9384 - accuracy: 0.6133\n",
      "Epoch 27/200\n",
      "5/5 [==============================] - 0s 0s/step - loss: 0.9120 - accuracy: 0.5667\n",
      "Epoch 28/200\n",
      "5/5 [==============================] - 0s 0s/step - loss: 0.8841 - accuracy: 0.6000\n",
      "Epoch 29/200\n",
      "5/5 [==============================] - 0s 6ms/step - loss: 0.8541 - accuracy: 0.6133\n",
      "Epoch 30/200\n",
      "5/5 [==============================] - 0s 2ms/step - loss: 0.8257 - accuracy: 0.6000\n",
      "Epoch 31/200\n",
      "5/5 [==============================] - 0s 1ms/step - loss: 0.7894 - accuracy: 0.6133\n",
      "Epoch 32/200\n",
      "5/5 [==============================] - 0s 258us/step - loss: 0.7575 - accuracy: 0.6133\n",
      "Epoch 33/200\n",
      "5/5 [==============================] - 0s 4ms/step - loss: 0.7245 - accuracy: 0.6000\n",
      "Epoch 34/200\n",
      "5/5 [==============================] - 0s 0s/step - loss: 0.7005 - accuracy: 0.5867\n",
      "Epoch 35/200\n",
      "5/5 [==============================] - 0s 0s/step - loss: 0.6759 - accuracy: 0.6200\n",
      "Epoch 36/200\n",
      "5/5 [==============================] - 0s 4ms/step - loss: 0.6576 - accuracy: 0.5867\n",
      "Epoch 37/200\n",
      "5/5 [==============================] - 0s 0s/step - loss: 0.6246 - accuracy: 0.6267\n",
      "Epoch 38/200\n",
      "5/5 [==============================] - 0s 0s/step - loss: 0.6087 - accuracy: 0.6600\n",
      "Epoch 39/200\n",
      "5/5 [==============================] - 0s 4ms/step - loss: 0.5896 - accuracy: 0.6600\n",
      "Epoch 40/200\n",
      "5/5 [==============================] - 0s 3ms/step - loss: 0.5762 - accuracy: 0.6600\n",
      "Epoch 41/200\n",
      "5/5 [==============================] - 0s 4ms/step - loss: 0.5632 - accuracy: 0.6600\n",
      "Epoch 42/200\n",
      "5/5 [==============================] - 0s 0s/step - loss: 0.5558 - accuracy: 0.6600\n",
      "Epoch 43/200\n",
      "5/5 [==============================] - 0s 4ms/step - loss: 0.5467 - accuracy: 0.6600\n",
      "Epoch 44/200\n",
      "5/5 [==============================] - 0s 4ms/step - loss: 0.5425 - accuracy: 0.6600\n",
      "Epoch 45/200\n",
      "5/5 [==============================] - 0s 0s/step - loss: 0.5379 - accuracy: 0.6600\n",
      "Epoch 46/200\n",
      "5/5 [==============================] - 0s 0s/step - loss: 0.5315 - accuracy: 0.6600\n",
      "Epoch 47/200\n",
      "5/5 [==============================] - 0s 0s/step - loss: 0.5283 - accuracy: 0.6800\n",
      "Epoch 48/200\n",
      "5/5 [==============================] - 0s 4ms/step - loss: 0.5221 - accuracy: 0.6800\n",
      "Epoch 49/200\n",
      "5/5 [==============================] - 0s 0s/step - loss: 0.5169 - accuracy: 0.6867\n",
      "Epoch 50/200\n",
      "5/5 [==============================] - 0s 4ms/step - loss: 0.5128 - accuracy: 0.7067\n",
      "Epoch 51/200\n",
      "5/5 [==============================] - 0s 4ms/step - loss: 0.5078 - accuracy: 0.7000\n",
      "Epoch 52/200\n",
      "5/5 [==============================] - 0s 0s/step - loss: 0.5060 - accuracy: 0.7067\n",
      "Epoch 53/200\n",
      "5/5 [==============================] - 0s 4ms/step - loss: 0.5029 - accuracy: 0.7000\n",
      "Epoch 54/200\n",
      "5/5 [==============================] - 0s 4ms/step - loss: 0.5013 - accuracy: 0.6933\n",
      "Epoch 55/200\n",
      "5/5 [==============================] - 0s 0s/step - loss: 0.4999 - accuracy: 0.7133\n",
      "Epoch 56/200\n",
      "5/5 [==============================] - 0s 0s/step - loss: 0.4951 - accuracy: 0.7133\n",
      "Epoch 57/200\n",
      "5/5 [==============================] - 0s 4ms/step - loss: 0.4979 - accuracy: 0.7000\n",
      "Epoch 58/200\n",
      "5/5 [==============================] - 0s 0s/step - loss: 0.4921 - accuracy: 0.7200\n",
      "Epoch 59/200\n",
      "5/5 [==============================] - 0s 4ms/step - loss: 0.4918 - accuracy: 0.7200\n",
      "Epoch 60/200\n",
      "5/5 [==============================] - 0s 0s/step - loss: 0.4943 - accuracy: 0.7000\n",
      "Epoch 61/200\n",
      "5/5 [==============================] - 0s 4ms/step - loss: 0.4897 - accuracy: 0.7067\n",
      "Epoch 62/200\n",
      "5/5 [==============================] - 0s 0s/step - loss: 0.4892 - accuracy: 0.7200\n",
      "Epoch 63/200\n",
      "5/5 [==============================] - 0s 0s/step - loss: 0.4842 - accuracy: 0.7333\n",
      "Epoch 64/200\n",
      "5/5 [==============================] - 0s 4ms/step - loss: 0.4823 - accuracy: 0.7267\n",
      "Epoch 65/200\n",
      "5/5 [==============================] - 0s 0s/step - loss: 0.4809 - accuracy: 0.7333\n",
      "Epoch 66/200\n",
      "5/5 [==============================] - 0s 0s/step - loss: 0.4791 - accuracy: 0.7267\n",
      "Epoch 67/200\n",
      "5/5 [==============================] - 0s 4ms/step - loss: 0.4778 - accuracy: 0.7267\n",
      "Epoch 68/200\n",
      "5/5 [==============================] - 0s 0s/step - loss: 0.4770 - accuracy: 0.7333\n",
      "Epoch 69/200\n",
      "5/5 [==============================] - 0s 4ms/step - loss: 0.4752 - accuracy: 0.7333\n",
      "Epoch 70/200\n",
      "5/5 [==============================] - 0s 0s/step - loss: 0.4765 - accuracy: 0.7333\n",
      "Epoch 71/200\n",
      "5/5 [==============================] - 0s 4ms/step - loss: 0.4752 - accuracy: 0.7333\n",
      "Epoch 72/200\n",
      "5/5 [==============================] - 0s 0s/step - loss: 0.4724 - accuracy: 0.7267\n",
      "Epoch 73/200\n",
      "5/5 [==============================] - 0s 0s/step - loss: 0.4719 - accuracy: 0.7067\n",
      "Epoch 74/200\n",
      "5/5 [==============================] - 0s 4ms/step - loss: 0.4694 - accuracy: 0.7333\n",
      "Epoch 75/200\n",
      "5/5 [==============================] - 0s 0s/step - loss: 0.4708 - accuracy: 0.7200\n",
      "Epoch 76/200\n",
      "5/5 [==============================] - 0s 0s/step - loss: 0.4763 - accuracy: 0.7200\n",
      "Epoch 77/200\n",
      "5/5 [==============================] - 0s 4ms/step - loss: 0.4723 - accuracy: 0.7133\n",
      "Epoch 78/200\n",
      "5/5 [==============================] - 0s 0s/step - loss: 0.4684 - accuracy: 0.7200\n",
      "Epoch 79/200\n",
      "5/5 [==============================] - 0s 5ms/step - loss: 0.4657 - accuracy: 0.7267\n",
      "Epoch 80/200\n",
      "5/5 [==============================] - 0s 2ms/step - loss: 0.4650 - accuracy: 0.7267\n",
      "Epoch 81/200\n",
      "5/5 [==============================] - 0s 1ms/step - loss: 0.4651 - accuracy: 0.7267\n",
      "Epoch 82/200\n",
      "5/5 [==============================] - 0s 0s/step - loss: 0.4651 - accuracy: 0.7333\n",
      "Epoch 83/200\n",
      "5/5 [==============================] - 0s 0s/step - loss: 0.4631 - accuracy: 0.7267\n",
      "Epoch 84/200\n",
      "5/5 [==============================] - 0s 0s/step - loss: 0.4619 - accuracy: 0.7200\n",
      "Epoch 85/200\n"
     ]
    },
    {
     "name": "stdout",
     "output_type": "stream",
     "text": [
      "5/5 [==============================] - 0s 4ms/step - loss: 0.4593 - accuracy: 0.7267\n",
      "Epoch 86/200\n",
      "5/5 [==============================] - 0s 0s/step - loss: 0.4622 - accuracy: 0.7200\n",
      "Epoch 87/200\n",
      "5/5 [==============================] - 0s 0s/step - loss: 0.4568 - accuracy: 0.7400\n",
      "Epoch 88/200\n",
      "5/5 [==============================] - 0s 0s/step - loss: 0.4621 - accuracy: 0.7267\n",
      "Epoch 89/200\n",
      "5/5 [==============================] - 0s 4ms/step - loss: 0.4556 - accuracy: 0.7333\n",
      "Epoch 90/200\n",
      "5/5 [==============================] - 0s 0s/step - loss: 0.4592 - accuracy: 0.7333\n",
      "Epoch 91/200\n",
      "5/5 [==============================] - 0s 4ms/step - loss: 0.4571 - accuracy: 0.7333\n",
      "Epoch 92/200\n",
      "5/5 [==============================] - 0s 0s/step - loss: 0.4551 - accuracy: 0.7333\n",
      "Epoch 93/200\n",
      "5/5 [==============================] - 0s 0s/step - loss: 0.4538 - accuracy: 0.7400\n",
      "Epoch 94/200\n",
      "5/5 [==============================] - 0s 4ms/step - loss: 0.4537 - accuracy: 0.7667\n",
      "Epoch 95/200\n",
      "5/5 [==============================] - 0s 0s/step - loss: 0.4529 - accuracy: 0.7800\n",
      "Epoch 96/200\n",
      "5/5 [==============================] - 0s 4ms/step - loss: 0.4529 - accuracy: 0.7333\n",
      "Epoch 97/200\n",
      "5/5 [==============================] - 0s 0s/step - loss: 0.4514 - accuracy: 0.7667\n",
      "Epoch 98/200\n",
      "5/5 [==============================] - 0s 2ms/step - loss: 0.4514 - accuracy: 0.7467\n",
      "Epoch 99/200\n",
      "5/5 [==============================] - 0s 0s/step - loss: 0.4509 - accuracy: 0.7400\n",
      "Epoch 100/200\n",
      "5/5 [==============================] - 0s 4ms/step - loss: 0.4515 - accuracy: 0.7267\n",
      "Epoch 101/200\n",
      "5/5 [==============================] - 0s 0s/step - loss: 0.4492 - accuracy: 0.7267\n",
      "Epoch 102/200\n",
      "5/5 [==============================] - 0s 0s/step - loss: 0.4500 - accuracy: 0.7600\n",
      "Epoch 103/200\n",
      "5/5 [==============================] - 0s 4ms/step - loss: 0.4491 - accuracy: 0.7600\n",
      "Epoch 104/200\n",
      "5/5 [==============================] - 0s 0s/step - loss: 0.4473 - accuracy: 0.7400\n",
      "Epoch 105/200\n",
      "5/5 [==============================] - 0s 0s/step - loss: 0.4447 - accuracy: 0.7600\n",
      "Epoch 106/200\n",
      "5/5 [==============================] - 0s 4ms/step - loss: 0.4457 - accuracy: 0.7733\n",
      "Epoch 107/200\n",
      "5/5 [==============================] - 0s 0s/step - loss: 0.4450 - accuracy: 0.7733\n",
      "Epoch 108/200\n",
      "5/5 [==============================] - 0s 4ms/step - loss: 0.4457 - accuracy: 0.7600\n",
      "Epoch 109/200\n",
      "5/5 [==============================] - 0s 0s/step - loss: 0.4424 - accuracy: 0.7667\n",
      "Epoch 110/200\n",
      "5/5 [==============================] - 0s 4ms/step - loss: 0.4513 - accuracy: 0.7800\n",
      "Epoch 111/200\n",
      "5/5 [==============================] - 0s 0s/step - loss: 0.4438 - accuracy: 0.8000\n",
      "Epoch 112/200\n",
      "5/5 [==============================] - 0s 4ms/step - loss: 0.4438 - accuracy: 0.7600\n",
      "Epoch 113/200\n",
      "5/5 [==============================] - 0s 4ms/step - loss: 0.4399 - accuracy: 0.7800\n",
      "Epoch 114/200\n",
      "5/5 [==============================] - 0s 0s/step - loss: 0.4423 - accuracy: 0.7800\n",
      "Epoch 115/200\n",
      "5/5 [==============================] - 0s 0s/step - loss: 0.4421 - accuracy: 0.7733\n",
      "Epoch 116/200\n",
      "5/5 [==============================] - 0s 4ms/step - loss: 0.4394 - accuracy: 0.7667\n",
      "Epoch 117/200\n",
      "5/5 [==============================] - 0s 0s/step - loss: 0.4400 - accuracy: 0.7733\n",
      "Epoch 118/200\n",
      "5/5 [==============================] - 0s 6ms/step - loss: 0.4383 - accuracy: 0.7867\n",
      "Epoch 119/200\n",
      "5/5 [==============================] - 0s 0s/step - loss: 0.4411 - accuracy: 0.7533\n",
      "Epoch 120/200\n",
      "5/5 [==============================] - 0s 0s/step - loss: 0.4379 - accuracy: 0.7800\n",
      "Epoch 121/200\n",
      "5/5 [==============================] - 0s 4ms/step - loss: 0.4385 - accuracy: 0.7800\n",
      "Epoch 122/200\n",
      "5/5 [==============================] - 0s 0s/step - loss: 0.4365 - accuracy: 0.7733\n",
      "Epoch 123/200\n",
      "5/5 [==============================] - 0s 4ms/step - loss: 0.4359 - accuracy: 0.7800\n",
      "Epoch 124/200\n",
      "5/5 [==============================] - 0s 4ms/step - loss: 0.4355 - accuracy: 0.7733\n",
      "Epoch 125/200\n",
      "5/5 [==============================] - 0s 0s/step - loss: 0.4380 - accuracy: 0.7800\n",
      "Epoch 126/200\n",
      "5/5 [==============================] - 0s 4ms/step - loss: 0.4366 - accuracy: 0.7933\n",
      "Epoch 127/200\n",
      "5/5 [==============================] - 0s 0s/step - loss: 0.4339 - accuracy: 0.7733\n",
      "Epoch 128/200\n",
      "5/5 [==============================] - 0s 2ms/step - loss: 0.4335 - accuracy: 0.7800\n",
      "Epoch 129/200\n",
      "5/5 [==============================] - 0s 0s/step - loss: 0.4325 - accuracy: 0.7867\n",
      "Epoch 130/200\n",
      "5/5 [==============================] - 0s 0s/step - loss: 0.4347 - accuracy: 0.7800\n",
      "Epoch 131/200\n",
      "5/5 [==============================] - 0s 5ms/step - loss: 0.4323 - accuracy: 0.7733\n",
      "Epoch 132/200\n",
      "5/5 [==============================] - 0s 1ms/step - loss: 0.4312 - accuracy: 0.7867\n",
      "Epoch 133/200\n",
      "5/5 [==============================] - 0s 1ms/step - loss: 0.4310 - accuracy: 0.7800\n",
      "Epoch 134/200\n",
      "5/5 [==============================] - 0s 964us/step - loss: 0.4320 - accuracy: 0.7800\n",
      "Epoch 135/200\n",
      "5/5 [==============================] - 0s 0s/step - loss: 0.4314 - accuracy: 0.7867\n",
      "Epoch 136/200\n",
      "5/5 [==============================] - 0s 4ms/step - loss: 0.4307 - accuracy: 0.7867\n",
      "Epoch 137/200\n",
      "5/5 [==============================] - 0s 0s/step - loss: 0.4293 - accuracy: 0.7867\n",
      "Epoch 138/200\n",
      "5/5 [==============================] - 0s 0s/step - loss: 0.4282 - accuracy: 0.7867\n",
      "Epoch 139/200\n",
      "5/5 [==============================] - 0s 0s/step - loss: 0.4310 - accuracy: 0.7867\n",
      "Epoch 140/200\n",
      "5/5 [==============================] - 0s 0s/step - loss: 0.4374 - accuracy: 0.7600\n",
      "Epoch 141/200\n",
      "5/5 [==============================] - 0s 0s/step - loss: 0.4336 - accuracy: 0.7800\n",
      "Epoch 142/200\n",
      "5/5 [==============================] - 0s 4ms/step - loss: 0.4310 - accuracy: 0.8000\n",
      "Epoch 143/200\n",
      "5/5 [==============================] - 0s 0s/step - loss: 0.4297 - accuracy: 0.7800\n",
      "Epoch 144/200\n",
      "5/5 [==============================] - 0s 4ms/step - loss: 0.4267 - accuracy: 0.7733\n",
      "Epoch 145/200\n",
      "5/5 [==============================] - 0s 0s/step - loss: 0.4327 - accuracy: 0.8000\n",
      "Epoch 146/200\n",
      "5/5 [==============================] - 0s 0s/step - loss: 0.4314 - accuracy: 0.7667\n",
      "Epoch 147/200\n",
      "5/5 [==============================] - 0s 4ms/step - loss: 0.4254 - accuracy: 0.8000\n",
      "Epoch 148/200\n",
      "5/5 [==============================] - 0s 0s/step - loss: 0.4305 - accuracy: 0.7933\n",
      "Epoch 149/200\n",
      "5/5 [==============================] - 0s 4ms/step - loss: 0.4290 - accuracy: 0.7867\n",
      "Epoch 150/200\n",
      "5/5 [==============================] - 0s 0s/step - loss: 0.4237 - accuracy: 0.7800\n",
      "Epoch 151/200\n",
      "5/5 [==============================] - 0s 4ms/step - loss: 0.4257 - accuracy: 0.7867\n",
      "Epoch 152/200\n",
      "5/5 [==============================] - 0s 0s/step - loss: 0.4227 - accuracy: 0.7867\n",
      "Epoch 153/200\n",
      "5/5 [==============================] - 0s 4ms/step - loss: 0.4262 - accuracy: 0.7933\n",
      "Epoch 154/200\n",
      "5/5 [==============================] - 0s 0s/step - loss: 0.4238 - accuracy: 0.7933\n",
      "Epoch 155/200\n",
      "5/5 [==============================] - 0s 0s/step - loss: 0.4221 - accuracy: 0.7867\n",
      "Epoch 156/200\n",
      "5/5 [==============================] - 0s 0s/step - loss: 0.4231 - accuracy: 0.8067\n",
      "Epoch 157/200\n",
      "5/5 [==============================] - 0s 0s/step - loss: 0.4200 - accuracy: 0.7867\n",
      "Epoch 158/200\n",
      "5/5 [==============================] - 0s 4ms/step - loss: 0.4267 - accuracy: 0.7800\n",
      "Epoch 159/200\n",
      "5/5 [==============================] - 0s 0s/step - loss: 0.4200 - accuracy: 0.7867\n",
      "Epoch 160/200\n",
      "5/5 [==============================] - 0s 4ms/step - loss: 0.4193 - accuracy: 0.8000\n",
      "Epoch 161/200\n",
      "5/5 [==============================] - 0s 0s/step - loss: 0.4189 - accuracy: 0.8133\n",
      "Epoch 162/200\n",
      "5/5 [==============================] - 0s 4ms/step - loss: 0.4195 - accuracy: 0.7867\n",
      "Epoch 163/200\n",
      "5/5 [==============================] - 0s 0s/step - loss: 0.4199 - accuracy: 0.7933\n",
      "Epoch 164/200\n",
      "5/5 [==============================] - 0s 4ms/step - loss: 0.4195 - accuracy: 0.7933\n",
      "Epoch 165/200\n",
      "5/5 [==============================] - 0s 0s/step - loss: 0.4221 - accuracy: 0.7933\n",
      "Epoch 166/200\n",
      "5/5 [==============================] - 0s 0s/step - loss: 0.4189 - accuracy: 0.7933\n",
      "Epoch 167/200\n",
      "5/5 [==============================] - 0s 4ms/step - loss: 0.4193 - accuracy: 0.8067\n",
      "Epoch 168/200\n"
     ]
    },
    {
     "name": "stdout",
     "output_type": "stream",
     "text": [
      "5/5 [==============================] - 0s 0s/step - loss: 0.4177 - accuracy: 0.7867\n",
      "Epoch 169/200\n",
      "5/5 [==============================] - 0s 4ms/step - loss: 0.4184 - accuracy: 0.7933\n",
      "Epoch 170/200\n",
      "5/5 [==============================] - 0s 4ms/step - loss: 0.4164 - accuracy: 0.8000\n",
      "Epoch 171/200\n",
      "5/5 [==============================] - 0s 0s/step - loss: 0.4170 - accuracy: 0.8000\n",
      "Epoch 172/200\n",
      "5/5 [==============================] - 0s 4ms/step - loss: 0.4165 - accuracy: 0.7933\n",
      "Epoch 173/200\n",
      "5/5 [==============================] - 0s 0s/step - loss: 0.4181 - accuracy: 0.7867\n",
      "Epoch 174/200\n",
      "5/5 [==============================] - 0s 0s/step - loss: 0.4164 - accuracy: 0.8067\n",
      "Epoch 175/200\n",
      "5/5 [==============================] - 0s 4ms/step - loss: 0.4199 - accuracy: 0.7933\n",
      "Epoch 176/200\n",
      "5/5 [==============================] - 0s 0s/step - loss: 0.4170 - accuracy: 0.8000\n",
      "Epoch 177/200\n",
      "5/5 [==============================] - 0s 0s/step - loss: 0.4153 - accuracy: 0.8067\n",
      "Epoch 178/200\n",
      "5/5 [==============================] - 0s 4ms/step - loss: 0.4152 - accuracy: 0.7867\n",
      "Epoch 179/200\n",
      "5/5 [==============================] - 0s 0s/step - loss: 0.4154 - accuracy: 0.7867\n",
      "Epoch 180/200\n",
      "5/5 [==============================] - 0s 2ms/step - loss: 0.4151 - accuracy: 0.8000\n",
      "Epoch 181/200\n",
      "5/5 [==============================] - 0s 0s/step - loss: 0.4194 - accuracy: 0.7800\n",
      "Epoch 182/200\n",
      "5/5 [==============================] - 0s 0s/step - loss: 0.4181 - accuracy: 0.7933\n",
      "Epoch 183/200\n",
      "5/5 [==============================] - 0s 4ms/step - loss: 0.4147 - accuracy: 0.8133\n",
      "Epoch 184/200\n",
      "5/5 [==============================] - 0s 4ms/step - loss: 0.4120 - accuracy: 0.8133\n",
      "Epoch 185/200\n",
      "5/5 [==============================] - 0s 0s/step - loss: 0.4207 - accuracy: 0.8133\n",
      "Epoch 186/200\n",
      "5/5 [==============================] - 0s 5ms/step - loss: 0.4130 - accuracy: 0.7867\n",
      "Epoch 187/200\n",
      "5/5 [==============================] - 0s 2ms/step - loss: 0.4185 - accuracy: 0.7800\n",
      "Epoch 188/200\n",
      "5/5 [==============================] - 0s 1ms/step - loss: 0.4141 - accuracy: 0.7867\n",
      "Epoch 189/200\n",
      "5/5 [==============================] - 0s 2ms/step - loss: 0.4186 - accuracy: 0.7933\n",
      "Epoch 190/200\n",
      "5/5 [==============================] - 0s 0s/step - loss: 0.4246 - accuracy: 0.7867\n",
      "Epoch 191/200\n",
      "5/5 [==============================] - 0s 0s/step - loss: 0.4112 - accuracy: 0.8133\n",
      "Epoch 192/200\n",
      "5/5 [==============================] - 0s 4ms/step - loss: 0.4135 - accuracy: 0.7933\n",
      "Epoch 193/200\n",
      "5/5 [==============================] - 0s 4ms/step - loss: 0.4107 - accuracy: 0.7933\n",
      "Epoch 194/200\n",
      "5/5 [==============================] - 0s 0s/step - loss: 0.4109 - accuracy: 0.8067\n",
      "Epoch 195/200\n",
      "5/5 [==============================] - 0s 0s/step - loss: 0.4091 - accuracy: 0.8067\n",
      "Epoch 196/200\n",
      "5/5 [==============================] - 0s 4ms/step - loss: 0.4084 - accuracy: 0.8200\n",
      "Epoch 197/200\n",
      "5/5 [==============================] - 0s 0s/step - loss: 0.4086 - accuracy: 0.8133\n",
      "Epoch 198/200\n",
      "5/5 [==============================] - 0s 2ms/step - loss: 0.4085 - accuracy: 0.8200\n",
      "Epoch 199/200\n",
      "5/5 [==============================] - 0s 0s/step - loss: 0.4088 - accuracy: 0.8133\n",
      "Epoch 200/200\n",
      "5/5 [==============================] - 0s 4ms/step - loss: 0.4075 - accuracy: 0.8067\n"
     ]
    }
   ],
   "source": [
    "epochs = 200\n",
    "history = model.fit(X,y, \n",
    "          epochs=epochs,)"
   ]
  },
  {
   "cell_type": "code",
   "execution_count": 556,
   "id": "7fae4789",
   "metadata": {},
   "outputs": [
    {
     "name": "stdout",
     "output_type": "stream",
     "text": [
      "5/5 [==============================] - 0s 0s/step - loss: 0.3974 - accuracy: 0.8133\n"
     ]
    },
    {
     "data": {
      "text/plain": [
       "[0.39737874269485474, 0.8133333325386047]"
      ]
     },
     "execution_count": 556,
     "metadata": {},
     "output_type": "execute_result"
    }
   ],
   "source": [
    "model.evaluate(X, y)"
   ]
  },
  {
   "cell_type": "code",
   "execution_count": 588,
   "id": "4b3a5089",
   "metadata": {},
   "outputs": [
    {
     "name": "stdout",
     "output_type": "stream",
     "text": [
      "1/1 [==============================] - 0s 116ms/step - loss: 0.4911 - accuracy: 0.7667\n"
     ]
    },
    {
     "data": {
      "text/plain": [
       "[0.4911248981952667, 0.7666666507720947]"
      ]
     },
     "execution_count": 588,
     "metadata": {},
     "output_type": "execute_result"
    }
   ],
   "source": [
    "model.evaluate(X_test, y_test)"
   ]
  },
  {
   "cell_type": "markdown",
   "id": "15ab1a05",
   "metadata": {},
   "source": [
    "| Architenture| Model Accuracy | Test Accuracy | \n",
    "| ----------- | ---------------|-------------- |\n",
    "| SVM(Liniar)      | 84%       |-- |\n",
    "| 3 Layer NN      | 75%       |73% |\n",
    "| 3 Layer NN(Full Dataset)   | 78%        |77% |\n",
    "| 4 Layer NN(Full Dataset)   | 80%        |63% |\n",
    "| 4 Layer NN(Full 200 Epochs)   | 81%        |76% |"
   ]
  },
  {
   "cell_type": "markdown",
   "id": "4358adec",
   "metadata": {},
   "source": [
    "#### We can see that the model accuracy has increased from 79% to 81% when we used large epoch number. "
   ]
  },
  {
   "cell_type": "code",
   "execution_count": 590,
   "id": "0d057f87",
   "metadata": {},
   "outputs": [
    {
     "data": {
      "image/png": "[encoded data removed]",
      "text/plain": [
       "<Figure size 576x576 with 1 Axes>"
      ]
     },
     "metadata": {
      "needs_background": "light"
     },
     "output_type": "display_data"
    }
   ],
   "source": [
    "plot_accuracy(history)"
   ]
  },
  {
   "cell_type": "markdown",
   "id": "d60e3977",
   "metadata": {},
   "source": [
    "## Confusion Matrix"
   ]
  },
  {
   "cell_type": "markdown",
   "id": "1bd85fc9",
   "metadata": {},
   "source": [
    "### Make a prediction array with testing dataset to build a confusion matric to see where the model is confused the most. "
   ]
  },
  {
   "cell_type": "code",
   "execution_count": 616,
   "id": "c5f5c607",
   "metadata": {},
   "outputs": [
    {
     "name": "stdout",
     "output_type": "stream",
     "text": [
      "1/1 [==============================] - 0s 62ms/step\n"
     ]
    }
   ],
   "source": [
    "y_pred = model.predict(X_test)\n",
    "y_pred = (y_pred > 0.5) "
   ]
  },
  {
   "cell_type": "code",
   "execution_count": 168,
   "id": "38540bfa",
   "metadata": {},
   "outputs": [],
   "source": [
    "def plot_confusion_matrix(cm, class_names):\n",
    "  \"\"\"\n",
    "  Returns a matplotlib figure containing the plotted confusion matrix.\n",
    "\n",
    "  Args:\n",
    "    cm (array, shape = [n, n]): a confusion matrix of integer classes\n",
    "    class_names (array, shape = [n]): String names of the integer classes\n",
    "  \"\"\"\n",
    "  figure = plt.figure(figsize=(10, 10))\n",
    "  plt.imshow(cm, interpolation='nearest', cmap=plt.cm.Blues)\n",
    "  plt.title(\"Confusion matrix\")\n",
    "  plt.colorbar()\n",
    "  tick_marks = np.arange(len(class_names))\n",
    "  plt.xticks(tick_marks, class_names, rotation=45)\n",
    "  plt.yticks(tick_marks, class_names)\n",
    "\n",
    "  # Compute the labels from the normalized confusion matrix.\n",
    "  labels = np.around(cm.astype('float') / cm.sum(axis=1)[:, np.newaxis], decimals=2)\n",
    "    \n",
    "  # Use white text if squares are dark; otherwise black.\n",
    "  threshold = cm.max() / 2.\n",
    "  for i in range (cm.shape[0]):\n",
    "    for j in range (cm.shape[1]):\n",
    "        color = \"white\" if cm[i, j] > threshold else \"black\"\n",
    "        plt.text(j, i, labels[i, j], horizontalalignment=\"center\", color=color)\n",
    "\n",
    "  plt.tight_layout()\n",
    "  plt.ylabel('True label')\n",
    "  plt.xlabel('Predicted label')\n",
    "  return figure\n",
    "    \n",
    "  #Note the above code has been adopted and modied from Tensorflow: https://www.tensorflow.org/tensorboard/image_summaries"
   ]
  },
  {
   "cell_type": "code",
   "execution_count": 617,
   "id": "3bf1fa48",
   "metadata": {},
   "outputs": [
    {
     "name": "stdout",
     "output_type": "stream",
     "text": [
      "1/1 [==============================] - 0s 28ms/step\n"
     ]
    },
    {
     "data": {
      "image/png": "[encoded data removed]",
      "text/plain": [
       "<Figure size 720x720 with 2 Axes>"
      ]
     },
     "metadata": {
      "needs_background": "light"
     },
     "output_type": "display_data"
    }
   ],
   "source": [
    "# Use the model to predict the values from the validation dataset.\n",
    "from sklearn import metrics\n",
    "\n",
    "test_pred_raw = model.predict(X_test)\n",
    "test_pred = np.argmax(test_pred_raw, axis=1)\n",
    "\n",
    "# Calculate the confusion matrix.\n",
    "cm = metrics.confusion_matrix(y_test.values.argmax(axis=1), y_pred.argmax(axis=1))\n",
    "\n",
    "# Log the confusion matrix as an image summary.\n",
    "figure = plot_confusion_matrix(cm, class_names=[\"Iris-setosa\", \"Iris-versicolor\", \"Iris-virginica\"])"
   ]
  },
  {
   "cell_type": "markdown",
   "id": "9b2b4483",
   "metadata": {},
   "source": [
    "As expected from the initial graph that plotted the Sepal length and width, our hypothesis holds true that the model <b>confuses Iris Versicolor and Iris Virginica</b> the most. The model <b>accurately</b> classified Iris Setosa with 100% accuracy. "
   ]
  },
  {
   "cell_type": "markdown",
   "id": "234ff3f5",
   "metadata": {},
   "source": [
    "ToDo: Adding Dropout Layer to prevent Overfitting"
   ]
  },
  {
   "cell_type": "markdown",
   "id": "2e73298c",
   "metadata": {},
   "source": [
    "<h2><mark style=\"background-color: #FFFF00\">Conclusion</mark></h2>"
   ]
  },
  {
   "cell_type": "markdown",
   "id": "ae64e8bb",
   "metadata": {},
   "source": [
    "Based on various architecture, here is the overall summary of all the models: "
   ]
  },
  {
   "cell_type": "markdown",
   "id": "9bce2b1d",
   "metadata": {},
   "source": [
    "| Architenture| Model Accuracy | Test Accuracy | \n",
    "| ----------- | ---------------|-------------- |\n",
    "| SVM(Liniar)      | 84%       |-- |\n",
    "| 3 Layer NN      | 75%       |73% |\n",
    "| 3 Layer NN(Full Dataset)   | 78%        |77% |\n",
    "| 4 Layer NN(Full Dataset)   | 80%        |63% |\n",
    "| 4 Layer NN(Full 200 Epochs)   | 81%        |76% |"
   ]
  },
  {
   "cell_type": "markdown",
   "id": "1d15c279",
   "metadata": {},
   "source": [
    "Support Vector Machine, tries to find the best or the 'optimal margin that maximizes the distance between the margin line and the support vectors. However, with neural networks, it turns the problem into a series of regression problems. It tries to predict the optimal weights, and biases in each layer so that it can minimize the loss value at the end of the last layer. Through back propagation, it turns the knobs and dials ever so slightly so that it can decrease the loss function. That's why we can see that with larger epochs, the model performs the best. However, running the model for too long many epochs may pose another risk of so called 'memorizing' the data set, or overfitting it. [..Note: It is also worthy to note that, when I used all 4 features with Neural Network, the accuracy of the model was much higher. It was closer to 97%..]\n",
    "\n",
    "With the help of various Neural architecture we have seen that, for the Iris dataset using the same data and features, Support Vector Machine with linear kernel <b>outperformed</b> the neural network. With the linear SVM I was able to get a  One of the reasons for the low performance by NN is probably because of the small size of the dataset. Neural Network requires a massive amount of data, much more than traditional machine learning algorithms for it to be effective. Larger dataset helps NN to From this exercise we saw that for smaller dataset, traditional ML algorithms like SVM can be solved quite effectively. NN also has the tendency of easily overfitting the data, as seen by the model if the dataset is much smaller in size.\n"
   ]
  },
  {
   "cell_type": "code",
   "execution_count": null,
   "id": "19679edf",
   "metadata": {},
   "outputs": [],
   "source": []
  }
 ],
 "metadata": {
  "kernelspec": {
   "display_name": "Python 3 (ipykernel)",
   "language": "python",
   "name": "python3"
  },
  "language_info": {
   "codemirror_mode": {
    "name": "ipython",
    "version": 3
   },
   "file_extension": ".py",
   "mimetype": "text/x-python",
   "name": "python",
   "nbconvert_exporter": "python",
   "pygments_lexer": "ipython3",
   "version": "3.10.4"
  },
  "vscode": {
   "interpreter": {
    "hash": "2baaea0077e5265e426630973480ae39020f208133c2b899d28f4fc53e2dc4a6"
   }
  }
 },
 "nbformat": 4,
 "nbformat_minor": 5
}
