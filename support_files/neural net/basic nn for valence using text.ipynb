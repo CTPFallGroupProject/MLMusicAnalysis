{
 "cells": [
  {
   "cell_type": "code",
   "execution_count": 27,
   "id": "6b94dede",
   "metadata": {},
   "outputs": [
    {
     "data": {
      "text/plain": [
       "(158353, 5)"
      ]
     },
     "execution_count": 27,
     "metadata": {},
     "output_type": "execute_result"
    }
   ],
   "source": [
    "from keras.preprocessing.text import Tokenizer\n",
    "from keras.layers import Dense, Flatten\n",
    "from tensorflow.keras.layers import Embedding\n",
    "from keras.models import Sequential\n",
    "from keras.layers import Dense, Conv1D, MaxPooling1D, GlobalMaxPooling1D\n",
    "from keras.utils import pad_sequences\n",
    "\n",
    "from keras.utils.np_utils import to_categorical\n",
    "import pandas as pd\n",
    "import numpy as np\n",
    "import re\n",
    "\n",
    "import nltk\n",
    "from nltk.corpus import stopwords\n",
    "from nltk import word_tokenize\n",
    "\n",
    "from sklearn.model_selection import train_test_split\n",
    "\n",
    "from gensim.models import Word2Vec\n",
    "stopwords = stopwords.words('english')\n",
    "\n",
    "\n",
    "\n",
    "\n",
    "from sklearn.metrics import accuracy_score, precision_score, recall_score, confusion_matrix\n",
    "from sklearn import metrics\n",
    "\n",
    "df = pd.read_csv('data/labeled_lyrics_cleaned.csv')\n",
    "df.shape"
   ]
  },
  {
   "cell_type": "code",
   "execution_count": 28,
   "id": "d8e85f47",
   "metadata": {},
   "outputs": [
    {
     "data": {
      "text/html": [
       "<div>\n",
       "<style scoped>\n",
       "    .dataframe tbody tr th:only-of-type {\n",
       "        vertical-align: middle;\n",
       "    }\n",
       "\n",
       "    .dataframe tbody tr th {\n",
       "        vertical-align: top;\n",
       "    }\n",
       "\n",
       "    .dataframe thead th {\n",
       "        text-align: right;\n",
       "    }\n",
       "</style>\n",
       "<table border=\"1\" class=\"dataframe\">\n",
       "  <thead>\n",
       "    <tr style=\"text-align: right;\">\n",
       "      <th></th>\n",
       "      <th>Unnamed: 0</th>\n",
       "      <th>artist</th>\n",
       "      <th>seq</th>\n",
       "      <th>song</th>\n",
       "      <th>label</th>\n",
       "    </tr>\n",
       "  </thead>\n",
       "  <tbody>\n",
       "    <tr>\n",
       "      <th>0</th>\n",
       "      <td>0</td>\n",
       "      <td>Elijah Blake</td>\n",
       "      <td>No, no\\r\\nI ain't ever trapped out the bando\\r...</td>\n",
       "      <td>Everyday</td>\n",
       "      <td>0.626</td>\n",
       "    </tr>\n",
       "    <tr>\n",
       "      <th>1</th>\n",
       "      <td>1</td>\n",
       "      <td>Elijah Blake</td>\n",
       "      <td>The drinks go down and smoke goes up, I feel m...</td>\n",
       "      <td>Live Till We Die</td>\n",
       "      <td>0.630</td>\n",
       "    </tr>\n",
       "    <tr>\n",
       "      <th>2</th>\n",
       "      <td>2</td>\n",
       "      <td>Elijah Blake</td>\n",
       "      <td>She don't live on planet Earth no more\\r\\nShe ...</td>\n",
       "      <td>The Otherside</td>\n",
       "      <td>0.240</td>\n",
       "    </tr>\n",
       "    <tr>\n",
       "      <th>3</th>\n",
       "      <td>3</td>\n",
       "      <td>Elijah Blake</td>\n",
       "      <td>Trippin' off that Grigio, mobbin', lights low\\...</td>\n",
       "      <td>Pinot</td>\n",
       "      <td>0.536</td>\n",
       "    </tr>\n",
       "    <tr>\n",
       "      <th>4</th>\n",
       "      <td>4</td>\n",
       "      <td>Elijah Blake</td>\n",
       "      <td>I see a midnight panther, so gallant and so br...</td>\n",
       "      <td>Shadows &amp; Diamonds</td>\n",
       "      <td>0.371</td>\n",
       "    </tr>\n",
       "  </tbody>\n",
       "</table>\n",
       "</div>"
      ],
      "text/plain": [
       "   Unnamed: 0        artist  \\\n",
       "0           0  Elijah Blake   \n",
       "1           1  Elijah Blake   \n",
       "2           2  Elijah Blake   \n",
       "3           3  Elijah Blake   \n",
       "4           4  Elijah Blake   \n",
       "\n",
       "                                                 seq                song  \\\n",
       "0  No, no\\r\\nI ain't ever trapped out the bando\\r...            Everyday   \n",
       "1  The drinks go down and smoke goes up, I feel m...    Live Till We Die   \n",
       "2  She don't live on planet Earth no more\\r\\nShe ...       The Otherside   \n",
       "3  Trippin' off that Grigio, mobbin', lights low\\...               Pinot   \n",
       "4  I see a midnight panther, so gallant and so br...  Shadows & Diamonds   \n",
       "\n",
       "   label  \n",
       "0  0.626  \n",
       "1  0.630  \n",
       "2  0.240  \n",
       "3  0.536  \n",
       "4  0.371  "
      ]
     },
     "execution_count": 28,
     "metadata": {},
     "output_type": "execute_result"
    }
   ],
   "source": [
    "df.head()"
   ]
  },
  {
   "cell_type": "code",
   "execution_count": 29,
   "id": "a58bb472",
   "metadata": {},
   "outputs": [
    {
     "data": {
      "text/plain": [
       "(30000, 5)"
      ]
     },
     "execution_count": 29,
     "metadata": {},
     "output_type": "execute_result"
    }
   ],
   "source": [
    "df = df.head(30000)\n",
    "df = df.sample(frac=1)\n",
    "df =df.reset_index(drop =True)\n",
    "df.shape"
   ]
  },
  {
   "cell_type": "code",
   "execution_count": 41,
   "id": "71a58f70",
   "metadata": {},
   "outputs": [],
   "source": [
    "\n",
    "\n",
    "def getSentiment(num):\n",
    "    if num > .66:\n",
    "        return 2\n",
    "    elif num > .33:\n",
    "        return 1\n",
    "    else :\n",
    "        return 0\n",
    "\n",
    "\n",
    "\n",
    "\n"
   ]
  },
  {
   "cell_type": "code",
   "execution_count": 42,
   "id": "c3582589",
   "metadata": {},
   "outputs": [
    {
     "data": {
      "text/html": [
       "<div>\n",
       "<style scoped>\n",
       "    .dataframe tbody tr th:only-of-type {\n",
       "        vertical-align: middle;\n",
       "    }\n",
       "\n",
       "    .dataframe tbody tr th {\n",
       "        vertical-align: top;\n",
       "    }\n",
       "\n",
       "    .dataframe thead th {\n",
       "        text-align: right;\n",
       "    }\n",
       "</style>\n",
       "<table border=\"1\" class=\"dataframe\">\n",
       "  <thead>\n",
       "    <tr style=\"text-align: right;\">\n",
       "      <th></th>\n",
       "      <th>Unnamed: 0</th>\n",
       "      <th>artist</th>\n",
       "      <th>seq</th>\n",
       "      <th>song</th>\n",
       "      <th>label</th>\n",
       "      <th>sentiment</th>\n",
       "      <th>clean_lyrics</th>\n",
       "    </tr>\n",
       "  </thead>\n",
       "  <tbody>\n",
       "    <tr>\n",
       "      <th>18662</th>\n",
       "      <td>812</td>\n",
       "      <td>Juelz Santana</td>\n",
       "      <td>[Sizzla (Juelz Santana)]\\r\\nOww!! Ha ha!! \\r\\n...</td>\n",
       "      <td>Shottas</td>\n",
       "      <td>0.577</td>\n",
       "      <td>1</td>\n",
       "      <td>sizzla juelz santana oww ha ha click clack dea...</td>\n",
       "    </tr>\n",
       "    <tr>\n",
       "      <th>24615</th>\n",
       "      <td>4469</td>\n",
       "      <td>The Business</td>\n",
       "      <td>Half past 5 I'm in the pub\\r\\nSix O'clock it's...</td>\n",
       "      <td>Drinking and Driving</td>\n",
       "      <td>0.970</td>\n",
       "      <td>2</td>\n",
       "      <td>half past 5 im pub six oclock home grub eight ...</td>\n",
       "    </tr>\n",
       "    <tr>\n",
       "      <th>17929</th>\n",
       "      <td>18153</td>\n",
       "      <td>Ronnie Cuber</td>\n",
       "      <td>If you hear\\r\\nA song in blue\\r\\nLike a flower...</td>\n",
       "      <td>Prelude to a Kiss</td>\n",
       "      <td>0.179</td>\n",
       "      <td>0</td>\n",
       "      <td>hear song blue like flower crying dew heart se...</td>\n",
       "    </tr>\n",
       "    <tr>\n",
       "      <th>5673</th>\n",
       "      <td>4686</td>\n",
       "      <td>DJ Bobo</td>\n",
       "      <td>[Chorus 1]\\r\\nWe are what we are - Together\\r\\...</td>\n",
       "      <td>Together</td>\n",
       "      <td>0.768</td>\n",
       "      <td>2</td>\n",
       "      <td>chorus 1 together went far together together l...</td>\n",
       "    </tr>\n",
       "    <tr>\n",
       "      <th>27467</th>\n",
       "      <td>27292</td>\n",
       "      <td>Johnny Cash</td>\n",
       "      <td>Will you walk another mile turn a frown with a...</td>\n",
       "      <td>What on Earth Will You Do (For Heaven's Sake)</td>\n",
       "      <td>0.380</td>\n",
       "      <td>1</td>\n",
       "      <td>walk another mile turn frown smile live lowly ...</td>\n",
       "    </tr>\n",
       "  </tbody>\n",
       "</table>\n",
       "</div>"
      ],
      "text/plain": [
       "       Unnamed: 0         artist  \\\n",
       "18662         812  Juelz Santana   \n",
       "24615        4469   The Business   \n",
       "17929       18153   Ronnie Cuber   \n",
       "5673         4686        DJ Bobo   \n",
       "27467       27292    Johnny Cash   \n",
       "\n",
       "                                                     seq  \\\n",
       "18662  [Sizzla (Juelz Santana)]\\r\\nOww!! Ha ha!! \\r\\n...   \n",
       "24615  Half past 5 I'm in the pub\\r\\nSix O'clock it's...   \n",
       "17929  If you hear\\r\\nA song in blue\\r\\nLike a flower...   \n",
       "5673   [Chorus 1]\\r\\nWe are what we are - Together\\r\\...   \n",
       "27467  Will you walk another mile turn a frown with a...   \n",
       "\n",
       "                                                song  label  sentiment  \\\n",
       "18662                                        Shottas  0.577          1   \n",
       "24615                           Drinking and Driving  0.970          2   \n",
       "17929                              Prelude to a Kiss  0.179          0   \n",
       "5673                                        Together  0.768          2   \n",
       "27467  What on Earth Will You Do (For Heaven's Sake)  0.380          1   \n",
       "\n",
       "                                            clean_lyrics  \n",
       "18662  sizzla juelz santana oww ha ha click clack dea...  \n",
       "24615  half past 5 im pub six oclock home grub eight ...  \n",
       "17929  hear song blue like flower crying dew heart se...  \n",
       "5673   chorus 1 together went far together together l...  \n",
       "27467  walk another mile turn frown smile live lowly ...  "
      ]
     },
     "execution_count": 42,
     "metadata": {},
     "output_type": "execute_result"
    }
   ],
   "source": [
    "df['sentiment'] = df.label.apply(lambda x: getSentiment(x))\n",
    "\n",
    "\n",
    "df.head()\n",
    "\n"
   ]
  },
  {
   "cell_type": "code",
   "execution_count": 43,
   "id": "48e778b4",
   "metadata": {},
   "outputs": [
    {
     "data": {
      "text/plain": [
       "Unnamed: 0        int64\n",
       "artist           object\n",
       "seq              object\n",
       "song             object\n",
       "label           float64\n",
       "sentiment        object\n",
       "clean_lyrics     object\n",
       "dtype: object"
      ]
     },
     "execution_count": 43,
     "metadata": {},
     "output_type": "execute_result"
    }
   ],
   "source": [
    "df['sentiment'] = df['sentiment'].astype(object)\n",
    "df.sentiment.value_counts()\n",
    "df.dtypes"
   ]
  },
  {
   "cell_type": "code",
   "execution_count": 45,
   "id": "b8129cca",
   "metadata": {},
   "outputs": [],
   "source": [
    "def make_lower(lyric):\n",
    "    return lyric.lower()\n",
    "def remove_punctuation(lyric):\n",
    "    p = re.compile(\"[^\\w\\s]\")\n",
    "    lyric = re.sub(p,'',lyric)\n",
    "    return lyric\n",
    "\n",
    "\n",
    "def remove_stopwords(lyric):\n",
    "    # Break the sentence down into a list of words\n",
    "    words = word_tokenize(lyric)\n",
    "    \n",
    "    # Make a list to append valid words into\n",
    "    valid_words = []\n",
    "    \n",
    "    # Loop through all the words\n",
    "    for word in words:\n",
    "        \n",
    "        # Check if word is not in stopwords\n",
    "        if word not in stopwords:\n",
    "            \n",
    "            # If word not in stopwords, append to our valid_words\n",
    "            valid_words.append(word)\n",
    "\n",
    "    # Join the list of words together into a string\n",
    "    lyric = ' '.join(valid_words)\n",
    "\n",
    "    return lyric\n",
    "\n",
    "\n",
    "\n",
    "def text_pipeline(input_string):\n",
    "    input_string = make_lower(input_string)\n",
    "    input_string = remove_punctuation(input_string)\n",
    "    input_string = remove_stopwords(input_string)    \n",
    "    return input_string\n",
    "\n"
   ]
  },
  {
   "cell_type": "code",
   "execution_count": 46,
   "id": "74cbfe9a",
   "metadata": {},
   "outputs": [
    {
     "data": {
      "text/html": [
       "<div>\n",
       "<style scoped>\n",
       "    .dataframe tbody tr th:only-of-type {\n",
       "        vertical-align: middle;\n",
       "    }\n",
       "\n",
       "    .dataframe tbody tr th {\n",
       "        vertical-align: top;\n",
       "    }\n",
       "\n",
       "    .dataframe thead th {\n",
       "        text-align: right;\n",
       "    }\n",
       "</style>\n",
       "<table border=\"1\" class=\"dataframe\">\n",
       "  <thead>\n",
       "    <tr style=\"text-align: right;\">\n",
       "      <th></th>\n",
       "      <th>Unnamed: 0</th>\n",
       "      <th>artist</th>\n",
       "      <th>seq</th>\n",
       "      <th>song</th>\n",
       "      <th>label</th>\n",
       "      <th>sentiment</th>\n",
       "      <th>clean_lyrics</th>\n",
       "    </tr>\n",
       "  </thead>\n",
       "  <tbody>\n",
       "    <tr>\n",
       "      <th>18662</th>\n",
       "      <td>812</td>\n",
       "      <td>Juelz Santana</td>\n",
       "      <td>[Sizzla (Juelz Santana)]\\r\\nOww!! Ha ha!! \\r\\n...</td>\n",
       "      <td>Shottas</td>\n",
       "      <td>0.577</td>\n",
       "      <td>1</td>\n",
       "      <td>sizzla juelz santana oww ha ha click clack dea...</td>\n",
       "    </tr>\n",
       "    <tr>\n",
       "      <th>24615</th>\n",
       "      <td>4469</td>\n",
       "      <td>The Business</td>\n",
       "      <td>Half past 5 I'm in the pub\\r\\nSix O'clock it's...</td>\n",
       "      <td>Drinking and Driving</td>\n",
       "      <td>0.970</td>\n",
       "      <td>2</td>\n",
       "      <td>half past 5 im pub six oclock home grub eight ...</td>\n",
       "    </tr>\n",
       "    <tr>\n",
       "      <th>17929</th>\n",
       "      <td>18153</td>\n",
       "      <td>Ronnie Cuber</td>\n",
       "      <td>If you hear\\r\\nA song in blue\\r\\nLike a flower...</td>\n",
       "      <td>Prelude to a Kiss</td>\n",
       "      <td>0.179</td>\n",
       "      <td>0</td>\n",
       "      <td>hear song blue like flower crying dew heart se...</td>\n",
       "    </tr>\n",
       "    <tr>\n",
       "      <th>5673</th>\n",
       "      <td>4686</td>\n",
       "      <td>DJ Bobo</td>\n",
       "      <td>[Chorus 1]\\r\\nWe are what we are - Together\\r\\...</td>\n",
       "      <td>Together</td>\n",
       "      <td>0.768</td>\n",
       "      <td>2</td>\n",
       "      <td>chorus 1 together went far together together l...</td>\n",
       "    </tr>\n",
       "    <tr>\n",
       "      <th>27467</th>\n",
       "      <td>27292</td>\n",
       "      <td>Johnny Cash</td>\n",
       "      <td>Will you walk another mile turn a frown with a...</td>\n",
       "      <td>What on Earth Will You Do (For Heaven's Sake)</td>\n",
       "      <td>0.380</td>\n",
       "      <td>1</td>\n",
       "      <td>walk another mile turn frown smile live lowly ...</td>\n",
       "    </tr>\n",
       "  </tbody>\n",
       "</table>\n",
       "</div>"
      ],
      "text/plain": [
       "       Unnamed: 0         artist  \\\n",
       "18662         812  Juelz Santana   \n",
       "24615        4469   The Business   \n",
       "17929       18153   Ronnie Cuber   \n",
       "5673         4686        DJ Bobo   \n",
       "27467       27292    Johnny Cash   \n",
       "\n",
       "                                                     seq  \\\n",
       "18662  [Sizzla (Juelz Santana)]\\r\\nOww!! Ha ha!! \\r\\n...   \n",
       "24615  Half past 5 I'm in the pub\\r\\nSix O'clock it's...   \n",
       "17929  If you hear\\r\\nA song in blue\\r\\nLike a flower...   \n",
       "5673   [Chorus 1]\\r\\nWe are what we are - Together\\r\\...   \n",
       "27467  Will you walk another mile turn a frown with a...   \n",
       "\n",
       "                                                song  label sentiment  \\\n",
       "18662                                        Shottas  0.577         1   \n",
       "24615                           Drinking and Driving  0.970         2   \n",
       "17929                              Prelude to a Kiss  0.179         0   \n",
       "5673                                        Together  0.768         2   \n",
       "27467  What on Earth Will You Do (For Heaven's Sake)  0.380         1   \n",
       "\n",
       "                                            clean_lyrics  \n",
       "18662  sizzla juelz santana oww ha ha click clack dea...  \n",
       "24615  half past 5 im pub six oclock home grub eight ...  \n",
       "17929  hear song blue like flower crying dew heart se...  \n",
       "5673   chorus 1 together went far together together l...  \n",
       "27467  walk another mile turn frown smile live lowly ...  "
      ]
     },
     "execution_count": 46,
     "metadata": {},
     "output_type": "execute_result"
    }
   ],
   "source": [
    "df['clean_lyrics'] = df.seq.apply(text_pipeline)\n",
    "\n",
    "df.head()"
   ]
  },
  {
   "cell_type": "code",
   "execution_count": 39,
   "id": "d091ae29",
   "metadata": {},
   "outputs": [
    {
     "data": {
      "text/plain": [
       "0"
      ]
     },
     "execution_count": 39,
     "metadata": {},
     "output_type": "execute_result"
    }
   ],
   "source": [
    "df['sentiment_int'] "
   ]
  },
  {
   "cell_type": "code",
   "execution_count": 52,
   "id": "c82ca284",
   "metadata": {},
   "outputs": [],
   "source": [
    "df = df.sample(frac=1)\n",
    "\n",
    "X = df['clean_lyrics']\n",
    "\n",
    "y = df['sentiment'].values\n",
    "\n",
    "y = to_categorical( y )\n",
    "X_text = X"
   ]
  },
  {
   "cell_type": "code",
   "execution_count": 53,
   "id": "4520dbe9",
   "metadata": {},
   "outputs": [
    {
     "data": {
      "text/plain": [
       "array([0., 0., 1.], dtype=float32)"
      ]
     },
     "execution_count": 53,
     "metadata": {},
     "output_type": "execute_result"
    }
   ],
   "source": [
    "y[0]"
   ]
  },
  {
   "cell_type": "code",
   "execution_count": 54,
   "id": "e5aa8e56",
   "metadata": {},
   "outputs": [
    {
     "name": "stdout",
     "output_type": "stream",
     "text": [
      "(30000, 500)\n"
     ]
    }
   ],
   "source": [
    "# Limiting our tokenizers vocab size\n",
    "max_words = 20000\n",
    " \n",
    "    \n",
    "# create the tokenizer\n",
    "tokenizer = Tokenizer(num_words=max_words)\n",
    "\n",
    "\n",
    "# Fit the tokenizer\n",
    "tokenizer.fit_on_texts(X)\n",
    "\n",
    "\n",
    "# Create the sequences for each sentence, basically turning each word into its index position\n",
    "sequences = tokenizer.texts_to_sequences(X)\n",
    "\n",
    "\n",
    "index_word = tokenizer.index_word\n",
    "\n",
    "\n",
    "# # Limiting our sequencer to only include 500 words\n",
    "max_length = 500\n",
    "\n",
    "\n",
    "# # Convert the sequences to all be the same length of 500\n",
    "X = pad_sequences(sequences, maxlen=max_length, padding='post')\n",
    "print(X.shape)"
   ]
  },
  {
   "cell_type": "code",
   "execution_count": 55,
   "id": "7a5f5f89",
   "metadata": {},
   "outputs": [
    {
     "name": "stdout",
     "output_type": "stream",
     "text": [
      "Model: \"sequential_2\"\n",
      "_________________________________________________________________\n",
      " Layer (type)                Output Shape              Param #   \n",
      "=================================================================\n",
      " embedding_2 (Embedding)     (None, 500, 32)           640000    \n",
      "                                                                 \n",
      " flatten_2 (Flatten)         (None, 16000)             0         \n",
      "                                                                 \n",
      " dense_4 (Dense)             (None, 128)               2048128   \n",
      "                                                                 \n",
      " dense_5 (Dense)             (None, 3)                 387       \n",
      "                                                                 \n",
      "=================================================================\n",
      "Total params: 2,688,515\n",
      "Trainable params: 2,688,515\n",
      "Non-trainable params: 0\n",
      "_________________________________________________________________\n"
     ]
    }
   ],
   "source": [
    "# This creates the Neural Network\n",
    "model = Sequential() \n",
    "\n",
    "# This embedding layer basically will automatically create the word2vec vectors based on your text data.\n",
    "model.add( Embedding(max_words, 32, input_length=max_length) ) \n",
    "\n",
    "\n",
    "model.add(Flatten())\n",
    "\n",
    "model.add(Dense(128, activation='relu'))\n",
    "\n",
    "\n",
    "model.add(Dense(3, activation='softmax'))\n",
    "\n",
    "model.compile(loss='categorical_crossentropy', optimizer='adam', metrics=['accuracy']) \n",
    "\n",
    "model.summary()"
   ]
  },
  {
   "cell_type": "code",
   "execution_count": 56,
   "id": "813500e0",
   "metadata": {},
   "outputs": [
    {
     "name": "stdout",
     "output_type": "stream",
     "text": [
      "Epoch 1/20\n",
      "1200/1200 [==============================] - 14s 11ms/step - loss: 1.0137 - accuracy: 0.4681 - val_loss: 0.9900 - val_accuracy: 0.4882\n",
      "Epoch 2/20\n",
      "1200/1200 [==============================] - 13s 11ms/step - loss: 0.7361 - accuracy: 0.6827 - val_loss: 1.1262 - val_accuracy: 0.4655\n",
      "Epoch 3/20\n",
      "1200/1200 [==============================] - 13s 10ms/step - loss: 0.3361 - accuracy: 0.8910 - val_loss: 1.4439 - val_accuracy: 0.4515\n",
      "Epoch 4/20\n",
      "1200/1200 [==============================] - 12s 10ms/step - loss: 0.1999 - accuracy: 0.9346 - val_loss: 1.7595 - val_accuracy: 0.4547\n",
      "Epoch 5/20\n",
      "1200/1200 [==============================] - 12s 10ms/step - loss: 0.1448 - accuracy: 0.9418 - val_loss: 2.0702 - val_accuracy: 0.4498\n",
      "Epoch 6/20\n",
      "1200/1200 [==============================] - 13s 11ms/step - loss: 0.1143 - accuracy: 0.9477 - val_loss: 2.2445 - val_accuracy: 0.4537\n",
      "Epoch 7/20\n",
      "1200/1200 [==============================] - 12s 10ms/step - loss: 0.1031 - accuracy: 0.9489 - val_loss: 2.5043 - val_accuracy: 0.4535\n",
      "Epoch 8/20\n",
      "1200/1200 [==============================] - 12s 10ms/step - loss: 0.0954 - accuracy: 0.9521 - val_loss: 2.7028 - val_accuracy: 0.4637\n",
      "Epoch 9/20\n",
      "1200/1200 [==============================] - 12s 10ms/step - loss: 0.0955 - accuracy: 0.9524 - val_loss: 2.9282 - val_accuracy: 0.4523\n",
      "Epoch 10/20\n",
      "1200/1200 [==============================] - 12s 10ms/step - loss: 0.0953 - accuracy: 0.9515 - val_loss: 3.1102 - val_accuracy: 0.4497\n",
      "Epoch 11/20\n",
      "1200/1200 [==============================] - 12s 10ms/step - loss: 0.0933 - accuracy: 0.9530 - val_loss: 3.5450 - val_accuracy: 0.4487\n",
      "Epoch 12/20\n",
      "1200/1200 [==============================] - 12s 10ms/step - loss: 0.0957 - accuracy: 0.9522 - val_loss: 3.6940 - val_accuracy: 0.4562\n",
      "Epoch 13/20\n",
      "1200/1200 [==============================] - 12s 10ms/step - loss: 0.0919 - accuracy: 0.9528 - val_loss: 3.6260 - val_accuracy: 0.4525\n",
      "Epoch 14/20\n",
      "1200/1200 [==============================] - 12s 10ms/step - loss: 0.0847 - accuracy: 0.9550 - val_loss: 4.0201 - val_accuracy: 0.4572\n",
      "Epoch 15/20\n",
      "1200/1200 [==============================] - 11s 10ms/step - loss: 0.0830 - accuracy: 0.9563 - val_loss: 3.7900 - val_accuracy: 0.4548\n",
      "Epoch 16/20\n",
      "1200/1200 [==============================] - 12s 10ms/step - loss: 0.0880 - accuracy: 0.9554 - val_loss: 4.1330 - val_accuracy: 0.4448\n",
      "Epoch 17/20\n",
      "1200/1200 [==============================] - 12s 10ms/step - loss: 0.0883 - accuracy: 0.9553 - val_loss: 4.3116 - val_accuracy: 0.4457\n",
      "Epoch 18/20\n",
      "1200/1200 [==============================] - 12s 10ms/step - loss: 0.0890 - accuracy: 0.9550 - val_loss: 4.1128 - val_accuracy: 0.4558\n",
      "Epoch 19/20\n",
      "1200/1200 [==============================] - 12s 10ms/step - loss: 0.0854 - accuracy: 0.9567 - val_loss: 4.3652 - val_accuracy: 0.4558\n",
      "Epoch 20/20\n",
      "1200/1200 [==============================] - 12s 10ms/step - loss: 0.0840 - accuracy: 0.9568 - val_loss: 4.1488 - val_accuracy: 0.4467\n"
     ]
    }
   ],
   "source": [
    "hist = model.fit(X, y, \n",
    "                 validation_split=0.2, \n",
    "                 epochs=20, batch_size=20)"
   ]
  },
  {
   "cell_type": "code",
   "execution_count": 74,
   "id": "bf0203ac",
   "metadata": {},
   "outputs": [
    {
     "data": {
      "text/plain": [
       "((30000, 500), (30000,))"
      ]
     },
     "execution_count": 74,
     "metadata": {},
     "output_type": "execute_result"
    }
   ],
   "source": [
    "X.shape,y.shape"
   ]
  },
  {
   "cell_type": "code",
   "execution_count": null,
   "id": "a045749f",
   "metadata": {},
   "outputs": [],
   "source": []
  }
 ],
 "metadata": {
  "kernelspec": {
   "display_name": "Python 3 (ipykernel)",
   "language": "python",
   "name": "python3"
  },
  "language_info": {
   "codemirror_mode": {
    "name": "ipython",
    "version": 3
   },
   "file_extension": ".py",
   "mimetype": "text/x-python",
   "name": "python",
   "nbconvert_exporter": "python",
   "pygments_lexer": "ipython3",
   "version": "3.9.6"
  }
 },
 "nbformat": 4,
 "nbformat_minor": 5
}
