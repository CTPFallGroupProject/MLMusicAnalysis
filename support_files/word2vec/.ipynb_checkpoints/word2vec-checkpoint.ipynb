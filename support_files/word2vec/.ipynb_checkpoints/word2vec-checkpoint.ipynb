{
 "cells": [
  {
   "cell_type": "code",
   "execution_count": 90,
   "metadata": {},
   "outputs": [],
   "source": [
    "import pandas as pd\n",
    "import numpy as np\n",
    "\n",
    "import re\n",
    "\n",
    "import nltk\n",
    "from nltk.corpus import stopwords\n",
    "from nltk import word_tokenize\n",
    "\n",
    "from sklearn.model_selection import train_test_split\n",
    "\n",
    "from gensim.models import Word2Vec\n",
    "stopwords = stopwords.words('english')\n",
    "\n",
    "\n",
    "from sklearn.naive_bayes import MultinomialNB\n",
    "from sklearn.linear_model import LogisticRegression as log \n",
    "from sklearn.model_selection import GridSearchCV\n",
    "\n",
    "from sklearn.metrics import accuracy_score, precision_score, recall_score, confusion_matrix\n",
    "from sklearn import metrics    "
   ]
  },
  {
   "cell_type": "code",
   "execution_count": 2,
   "metadata": {},
   "outputs": [
    {
     "data": {
      "text/html": [
       "<div>\n",
       "<style scoped>\n",
       "    .dataframe tbody tr th:only-of-type {\n",
       "        vertical-align: middle;\n",
       "    }\n",
       "\n",
       "    .dataframe tbody tr th {\n",
       "        vertical-align: top;\n",
       "    }\n",
       "\n",
       "    .dataframe thead th {\n",
       "        text-align: right;\n",
       "    }\n",
       "</style>\n",
       "<table border=\"1\" class=\"dataframe\">\n",
       "  <thead>\n",
       "    <tr style=\"text-align: right;\">\n",
       "      <th></th>\n",
       "      <th>Unnamed: 0</th>\n",
       "      <th>artist</th>\n",
       "      <th>seq</th>\n",
       "      <th>song</th>\n",
       "      <th>label</th>\n",
       "    </tr>\n",
       "  </thead>\n",
       "  <tbody>\n",
       "    <tr>\n",
       "      <th>0</th>\n",
       "      <td>0</td>\n",
       "      <td>Elijah Blake</td>\n",
       "      <td>No, no\\r\\nI ain't ever trapped out the bando\\r...</td>\n",
       "      <td>Everyday</td>\n",
       "      <td>0.626</td>\n",
       "    </tr>\n",
       "    <tr>\n",
       "      <th>1</th>\n",
       "      <td>1</td>\n",
       "      <td>Elijah Blake</td>\n",
       "      <td>The drinks go down and smoke goes up, I feel m...</td>\n",
       "      <td>Live Till We Die</td>\n",
       "      <td>0.630</td>\n",
       "    </tr>\n",
       "    <tr>\n",
       "      <th>2</th>\n",
       "      <td>2</td>\n",
       "      <td>Elijah Blake</td>\n",
       "      <td>She don't live on planet Earth no more\\r\\nShe ...</td>\n",
       "      <td>The Otherside</td>\n",
       "      <td>0.240</td>\n",
       "    </tr>\n",
       "    <tr>\n",
       "      <th>3</th>\n",
       "      <td>3</td>\n",
       "      <td>Elijah Blake</td>\n",
       "      <td>Trippin' off that Grigio, mobbin', lights low\\...</td>\n",
       "      <td>Pinot</td>\n",
       "      <td>0.536</td>\n",
       "    </tr>\n",
       "    <tr>\n",
       "      <th>4</th>\n",
       "      <td>4</td>\n",
       "      <td>Elijah Blake</td>\n",
       "      <td>I see a midnight panther, so gallant and so br...</td>\n",
       "      <td>Shadows &amp; Diamonds</td>\n",
       "      <td>0.371</td>\n",
       "    </tr>\n",
       "  </tbody>\n",
       "</table>\n",
       "</div>"
      ],
      "text/plain": [
       "   Unnamed: 0        artist  \\\n",
       "0           0  Elijah Blake   \n",
       "1           1  Elijah Blake   \n",
       "2           2  Elijah Blake   \n",
       "3           3  Elijah Blake   \n",
       "4           4  Elijah Blake   \n",
       "\n",
       "                                                 seq                song  \\\n",
       "0  No, no\\r\\nI ain't ever trapped out the bando\\r...            Everyday   \n",
       "1  The drinks go down and smoke goes up, I feel m...    Live Till We Die   \n",
       "2  She don't live on planet Earth no more\\r\\nShe ...       The Otherside   \n",
       "3  Trippin' off that Grigio, mobbin', lights low\\...               Pinot   \n",
       "4  I see a midnight panther, so gallant and so br...  Shadows & Diamonds   \n",
       "\n",
       "   label  \n",
       "0  0.626  \n",
       "1  0.630  \n",
       "2  0.240  \n",
       "3  0.536  \n",
       "4  0.371  "
      ]
     },
     "execution_count": 2,
     "metadata": {},
     "output_type": "execute_result"
    }
   ],
   "source": [
    "df = pd.read_csv('labeled_lyrics_cleaned.csv')\n",
    "df.head()"
   ]
  },
  {
   "cell_type": "markdown",
   "metadata": {},
   "source": [
    "# Only 15k lyrics"
   ]
  },
  {
   "cell_type": "code",
   "execution_count": 3,
   "metadata": {},
   "outputs": [
    {
     "data": {
      "text/plain": [
       "artist    15000\n",
       "seq       15000\n",
       "song      15000\n",
       "label     15000\n",
       "dtype: int64"
      ]
     },
     "execution_count": 3,
     "metadata": {},
     "output_type": "execute_result"
    }
   ],
   "source": [
    "df = df.head(15000)\n",
    "df = df.drop(columns = 'Unnamed: 0',axis = 1)\n",
    "df.count()"
   ]
  },
  {
   "cell_type": "markdown",
   "metadata": {},
   "source": [
    "# converting label to categorical data"
   ]
  },
  {
   "cell_type": "code",
   "execution_count": 4,
   "metadata": {},
   "outputs": [],
   "source": [
    "def getSentiment(num):\n",
    "    if num > .66:\n",
    "        return 'positive'\n",
    "    elif num > .33:\n",
    "        return 'neutral'\n",
    "    else :\n",
    "        return 'negative'"
   ]
  },
  {
   "cell_type": "code",
   "execution_count": 5,
   "metadata": {},
   "outputs": [],
   "source": [
    "df['sentiment'] = df.label.apply(lambda x: getSentiment(x))"
   ]
  },
  {
   "cell_type": "code",
   "execution_count": 6,
   "metadata": {},
   "outputs": [
    {
     "data": {
      "text/html": [
       "<div>\n",
       "<style scoped>\n",
       "    .dataframe tbody tr th:only-of-type {\n",
       "        vertical-align: middle;\n",
       "    }\n",
       "\n",
       "    .dataframe tbody tr th {\n",
       "        vertical-align: top;\n",
       "    }\n",
       "\n",
       "    .dataframe thead th {\n",
       "        text-align: right;\n",
       "    }\n",
       "</style>\n",
       "<table border=\"1\" class=\"dataframe\">\n",
       "  <thead>\n",
       "    <tr style=\"text-align: right;\">\n",
       "      <th></th>\n",
       "      <th>artist</th>\n",
       "      <th>seq</th>\n",
       "      <th>song</th>\n",
       "      <th>label</th>\n",
       "      <th>sentiment</th>\n",
       "    </tr>\n",
       "  </thead>\n",
       "  <tbody>\n",
       "    <tr>\n",
       "      <th>0</th>\n",
       "      <td>Elijah Blake</td>\n",
       "      <td>No, no\\r\\nI ain't ever trapped out the bando\\r...</td>\n",
       "      <td>Everyday</td>\n",
       "      <td>0.626</td>\n",
       "      <td>neutral</td>\n",
       "    </tr>\n",
       "    <tr>\n",
       "      <th>1</th>\n",
       "      <td>Elijah Blake</td>\n",
       "      <td>The drinks go down and smoke goes up, I feel m...</td>\n",
       "      <td>Live Till We Die</td>\n",
       "      <td>0.630</td>\n",
       "      <td>neutral</td>\n",
       "    </tr>\n",
       "    <tr>\n",
       "      <th>2</th>\n",
       "      <td>Elijah Blake</td>\n",
       "      <td>She don't live on planet Earth no more\\r\\nShe ...</td>\n",
       "      <td>The Otherside</td>\n",
       "      <td>0.240</td>\n",
       "      <td>negative</td>\n",
       "    </tr>\n",
       "    <tr>\n",
       "      <th>3</th>\n",
       "      <td>Elijah Blake</td>\n",
       "      <td>Trippin' off that Grigio, mobbin', lights low\\...</td>\n",
       "      <td>Pinot</td>\n",
       "      <td>0.536</td>\n",
       "      <td>neutral</td>\n",
       "    </tr>\n",
       "    <tr>\n",
       "      <th>4</th>\n",
       "      <td>Elijah Blake</td>\n",
       "      <td>I see a midnight panther, so gallant and so br...</td>\n",
       "      <td>Shadows &amp; Diamonds</td>\n",
       "      <td>0.371</td>\n",
       "      <td>neutral</td>\n",
       "    </tr>\n",
       "  </tbody>\n",
       "</table>\n",
       "</div>"
      ],
      "text/plain": [
       "         artist                                                seq  \\\n",
       "0  Elijah Blake  No, no\\r\\nI ain't ever trapped out the bando\\r...   \n",
       "1  Elijah Blake  The drinks go down and smoke goes up, I feel m...   \n",
       "2  Elijah Blake  She don't live on planet Earth no more\\r\\nShe ...   \n",
       "3  Elijah Blake  Trippin' off that Grigio, mobbin', lights low\\...   \n",
       "4  Elijah Blake  I see a midnight panther, so gallant and so br...   \n",
       "\n",
       "                 song  label sentiment  \n",
       "0            Everyday  0.626   neutral  \n",
       "1    Live Till We Die  0.630   neutral  \n",
       "2       The Otherside  0.240  negative  \n",
       "3               Pinot  0.536   neutral  \n",
       "4  Shadows & Diamonds  0.371   neutral  "
      ]
     },
     "execution_count": 6,
     "metadata": {},
     "output_type": "execute_result"
    }
   ],
   "source": [
    "df.head()"
   ]
  },
  {
   "cell_type": "code",
   "execution_count": 99,
   "metadata": {},
   "outputs": [
    {
     "data": {
      "text/plain": [
       "neutral     6181\n",
       "negative    4728\n",
       "positive    4091\n",
       "Name: sentiment, dtype: int64"
      ]
     },
     "execution_count": 99,
     "metadata": {},
     "output_type": "execute_result"
    }
   ],
   "source": [
    "df.sentiment.value_counts()"
   ]
  },
  {
   "cell_type": "markdown",
   "metadata": {},
   "source": [
    "# Preprocessing"
   ]
  },
  {
   "cell_type": "markdown",
   "metadata": {},
   "source": [
    "### lowercase"
   ]
  },
  {
   "cell_type": "code",
   "execution_count": 7,
   "metadata": {},
   "outputs": [],
   "source": [
    "def make_lower(lyric):\n",
    "    return lyric.lower()"
   ]
  },
  {
   "cell_type": "markdown",
   "metadata": {},
   "source": [
    "### removing punctuation"
   ]
  },
  {
   "cell_type": "code",
   "execution_count": 14,
   "metadata": {},
   "outputs": [],
   "source": [
    "\n",
    "\n",
    "def remove_punctuation(lyric):\n",
    "    p = re.compile(\"[^\\w\\s]\")\n",
    "    lyric = re.sub(p,'',lyric)\n",
    "    return lyric\n",
    "\n"
   ]
  },
  {
   "cell_type": "markdown",
   "metadata": {},
   "source": [
    "### removing stopwords"
   ]
  },
  {
   "cell_type": "code",
   "execution_count": 15,
   "metadata": {},
   "outputs": [],
   "source": [
    "def remove_stopwords(lyric):\n",
    "    # Break the sentence down into a list of words\n",
    "    words = word_tokenize(lyric)\n",
    "    \n",
    "    # Make a list to append valid words into\n",
    "    valid_words = []\n",
    "    \n",
    "    # Loop through all the words\n",
    "    for word in words:\n",
    "        \n",
    "        # Check if word is not in stopwords\n",
    "        if word not in stopwords:\n",
    "            \n",
    "            # If word not in stopwords, append to our valid_words\n",
    "            valid_words.append(word)\n",
    "\n",
    "    # Join the list of words together into a string\n",
    "    lyric = ' '.join(valid_words)\n",
    "\n",
    "    return lyric"
   ]
  },
  {
   "cell_type": "markdown",
   "metadata": {},
   "source": [
    "### text pipeline"
   ]
  },
  {
   "cell_type": "code",
   "execution_count": 16,
   "metadata": {},
   "outputs": [],
   "source": [
    "def text_pipeline(input_string):\n",
    "    input_string = make_lower(input_string)\n",
    "    input_string = remove_punctuation(input_string)\n",
    "    input_string = remove_stopwords(input_string)    \n",
    "    return input_string"
   ]
  },
  {
   "cell_type": "code",
   "execution_count": 17,
   "metadata": {},
   "outputs": [
    {
     "data": {
      "text/plain": [
       "'ever trapped bando'"
      ]
     },
     "execution_count": 17,
     "metadata": {},
     "output_type": "execute_result"
    }
   ],
   "source": [
    "test = 'ever trapped out the bando\\r'\n",
    "test = text_pipeline(test)\n",
    "test"
   ]
  },
  {
   "cell_type": "markdown",
   "metadata": {},
   "source": [
    "## cleaning lyrics"
   ]
  },
  {
   "cell_type": "code",
   "execution_count": 18,
   "metadata": {},
   "outputs": [],
   "source": [
    "df['clean_lyrics'] = df.seq.apply(text_pipeline)"
   ]
  },
  {
   "cell_type": "code",
   "execution_count": 19,
   "metadata": {},
   "outputs": [
    {
     "data": {
      "text/html": [
       "<div>\n",
       "<style scoped>\n",
       "    .dataframe tbody tr th:only-of-type {\n",
       "        vertical-align: middle;\n",
       "    }\n",
       "\n",
       "    .dataframe tbody tr th {\n",
       "        vertical-align: top;\n",
       "    }\n",
       "\n",
       "    .dataframe thead th {\n",
       "        text-align: right;\n",
       "    }\n",
       "</style>\n",
       "<table border=\"1\" class=\"dataframe\">\n",
       "  <thead>\n",
       "    <tr style=\"text-align: right;\">\n",
       "      <th></th>\n",
       "      <th>artist</th>\n",
       "      <th>seq</th>\n",
       "      <th>song</th>\n",
       "      <th>label</th>\n",
       "      <th>sentiment</th>\n",
       "      <th>clean_lyrics</th>\n",
       "    </tr>\n",
       "  </thead>\n",
       "  <tbody>\n",
       "    <tr>\n",
       "      <th>0</th>\n",
       "      <td>Elijah Blake</td>\n",
       "      <td>No, no\\r\\nI ain't ever trapped out the bando\\r...</td>\n",
       "      <td>Everyday</td>\n",
       "      <td>0.626</td>\n",
       "      <td>neutral</td>\n",
       "      <td>aint ever trapped bando oh lord dont get wrong...</td>\n",
       "    </tr>\n",
       "    <tr>\n",
       "      <th>1</th>\n",
       "      <td>Elijah Blake</td>\n",
       "      <td>The drinks go down and smoke goes up, I feel m...</td>\n",
       "      <td>Live Till We Die</td>\n",
       "      <td>0.630</td>\n",
       "      <td>neutral</td>\n",
       "      <td>drinks go smoke goes feel got let go cares get...</td>\n",
       "    </tr>\n",
       "    <tr>\n",
       "      <th>2</th>\n",
       "      <td>Elijah Blake</td>\n",
       "      <td>She don't live on planet Earth no more\\r\\nShe ...</td>\n",
       "      <td>The Otherside</td>\n",
       "      <td>0.240</td>\n",
       "      <td>negative</td>\n",
       "      <td>dont live planet earth found love venus thats ...</td>\n",
       "    </tr>\n",
       "    <tr>\n",
       "      <th>3</th>\n",
       "      <td>Elijah Blake</td>\n",
       "      <td>Trippin' off that Grigio, mobbin', lights low\\...</td>\n",
       "      <td>Pinot</td>\n",
       "      <td>0.536</td>\n",
       "      <td>neutral</td>\n",
       "      <td>trippin grigio mobbin lights low trippin grigi...</td>\n",
       "    </tr>\n",
       "    <tr>\n",
       "      <th>4</th>\n",
       "      <td>Elijah Blake</td>\n",
       "      <td>I see a midnight panther, so gallant and so br...</td>\n",
       "      <td>Shadows &amp; Diamonds</td>\n",
       "      <td>0.371</td>\n",
       "      <td>neutral</td>\n",
       "      <td>see midnight panther gallant brave found found...</td>\n",
       "    </tr>\n",
       "  </tbody>\n",
       "</table>\n",
       "</div>"
      ],
      "text/plain": [
       "         artist                                                seq  \\\n",
       "0  Elijah Blake  No, no\\r\\nI ain't ever trapped out the bando\\r...   \n",
       "1  Elijah Blake  The drinks go down and smoke goes up, I feel m...   \n",
       "2  Elijah Blake  She don't live on planet Earth no more\\r\\nShe ...   \n",
       "3  Elijah Blake  Trippin' off that Grigio, mobbin', lights low\\...   \n",
       "4  Elijah Blake  I see a midnight panther, so gallant and so br...   \n",
       "\n",
       "                 song  label sentiment  \\\n",
       "0            Everyday  0.626   neutral   \n",
       "1    Live Till We Die  0.630   neutral   \n",
       "2       The Otherside  0.240  negative   \n",
       "3               Pinot  0.536   neutral   \n",
       "4  Shadows & Diamonds  0.371   neutral   \n",
       "\n",
       "                                        clean_lyrics  \n",
       "0  aint ever trapped bando oh lord dont get wrong...  \n",
       "1  drinks go smoke goes feel got let go cares get...  \n",
       "2  dont live planet earth found love venus thats ...  \n",
       "3  trippin grigio mobbin lights low trippin grigi...  \n",
       "4  see midnight panther gallant brave found found...  "
      ]
     },
     "execution_count": 19,
     "metadata": {},
     "output_type": "execute_result"
    }
   ],
   "source": [
    "df.head()"
   ]
  },
  {
   "cell_type": "markdown",
   "metadata": {},
   "source": [
    "# feed tokenize lyrics to word2vec"
   ]
  },
  {
   "cell_type": "code",
   "execution_count": 95,
   "metadata": {},
   "outputs": [
    {
     "data": {
      "text/plain": [
       "0    [aint, ever, trapped, bando, oh, lord, dont, g...\n",
       "1    [drinks, go, smoke, goes, feel, got, let, go, ...\n",
       "2    [dont, live, planet, earth, found, love, venus...\n",
       "3    [trippin, grigio, mobbin, lights, low, trippin...\n",
       "4    [see, midnight, panther, gallant, brave, found...\n",
       "Name: clean_lyrics, dtype: object"
      ]
     },
     "execution_count": 95,
     "metadata": {},
     "output_type": "execute_result"
    }
   ],
   "source": [
    "X = df.clean_lyrics.apply(lambda x: word_tokenize(x))\n",
    "X.head()"
   ]
  },
  {
   "cell_type": "code",
   "execution_count": 96,
   "metadata": {},
   "outputs": [],
   "source": [
    "model = Word2Vec(X, vector_size = 200, sg = 1)\n"
   ]
  },
  {
   "cell_type": "code",
   "execution_count": 97,
   "metadata": {},
   "outputs": [
    {
     "data": {
      "text/plain": [
       "(152098833, 175345500)"
      ]
     },
     "execution_count": 97,
     "metadata": {},
     "output_type": "execute_result"
    }
   ],
   "source": [
    "model.train(X,total_examples= 15000, epochs=100)"
   ]
  },
  {
   "cell_type": "code",
   "execution_count": 98,
   "metadata": {},
   "outputs": [],
   "source": [
    "model.save(\"word2vec.model\")"
   ]
  },
  {
   "cell_type": "markdown",
   "metadata": {},
   "source": [
    "# Use this line for pre-trained model\n"
   ]
  },
  {
   "cell_type": "code",
   "execution_count": null,
   "metadata": {},
   "outputs": [],
   "source": [
    "model = Word2vec.load(\"word2vec.model\")"
   ]
  },
  {
   "cell_type": "code",
   "execution_count": 75,
   "metadata": {},
   "outputs": [
    {
     "data": {
      "text/plain": [
       "[('rattatat', 0.462798535823822),\n",
       " ('trigger', 0.4259166717529297),\n",
       " ('guns', 0.4148804843425751),\n",
       " ('sheriff', 0.3890664875507355),\n",
       " ('loaded', 0.3836432695388794),\n",
       " ('radar', 0.37760934233665466),\n",
       " ('shoot', 0.37534812092781067),\n",
       " ('deputy', 0.37455499172210693),\n",
       " ('61', 0.37330228090286255),\n",
       " ('dealer', 0.3701655864715576)]"
      ]
     },
     "execution_count": 75,
     "metadata": {},
     "output_type": "execute_result"
    }
   ],
   "source": [
    "model.wv.most_similar(positive ='gun')\n",
    "\n"
   ]
  },
  {
   "cell_type": "code",
   "execution_count": 76,
   "metadata": {
    "scrolled": true
   },
   "outputs": [
    {
     "data": {
      "text/plain": [
       "[('look', 0.489340603351593),\n",
       " ('kitchenette', 0.46089768409729004),\n",
       " ('elimination', 0.43351733684539795),\n",
       " ('know', 0.42610299587249756),\n",
       " ('industrial', 0.42162269353866577),\n",
       " ('mckennedy', 0.412797212600708),\n",
       " ('eyes', 0.4127568304538727),\n",
       " ('rummy', 0.4077410101890564),\n",
       " ('ception', 0.4076326787471771),\n",
       " ('icu', 0.4048142731189728)]"
      ]
     },
     "execution_count": 76,
     "metadata": {},
     "output_type": "execute_result"
    }
   ],
   "source": [
    "model.wv.most_similar(positive ='see')"
   ]
  },
  {
   "cell_type": "markdown",
   "metadata": {},
   "source": [
    "# Using word2vec to create a lyric vector by taking the average of words present in lyric\n",
    "\n",
    "Reference to method used https://www.kaggle.com/code/nitin194/twitter-sentiment-analysis-word2vec-doc2vec/notebook"
   ]
  },
  {
   "cell_type": "code",
   "execution_count": 77,
   "metadata": {},
   "outputs": [],
   "source": [
    "w2v_words = list(model.wv.key_to_index)\n",
    "def lyric_vector(tokens, size):\n",
    "    sent = np.zeros(200)\n",
    "    count = 0\n",
    "    for word in tokens:\n",
    "        if word in w2v_words:\n",
    "            vec = model.wv[word]\n",
    "            sent += vec\n",
    "            count += 1\n",
    "    if count != 0:\n",
    "        sent /= count\n",
    "    return sent"
   ]
  },
  {
   "cell_type": "code",
   "execution_count": 78,
   "metadata": {},
   "outputs": [],
   "source": [
    "vector = []\n",
    "for sent in X:\n",
    "    sentence = lyric_vector(sent, 200)\n",
    "    vector.append(sentence)"
   ]
  },
  {
   "cell_type": "code",
   "execution_count": 79,
   "metadata": {},
   "outputs": [
    {
     "data": {
      "text/html": [
       "<div>\n",
       "<style scoped>\n",
       "    .dataframe tbody tr th:only-of-type {\n",
       "        vertical-align: middle;\n",
       "    }\n",
       "\n",
       "    .dataframe tbody tr th {\n",
       "        vertical-align: top;\n",
       "    }\n",
       "\n",
       "    .dataframe thead th {\n",
       "        text-align: right;\n",
       "    }\n",
       "</style>\n",
       "<table border=\"1\" class=\"dataframe\">\n",
       "  <thead>\n",
       "    <tr style=\"text-align: right;\">\n",
       "      <th></th>\n",
       "      <th>0</th>\n",
       "      <th>1</th>\n",
       "      <th>2</th>\n",
       "      <th>3</th>\n",
       "      <th>4</th>\n",
       "      <th>5</th>\n",
       "      <th>6</th>\n",
       "      <th>7</th>\n",
       "      <th>8</th>\n",
       "      <th>9</th>\n",
       "      <th>...</th>\n",
       "      <th>191</th>\n",
       "      <th>192</th>\n",
       "      <th>193</th>\n",
       "      <th>194</th>\n",
       "      <th>195</th>\n",
       "      <th>196</th>\n",
       "      <th>197</th>\n",
       "      <th>198</th>\n",
       "      <th>199</th>\n",
       "      <th>sentiment</th>\n",
       "    </tr>\n",
       "  </thead>\n",
       "  <tbody>\n",
       "    <tr>\n",
       "      <th>0</th>\n",
       "      <td>0.088659</td>\n",
       "      <td>0.112138</td>\n",
       "      <td>0.161445</td>\n",
       "      <td>0.001931</td>\n",
       "      <td>0.316668</td>\n",
       "      <td>0.179604</td>\n",
       "      <td>-0.214201</td>\n",
       "      <td>0.167260</td>\n",
       "      <td>0.085163</td>\n",
       "      <td>0.194139</td>\n",
       "      <td>...</td>\n",
       "      <td>0.008272</td>\n",
       "      <td>0.060889</td>\n",
       "      <td>-0.088720</td>\n",
       "      <td>0.122241</td>\n",
       "      <td>0.190579</td>\n",
       "      <td>0.021987</td>\n",
       "      <td>-0.051598</td>\n",
       "      <td>-0.005356</td>\n",
       "      <td>0.134056</td>\n",
       "      <td>neutral</td>\n",
       "    </tr>\n",
       "    <tr>\n",
       "      <th>1</th>\n",
       "      <td>0.134244</td>\n",
       "      <td>0.058785</td>\n",
       "      <td>0.230777</td>\n",
       "      <td>0.053445</td>\n",
       "      <td>0.146164</td>\n",
       "      <td>0.061137</td>\n",
       "      <td>-0.075396</td>\n",
       "      <td>0.110987</td>\n",
       "      <td>-0.053461</td>\n",
       "      <td>0.155229</td>\n",
       "      <td>...</td>\n",
       "      <td>-0.005166</td>\n",
       "      <td>0.066333</td>\n",
       "      <td>-0.141629</td>\n",
       "      <td>0.035456</td>\n",
       "      <td>0.329494</td>\n",
       "      <td>-0.048746</td>\n",
       "      <td>-0.096891</td>\n",
       "      <td>-0.019531</td>\n",
       "      <td>0.076015</td>\n",
       "      <td>neutral</td>\n",
       "    </tr>\n",
       "    <tr>\n",
       "      <th>2</th>\n",
       "      <td>0.267114</td>\n",
       "      <td>-0.152474</td>\n",
       "      <td>0.165373</td>\n",
       "      <td>0.157845</td>\n",
       "      <td>0.093746</td>\n",
       "      <td>0.082521</td>\n",
       "      <td>-0.252882</td>\n",
       "      <td>0.093548</td>\n",
       "      <td>-0.156137</td>\n",
       "      <td>0.172663</td>\n",
       "      <td>...</td>\n",
       "      <td>-0.062171</td>\n",
       "      <td>-0.090976</td>\n",
       "      <td>-0.085709</td>\n",
       "      <td>0.106496</td>\n",
       "      <td>0.096173</td>\n",
       "      <td>0.193045</td>\n",
       "      <td>-0.021638</td>\n",
       "      <td>-0.194595</td>\n",
       "      <td>-0.037425</td>\n",
       "      <td>negative</td>\n",
       "    </tr>\n",
       "    <tr>\n",
       "      <th>3</th>\n",
       "      <td>0.206498</td>\n",
       "      <td>0.074521</td>\n",
       "      <td>0.174805</td>\n",
       "      <td>0.071128</td>\n",
       "      <td>0.256123</td>\n",
       "      <td>0.156303</td>\n",
       "      <td>-0.143186</td>\n",
       "      <td>0.114222</td>\n",
       "      <td>-0.055132</td>\n",
       "      <td>0.036289</td>\n",
       "      <td>...</td>\n",
       "      <td>-0.039531</td>\n",
       "      <td>0.068759</td>\n",
       "      <td>-0.129851</td>\n",
       "      <td>-0.141814</td>\n",
       "      <td>0.221379</td>\n",
       "      <td>0.072579</td>\n",
       "      <td>-0.101745</td>\n",
       "      <td>-0.137928</td>\n",
       "      <td>0.219422</td>\n",
       "      <td>neutral</td>\n",
       "    </tr>\n",
       "    <tr>\n",
       "      <th>4</th>\n",
       "      <td>0.064239</td>\n",
       "      <td>-0.079620</td>\n",
       "      <td>0.062374</td>\n",
       "      <td>0.000292</td>\n",
       "      <td>0.297556</td>\n",
       "      <td>0.206739</td>\n",
       "      <td>-0.216018</td>\n",
       "      <td>0.049906</td>\n",
       "      <td>0.066528</td>\n",
       "      <td>0.191623</td>\n",
       "      <td>...</td>\n",
       "      <td>-0.009193</td>\n",
       "      <td>-0.097276</td>\n",
       "      <td>-0.107703</td>\n",
       "      <td>0.152456</td>\n",
       "      <td>0.249087</td>\n",
       "      <td>0.017335</td>\n",
       "      <td>-0.083465</td>\n",
       "      <td>-0.069013</td>\n",
       "      <td>-0.087316</td>\n",
       "      <td>neutral</td>\n",
       "    </tr>\n",
       "  </tbody>\n",
       "</table>\n",
       "<p>5 rows × 201 columns</p>\n",
       "</div>"
      ],
      "text/plain": [
       "          0         1         2         3         4         5         6  \\\n",
       "0  0.088659  0.112138  0.161445  0.001931  0.316668  0.179604 -0.214201   \n",
       "1  0.134244  0.058785  0.230777  0.053445  0.146164  0.061137 -0.075396   \n",
       "2  0.267114 -0.152474  0.165373  0.157845  0.093746  0.082521 -0.252882   \n",
       "3  0.206498  0.074521  0.174805  0.071128  0.256123  0.156303 -0.143186   \n",
       "4  0.064239 -0.079620  0.062374  0.000292  0.297556  0.206739 -0.216018   \n",
       "\n",
       "          7         8         9  ...       191       192       193       194  \\\n",
       "0  0.167260  0.085163  0.194139  ...  0.008272  0.060889 -0.088720  0.122241   \n",
       "1  0.110987 -0.053461  0.155229  ... -0.005166  0.066333 -0.141629  0.035456   \n",
       "2  0.093548 -0.156137  0.172663  ... -0.062171 -0.090976 -0.085709  0.106496   \n",
       "3  0.114222 -0.055132  0.036289  ... -0.039531  0.068759 -0.129851 -0.141814   \n",
       "4  0.049906  0.066528  0.191623  ... -0.009193 -0.097276 -0.107703  0.152456   \n",
       "\n",
       "        195       196       197       198       199  sentiment  \n",
       "0  0.190579  0.021987 -0.051598 -0.005356  0.134056    neutral  \n",
       "1  0.329494 -0.048746 -0.096891 -0.019531  0.076015    neutral  \n",
       "2  0.096173  0.193045 -0.021638 -0.194595 -0.037425   negative  \n",
       "3  0.221379  0.072579 -0.101745 -0.137928  0.219422    neutral  \n",
       "4  0.249087  0.017335 -0.083465 -0.069013 -0.087316    neutral  \n",
       "\n",
       "[5 rows x 201 columns]"
      ]
     },
     "execution_count": 79,
     "metadata": {},
     "output_type": "execute_result"
    }
   ],
   "source": [
    "lyric_vector = pd.DataFrame(vector)\n",
    "lyric_vector['sentiment'] = pd.DataFrame(df['sentiment'])\n",
    "lyric_vector.head()"
   ]
  },
  {
   "cell_type": "markdown",
   "metadata": {},
   "source": [
    "# Preparing training and test set"
   ]
  },
  {
   "cell_type": "code",
   "execution_count": 80,
   "metadata": {},
   "outputs": [],
   "source": [
    "X = lyric_vector.drop('sentiment',axis = 1)\n",
    "y = lyric_vector['sentiment']\n",
    "\n",
    "X_train,X_test,y_train,y_test = train_test_split(X,y,test_size = .2,random_state =42)"
   ]
  },
  {
   "cell_type": "markdown",
   "metadata": {},
   "source": [
    "# Classification!"
   ]
  },
  {
   "cell_type": "markdown",
   "metadata": {},
   "source": [
    "## RandomForestClassifier"
   ]
  },
  {
   "cell_type": "code",
   "execution_count": 81,
   "metadata": {},
   "outputs": [
    {
     "name": "stdout",
     "output_type": "stream",
     "text": [
      "Model Accuracy: 0.467667\n"
     ]
    }
   ],
   "source": [
    "from sklearn.ensemble import RandomForestClassifier\n",
    "\n",
    "\n",
    "rf_model = RandomForestClassifier()\n",
    "\n",
    "\n",
    "# Fit our model with our training data.\n",
    "rf_model.fit(X_train, y_train)\n",
    "\n",
    "\n",
    "# Make new predictions of our testing data. \n",
    "y_pred = rf_model.predict(X_test)\n",
    "\n",
    "\n",
    "# Make predicted probabilites of our testing data\n",
    "y_pred_proba = rf_model.predict_proba(X_test)\n",
    "\n",
    "# Evaluate our model\n",
    "accuracy =  rf_model.score(X_test, y_test)\n",
    "\n",
    "# Print our evaluation metrics\n",
    "print(\"Model Accuracy: %f\" % accuracy)\n"
   ]
  },
  {
   "cell_type": "code",
   "execution_count": 88,
   "metadata": {},
   "outputs": [
    {
     "name": "stdout",
     "output_type": "stream",
     "text": [
      "{'criterion': 'gini', 'n_estimators': 1000}\n"
     ]
    }
   ],
   "source": [
    "params = {\n",
    "    'n_estimators' : [5, 100, 1000],\n",
    "    'criterion' : ['gini', 'entropy'],\n",
    "    \n",
    "}\n",
    "\n",
    "grid_search_cv = GridSearchCV( \n",
    "    estimator=RandomForestClassifier(), \n",
    "    param_grid=params,\n",
    "    scoring='f1_macro', )\n",
    "\n",
    "\n",
    "# Now, with one easy command, fit all combination of trees. \n",
    "grid_search_cv.fit(X_train, y_train)\n",
    "\n",
    "\n",
    "# Print the best parameters it found\n",
    "print(grid_search_cv.best_params_)\n",
    "\n",
    "\n",
    "# This command gives you model that has the highest f1-score. \n",
    "model = grid_search_cv.best_estimator_"
   ]
  },
  {
   "cell_type": "code",
   "execution_count": 92,
   "metadata": {},
   "outputs": [
    {
     "name": "stdout",
     "output_type": "stream",
     "text": [
      "Accuracy Score: 0.488333\n",
      "Precision Score: 0.520504\n",
      "Recall Score: 0.454463\n"
     ]
    },
    {
     "ename": "NameError",
     "evalue": "name 'f1_score' is not defined",
     "output_type": "error",
     "traceback": [
      "\u001b[1;31m---------------------------------------------------------------------------\u001b[0m",
      "\u001b[1;31mNameError\u001b[0m                                 Traceback (most recent call last)",
      "Input \u001b[1;32mIn [92]\u001b[0m, in \u001b[0;36m<module>\u001b[1;34m\u001b[0m\n\u001b[0;32m     10\u001b[0m recall \u001b[38;5;241m=\u001b[39m recall_score(y_true\u001b[38;5;241m=\u001b[39my_test, y_pred\u001b[38;5;241m=\u001b[39my_pred,average \u001b[38;5;241m=\u001b[39m \u001b[38;5;124m'\u001b[39m\u001b[38;5;124mmacro\u001b[39m\u001b[38;5;124m'\u001b[39m)\n\u001b[0;32m     11\u001b[0m \u001b[38;5;28mprint\u001b[39m(\u001b[38;5;124m\"\u001b[39m\u001b[38;5;124mRecall Score: \u001b[39m\u001b[38;5;132;01m%f\u001b[39;00m\u001b[38;5;124m\"\u001b[39m \u001b[38;5;241m%\u001b[39m recall)\n\u001b[1;32m---> 13\u001b[0m f1 \u001b[38;5;241m=\u001b[39m \u001b[43mf1_score\u001b[49m(y_true\u001b[38;5;241m=\u001b[39my_test, y_pred\u001b[38;5;241m=\u001b[39my_pred,average \u001b[38;5;241m=\u001b[39m \u001b[38;5;124m'\u001b[39m\u001b[38;5;124mmacro\u001b[39m\u001b[38;5;124m'\u001b[39m)\n\u001b[0;32m     14\u001b[0m \u001b[38;5;28mprint\u001b[39m(\u001b[38;5;124m'\u001b[39m\u001b[38;5;124mF1 Score: \u001b[39m\u001b[38;5;132;01m%f\u001b[39;00m\u001b[38;5;124m'\u001b[39m \u001b[38;5;241m%\u001b[39m f1)\n",
      "\u001b[1;31mNameError\u001b[0m: name 'f1_score' is not defined"
     ]
    }
   ],
   "source": [
    "\n",
    "\n",
    "# Now lets evaluate our model\n",
    "y_pred = model.predict(X_test)\n",
    "\n",
    "accuracy = accuracy_score(y_true=y_test, y_pred=y_pred)\n",
    "print(\"Accuracy Score: %f\" % accuracy)\n",
    "\n",
    "precision = precision_score(y_true=y_test, y_pred=y_pred,average = 'macro')\n",
    "print(\"Precision Score: %f\" % precision)\n",
    "\n",
    "recall = recall_score(y_true=y_test, y_pred=y_pred,average = 'macro')\n",
    "print(\"Recall Score: %f\" % recall)\n",
    "\n",
    "f1 = f1_score(y_true=y_test, y_pred=y_pred,average = 'macro')\n",
    "print('F1 Score: %f' % f1)"
   ]
  },
  {
   "cell_type": "code",
   "execution_count": 94,
   "metadata": {},
   "outputs": [
    {
     "name": "stdout",
     "output_type": "stream",
     "text": [
      "training score: 0.9726666666666667\n",
      "testing score: 0.48833333333333334\n"
     ]
    }
   ],
   "source": [
    "training_score = model.score(X_train, y_train)\n",
    "testing_score = model.score(X_test, y_test)\n",
    "\n",
    "print(\"training score:\", training_score)\n",
    "print(\"testing score:\", testing_score)"
   ]
  },
  {
   "cell_type": "code",
   "execution_count": 83,
   "metadata": {},
   "outputs": [
    {
     "name": "stdout",
     "output_type": "stream",
     "text": [
      "training score: 0.5008333333333334\n",
      "testing score: 0.4663333333333333\n"
     ]
    },
    {
     "ename": "NameError",
     "evalue": "name 'precision_score' is not defined",
     "output_type": "error",
     "traceback": [
      "\u001b[1;31m---------------------------------------------------------------------------\u001b[0m",
      "\u001b[1;31mNameError\u001b[0m                                 Traceback (most recent call last)",
      "Input \u001b[1;32mIn [83]\u001b[0m, in \u001b[0;36m<module>\u001b[1;34m\u001b[0m\n\u001b[0;32m      6\u001b[0m \u001b[38;5;28mprint\u001b[39m(\u001b[38;5;124m\"\u001b[39m\u001b[38;5;124mtraining score:\u001b[39m\u001b[38;5;124m\"\u001b[39m, training_score)\n\u001b[0;32m      7\u001b[0m \u001b[38;5;28mprint\u001b[39m(\u001b[38;5;124m\"\u001b[39m\u001b[38;5;124mtesting score:\u001b[39m\u001b[38;5;124m\"\u001b[39m, testing_score)\n\u001b[1;32m----> 8\u001b[0m \u001b[38;5;28mprint\u001b[39m(\u001b[38;5;124m\"\u001b[39m\u001b[38;5;124mprecision score:\u001b[39m\u001b[38;5;124m\"\u001b[39m ,\u001b[43mprecision_score\u001b[49m(y_test,y_pred, average \u001b[38;5;241m=\u001b[39m \u001b[38;5;124m'\u001b[39m\u001b[38;5;124mmacro\u001b[39m\u001b[38;5;124m'\u001b[39m))\n\u001b[0;32m      9\u001b[0m \u001b[38;5;28mprint\u001b[39m(\u001b[38;5;124m\"\u001b[39m\u001b[38;5;124mrecall score:\u001b[39m\u001b[38;5;124m\"\u001b[39m, recall_score(y_test,y_pred, average \u001b[38;5;241m=\u001b[39m \u001b[38;5;124m'\u001b[39m\u001b[38;5;124mmacro\u001b[39m\u001b[38;5;124m'\u001b[39m))\n\u001b[0;32m     10\u001b[0m \u001b[38;5;28mprint\u001b[39m(\u001b[38;5;124m\"\u001b[39m\u001b[38;5;124mf1Score:\u001b[39m\u001b[38;5;124m\"\u001b[39m,f1_score(y_test,y_pred,average\u001b[38;5;241m=\u001b[39m\u001b[38;5;124m'\u001b[39m\u001b[38;5;124mmacro\u001b[39m\u001b[38;5;124m'\u001b[39m))\n",
      "\u001b[1;31mNameError\u001b[0m: name 'precision_score' is not defined"
     ]
    }
   ],
   "source": [
    "\n",
    "\n",
    "logit = log(solver='lbfgs',max_iter=5000).fit(X_train , y_train)\n",
    "training_score = logit.score(X_train, y_train)\n",
    "testing_score = logit.score(X_test, y_test)\n",
    "y_pred = logit.predict(X_test)\n",
    "\n",
    "print(\"training score:\", training_score)\n",
    "print(\"testing score:\", testing_score)\n",
    "print(\"precision score:\" ,precision_score(y_test,y_pred, average = 'macro'))\n",
    "print(\"recall score:\", recall_score(y_test,y_pred, average = 'macro'))\n",
    "print(\"f1Score:\",f1_score(y_test,y_pred,average='macro'))\n",
    "print('Classification Report: \\n',metrics.classification_report(y_test, y_pred))\n",
    "\n"
   ]
  },
  {
   "cell_type": "code",
   "execution_count": null,
   "metadata": {},
   "outputs": [],
   "source": []
  }
 ],
 "metadata": {
  "kernelspec": {
   "display_name": "Python 3",
   "language": "python",
   "name": "python3"
  },
  "language_info": {
   "codemirror_mode": {
    "name": "ipython",
    "version": 3
   },
   "file_extension": ".py",
   "mimetype": "text/x-python",
   "name": "python",
   "nbconvert_exporter": "python",
   "pygments_lexer": "ipython3",
   "version": "3.8.3"
  }
 },
 "nbformat": 4,
 "nbformat_minor": 5
}
