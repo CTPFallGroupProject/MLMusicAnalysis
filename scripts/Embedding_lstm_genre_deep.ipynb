{
 "cells": [
  {
   "cell_type": "code",
   "execution_count": 81,
   "id": "d92550f5",
   "metadata": {},
   "outputs": [],
   "source": [
    "import pandas as pd\n",
    "import numpy as np\n",
    "\n",
    "import re\n",
    "\n",
    "import nltk\n",
    "from nltk.corpus import stopwords\n",
    "from nltk import word_tokenize\n",
    "\n",
    "from sklearn.model_selection import train_test_split\n",
    "\n",
    "from gensim.models import Word2Vec\n",
    "stopwords = stopwords.words('english')\n",
    "\n",
    "\n",
    "from sklearn.naive_bayes import MultinomialNB\n",
    "from sklearn.linear_model import LogisticRegression as log \n",
    "from sklearn.model_selection import GridSearchCV\n",
    "\n",
    "from sklearn.metrics import accuracy_score, precision_score, recall_score, confusion_matrix\n",
    "from sklearn import metrics    \n",
    "\n",
    "import matplotlib.pyplot as plt"
   ]
  },
  {
   "cell_type": "code",
   "execution_count": 6,
   "id": "74b1411b",
   "metadata": {},
   "outputs": [],
   "source": [
    "from keras.preprocessing.text import Tokenizer\n",
    "from keras.layers import Dense, Flatten\n",
    "from tensorflow.keras.layers import Embedding\n",
    "from keras.models import Sequential\n",
    "from keras.layers import Dense, Conv1D, MaxPooling1D, GlobalMaxPooling1D\n",
    "from keras.layers import Dense, Input, Flatten\n",
    "\n",
    "from keras.utils import pad_sequences\n",
    "from keras.utils.np_utils import to_categorical\n",
    "import pandas as pd\n",
    "\n",
    "from tqdm import tqdm\n",
    "import numpy as np"
   ]
  },
  {
   "cell_type": "code",
   "execution_count": 2,
   "id": "bf99d4f5",
   "metadata": {},
   "outputs": [
    {
     "data": {
      "text/plain": [
       "Pop        57357\n",
       "Rock       26756\n",
       "Country     7440\n",
       "Rap         5959\n",
       "R&B         4773\n",
       "Name: genre, dtype: int64"
      ]
     },
     "execution_count": 2,
     "metadata": {},
     "output_type": "execute_result"
    }
   ],
   "source": [
    "df = pd.read_csv('labeled_lyrics_w_genres.csv')\n",
    "df.head()\n",
    "\n",
    "df = df.drop(columns = ['Unnamed: 0','Unnamed: 0.1'],axis = 1)\n",
    "\n",
    "df_dropped = df[(df['genre'] == 'No_genre') | (df['genre'] == 'Non-Music')].index\n",
    "df.drop(df_dropped, inplace=True, axis='index')\n",
    "\n",
    "df['genre'].value_counts()"
   ]
  },
  {
   "cell_type": "code",
   "execution_count": 4,
   "id": "b55c69b5",
   "metadata": {},
   "outputs": [
    {
     "data": {
      "text/plain": [
       "(4000, 5)"
      ]
     },
     "execution_count": 4,
     "metadata": {},
     "output_type": "execute_result"
    }
   ],
   "source": [
    "df_balanced = \"\"\n",
    "\n",
    "cond = df['genre'] == 'Pop'\n",
    "df_pop = df[cond]\n",
    "df_pop = df_pop[0:4000]\n",
    "\n",
    "cond = df['genre'] == 'Rock'\n",
    "df_rock = df[cond]\n",
    "df_rock = df_rock[0:4000]\n",
    "df_rock.shape\n",
    "\n",
    "cond = df['genre'] == 'Country'\n",
    "df_country = df[cond]\n",
    "df_country = df_country[0:4000]\n",
    "df_country.shape\n",
    "\n",
    "cond = df['genre'] == 'Rap'\n",
    "df_rap = df[cond]\n",
    "df_rap = df_rap[0:4000]\n",
    "df_rap.shape\n",
    "\n",
    "cond = df['genre'] == 'R&B'\n",
    "df_r_b = df[cond]\n",
    "df_r_b = df_r_b[0:4000]\n",
    "df_r_b.shape"
   ]
  },
  {
   "cell_type": "code",
   "execution_count": 5,
   "id": "2cfc7ce7",
   "metadata": {},
   "outputs": [
    {
     "data": {
      "text/plain": [
       "Pop        4000\n",
       "Rock       4000\n",
       "Country    4000\n",
       "Rap        4000\n",
       "R&B        4000\n",
       "Name: genre, dtype: int64"
      ]
     },
     "execution_count": 5,
     "metadata": {},
     "output_type": "execute_result"
    }
   ],
   "source": [
    "df_balanced = pd.concat([df_pop, df_rock, df_country, df_rap, df_r_b], axis = 0)\n",
    "\n",
    "df_balanced['genre'].value_counts()"
   ]
  },
  {
   "cell_type": "code",
   "execution_count": 7,
   "id": "779a51f4",
   "metadata": {},
   "outputs": [],
   "source": [
    "#Remove numbers\n",
    "def remove_numbers(input):\n",
    "    input = word_tokenize(input)\n",
    "    without_sw = [word for word in input \n",
    "                  if word.isalpha()]\n",
    "    return ' '.join(without_sw)\n",
    "\n",
    "# 1. function that makes all text lowercase.\n",
    "def make_lowercase(test_string):\n",
    "    return test_string.lower()\n",
    "\n",
    "# 2. function that removes all punctuation. \n",
    "def remove_punc(test_string):\n",
    "    test_string = re.sub(r'[^\\w\\s]', '', test_string)\n",
    "    return test_string\n",
    "\n",
    "# 3. function that removes all stopwords.\n",
    "def remove_sw(input):\n",
    "    input = word_tokenize(input)\n",
    "    without_sw = [word for word in input \n",
    "                  if word not in stopwords]\n",
    "    return ' '.join(without_sw)\n",
    "\n",
    "# 4. function to break words into their stem words\n",
    "def stem_words(input):\n",
    "    stemming = PorterStemmer()\n",
    "    tokenized_words = word_tokenize(input)\n",
    "    \n",
    "    stemmed_words = [stemming.stem(word) for word in tokenized_words]\n",
    "    return ' '.join(stemmed_words)"
   ]
  },
  {
   "cell_type": "code",
   "execution_count": 8,
   "id": "c07d0c74",
   "metadata": {},
   "outputs": [],
   "source": [
    "# Pipeline\n",
    "\n",
    "def text_processing_pipeline(a_string):\n",
    "    a_string = make_lowercase(a_string)\n",
    "    a_string = remove_numbers(a_string)\n",
    "    a_string = remove_punc(a_string)\n",
    "    a_string = remove_sw(a_string)\n",
    "    #a_string = stem_words(a_string)\n",
    "    return a_string"
   ]
  },
  {
   "cell_type": "code",
   "execution_count": 9,
   "id": "d0444cd6",
   "metadata": {},
   "outputs": [],
   "source": [
    "df_balanced['seq_clean'] = df_balanced['seq'].apply(lambda x: text_processing_pipeline(x))"
   ]
  },
  {
   "cell_type": "code",
   "execution_count": 56,
   "id": "065e8c72",
   "metadata": {},
   "outputs": [
    {
     "data": {
      "text/html": [
       "<div>\n",
       "<style scoped>\n",
       "    .dataframe tbody tr th:only-of-type {\n",
       "        vertical-align: middle;\n",
       "    }\n",
       "\n",
       "    .dataframe tbody tr th {\n",
       "        vertical-align: top;\n",
       "    }\n",
       "\n",
       "    .dataframe thead th {\n",
       "        text-align: right;\n",
       "    }\n",
       "</style>\n",
       "<table border=\"1\" class=\"dataframe\">\n",
       "  <thead>\n",
       "    <tr style=\"text-align: right;\">\n",
       "      <th></th>\n",
       "      <th>artist</th>\n",
       "      <th>seq</th>\n",
       "      <th>song</th>\n",
       "      <th>label</th>\n",
       "      <th>genre</th>\n",
       "      <th>seq_clean</th>\n",
       "    </tr>\n",
       "  </thead>\n",
       "  <tbody>\n",
       "    <tr>\n",
       "      <th>1</th>\n",
       "      <td>Elijah Blake</td>\n",
       "      <td>The drinks go down and smoke goes up, I feel m...</td>\n",
       "      <td>Live Till We Die</td>\n",
       "      <td>0.630</td>\n",
       "      <td>Pop</td>\n",
       "      <td>drinks go smoke goes feel got let go cares get...</td>\n",
       "    </tr>\n",
       "    <tr>\n",
       "      <th>7</th>\n",
       "      <td>Elis</td>\n",
       "      <td>Dieses ist lange her.\\r\\nDa ich deine schmalen...</td>\n",
       "      <td>Abendlied</td>\n",
       "      <td>0.333</td>\n",
       "      <td>Pop</td>\n",
       "      <td>dieses ist lange da ich deine schmalen hande n...</td>\n",
       "    </tr>\n",
       "    <tr>\n",
       "      <th>8</th>\n",
       "      <td>Elis</td>\n",
       "      <td>A child is born\\r\\nOut of the womb of a mother...</td>\n",
       "      <td>Child</td>\n",
       "      <td>0.506</td>\n",
       "      <td>Pop</td>\n",
       "      <td>child born womb mother want happened night dru...</td>\n",
       "    </tr>\n",
       "    <tr>\n",
       "      <th>9</th>\n",
       "      <td>Elis</td>\n",
       "      <td>Out of the darkness you came \\r\\nYou looked so...</td>\n",
       "      <td>Come to Me</td>\n",
       "      <td>0.179</td>\n",
       "      <td>Pop</td>\n",
       "      <td>darkness came looked tired sad asked answered ...</td>\n",
       "    </tr>\n",
       "    <tr>\n",
       "      <th>10</th>\n",
       "      <td>Elis</td>\n",
       "      <td>Each night I lie in my bed \\r\\nAnd I think abo...</td>\n",
       "      <td>Do You Believe</td>\n",
       "      <td>0.209</td>\n",
       "      <td>Pop</td>\n",
       "      <td>night lie bed think oh dark friend give answer...</td>\n",
       "    </tr>\n",
       "  </tbody>\n",
       "</table>\n",
       "</div>"
      ],
      "text/plain": [
       "          artist                                                seq  \\\n",
       "1   Elijah Blake  The drinks go down and smoke goes up, I feel m...   \n",
       "7           Elis  Dieses ist lange her.\\r\\nDa ich deine schmalen...   \n",
       "8           Elis  A child is born\\r\\nOut of the womb of a mother...   \n",
       "9           Elis  Out of the darkness you came \\r\\nYou looked so...   \n",
       "10          Elis  Each night I lie in my bed \\r\\nAnd I think abo...   \n",
       "\n",
       "                song  label genre  \\\n",
       "1   Live Till We Die  0.630   Pop   \n",
       "7          Abendlied  0.333   Pop   \n",
       "8              Child  0.506   Pop   \n",
       "9         Come to Me  0.179   Pop   \n",
       "10    Do You Believe  0.209   Pop   \n",
       "\n",
       "                                            seq_clean  \n",
       "1   drinks go smoke goes feel got let go cares get...  \n",
       "7   dieses ist lange da ich deine schmalen hande n...  \n",
       "8   child born womb mother want happened night dru...  \n",
       "9   darkness came looked tired sad asked answered ...  \n",
       "10  night lie bed think oh dark friend give answer...  "
      ]
     },
     "execution_count": 56,
     "metadata": {},
     "output_type": "execute_result"
    }
   ],
   "source": [
    "df_balanced.head()"
   ]
  },
  {
   "cell_type": "code",
   "execution_count": 20,
   "id": "535ac026",
   "metadata": {},
   "outputs": [],
   "source": [
    "X = df_balanced.seq_clean.apply(lambda x: word_tokenize(x))"
   ]
  },
  {
   "cell_type": "code",
   "execution_count": 21,
   "id": "c4742ada",
   "metadata": {},
   "outputs": [
    {
     "data": {
      "text/plain": [
       "20000"
      ]
     },
     "execution_count": 21,
     "metadata": {},
     "output_type": "execute_result"
    }
   ],
   "source": [
    "len(X)"
   ]
  },
  {
   "cell_type": "code",
   "execution_count": 22,
   "id": "502d8ac2",
   "metadata": {},
   "outputs": [],
   "source": [
    "word2vec_model = Word2Vec(X, vector_size = 250, sg=1, workers=4)"
   ]
  },
  {
   "cell_type": "code",
   "execution_count": 23,
   "id": "e56e899f",
   "metadata": {},
   "outputs": [
    {
     "data": {
      "text/plain": [
       "(248207082, 281636700)"
      ]
     },
     "execution_count": 23,
     "metadata": {},
     "output_type": "execute_result"
    }
   ],
   "source": [
    "word2vec_model.train(X, total_examples=20000, epochs=100)"
   ]
  },
  {
   "cell_type": "code",
   "execution_count": 24,
   "id": "2106a981",
   "metadata": {},
   "outputs": [],
   "source": [
    "word2vec_model.save(\"word2vec.model\")"
   ]
  },
  {
   "cell_type": "code",
   "execution_count": 43,
   "id": "6f9e3de2",
   "metadata": {},
   "outputs": [
    {
     "data": {
      "text/plain": [
       "[('blaring', 0.3584658205509186),\n",
       " ('outshine', 0.33836624026298523),\n",
       " ('tater', 0.33717799186706543),\n",
       " ('maddening', 0.33615100383758545),\n",
       " ('egypt', 0.3255713880062103),\n",
       " ('plantin', 0.32503318786621094),\n",
       " ('twang', 0.3224688768386841),\n",
       " ('password', 0.31763532757759094),\n",
       " ('allowing', 0.3130062222480774),\n",
       " ('geordie', 0.3123916983604431)]"
      ]
     },
     "execution_count": 43,
     "metadata": {},
     "output_type": "execute_result"
    }
   ],
   "source": [
    "word2vec_model.wv.most_similar(positive ='country')"
   ]
  },
  {
   "cell_type": "code",
   "execution_count": 30,
   "id": "cdf4e805",
   "metadata": {},
   "outputs": [],
   "source": [
    "w2v_words = list(word2vec_model.wv.key_to_index)"
   ]
  },
  {
   "cell_type": "code",
   "execution_count": 42,
   "id": "0a45fb17",
   "metadata": {
    "scrolled": false
   },
   "outputs": [
    {
     "data": {
      "text/plain": [
       "250"
      ]
     },
     "execution_count": 42,
     "metadata": {},
     "output_type": "execute_result"
    }
   ],
   "source": [
    "word2vec_model.vector_size"
   ]
  },
  {
   "cell_type": "code",
   "execution_count": 45,
   "id": "40350144",
   "metadata": {},
   "outputs": [],
   "source": [
    "w2v_words = list(word2vec_model.wv.key_to_index)\n",
    "def lyric_vector(tokens, size):\n",
    "    sent = np.zeros(250)\n",
    "    count = 0\n",
    "    for word in tokens:\n",
    "        if word in w2v_words:\n",
    "            vec = word2vec_model.wv[word]\n",
    "            sent += vec\n",
    "            count += 1\n",
    "    if count != 0:\n",
    "        sent /= count\n",
    "    return sent"
   ]
  },
  {
   "cell_type": "code",
   "execution_count": 46,
   "id": "307a82b7",
   "metadata": {},
   "outputs": [],
   "source": [
    "vector = []\n",
    "for sent in X:\n",
    "    sentence = lyric_vector(sent, 200)\n",
    "    vector.append(sentence)"
   ]
  },
  {
   "cell_type": "code",
   "execution_count": 48,
   "id": "ffe74dac",
   "metadata": {},
   "outputs": [
    {
     "data": {
      "text/html": [
       "<div>\n",
       "<style scoped>\n",
       "    .dataframe tbody tr th:only-of-type {\n",
       "        vertical-align: middle;\n",
       "    }\n",
       "\n",
       "    .dataframe tbody tr th {\n",
       "        vertical-align: top;\n",
       "    }\n",
       "\n",
       "    .dataframe thead th {\n",
       "        text-align: right;\n",
       "    }\n",
       "</style>\n",
       "<table border=\"1\" class=\"dataframe\">\n",
       "  <thead>\n",
       "    <tr style=\"text-align: right;\">\n",
       "      <th></th>\n",
       "      <th>0</th>\n",
       "      <th>1</th>\n",
       "      <th>2</th>\n",
       "      <th>3</th>\n",
       "      <th>4</th>\n",
       "      <th>5</th>\n",
       "      <th>6</th>\n",
       "      <th>7</th>\n",
       "      <th>8</th>\n",
       "      <th>9</th>\n",
       "      <th>...</th>\n",
       "      <th>241</th>\n",
       "      <th>242</th>\n",
       "      <th>243</th>\n",
       "      <th>244</th>\n",
       "      <th>245</th>\n",
       "      <th>246</th>\n",
       "      <th>247</th>\n",
       "      <th>248</th>\n",
       "      <th>249</th>\n",
       "      <th>genre</th>\n",
       "    </tr>\n",
       "  </thead>\n",
       "  <tbody>\n",
       "    <tr>\n",
       "      <th>0</th>\n",
       "      <td>-0.003442</td>\n",
       "      <td>-0.009845</td>\n",
       "      <td>0.033642</td>\n",
       "      <td>0.017867</td>\n",
       "      <td>-0.108870</td>\n",
       "      <td>0.080865</td>\n",
       "      <td>-0.016341</td>\n",
       "      <td>0.127219</td>\n",
       "      <td>-0.008023</td>\n",
       "      <td>0.064092</td>\n",
       "      <td>...</td>\n",
       "      <td>-0.080286</td>\n",
       "      <td>-0.046972</td>\n",
       "      <td>0.109665</td>\n",
       "      <td>-0.070063</td>\n",
       "      <td>0.022983</td>\n",
       "      <td>0.204102</td>\n",
       "      <td>-0.211368</td>\n",
       "      <td>0.015924</td>\n",
       "      <td>0.075099</td>\n",
       "      <td>R&amp;B</td>\n",
       "    </tr>\n",
       "    <tr>\n",
       "      <th>1</th>\n",
       "      <td>0.255161</td>\n",
       "      <td>0.016113</td>\n",
       "      <td>-0.141956</td>\n",
       "      <td>0.126649</td>\n",
       "      <td>-0.660588</td>\n",
       "      <td>0.432395</td>\n",
       "      <td>0.049746</td>\n",
       "      <td>0.324717</td>\n",
       "      <td>0.276112</td>\n",
       "      <td>0.297900</td>\n",
       "      <td>...</td>\n",
       "      <td>-0.490461</td>\n",
       "      <td>-0.639241</td>\n",
       "      <td>-0.026243</td>\n",
       "      <td>0.107472</td>\n",
       "      <td>0.516244</td>\n",
       "      <td>0.618618</td>\n",
       "      <td>-0.852951</td>\n",
       "      <td>-0.224987</td>\n",
       "      <td>0.202187</td>\n",
       "      <td>Pop</td>\n",
       "    </tr>\n",
       "    <tr>\n",
       "      <th>2</th>\n",
       "      <td>0.059246</td>\n",
       "      <td>0.086929</td>\n",
       "      <td>-0.028027</td>\n",
       "      <td>0.117113</td>\n",
       "      <td>-0.130827</td>\n",
       "      <td>0.086468</td>\n",
       "      <td>0.168874</td>\n",
       "      <td>0.176982</td>\n",
       "      <td>0.040304</td>\n",
       "      <td>0.100041</td>\n",
       "      <td>...</td>\n",
       "      <td>-0.144587</td>\n",
       "      <td>0.103171</td>\n",
       "      <td>0.063966</td>\n",
       "      <td>-0.039830</td>\n",
       "      <td>-0.011357</td>\n",
       "      <td>0.169608</td>\n",
       "      <td>-0.010939</td>\n",
       "      <td>0.126084</td>\n",
       "      <td>-0.156405</td>\n",
       "      <td>R&amp;B</td>\n",
       "    </tr>\n",
       "    <tr>\n",
       "      <th>3</th>\n",
       "      <td>0.040458</td>\n",
       "      <td>0.007651</td>\n",
       "      <td>0.085805</td>\n",
       "      <td>0.007954</td>\n",
       "      <td>-0.076782</td>\n",
       "      <td>0.055943</td>\n",
       "      <td>0.112457</td>\n",
       "      <td>-0.001349</td>\n",
       "      <td>0.048217</td>\n",
       "      <td>-0.027759</td>\n",
       "      <td>...</td>\n",
       "      <td>-0.080867</td>\n",
       "      <td>0.081536</td>\n",
       "      <td>0.005493</td>\n",
       "      <td>-0.018395</td>\n",
       "      <td>0.039758</td>\n",
       "      <td>0.277116</td>\n",
       "      <td>-0.085474</td>\n",
       "      <td>-0.048438</td>\n",
       "      <td>0.066239</td>\n",
       "      <td>R&amp;B</td>\n",
       "    </tr>\n",
       "    <tr>\n",
       "      <th>4</th>\n",
       "      <td>0.079064</td>\n",
       "      <td>-0.127495</td>\n",
       "      <td>-0.035198</td>\n",
       "      <td>0.046875</td>\n",
       "      <td>-0.217552</td>\n",
       "      <td>0.071098</td>\n",
       "      <td>0.105536</td>\n",
       "      <td>0.128783</td>\n",
       "      <td>0.083611</td>\n",
       "      <td>-0.024084</td>\n",
       "      <td>...</td>\n",
       "      <td>-0.098803</td>\n",
       "      <td>-0.053946</td>\n",
       "      <td>0.058641</td>\n",
       "      <td>0.017946</td>\n",
       "      <td>-0.015124</td>\n",
       "      <td>0.246829</td>\n",
       "      <td>-0.046775</td>\n",
       "      <td>-0.025265</td>\n",
       "      <td>0.057481</td>\n",
       "      <td>R&amp;B</td>\n",
       "    </tr>\n",
       "  </tbody>\n",
       "</table>\n",
       "<p>5 rows × 251 columns</p>\n",
       "</div>"
      ],
      "text/plain": [
       "          0         1         2         3         4         5         6  \\\n",
       "0 -0.003442 -0.009845  0.033642  0.017867 -0.108870  0.080865 -0.016341   \n",
       "1  0.255161  0.016113 -0.141956  0.126649 -0.660588  0.432395  0.049746   \n",
       "2  0.059246  0.086929 -0.028027  0.117113 -0.130827  0.086468  0.168874   \n",
       "3  0.040458  0.007651  0.085805  0.007954 -0.076782  0.055943  0.112457   \n",
       "4  0.079064 -0.127495 -0.035198  0.046875 -0.217552  0.071098  0.105536   \n",
       "\n",
       "          7         8         9  ...       241       242       243       244  \\\n",
       "0  0.127219 -0.008023  0.064092  ... -0.080286 -0.046972  0.109665 -0.070063   \n",
       "1  0.324717  0.276112  0.297900  ... -0.490461 -0.639241 -0.026243  0.107472   \n",
       "2  0.176982  0.040304  0.100041  ... -0.144587  0.103171  0.063966 -0.039830   \n",
       "3 -0.001349  0.048217 -0.027759  ... -0.080867  0.081536  0.005493 -0.018395   \n",
       "4  0.128783  0.083611 -0.024084  ... -0.098803 -0.053946  0.058641  0.017946   \n",
       "\n",
       "        245       246       247       248       249  genre  \n",
       "0  0.022983  0.204102 -0.211368  0.015924  0.075099    R&B  \n",
       "1  0.516244  0.618618 -0.852951 -0.224987  0.202187    Pop  \n",
       "2 -0.011357  0.169608 -0.010939  0.126084 -0.156405    R&B  \n",
       "3  0.039758  0.277116 -0.085474 -0.048438  0.066239    R&B  \n",
       "4 -0.015124  0.246829 -0.046775 -0.025265  0.057481    R&B  \n",
       "\n",
       "[5 rows x 251 columns]"
      ]
     },
     "execution_count": 48,
     "metadata": {},
     "output_type": "execute_result"
    }
   ],
   "source": [
    "lyric_vector = pd.DataFrame(vector)\n",
    "lyric_vector['genre'] = pd.DataFrame(df['genre'])\n",
    "lyric_vector.head()"
   ]
  },
  {
   "cell_type": "code",
   "execution_count": null,
   "id": "a7b0f65a",
   "metadata": {},
   "outputs": [],
   "source": []
  },
  {
   "cell_type": "code",
   "execution_count": null,
   "id": "cb8237ae",
   "metadata": {},
   "outputs": [],
   "source": [
    "df['genre']"
   ]
  },
  {
   "cell_type": "code",
   "execution_count": 69,
   "id": "88cf6c17",
   "metadata": {},
   "outputs": [],
   "source": [
    "from sklearn.preprocessing import LabelEncoder\n",
    "df = df_balanced.sample(frac=1)\n",
    "labelencoder = LabelEncoder()\n",
    "df['genre'] = labelencoder.fit_transform(df['genre'])"
   ]
  },
  {
   "cell_type": "code",
   "execution_count": 70,
   "id": "2a9088c6",
   "metadata": {},
   "outputs": [],
   "source": [
    "X = df['seq_clean']\n",
    "\n",
    "y = df['genre'].values\n",
    "\n",
    "y = to_categorical( y )\n",
    "X_text = X"
   ]
  },
  {
   "cell_type": "code",
   "execution_count": 74,
   "id": "9d13177b",
   "metadata": {
    "scrolled": true
   },
   "outputs": [
    {
     "ename": "AttributeError",
     "evalue": "'numpy.ndarray' object has no attribute 'lower'",
     "output_type": "error",
     "traceback": [
      "\u001b[1;31m---------------------------------------------------------------------------\u001b[0m",
      "\u001b[1;31mAttributeError\u001b[0m                            Traceback (most recent call last)",
      "Input \u001b[1;32mIn [74]\u001b[0m, in \u001b[0;36m<cell line: 8>\u001b[1;34m()\u001b[0m\n\u001b[0;32m      5\u001b[0m tokenizer \u001b[38;5;241m=\u001b[39m Tokenizer(num_words\u001b[38;5;241m=\u001b[39mmax_words)\n\u001b[0;32m      7\u001b[0m \u001b[38;5;66;03m# Fit the tokenizer\u001b[39;00m\n\u001b[1;32m----> 8\u001b[0m \u001b[43mtokenizer\u001b[49m\u001b[38;5;241;43m.\u001b[39;49m\u001b[43mfit_on_texts\u001b[49m\u001b[43m(\u001b[49m\u001b[43mX\u001b[49m\u001b[43m)\u001b[49m\n\u001b[0;32m     10\u001b[0m \u001b[38;5;66;03m# Create the sequences for each sentence, basically turning each word into its index position\u001b[39;00m\n\u001b[0;32m     11\u001b[0m sequences \u001b[38;5;241m=\u001b[39m tokenizer\u001b[38;5;241m.\u001b[39mtexts_to_sequences(X)\n",
      "File \u001b[1;32m~\\AppData\\Local\\Programs\\Python\\Python310\\lib\\site-packages\\keras\\preprocessing\\text.py:293\u001b[0m, in \u001b[0;36mTokenizer.fit_on_texts\u001b[1;34m(self, texts)\u001b[0m\n\u001b[0;32m    291\u001b[0m \u001b[38;5;28;01melse\u001b[39;00m:\n\u001b[0;32m    292\u001b[0m     \u001b[38;5;28;01mif\u001b[39;00m \u001b[38;5;28mself\u001b[39m\u001b[38;5;241m.\u001b[39manalyzer \u001b[38;5;129;01mis\u001b[39;00m \u001b[38;5;28;01mNone\u001b[39;00m:\n\u001b[1;32m--> 293\u001b[0m         seq \u001b[38;5;241m=\u001b[39m \u001b[43mtext_to_word_sequence\u001b[49m\u001b[43m(\u001b[49m\n\u001b[0;32m    294\u001b[0m \u001b[43m            \u001b[49m\u001b[43mtext\u001b[49m\u001b[43m,\u001b[49m\n\u001b[0;32m    295\u001b[0m \u001b[43m            \u001b[49m\u001b[43mfilters\u001b[49m\u001b[38;5;241;43m=\u001b[39;49m\u001b[38;5;28;43mself\u001b[39;49m\u001b[38;5;241;43m.\u001b[39;49m\u001b[43mfilters\u001b[49m\u001b[43m,\u001b[49m\n\u001b[0;32m    296\u001b[0m \u001b[43m            \u001b[49m\u001b[43mlower\u001b[49m\u001b[38;5;241;43m=\u001b[39;49m\u001b[38;5;28;43mself\u001b[39;49m\u001b[38;5;241;43m.\u001b[39;49m\u001b[43mlower\u001b[49m\u001b[43m,\u001b[49m\n\u001b[0;32m    297\u001b[0m \u001b[43m            \u001b[49m\u001b[43msplit\u001b[49m\u001b[38;5;241;43m=\u001b[39;49m\u001b[38;5;28;43mself\u001b[39;49m\u001b[38;5;241;43m.\u001b[39;49m\u001b[43msplit\u001b[49m\u001b[43m,\u001b[49m\n\u001b[0;32m    298\u001b[0m \u001b[43m        \u001b[49m\u001b[43m)\u001b[49m\n\u001b[0;32m    299\u001b[0m     \u001b[38;5;28;01melse\u001b[39;00m:\n\u001b[0;32m    300\u001b[0m         seq \u001b[38;5;241m=\u001b[39m \u001b[38;5;28mself\u001b[39m\u001b[38;5;241m.\u001b[39manalyzer(text)\n",
      "File \u001b[1;32m~\\AppData\\Local\\Programs\\Python\\Python310\\lib\\site-packages\\keras\\preprocessing\\text.py:74\u001b[0m, in \u001b[0;36mtext_to_word_sequence\u001b[1;34m(input_text, filters, lower, split)\u001b[0m\n\u001b[0;32m     46\u001b[0m \u001b[38;5;124mr\u001b[39m\u001b[38;5;124;03m\"\"\"Converts a text to a sequence of words (or tokens).\u001b[39;00m\n\u001b[0;32m     47\u001b[0m \n\u001b[0;32m     48\u001b[0m \u001b[38;5;124;03mDeprecated: `tf.keras.preprocessing.text.text_to_word_sequence` does not\u001b[39;00m\n\u001b[1;32m   (...)\u001b[0m\n\u001b[0;32m     71\u001b[0m \u001b[38;5;124;03m    A list of words (or tokens).\u001b[39;00m\n\u001b[0;32m     72\u001b[0m \u001b[38;5;124;03m\"\"\"\u001b[39;00m\n\u001b[0;32m     73\u001b[0m \u001b[38;5;28;01mif\u001b[39;00m lower:\n\u001b[1;32m---> 74\u001b[0m     input_text \u001b[38;5;241m=\u001b[39m \u001b[43minput_text\u001b[49m\u001b[38;5;241;43m.\u001b[39;49m\u001b[43mlower\u001b[49m()\n\u001b[0;32m     76\u001b[0m translate_dict \u001b[38;5;241m=\u001b[39m {c: split \u001b[38;5;28;01mfor\u001b[39;00m c \u001b[38;5;129;01min\u001b[39;00m filters}\n\u001b[0;32m     77\u001b[0m translate_map \u001b[38;5;241m=\u001b[39m \u001b[38;5;28mstr\u001b[39m\u001b[38;5;241m.\u001b[39mmaketrans(translate_dict)\n",
      "\u001b[1;31mAttributeError\u001b[0m: 'numpy.ndarray' object has no attribute 'lower'"
     ]
    }
   ],
   "source": [
    "# Limiting our tokenizers vocab size\n",
    "max_words = 25000\n",
    "\n",
    "# create the tokenizer\n",
    "tokenizer = Tokenizer(num_words=max_words)\n",
    "\n",
    "# Fit the tokenizer\n",
    "tokenizer.fit_on_texts(X)\n",
    "\n",
    "# Create the sequences for each sentence, basically turning each word into its index position\n",
    "sequences = tokenizer.texts_to_sequences(X)\n",
    "\n",
    "index_word = tokenizer.index_word\n",
    "\n",
    "# # Limiting our sequence to only include 500 words\n",
    "max_length = 500\n",
    "\n",
    "# # Convert the sequences to all be the same length of 500\n",
    "X = pad_sequences(sequences, maxlen=max_length, padding='post')"
   ]
  },
  {
   "cell_type": "code",
   "execution_count": 78,
   "id": "33c515bb",
   "metadata": {},
   "outputs": [
    {
     "name": "stdout",
     "output_type": "stream",
     "text": [
      "Model: \"sequential_1\"\n",
      "_________________________________________________________________\n",
      " Layer (type)                Output Shape              Param #   \n",
      "=================================================================\n",
      " embedding_1 (Embedding)     (None, 500, 32)           800000    \n",
      "                                                                 \n",
      " flatten_1 (Flatten)         (None, 16000)             0         \n",
      "                                                                 \n",
      " dense_2 (Dense)             (None, 128)               2048128   \n",
      "                                                                 \n",
      " dense_3 (Dense)             (None, 5)                 645       \n",
      "                                                                 \n",
      "=================================================================\n",
      "Total params: 2,848,773\n",
      "Trainable params: 2,848,773\n",
      "Non-trainable params: 0\n",
      "_________________________________________________________________\n"
     ]
    }
   ],
   "source": [
    "# This creates the Neural Network\n",
    "model = Sequential() \n",
    "\n",
    "# This embedding layer basically will automatically create the word2vec vectors based on your text data.\n",
    "model.add( Embedding(max_words, 32, input_length=max_length) ) \n",
    "\n",
    "\n",
    "model.add(Flatten())\n",
    "\n",
    "model.add(Dense(128, activation='relu'))\n",
    "\n",
    "\n",
    "model.add(Dense(5, activation='softmax'))\n",
    "\n",
    "model.compile(loss='categorical_crossentropy', optimizer='adam', metrics=['accuracy']) \n",
    "\n",
    "model.summary()"
   ]
  },
  {
   "cell_type": "code",
   "execution_count": 79,
   "id": "c06f31ee",
   "metadata": {},
   "outputs": [
    {
     "name": "stdout",
     "output_type": "stream",
     "text": [
      "Epoch 1/20\n",
      "800/800 [==============================] - 18s 22ms/step - loss: 1.1922 - accuracy: 0.4863 - val_loss: 1.0873 - val_accuracy: 0.5610\n",
      "Epoch 2/20\n",
      "800/800 [==============================] - 16s 20ms/step - loss: 0.6754 - accuracy: 0.7466 - val_loss: 1.2162 - val_accuracy: 0.5282\n",
      "Epoch 3/20\n",
      "800/800 [==============================] - 17s 21ms/step - loss: 0.1883 - accuracy: 0.9463 - val_loss: 1.6325 - val_accuracy: 0.5165\n",
      "Epoch 4/20\n",
      "800/800 [==============================] - 16s 20ms/step - loss: 0.0678 - accuracy: 0.9852 - val_loss: 1.7948 - val_accuracy: 0.5153\n",
      "Epoch 5/20\n",
      "800/800 [==============================] - 16s 21ms/step - loss: 0.0431 - accuracy: 0.9892 - val_loss: 1.9694 - val_accuracy: 0.5120\n",
      "Epoch 6/20\n",
      "800/800 [==============================] - 17s 21ms/step - loss: 0.0295 - accuracy: 0.9914 - val_loss: 2.2023 - val_accuracy: 0.5002\n",
      "Epoch 7/20\n",
      "800/800 [==============================] - 16s 20ms/step - loss: 0.0252 - accuracy: 0.9916 - val_loss: 2.1691 - val_accuracy: 0.5130\n",
      "Epoch 8/20\n",
      "800/800 [==============================] - 16s 20ms/step - loss: 0.0189 - accuracy: 0.9923 - val_loss: 2.4854 - val_accuracy: 0.5090\n",
      "Epoch 9/20\n",
      "800/800 [==============================] - 16s 20ms/step - loss: 0.0179 - accuracy: 0.9924 - val_loss: 2.7773 - val_accuracy: 0.4900\n",
      "Epoch 10/20\n",
      "800/800 [==============================] - 16s 20ms/step - loss: 0.0173 - accuracy: 0.9920 - val_loss: 3.0109 - val_accuracy: 0.4963\n",
      "Epoch 11/20\n",
      "800/800 [==============================] - 16s 20ms/step - loss: 0.0368 - accuracy: 0.9869 - val_loss: 3.6104 - val_accuracy: 0.4755\n",
      "Epoch 12/20\n",
      "800/800 [==============================] - 16s 20ms/step - loss: 0.0477 - accuracy: 0.9817 - val_loss: 3.6058 - val_accuracy: 0.4970\n",
      "Epoch 13/20\n",
      "800/800 [==============================] - 16s 20ms/step - loss: 0.0161 - accuracy: 0.9923 - val_loss: 3.8822 - val_accuracy: 0.4947\n",
      "Epoch 14/20\n",
      "800/800 [==============================] - 17s 21ms/step - loss: 0.0121 - accuracy: 0.9931 - val_loss: 3.8825 - val_accuracy: 0.4935\n",
      "Epoch 15/20\n",
      "800/800 [==============================] - 16s 20ms/step - loss: 0.0117 - accuracy: 0.9937 - val_loss: 3.9797 - val_accuracy: 0.4748\n",
      "Epoch 16/20\n",
      "800/800 [==============================] - 17s 21ms/step - loss: 0.0127 - accuracy: 0.9926 - val_loss: 4.1503 - val_accuracy: 0.4905\n",
      "Epoch 17/20\n",
      "800/800 [==============================] - 16s 21ms/step - loss: 0.0137 - accuracy: 0.9927 - val_loss: 4.1530 - val_accuracy: 0.4905\n",
      "Epoch 18/20\n",
      "800/800 [==============================] - 17s 21ms/step - loss: 0.0138 - accuracy: 0.9934 - val_loss: 3.9225 - val_accuracy: 0.4885\n",
      "Epoch 19/20\n",
      "800/800 [==============================] - 16s 20ms/step - loss: 0.0151 - accuracy: 0.9925 - val_loss: 4.3321 - val_accuracy: 0.4785\n",
      "Epoch 20/20\n",
      "800/800 [==============================] - 16s 20ms/step - loss: 0.0194 - accuracy: 0.9919 - val_loss: 5.1969 - val_accuracy: 0.4705\n"
     ]
    }
   ],
   "source": [
    "hist = model.fit(X, y, \n",
    "                 validation_split=0.2, \n",
    "                 epochs=20, batch_size=20)"
   ]
  },
  {
   "cell_type": "code",
   "execution_count": 84,
   "id": "55c4e91d",
   "metadata": {},
   "outputs": [
    {
     "data": {
      "text/plain": [
       "<matplotlib.legend.Legend at 0x1e0084e3d00>"
      ]
     },
     "execution_count": 84,
     "metadata": {},
     "output_type": "execute_result"
    },
    {
     "data": {
      "image/png": "[encoded data removed]",
      "text/plain": [
       "<Figure size 576x576 with 1 Axes>"
      ]
     },
     "metadata": {
      "needs_background": "light"
     },
     "output_type": "display_data"
    }
   ],
   "source": [
    "# plot the acccuracy\n",
    "\n",
    "plt.figure(figsize=(8,8))\n",
    "plt.plot(hist.history['accuracy'], label='training accuracy',color='blue')\n",
    "plt.plot(hist.history['val_accuracy'], label = 'validation accuracy',color='red', linestyle='dashed')\n",
    "plt.title('Accuracy by Epoch')\n",
    "plt.xlabel('Epoch')\n",
    "plt.ylabel('Accuracy')\n",
    "#plt.ylim([0.9, 1.1])\n",
    "plt.legend(loc='lower right')"
   ]
  },
  {
   "cell_type": "markdown",
   "id": "73f36ab9",
   "metadata": {},
   "source": [
    "# RNN Using LSTM"
   ]
  },
  {
   "cell_type": "code",
   "execution_count": 99,
   "id": "9a063163",
   "metadata": {},
   "outputs": [
    {
     "name": "stdout",
     "output_type": "stream",
     "text": [
      "Model: \"sequential_4\"\n",
      "_________________________________________________________________\n",
      " Layer (type)                Output Shape              Param #   \n",
      "=================================================================\n",
      " embedding_3 (Embedding)     (None, 500, 32)           800000    \n",
      "                                                                 \n",
      " lstm_1 (LSTM)               (None, 64)                24832     \n",
      "                                                                 \n",
      " dense_5 (Dense)             (None, 5)                 325       \n",
      "                                                                 \n",
      "=================================================================\n",
      "Total params: 825,157\n",
      "Trainable params: 825,157\n",
      "Non-trainable params: 0\n",
      "_________________________________________________________________\n"
     ]
    }
   ],
   "source": [
    "#Create LSTM model\n",
    "from tensorflow.keras import layers\n",
    "from keras import models\n",
    "\n",
    "model = models.Sequential()\n",
    "model.add(layers.Embedding(max_words, 32, input_length=max_length))\n",
    "\n",
    "model.add(layers.LSTM(64, dropout=0.1))\n",
    "model.add(layers.Dense(5, activation='softmax'))\n",
    "\n",
    "model.summary()"
   ]
  },
  {
   "cell_type": "code",
   "execution_count": 100,
   "id": "1b8714e9",
   "metadata": {},
   "outputs": [],
   "source": [
    "loss='categorical_crossentropy'\n",
    "optimizer='adam'\n",
    "metrics = ['accuracy']\n",
    "\n",
    "model.compile(loss=loss, optimizer=optimizer, metrics=metrics) "
   ]
  },
  {
   "cell_type": "code",
   "execution_count": 101,
   "id": "6cd518a5",
   "metadata": {},
   "outputs": [
    {
     "name": "stdout",
     "output_type": "stream",
     "text": [
      "Epoch 1/20\n",
      "800/800 [==============================] - 97s 120ms/step - loss: 1.6102 - accuracy: 0.2046 - val_loss: 1.6100 - val_accuracy: 0.1963\n",
      "Epoch 2/20\n",
      "800/800 [==============================] - 103s 129ms/step - loss: 1.6141 - accuracy: 0.1999 - val_loss: 1.6151 - val_accuracy: 0.1963\n",
      "Epoch 3/20\n",
      "800/800 [==============================] - 122s 152ms/step - loss: 1.6110 - accuracy: 0.2021 - val_loss: 1.6123 - val_accuracy: 0.2085\n",
      "Epoch 4/20\n",
      "800/800 [==============================] - 146s 183ms/step - loss: 1.6059 - accuracy: 0.2039 - val_loss: 1.6034 - val_accuracy: 0.2163\n",
      "Epoch 5/20\n",
      "800/800 [==============================] - 129s 162ms/step - loss: 1.6062 - accuracy: 0.2006 - val_loss: 1.6043 - val_accuracy: 0.2040\n",
      "Epoch 6/20\n",
      "800/800 [==============================] - 153s 192ms/step - loss: 1.6155 - accuracy: 0.1980 - val_loss: 1.6052 - val_accuracy: 0.2165\n",
      "Epoch 7/20\n",
      "800/800 [==============================] - 136s 170ms/step - loss: 1.5965 - accuracy: 0.2161 - val_loss: 1.4403 - val_accuracy: 0.3490\n",
      "Epoch 8/20\n",
      "800/800 [==============================] - 137s 171ms/step - loss: 1.3169 - accuracy: 0.3732 - val_loss: 1.2994 - val_accuracy: 0.4022\n",
      "Epoch 9/20\n",
      "800/800 [==============================] - 128s 160ms/step - loss: 1.2465 - accuracy: 0.4099 - val_loss: 1.2712 - val_accuracy: 0.4070\n",
      "Epoch 10/20\n",
      "800/800 [==============================] - 133s 167ms/step - loss: 1.1941 - accuracy: 0.4367 - val_loss: 1.2765 - val_accuracy: 0.4098\n",
      "Epoch 11/20\n",
      "800/800 [==============================] - 122s 153ms/step - loss: 1.1315 - accuracy: 0.4619 - val_loss: 1.2968 - val_accuracy: 0.4105\n",
      "Epoch 12/20\n",
      "800/800 [==============================] - 127s 159ms/step - loss: 1.0789 - accuracy: 0.4875 - val_loss: 1.3435 - val_accuracy: 0.4017\n",
      "Epoch 13/20\n",
      "800/800 [==============================] - 125s 156ms/step - loss: 1.0336 - accuracy: 0.5113 - val_loss: 1.4020 - val_accuracy: 0.3947\n",
      "Epoch 14/20\n",
      "800/800 [==============================] - 123s 154ms/step - loss: 0.9956 - accuracy: 0.5199 - val_loss: 1.3904 - val_accuracy: 0.4190\n",
      "Epoch 15/20\n",
      "800/800 [==============================] - 128s 160ms/step - loss: 0.9633 - accuracy: 0.5508 - val_loss: 1.4683 - val_accuracy: 0.4128\n",
      "Epoch 16/20\n",
      "800/800 [==============================] - 126s 158ms/step - loss: 0.9454 - accuracy: 0.5651 - val_loss: 1.4671 - val_accuracy: 0.4218\n",
      "Epoch 17/20\n",
      "800/800 [==============================] - 128s 161ms/step - loss: 0.9239 - accuracy: 0.5852 - val_loss: 1.5236 - val_accuracy: 0.4193\n",
      "Epoch 18/20\n",
      "800/800 [==============================] - 132s 164ms/step - loss: 0.8917 - accuracy: 0.6036 - val_loss: 1.5242 - val_accuracy: 0.4252\n",
      "Epoch 19/20\n",
      "800/800 [==============================] - 138s 173ms/step - loss: 0.8617 - accuracy: 0.6237 - val_loss: 1.5314 - val_accuracy: 0.4190\n",
      "Epoch 20/20\n",
      "800/800 [==============================] - 115s 144ms/step - loss: 0.8291 - accuracy: 0.6420 - val_loss: 1.5657 - val_accuracy: 0.4202\n"
     ]
    },
    {
     "data": {
      "text/plain": [
       "<keras.callbacks.History at 0x1e00bcb9c90>"
      ]
     },
     "execution_count": 101,
     "metadata": {},
     "output_type": "execute_result"
    }
   ],
   "source": [
    "model.fit(X, y, validation_split=0.2, \n",
    "                 epochs=20, batch_size=20)"
   ]
  },
  {
   "cell_type": "code",
   "execution_count": 98,
   "id": "f91ed51d",
   "metadata": {},
   "outputs": [
    {
     "data": {
      "text/plain": [
       "array([[1., 0., 0., 0., 0.],\n",
       "       [0., 0., 1., 0., 0.],\n",
       "       [0., 0., 1., 0., 0.],\n",
       "       ...,\n",
       "       [0., 0., 0., 1., 0.],\n",
       "       [0., 0., 1., 0., 0.],\n",
       "       [0., 0., 1., 0., 0.]], dtype=float32)"
      ]
     },
     "execution_count": 98,
     "metadata": {},
     "output_type": "execute_result"
    }
   ],
   "source": []
  }
 ],
 "metadata": {
  "kernelspec": {
   "display_name": "Python 3 (ipykernel)",
   "language": "python",
   "name": "python3"
  },
  "language_info": {
   "codemirror_mode": {
    "name": "ipython",
    "version": 3
   },
   "file_extension": ".py",
   "mimetype": "text/x-python",
   "name": "python",
   "nbconvert_exporter": "python",
   "pygments_lexer": "ipython3",
   "version": "3.10.4"
  }
 },
 "nbformat": 4,
 "nbformat_minor": 5
}
