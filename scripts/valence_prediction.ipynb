{
 "cells": [
  {
   "cell_type": "markdown",
   "metadata": {},
   "source": [
    "# Valence Prediction Conclusions:\n",
    "\n",
    "### Tesing Gradient Boosting Regressors\n",
    "\n",
    "Not much gained or lost from increase in sample size. \n",
    "R2 error increased by .018 which is not too significant \n",
    "\n",
    "on sample size 500/genre and NO hyperparameter tuning (out of the box):\n",
    "- [GB] Mean Squared Error: 0.05264719893512396\n",
    "- [GB] R2: 0.08043425668821236\n",
    "\n",
    "on sample size 1687/genre with optimal hyperparamers: {'learning_rate': 0.1, 'max_depth': 3, 'n_estimators': 100}:\n",
    "- [GB] Mean Squared Error: 0.05200244352093515\n",
    "- [GB] R2: 0.09854691815352778\n",
    "\n",
    "on full data set with optimal hyperparamers:\n",
    "- [GB] Mean Squared Error: 0.05284822264086245\n",
    "- [GB] R2: 0.12264012250017176\n",
    "\n",
    "#### ** GB runs MUCH faster than RFreg and produces better r2 on the full data set\n",
    "\n",
    "---\n",
    "\n",
    "### Tesing Random Forest Regressors\n",
    "\n",
    "Not much gained or lost from increase in sample size. \n",
    "R2 error increased by .02 which is not too significant \n",
    "\n",
    "on sample size 500/genre with optimal hyperparamers:\n",
    "- [RF] Mean Squared Error: 0.05222244210798196\n",
    "- [RF] R2: 0.10795588207769391\n",
    "\n",
    "on sample size 1687/genre with optimal hyperparamers:\n",
    "- [RF] Mean Squared Error: 0.05101035414841959\n",
    "- [RF] R2: 0.1205852034338123\n",
    "\n",
    "on full data set with optimal hyperparamers:\n",
    "- [RF] Mean Squared Error: 0.05115798019890316\n",
    "- [RF] R2: 0.15070068589697727\n",
    "\n",
    "---\n",
    "\n",
    "### Issues:\n",
    "- stemming created gibberish\n",
    "- GridSearchCV takes 2+ hours to run (up to 4)"
   ]
  },
  {
   "cell_type": "code",
   "execution_count": 2,
   "metadata": {},
   "outputs": [
    {
     "name": "stderr",
     "output_type": "stream",
     "text": [
      "[nltk_data] Downloading package stopwords to\n",
      "[nltk_data]     /Users/aleksandrageorgievska/nltk_data...\n",
      "[nltk_data]   Package stopwords is already up-to-date!\n",
      "[nltk_data] Downloading package punkt to\n",
      "[nltk_data]     /Users/aleksandrageorgievska/nltk_data...\n",
      "[nltk_data]   Package punkt is already up-to-date!\n",
      "[nltk_data] Downloading package wordnet to\n",
      "[nltk_data]     /Users/aleksandrageorgievska/nltk_data...\n",
      "[nltk_data]   Package wordnet is already up-to-date!\n"
     ]
    }
   ],
   "source": [
    "# Import pandas for data handling\n",
    "import pandas as pd\n",
    "\n",
    "# NLTK is our Natural-Language-Took-Kit\n",
    "import nltk\n",
    "from nltk.corpus import stopwords\n",
    "from nltk import word_tokenize\n",
    "from nltk.stem import PorterStemmer\n",
    "from nltk.stem import WordNetLemmatizer\n",
    "from nltk.corpus import wordnet\n",
    "nltk.download('stopwords')\n",
    "nltk.download('punkt')\n",
    "nltk.download('wordnet')\n",
    "stopwords = stopwords.words('english')\n",
    "\n",
    "# Libraries for helping us with strings\n",
    "import string\n",
    "# Regular Expression Library\n",
    "import re\n",
    "\n",
    "# Import text vectorizers\n",
    "from sklearn.feature_extraction.text import CountVectorizer\n",
    "from sklearn.feature_extraction.text import TfidfVectorizer\n",
    "\n",
    "# Import classifiers\n",
    "from sklearn.naive_bayes import MultinomialNB\n",
    "from sklearn.ensemble import RandomForestClassifier\n",
    "from sklearn.neighbors import KNeighborsClassifier\n",
    "from sklearn.model_selection import KFold\n",
    "\n",
    "#Import Regressor Models\n",
    "from sklearn.linear_model import LinearRegression\n",
    "from sklearn.ensemble import RandomForestRegressor, GradientBoostingRegressor\n",
    "\n",
    "# Import some ML helper function\n",
    "from sklearn.model_selection import train_test_split, GridSearchCV\n",
    "from sklearn.metrics import plot_confusion_matrix\n",
    "from sklearn.metrics import classification_report\n",
    "\n",
    "\n",
    "# Import our metrics to evaluate our model\n",
    "from sklearn import metrics\n",
    "from sklearn.metrics import classification_report\n",
    "from sklearn.metrics import accuracy_score\n",
    "from sklearn.metrics import mean_squared_error, r2_score\n",
    "from sklearn.model_selection import cross_val_score\n",
    "\n",
    "\n",
    "# Library for plotting\n",
    "import matplotlib.pyplot as plt\n",
    "import seaborn as sns\n",
    "import scipy.sparse as sparse"
   ]
  },
  {
   "cell_type": "code",
   "execution_count": 3,
   "metadata": {},
   "outputs": [],
   "source": [
    "df = pd.read_csv('../data/labeled_lyrics_w_genres.csv')"
   ]
  },
  {
   "cell_type": "markdown",
   "metadata": {},
   "source": [
    "# Inspecting The Data"
   ]
  },
  {
   "cell_type": "code",
   "execution_count": 15,
   "metadata": {},
   "outputs": [
    {
     "data": {
      "text/html": [
       "<div>\n",
       "<style scoped>\n",
       "    .dataframe tbody tr th:only-of-type {\n",
       "        vertical-align: middle;\n",
       "    }\n",
       "\n",
       "    .dataframe tbody tr th {\n",
       "        vertical-align: top;\n",
       "    }\n",
       "\n",
       "    .dataframe thead th {\n",
       "        text-align: right;\n",
       "    }\n",
       "</style>\n",
       "<table border=\"1\" class=\"dataframe\">\n",
       "  <thead>\n",
       "    <tr style=\"text-align: right;\">\n",
       "      <th></th>\n",
       "      <th>Unnamed: 0</th>\n",
       "      <th>artist</th>\n",
       "      <th>seq</th>\n",
       "      <th>song</th>\n",
       "      <th>label</th>\n",
       "      <th>genre</th>\n",
       "    </tr>\n",
       "  </thead>\n",
       "  <tbody>\n",
       "    <tr>\n",
       "      <th>0</th>\n",
       "      <td>0</td>\n",
       "      <td>Elijah Blake</td>\n",
       "      <td>No, no\\r\\nI ain't ever trapped out the bando\\r...</td>\n",
       "      <td>Everyday</td>\n",
       "      <td>0.626</td>\n",
       "      <td>R&amp;B</td>\n",
       "    </tr>\n",
       "    <tr>\n",
       "      <th>1</th>\n",
       "      <td>1</td>\n",
       "      <td>Elijah Blake</td>\n",
       "      <td>The drinks go down and smoke goes up, I feel m...</td>\n",
       "      <td>Live Till We Die</td>\n",
       "      <td>0.630</td>\n",
       "      <td>Pop</td>\n",
       "    </tr>\n",
       "    <tr>\n",
       "      <th>2</th>\n",
       "      <td>2</td>\n",
       "      <td>Elijah Blake</td>\n",
       "      <td>She don't live on planet Earth no more\\r\\nShe ...</td>\n",
       "      <td>The Otherside</td>\n",
       "      <td>0.240</td>\n",
       "      <td>R&amp;B</td>\n",
       "    </tr>\n",
       "    <tr>\n",
       "      <th>3</th>\n",
       "      <td>3</td>\n",
       "      <td>Elijah Blake</td>\n",
       "      <td>Trippin' off that Grigio, mobbin', lights low\\...</td>\n",
       "      <td>Pinot</td>\n",
       "      <td>0.536</td>\n",
       "      <td>R&amp;B</td>\n",
       "    </tr>\n",
       "    <tr>\n",
       "      <th>4</th>\n",
       "      <td>4</td>\n",
       "      <td>Elijah Blake</td>\n",
       "      <td>I see a midnight panther, so gallant and so br...</td>\n",
       "      <td>Shadows &amp; Diamonds</td>\n",
       "      <td>0.371</td>\n",
       "      <td>R&amp;B</td>\n",
       "    </tr>\n",
       "  </tbody>\n",
       "</table>\n",
       "</div>"
      ],
      "text/plain": [
       "   Unnamed: 0        artist  \\\n",
       "0           0  Elijah Blake   \n",
       "1           1  Elijah Blake   \n",
       "2           2  Elijah Blake   \n",
       "3           3  Elijah Blake   \n",
       "4           4  Elijah Blake   \n",
       "\n",
       "                                                 seq                song  \\\n",
       "0  No, no\\r\\nI ain't ever trapped out the bando\\r...            Everyday   \n",
       "1  The drinks go down and smoke goes up, I feel m...    Live Till We Die   \n",
       "2  She don't live on planet Earth no more\\r\\nShe ...       The Otherside   \n",
       "3  Trippin' off that Grigio, mobbin', lights low\\...               Pinot   \n",
       "4  I see a midnight panther, so gallant and so br...  Shadows & Diamonds   \n",
       "\n",
       "   label genre  \n",
       "0  0.626   R&B  \n",
       "1  0.630   Pop  \n",
       "2  0.240   R&B  \n",
       "3  0.536   R&B  \n",
       "4  0.371   R&B  "
      ]
     },
     "execution_count": 15,
     "metadata": {},
     "output_type": "execute_result"
    }
   ],
   "source": [
    "df.head()"
   ]
  },
  {
   "cell_type": "code",
   "execution_count": 16,
   "metadata": {},
   "outputs": [
    {
     "data": {
      "text/plain": [
       "0"
      ]
     },
     "execution_count": 16,
     "metadata": {},
     "output_type": "execute_result"
    }
   ],
   "source": [
    "df.isnull().sum().sum()"
   ]
  },
  {
   "cell_type": "code",
   "execution_count": 17,
   "metadata": {},
   "outputs": [
    {
     "data": {
      "text/plain": [
       "0"
      ]
     },
     "execution_count": 17,
     "metadata": {},
     "output_type": "execute_result"
    }
   ],
   "source": [
    "df.duplicated().sum()"
   ]
  },
  {
   "cell_type": "code",
   "execution_count": 18,
   "metadata": {},
   "outputs": [
    {
     "data": {
      "text/plain": [
       "(58100, 6)"
      ]
     },
     "execution_count": 18,
     "metadata": {},
     "output_type": "execute_result"
    }
   ],
   "source": [
    "df.shape"
   ]
  },
  {
   "cell_type": "code",
   "execution_count": 19,
   "metadata": {},
   "outputs": [
    {
     "data": {
      "text/plain": [
       "No_genre     21069\n",
       "Pop          20691\n",
       "Rock          9783\n",
       "Country       2503\n",
       "Rap           2311\n",
       "R&B           1687\n",
       "Non-Music       56\n",
       "Name: genre, dtype: int64"
      ]
     },
     "execution_count": 19,
     "metadata": {},
     "output_type": "execute_result"
    }
   ],
   "source": [
    "df.genre.value_counts()"
   ]
  },
  {
   "cell_type": "markdown",
   "metadata": {},
   "source": [
    "### removing No_genre and Non-Music"
   ]
  },
  {
   "cell_type": "code",
   "execution_count": 4,
   "metadata": {},
   "outputs": [],
   "source": [
    "df_dropped = df[(df['genre'] == 'No_genre') | (df['genre'] == 'Non-Music')].index\n",
    "df.drop(df_dropped, inplace=True, axis='index')"
   ]
  },
  {
   "cell_type": "code",
   "execution_count": 21,
   "metadata": {},
   "outputs": [
    {
     "name": "stdout",
     "output_type": "stream",
     "text": [
      "(36975, 6)\n"
     ]
    },
    {
     "data": {
      "text/html": [
       "<div>\n",
       "<style scoped>\n",
       "    .dataframe tbody tr th:only-of-type {\n",
       "        vertical-align: middle;\n",
       "    }\n",
       "\n",
       "    .dataframe tbody tr th {\n",
       "        vertical-align: top;\n",
       "    }\n",
       "\n",
       "    .dataframe thead th {\n",
       "        text-align: right;\n",
       "    }\n",
       "</style>\n",
       "<table border=\"1\" class=\"dataframe\">\n",
       "  <thead>\n",
       "    <tr style=\"text-align: right;\">\n",
       "      <th></th>\n",
       "      <th>Unnamed: 0</th>\n",
       "      <th>artist</th>\n",
       "      <th>seq</th>\n",
       "      <th>song</th>\n",
       "      <th>label</th>\n",
       "      <th>genre</th>\n",
       "    </tr>\n",
       "  </thead>\n",
       "  <tbody>\n",
       "    <tr>\n",
       "      <th>0</th>\n",
       "      <td>0</td>\n",
       "      <td>Elijah Blake</td>\n",
       "      <td>No, no\\r\\nI ain't ever trapped out the bando\\r...</td>\n",
       "      <td>Everyday</td>\n",
       "      <td>0.6260</td>\n",
       "      <td>R&amp;B</td>\n",
       "    </tr>\n",
       "    <tr>\n",
       "      <th>1</th>\n",
       "      <td>1</td>\n",
       "      <td>Elijah Blake</td>\n",
       "      <td>The drinks go down and smoke goes up, I feel m...</td>\n",
       "      <td>Live Till We Die</td>\n",
       "      <td>0.6300</td>\n",
       "      <td>Pop</td>\n",
       "    </tr>\n",
       "    <tr>\n",
       "      <th>2</th>\n",
       "      <td>2</td>\n",
       "      <td>Elijah Blake</td>\n",
       "      <td>She don't live on planet Earth no more\\r\\nShe ...</td>\n",
       "      <td>The Otherside</td>\n",
       "      <td>0.2400</td>\n",
       "      <td>R&amp;B</td>\n",
       "    </tr>\n",
       "    <tr>\n",
       "      <th>3</th>\n",
       "      <td>3</td>\n",
       "      <td>Elijah Blake</td>\n",
       "      <td>Trippin' off that Grigio, mobbin', lights low\\...</td>\n",
       "      <td>Pinot</td>\n",
       "      <td>0.5360</td>\n",
       "      <td>R&amp;B</td>\n",
       "    </tr>\n",
       "    <tr>\n",
       "      <th>4</th>\n",
       "      <td>4</td>\n",
       "      <td>Elijah Blake</td>\n",
       "      <td>I see a midnight panther, so gallant and so br...</td>\n",
       "      <td>Shadows &amp; Diamonds</td>\n",
       "      <td>0.3710</td>\n",
       "      <td>R&amp;B</td>\n",
       "    </tr>\n",
       "    <tr>\n",
       "      <th>5</th>\n",
       "      <td>5</td>\n",
       "      <td>Elijah Blake</td>\n",
       "      <td>I just want to ready your mind\\r\\n'Cause I'll ...</td>\n",
       "      <td>Uno</td>\n",
       "      <td>0.3210</td>\n",
       "      <td>R&amp;B</td>\n",
       "    </tr>\n",
       "    <tr>\n",
       "      <th>7</th>\n",
       "      <td>7</td>\n",
       "      <td>Elis</td>\n",
       "      <td>Dieses ist lange her.\\r\\nDa ich deine schmalen...</td>\n",
       "      <td>Abendlied</td>\n",
       "      <td>0.3330</td>\n",
       "      <td>Pop</td>\n",
       "    </tr>\n",
       "    <tr>\n",
       "      <th>8</th>\n",
       "      <td>8</td>\n",
       "      <td>Elis</td>\n",
       "      <td>A child is born\\r\\nOut of the womb of a mother...</td>\n",
       "      <td>Child</td>\n",
       "      <td>0.5060</td>\n",
       "      <td>Pop</td>\n",
       "    </tr>\n",
       "    <tr>\n",
       "      <th>9</th>\n",
       "      <td>9</td>\n",
       "      <td>Elis</td>\n",
       "      <td>Out of the darkness you came \\r\\nYou looked so...</td>\n",
       "      <td>Come to Me</td>\n",
       "      <td>0.1790</td>\n",
       "      <td>Pop</td>\n",
       "    </tr>\n",
       "    <tr>\n",
       "      <th>10</th>\n",
       "      <td>10</td>\n",
       "      <td>Elis</td>\n",
       "      <td>Each night I lie in my bed \\r\\nAnd I think abo...</td>\n",
       "      <td>Do You Believe</td>\n",
       "      <td>0.2090</td>\n",
       "      <td>Pop</td>\n",
       "    </tr>\n",
       "    <tr>\n",
       "      <th>11</th>\n",
       "      <td>11</td>\n",
       "      <td>Elis</td>\n",
       "      <td>Nebel zieh'n gespentisch vor \\r\\nDer Sucher se...</td>\n",
       "      <td>Engel der Nacht</td>\n",
       "      <td>0.3210</td>\n",
       "      <td>Pop</td>\n",
       "    </tr>\n",
       "    <tr>\n",
       "      <th>12</th>\n",
       "      <td>12</td>\n",
       "      <td>Elis</td>\n",
       "      <td>I'm a lonely stranger \\r\\nIn this world of pai...</td>\n",
       "      <td>My Only Love</td>\n",
       "      <td>0.2010</td>\n",
       "      <td>Pop</td>\n",
       "    </tr>\n",
       "    <tr>\n",
       "      <th>13</th>\n",
       "      <td>13</td>\n",
       "      <td>Elis</td>\n",
       "      <td>Schwere Tranen \\r\\nVergebens geweint \\r\\nRinne...</td>\n",
       "      <td>Sie Erfasst Mein Herz</td>\n",
       "      <td>0.2180</td>\n",
       "      <td>Pop</td>\n",
       "    </tr>\n",
       "    <tr>\n",
       "      <th>14</th>\n",
       "      <td>14</td>\n",
       "      <td>Elis</td>\n",
       "      <td>Come calm my anger\\n\\nOur love is like a perfe...</td>\n",
       "      <td>Anger</td>\n",
       "      <td>0.3060</td>\n",
       "      <td>Pop</td>\n",
       "    </tr>\n",
       "    <tr>\n",
       "      <th>15</th>\n",
       "      <td>15</td>\n",
       "      <td>Elis</td>\n",
       "      <td>I was walking through the night\\nSuddenly I re...</td>\n",
       "      <td>Black Angel</td>\n",
       "      <td>0.0958</td>\n",
       "      <td>Pop</td>\n",
       "    </tr>\n",
       "  </tbody>\n",
       "</table>\n",
       "</div>"
      ],
      "text/plain": [
       "    Unnamed: 0        artist  \\\n",
       "0            0  Elijah Blake   \n",
       "1            1  Elijah Blake   \n",
       "2            2  Elijah Blake   \n",
       "3            3  Elijah Blake   \n",
       "4            4  Elijah Blake   \n",
       "5            5  Elijah Blake   \n",
       "7            7          Elis   \n",
       "8            8          Elis   \n",
       "9            9          Elis   \n",
       "10          10          Elis   \n",
       "11          11          Elis   \n",
       "12          12          Elis   \n",
       "13          13          Elis   \n",
       "14          14          Elis   \n",
       "15          15          Elis   \n",
       "\n",
       "                                                  seq                   song  \\\n",
       "0   No, no\\r\\nI ain't ever trapped out the bando\\r...               Everyday   \n",
       "1   The drinks go down and smoke goes up, I feel m...       Live Till We Die   \n",
       "2   She don't live on planet Earth no more\\r\\nShe ...          The Otherside   \n",
       "3   Trippin' off that Grigio, mobbin', lights low\\...                  Pinot   \n",
       "4   I see a midnight panther, so gallant and so br...     Shadows & Diamonds   \n",
       "5   I just want to ready your mind\\r\\n'Cause I'll ...                    Uno   \n",
       "7   Dieses ist lange her.\\r\\nDa ich deine schmalen...              Abendlied   \n",
       "8   A child is born\\r\\nOut of the womb of a mother...                  Child   \n",
       "9   Out of the darkness you came \\r\\nYou looked so...             Come to Me   \n",
       "10  Each night I lie in my bed \\r\\nAnd I think abo...         Do You Believe   \n",
       "11  Nebel zieh'n gespentisch vor \\r\\nDer Sucher se...        Engel der Nacht   \n",
       "12  I'm a lonely stranger \\r\\nIn this world of pai...           My Only Love   \n",
       "13  Schwere Tranen \\r\\nVergebens geweint \\r\\nRinne...  Sie Erfasst Mein Herz   \n",
       "14  Come calm my anger\\n\\nOur love is like a perfe...                  Anger   \n",
       "15  I was walking through the night\\nSuddenly I re...            Black Angel   \n",
       "\n",
       "     label genre  \n",
       "0   0.6260   R&B  \n",
       "1   0.6300   Pop  \n",
       "2   0.2400   R&B  \n",
       "3   0.5360   R&B  \n",
       "4   0.3710   R&B  \n",
       "5   0.3210   R&B  \n",
       "7   0.3330   Pop  \n",
       "8   0.5060   Pop  \n",
       "9   0.1790   Pop  \n",
       "10  0.2090   Pop  \n",
       "11  0.3210   Pop  \n",
       "12  0.2010   Pop  \n",
       "13  0.2180   Pop  \n",
       "14  0.3060   Pop  \n",
       "15  0.0958   Pop  "
      ]
     },
     "execution_count": 21,
     "metadata": {},
     "output_type": "execute_result"
    }
   ],
   "source": [
    "print(df.shape)\n",
    "df.head(15)"
   ]
  },
  {
   "cell_type": "code",
   "execution_count": 5,
   "metadata": {},
   "outputs": [
    {
     "data": {
      "text/plain": [
       "Pop        20691\n",
       "Rock        9783\n",
       "Country     2503\n",
       "Rap         2311\n",
       "R&B         1687\n",
       "Name: genre, dtype: int64"
      ]
     },
     "execution_count": 5,
     "metadata": {},
     "output_type": "execute_result"
    }
   ],
   "source": [
    "df.genre.value_counts()"
   ]
  },
  {
   "cell_type": "markdown",
   "metadata": {},
   "source": [
    "---\n",
    "\n",
    "# Data Cleaning (Text Pre Processing)"
   ]
  },
  {
   "cell_type": "code",
   "execution_count": 6,
   "metadata": {},
   "outputs": [],
   "source": [
    "# 1. function that makes all text lowercase.\n",
    "def make_lowercase(test_string):\n",
    "    return test_string.lower()\n",
    "\n",
    "# 2. function that removes all punctuation. \n",
    "def remove_punc(test_string):\n",
    "    test_string = re.sub(r'[^\\w\\s]', '', test_string)\n",
    "    return test_string\n",
    "\n",
    "# 3. function that removes all stopwords.\n",
    "def remove_stopwords(test_string):\n",
    "    # Break the sentence down into a list of words\n",
    "    words = word_tokenize(test_string)\n",
    "    \n",
    "    # Make a list to append valid words into\n",
    "    valid_words = []\n",
    "    \n",
    "    # Loop through all the words\n",
    "    for word in words:\n",
    "        \n",
    "        # Check if word is not in stopwords. Stopwords was imported from nltk.corpus\n",
    "        if word not in stopwords:\n",
    "            \n",
    "            # If word not in stopwords, append to our valid_words\n",
    "            valid_words.append(word)\n",
    "\n",
    "    # Join the list of words together into a string\n",
    "    a_string = ' '.join(valid_words)\n",
    "\n",
    "    return a_string\n",
    "\n",
    "# 4. function to break words into their stem words\n",
    "def stem_words(a_string):\n",
    "    # Initalize our Stemmer\n",
    "    porter = PorterStemmer()\n",
    "    \n",
    "    # Break the sentence down into a list of words\n",
    "    words = word_tokenize(a_string)\n",
    "    \n",
    "    # Make a list to append valid words into\n",
    "    valid_words = []\n",
    "\n",
    "    # Loop through all the words\n",
    "    for word in words:\n",
    "        # Stem the word\n",
    "        stemmed_word = porter.stem(word) #from nltk.stem import PorterStemmer\n",
    "        \n",
    "        # Append stemmed word to our valid_words\n",
    "        valid_words.append(stemmed_word)\n",
    "        \n",
    "    # Join the list of words together into a string\n",
    "    a_string = ' '.join(valid_words)\n",
    "\n",
    "    return a_string "
   ]
  },
  {
   "cell_type": "code",
   "execution_count": 7,
   "metadata": {},
   "outputs": [],
   "source": [
    "# Pipeline function \n",
    "\n",
    "def text_processing_pipeline(a_string):\n",
    "    a_string = make_lowercase(a_string)\n",
    "    a_string = remove_punc(a_string)\n",
    "    #a_string = stem_words(a_string) #removing stem_words for now because making lyrics gibberish\n",
    "    a_string = remove_stopwords(a_string)\n",
    "    return a_string"
   ]
  },
  {
   "cell_type": "code",
   "execution_count": 8,
   "metadata": {},
   "outputs": [],
   "source": [
    "# apply preprocessing pipeline \n",
    "\n",
    "df['seq_clean'] = df['seq'].apply(text_processing_pipeline)"
   ]
  },
  {
   "cell_type": "code",
   "execution_count": 30,
   "metadata": {},
   "outputs": [
    {
     "data": {
      "text/html": [
       "<div>\n",
       "<style scoped>\n",
       "    .dataframe tbody tr th:only-of-type {\n",
       "        vertical-align: middle;\n",
       "    }\n",
       "\n",
       "    .dataframe tbody tr th {\n",
       "        vertical-align: top;\n",
       "    }\n",
       "\n",
       "    .dataframe thead th {\n",
       "        text-align: right;\n",
       "    }\n",
       "</style>\n",
       "<table border=\"1\" class=\"dataframe\">\n",
       "  <thead>\n",
       "    <tr style=\"text-align: right;\">\n",
       "      <th></th>\n",
       "      <th>Unnamed: 0</th>\n",
       "      <th>artist</th>\n",
       "      <th>seq</th>\n",
       "      <th>song</th>\n",
       "      <th>label</th>\n",
       "      <th>genre</th>\n",
       "      <th>seq_clean</th>\n",
       "    </tr>\n",
       "  </thead>\n",
       "  <tbody>\n",
       "    <tr>\n",
       "      <th>0</th>\n",
       "      <td>0</td>\n",
       "      <td>Elijah Blake</td>\n",
       "      <td>No, no\\r\\nI ain't ever trapped out the bando\\r...</td>\n",
       "      <td>Everyday</td>\n",
       "      <td>0.626</td>\n",
       "      <td>R&amp;B</td>\n",
       "      <td>aint ever trapped bando oh lord dont get wrong...</td>\n",
       "    </tr>\n",
       "    <tr>\n",
       "      <th>1</th>\n",
       "      <td>1</td>\n",
       "      <td>Elijah Blake</td>\n",
       "      <td>The drinks go down and smoke goes up, I feel m...</td>\n",
       "      <td>Live Till We Die</td>\n",
       "      <td>0.630</td>\n",
       "      <td>Pop</td>\n",
       "      <td>drinks go smoke goes feel got let go cares get...</td>\n",
       "    </tr>\n",
       "    <tr>\n",
       "      <th>2</th>\n",
       "      <td>2</td>\n",
       "      <td>Elijah Blake</td>\n",
       "      <td>She don't live on planet Earth no more\\r\\nShe ...</td>\n",
       "      <td>The Otherside</td>\n",
       "      <td>0.240</td>\n",
       "      <td>R&amp;B</td>\n",
       "      <td>dont live planet earth found love venus thats ...</td>\n",
       "    </tr>\n",
       "    <tr>\n",
       "      <th>3</th>\n",
       "      <td>3</td>\n",
       "      <td>Elijah Blake</td>\n",
       "      <td>Trippin' off that Grigio, mobbin', lights low\\...</td>\n",
       "      <td>Pinot</td>\n",
       "      <td>0.536</td>\n",
       "      <td>R&amp;B</td>\n",
       "      <td>trippin grigio mobbin lights low trippin grigi...</td>\n",
       "    </tr>\n",
       "    <tr>\n",
       "      <th>4</th>\n",
       "      <td>4</td>\n",
       "      <td>Elijah Blake</td>\n",
       "      <td>I see a midnight panther, so gallant and so br...</td>\n",
       "      <td>Shadows &amp; Diamonds</td>\n",
       "      <td>0.371</td>\n",
       "      <td>R&amp;B</td>\n",
       "      <td>see midnight panther gallant brave found found...</td>\n",
       "    </tr>\n",
       "  </tbody>\n",
       "</table>\n",
       "</div>"
      ],
      "text/plain": [
       "   Unnamed: 0        artist  \\\n",
       "0           0  Elijah Blake   \n",
       "1           1  Elijah Blake   \n",
       "2           2  Elijah Blake   \n",
       "3           3  Elijah Blake   \n",
       "4           4  Elijah Blake   \n",
       "\n",
       "                                                 seq                song  \\\n",
       "0  No, no\\r\\nI ain't ever trapped out the bando\\r...            Everyday   \n",
       "1  The drinks go down and smoke goes up, I feel m...    Live Till We Die   \n",
       "2  She don't live on planet Earth no more\\r\\nShe ...       The Otherside   \n",
       "3  Trippin' off that Grigio, mobbin', lights low\\...               Pinot   \n",
       "4  I see a midnight panther, so gallant and so br...  Shadows & Diamonds   \n",
       "\n",
       "   label genre                                          seq_clean  \n",
       "0  0.626   R&B  aint ever trapped bando oh lord dont get wrong...  \n",
       "1  0.630   Pop  drinks go smoke goes feel got let go cares get...  \n",
       "2  0.240   R&B  dont live planet earth found love venus thats ...  \n",
       "3  0.536   R&B  trippin grigio mobbin lights low trippin grigi...  \n",
       "4  0.371   R&B  see midnight panther gallant brave found found...  "
      ]
     },
     "execution_count": 30,
     "metadata": {},
     "output_type": "execute_result"
    }
   ],
   "source": [
    "df.head()"
   ]
  },
  {
   "cell_type": "code",
   "execution_count": 9,
   "metadata": {},
   "outputs": [],
   "source": [
    "X = df['seq_clean'].values\n",
    "\n",
    "y = df['label'].values"
   ]
  },
  {
   "cell_type": "markdown",
   "metadata": {},
   "source": [
    "# Sampling smaller batches from dataframe for faster testing"
   ]
  },
  {
   "cell_type": "code",
   "execution_count": 16,
   "metadata": {},
   "outputs": [],
   "source": [
    "#function to randomly sample n values from each genre for smaller random forest testing\n",
    "\n",
    "def genre_sample(dataframe, k):\n",
    "    #make an empty dataframe\n",
    "    df_genre_sample = pd.DataFrame(columns = ['Unnamed: 0', 'artist', 'seq', 'song', 'label', 'genre', 'seq_clean'])\n",
    "    \n",
    "    genres = ['R&B', 'Pop', 'Rap', 'Rock', 'Country']\n",
    "    for genre in genres:\n",
    "         df_genre_sample = df_genre_sample.append((dataframe[dataframe[\"genre\"]==genre].sample(n=k)))\n",
    "    \n",
    "    return df_genre_sample"
   ]
  },
  {
   "cell_type": "code",
   "execution_count": 17,
   "metadata": {},
   "outputs": [
    {
     "name": "stdout",
     "output_type": "stream",
     "text": [
      "(2500, 7)\n"
     ]
    },
    {
     "data": {
      "text/html": [
       "<div>\n",
       "<style scoped>\n",
       "    .dataframe tbody tr th:only-of-type {\n",
       "        vertical-align: middle;\n",
       "    }\n",
       "\n",
       "    .dataframe tbody tr th {\n",
       "        vertical-align: top;\n",
       "    }\n",
       "\n",
       "    .dataframe thead th {\n",
       "        text-align: right;\n",
       "    }\n",
       "</style>\n",
       "<table border=\"1\" class=\"dataframe\">\n",
       "  <thead>\n",
       "    <tr style=\"text-align: right;\">\n",
       "      <th></th>\n",
       "      <th>Unnamed: 0</th>\n",
       "      <th>artist</th>\n",
       "      <th>seq</th>\n",
       "      <th>song</th>\n",
       "      <th>label</th>\n",
       "      <th>genre</th>\n",
       "      <th>seq_clean</th>\n",
       "    </tr>\n",
       "  </thead>\n",
       "  <tbody>\n",
       "    <tr>\n",
       "      <th>51429</th>\n",
       "      <td>79586</td>\n",
       "      <td>Goapele</td>\n",
       "      <td>Nobody knows what I go through\\nIndecisions ma...</td>\n",
       "      <td>Catch 22</td>\n",
       "      <td>0.440</td>\n",
       "      <td>R&amp;B</td>\n",
       "      <td>nobody knows go indecisions made passive say w...</td>\n",
       "    </tr>\n",
       "    <tr>\n",
       "      <th>45287</th>\n",
       "      <td>35483</td>\n",
       "      <td>Wilson Pickett</td>\n",
       "      <td>If you need a little lovin'\\r\\nCall on me all ...</td>\n",
       "      <td>Danger Zone</td>\n",
       "      <td>0.835</td>\n",
       "      <td>R&amp;B</td>\n",
       "      <td>need little lovin call right want little huggi...</td>\n",
       "    </tr>\n",
       "    <tr>\n",
       "      <th>27971</th>\n",
       "      <td>66124</td>\n",
       "      <td>Natalie Cole</td>\n",
       "      <td>What a day this has been!\\r\\nWhat a rare mood ...</td>\n",
       "      <td>Almost Like Being in Love</td>\n",
       "      <td>0.686</td>\n",
       "      <td>R&amp;B</td>\n",
       "      <td>day rare mood im almost like love theres smile...</td>\n",
       "    </tr>\n",
       "    <tr>\n",
       "      <th>37704</th>\n",
       "      <td>34400</td>\n",
       "      <td>Christina Aguilera</td>\n",
       "      <td>I feel like I've been locked up tight\\nFor a c...</td>\n",
       "      <td>Genie in a Bottle</td>\n",
       "      <td>0.912</td>\n",
       "      <td>R&amp;B</td>\n",
       "      <td>feel like ive locked tight century lonely nigh...</td>\n",
       "    </tr>\n",
       "    <tr>\n",
       "      <th>57183</th>\n",
       "      <td>52614</td>\n",
       "      <td>Prince</td>\n",
       "      <td>With the accurate understanding of God and His...</td>\n",
       "      <td>Rainbow Children</td>\n",
       "      <td>0.200</td>\n",
       "      <td>R&amp;B</td>\n",
       "      <td>accurate understanding god law went work build...</td>\n",
       "    </tr>\n",
       "    <tr>\n",
       "      <th>18289</th>\n",
       "      <td>70229</td>\n",
       "      <td>Ray Charles</td>\n",
       "      <td>After one whole quart of brandy\\r\\nLike a dais...</td>\n",
       "      <td>Bewitched</td>\n",
       "      <td>0.323</td>\n",
       "      <td>R&amp;B</td>\n",
       "      <td>one whole quart brandy like daisy im awake bro...</td>\n",
       "    </tr>\n",
       "    <tr>\n",
       "      <th>3084</th>\n",
       "      <td>3084</td>\n",
       "      <td>LL Cool J</td>\n",
       "      <td>I'ma give all why y'all something, word up\\r\\n...</td>\n",
       "      <td>This Is Us</td>\n",
       "      <td>0.594</td>\n",
       "      <td>R&amp;B</td>\n",
       "      <td>ima give yall something word word live cats go...</td>\n",
       "    </tr>\n",
       "    <tr>\n",
       "      <th>8045</th>\n",
       "      <td>8045</td>\n",
       "      <td>Ray Charles</td>\n",
       "      <td>If you don't want, you don't have to (get in t...</td>\n",
       "      <td>Leave My Woman Alone</td>\n",
       "      <td>0.842</td>\n",
       "      <td>R&amp;B</td>\n",
       "      <td>dont want dont get trouble dont want dont get ...</td>\n",
       "    </tr>\n",
       "    <tr>\n",
       "      <th>39006</th>\n",
       "      <td>114455</td>\n",
       "      <td>Kelly Rowland</td>\n",
       "      <td>You're the only one I see\\r\\nIt's like no one'...</td>\n",
       "      <td>Feelin Me Right Now</td>\n",
       "      <td>0.625</td>\n",
       "      <td>R&amp;B</td>\n",
       "      <td>youre one see like ones vip know bed im tonigh...</td>\n",
       "    </tr>\n",
       "    <tr>\n",
       "      <th>38011</th>\n",
       "      <td>42985</td>\n",
       "      <td>T-Pain</td>\n",
       "      <td>I-I-I'm back!\\nFreaknik's back baby!\\n\\nWhat's...</td>\n",
       "      <td>Freaknik Is Back</td>\n",
       "      <td>0.319</td>\n",
       "      <td>R&amp;B</td>\n",
       "      <td>iiim back freakniks back baby whats happen mo ...</td>\n",
       "    </tr>\n",
       "  </tbody>\n",
       "</table>\n",
       "</div>"
      ],
      "text/plain": [
       "      Unnamed: 0              artist  \\\n",
       "51429      79586             Goapele   \n",
       "45287      35483      Wilson Pickett   \n",
       "27971      66124        Natalie Cole   \n",
       "37704      34400  Christina Aguilera   \n",
       "57183      52614              Prince   \n",
       "18289      70229         Ray Charles   \n",
       "3084        3084           LL Cool J   \n",
       "8045        8045         Ray Charles   \n",
       "39006     114455       Kelly Rowland   \n",
       "38011      42985              T-Pain   \n",
       "\n",
       "                                                     seq  \\\n",
       "51429  Nobody knows what I go through\\nIndecisions ma...   \n",
       "45287  If you need a little lovin'\\r\\nCall on me all ...   \n",
       "27971  What a day this has been!\\r\\nWhat a rare mood ...   \n",
       "37704  I feel like I've been locked up tight\\nFor a c...   \n",
       "57183  With the accurate understanding of God and His...   \n",
       "18289  After one whole quart of brandy\\r\\nLike a dais...   \n",
       "3084   I'ma give all why y'all something, word up\\r\\n...   \n",
       "8045   If you don't want, you don't have to (get in t...   \n",
       "39006  You're the only one I see\\r\\nIt's like no one'...   \n",
       "38011  I-I-I'm back!\\nFreaknik's back baby!\\n\\nWhat's...   \n",
       "\n",
       "                            song  label genre  \\\n",
       "51429                   Catch 22  0.440   R&B   \n",
       "45287                Danger Zone  0.835   R&B   \n",
       "27971  Almost Like Being in Love  0.686   R&B   \n",
       "37704          Genie in a Bottle  0.912   R&B   \n",
       "57183           Rainbow Children  0.200   R&B   \n",
       "18289                  Bewitched  0.323   R&B   \n",
       "3084                  This Is Us  0.594   R&B   \n",
       "8045        Leave My Woman Alone  0.842   R&B   \n",
       "39006        Feelin Me Right Now  0.625   R&B   \n",
       "38011           Freaknik Is Back  0.319   R&B   \n",
       "\n",
       "                                               seq_clean  \n",
       "51429  nobody knows go indecisions made passive say w...  \n",
       "45287  need little lovin call right want little huggi...  \n",
       "27971  day rare mood im almost like love theres smile...  \n",
       "37704  feel like ive locked tight century lonely nigh...  \n",
       "57183  accurate understanding god law went work build...  \n",
       "18289  one whole quart brandy like daisy im awake bro...  \n",
       "3084   ima give yall something word word live cats go...  \n",
       "8045   dont want dont get trouble dont want dont get ...  \n",
       "39006  youre one see like ones vip know bed im tonigh...  \n",
       "38011  iiim back freakniks back baby whats happen mo ...  "
      ]
     },
     "execution_count": 17,
     "metadata": {},
     "output_type": "execute_result"
    }
   ],
   "source": [
    "# sampling from the dataframe, k is the # of samples from each genre\n",
    "\n",
    "df_sampled = genre_sample(df, k=500)\n",
    "print(df_sampled.shape)\n",
    "df_sampled.head(10)"
   ]
  },
  {
   "cell_type": "code",
   "execution_count": 18,
   "metadata": {},
   "outputs": [
    {
     "data": {
      "text/plain": [
       "Rock       500\n",
       "Country    500\n",
       "R&B        500\n",
       "Pop        500\n",
       "Rap        500\n",
       "Name: genre, dtype: int64"
      ]
     },
     "execution_count": 18,
     "metadata": {},
     "output_type": "execute_result"
    }
   ],
   "source": [
    "#checking correct amounts of samples per genre were obtained\n",
    "\n",
    "df_sampled.genre.value_counts()"
   ]
  },
  {
   "cell_type": "markdown",
   "metadata": {},
   "source": [
    "# Testing Regression Models for label prediction:\n",
    "label = float scale (0-1) which signifies valence \n",
    "\n"
   ]
  },
  {
   "cell_type": "markdown",
   "metadata": {},
   "source": [
    "## Random Forest Regressor"
   ]
  },
  {
   "cell_type": "markdown",
   "metadata": {},
   "source": [
    "### using the sampled dataset for faster testing"
   ]
  },
  {
   "cell_type": "code",
   "execution_count": 20,
   "metadata": {},
   "outputs": [],
   "source": [
    "X_sampled = df_sampled['seq_clean'].values\n",
    "\n",
    "y_sampled = df_sampled['label'].values"
   ]
  },
  {
   "cell_type": "code",
   "execution_count": 21,
   "metadata": {},
   "outputs": [],
   "source": [
    "X_train_sample, X_test_sample, y_train_sample, y_test_sample = train_test_split(X_sampled, y_sampled, \n",
    "                                                                             test_size=0.33, random_state=42)"
   ]
  },
  {
   "cell_type": "code",
   "execution_count": 22,
   "metadata": {},
   "outputs": [
    {
     "name": "stdout",
     "output_type": "stream",
     "text": [
      "(1675, 19280) <class 'scipy.sparse.csr.csr_matrix'>\n"
     ]
    }
   ],
   "source": [
    "vectorizer = TfidfVectorizer()\n",
    "vectorizer.fit(X_train_sample)\n",
    "\n",
    "X_train_sample = vectorizer.transform(X_train_sample)\n",
    "X_test_sample = vectorizer.transform(X_test_sample)\n",
    "\n",
    "print(X_train_sample.shape, type(X_train_sample))"
   ]
  },
  {
   "cell_type": "code",
   "execution_count": 23,
   "metadata": {},
   "outputs": [],
   "source": [
    "# function to find the best parameters for RandomForestRegressor\n",
    "\n",
    "param_grid = {'n_estimators': [10, 50, 100, 500, 1000], \n",
    "              'bootstrap': [True, False],\n",
    "             }\n",
    "\n",
    "# there are more parameters to test but I was getting errors and need to investigate more\n",
    "\n",
    "# param_grid = {'criterion': ['squared_error', 'absolute_error', 'poisson'],\n",
    "#               'n_estimators': [10, 50, 100, 500, 1000], \n",
    "#               'max_depth': [2, 4, 8, 16, 32, 64], \n",
    "#               'min_samples_leaf': [1, 10, 25, 50],\n",
    "#               'bootstrap': [True, False],\n",
    "#               'min_samples_split': [0, 2, 4, 8, 16, 32]\n",
    "#              }"
   ]
  },
  {
   "cell_type": "markdown",
   "metadata": {},
   "source": [
    "### *Do not run the next cell unless you have 2+ hours to kill*"
   ]
  },
  {
   "cell_type": "code",
   "execution_count": 69,
   "metadata": {},
   "outputs": [
    {
     "name": "stdout",
     "output_type": "stream",
     "text": [
      "Running Grid Search...\n",
      "Done\n"
     ]
    }
   ],
   "source": [
    "print('Running Grid Search...')\n",
    "\n",
    "# 1. Create a RandomForestRegressor model object without supplying arguments. \n",
    "\n",
    "rf_regressor = RandomForestRegressor()\n",
    "\n",
    "# 2. Run a Grid Search with 3-fold cross-validation and assign the output to the object 'rf_grid'.\n",
    "#    * Pass the model and the parameter grid to GridSearchCV()\n",
    "#    * Set the number of folds to 3\n",
    "#    * Specify the scoring method\n",
    "\n",
    "rf_grid = GridSearchCV(estimator=rf_regressor, param_grid = param_grid, cv=3, scoring='r2')\n",
    "\n",
    "# 3. Fit the model (use the 'grid' variable) on the training data and assign the fitted model to the \n",
    "#    variable 'rf_grid_search'\n",
    "\n",
    "rf_grid_search = rf_grid.fit(X_train_sample, y_train_sample)\n",
    "\n",
    "\n",
    "print('Done')"
   ]
  },
  {
   "cell_type": "code",
   "execution_count": 24,
   "metadata": {},
   "outputs": [
    {
     "ename": "NameError",
     "evalue": "name 'rf_grid_search' is not defined",
     "output_type": "error",
     "traceback": [
      "\u001b[0;31m---------------------------------------------------------------------------\u001b[0m",
      "\u001b[0;31mNameError\u001b[0m                                 Traceback (most recent call last)",
      "\u001b[0;32m<ipython-input-24-4ad32ce8a83d>\u001b[0m in \u001b[0;36m<module>\u001b[0;34m\u001b[0m\n\u001b[1;32m      1\u001b[0m \u001b[0;31m# finding best parameters for the Random Forest Regressor\u001b[0m\u001b[0;34m\u001b[0m\u001b[0;34m\u001b[0m\u001b[0;34m\u001b[0m\u001b[0m\n\u001b[1;32m      2\u001b[0m \u001b[0;34m\u001b[0m\u001b[0m\n\u001b[0;32m----> 3\u001b[0;31m \u001b[0mbest_score\u001b[0m \u001b[0;34m=\u001b[0m \u001b[0mrf_grid_search\u001b[0m\u001b[0;34m.\u001b[0m\u001b[0mbest_score_\u001b[0m\u001b[0;34m\u001b[0m\u001b[0;34m\u001b[0m\u001b[0m\n\u001b[0m\u001b[1;32m      4\u001b[0m \u001b[0mprint\u001b[0m\u001b[0;34m(\u001b[0m\u001b[0;34m\"The best score is: \"\u001b[0m\u001b[0;34m,\u001b[0m \u001b[0mbest_score\u001b[0m\u001b[0;34m)\u001b[0m\u001b[0;34m\u001b[0m\u001b[0;34m\u001b[0m\u001b[0m\n\u001b[1;32m      5\u001b[0m \u001b[0;34m\u001b[0m\u001b[0m\n",
      "\u001b[0;31mNameError\u001b[0m: name 'rf_grid_search' is not defined"
     ]
    }
   ],
   "source": [
    "# finding best parameters for the Random Forest Regressor\n",
    "\n",
    "best_score = rf_grid_search.best_score_\n",
    "print(\"The best score is: \", best_score)\n",
    "\n",
    "rf_best_params = rf_grid_search.best_params_\n",
    "print(\"The best params is: \", rf_best_params)\n",
    "\n",
    "# conclusion was n_estimators=1000, bootstrap = True are best hyperparameters "
   ]
  },
  {
   "cell_type": "code",
   "execution_count": 76,
   "metadata": {},
   "outputs": [
    {
     "data": {
      "text/plain": [
       "RandomForestRegressor(n_estimators=1000)"
      ]
     },
     "execution_count": 76,
     "metadata": {},
     "output_type": "execute_result"
    }
   ],
   "source": [
    "#Optimal Hyperparameters for RandomForestRegressor based on GridSearchCV\n",
    "\n",
    "rf_model1 = RandomForestRegressor(n_estimators=1000, bootstrap = True)\n",
    "\n",
    "# 2. Fit the model to the training data below\n",
    "rf_model1.fit(X_train_sample, y_train_sample)"
   ]
  },
  {
   "cell_type": "code",
   "execution_count": 1,
   "metadata": {},
   "outputs": [
    {
     "ename": "NameError",
     "evalue": "name 'rf_model1' is not defined",
     "output_type": "error",
     "traceback": [
      "\u001b[0;31m---------------------------------------------------------------------------\u001b[0m",
      "\u001b[0;31mNameError\u001b[0m                                 Traceback (most recent call last)",
      "\u001b[0;32m<ipython-input-1-f380e8dac8e3>\u001b[0m in \u001b[0;36m<module>\u001b[0;34m\u001b[0m\n\u001b[0;32m----> 1\u001b[0;31m \u001b[0my_sample_pred\u001b[0m \u001b[0;34m=\u001b[0m \u001b[0mrf_model1\u001b[0m\u001b[0;34m.\u001b[0m\u001b[0mpredict\u001b[0m\u001b[0;34m(\u001b[0m\u001b[0mX_test_sample\u001b[0m\u001b[0;34m)\u001b[0m\u001b[0;34m\u001b[0m\u001b[0;34m\u001b[0m\u001b[0m\n\u001b[0m\u001b[1;32m      2\u001b[0m \u001b[0;34m\u001b[0m\u001b[0m\n\u001b[1;32m      3\u001b[0m \u001b[0mrf_mse\u001b[0m \u001b[0;34m=\u001b[0m \u001b[0mmean_squared_error\u001b[0m\u001b[0;34m(\u001b[0m\u001b[0my_test_sample\u001b[0m\u001b[0;34m,\u001b[0m \u001b[0my_sample_pred\u001b[0m\u001b[0;34m)\u001b[0m\u001b[0;34m\u001b[0m\u001b[0;34m\u001b[0m\u001b[0m\n\u001b[1;32m      4\u001b[0m \u001b[0mrf_r2\u001b[0m \u001b[0;34m=\u001b[0m \u001b[0mr2_score\u001b[0m\u001b[0;34m(\u001b[0m\u001b[0my_test_sample\u001b[0m\u001b[0;34m,\u001b[0m \u001b[0my_sample_pred\u001b[0m\u001b[0;34m)\u001b[0m\u001b[0;34m\u001b[0m\u001b[0;34m\u001b[0m\u001b[0m\n\u001b[1;32m      5\u001b[0m \u001b[0;34m\u001b[0m\u001b[0m\n",
      "\u001b[0;31mNameError\u001b[0m: name 'rf_model1' is not defined"
     ]
    }
   ],
   "source": [
    "y_sample_pred = rf_model1.predict(X_test_sample)\n",
    "\n",
    "rf_mse = mean_squared_error(y_test_sample, y_sample_pred)\n",
    "rf_r2 = r2_score(y_test_sample, y_sample_pred)\n",
    "\n",
    "print('on sample size of 500/genre with optimal hyperparameters:')\n",
    "print('[RF] Mean Squared Error: {0}'.format(rf_mse))\n",
    "print('[RF] R2: {0}'.format(rf_r2))\n",
    "\n",
    "# on sample size of 500/genre with optimal hyperparameters:\n",
    "# - [RF] Mean Squared Error: 0.05222244210798196\n",
    "# - [RF] R2: 0.10795588207769391"
   ]
  },
  {
   "cell_type": "code",
   "execution_count": 10,
   "metadata": {},
   "outputs": [],
   "source": [
    "# Function to test the predictions of the model with NEW unseen text (not part of testing set)\n",
    "\n",
    "def rgrg_string_test(lyrics):\n",
    "    new_lyrics = text_processing_pipeline(lyrics)\n",
    "    print(\"the processed lyrics are: \", new_lyrics)\n",
    "    \n",
    "    new_text_vectorized = vectorizer.transform([new_lyrics])\n",
    "    \n",
    "    value = rf_model1.predict(new_text_vectorized)\n",
    "    print(\"Random Forest Regressor model gives a value of: \", value)\n",
    "    if(value < .50):\n",
    "        print(\"which is negative\")\n",
    "    else: \n",
    "        print(\"which is positive\")"
   ]
  },
  {
   "cell_type": "code",
   "execution_count": 11,
   "metadata": {},
   "outputs": [
    {
     "name": "stdout",
     "output_type": "stream",
     "text": [
      "the processed lyrics are:  hit baby one time lonliness killing must confess still believe\n"
     ]
    },
    {
     "ename": "NameError",
     "evalue": "name 'vectorizer' is not defined",
     "output_type": "error",
     "traceback": [
      "\u001b[0;31m---------------------------------------------------------------------------\u001b[0m",
      "\u001b[0;31mNameError\u001b[0m                                 Traceback (most recent call last)",
      "\u001b[0;32m<ipython-input-11-ddee9472aa29>\u001b[0m in \u001b[0;36m<module>\u001b[0;34m\u001b[0m\n\u001b[1;32m      4\u001b[0m \u001b[0mtest_text4\u001b[0m \u001b[0;34m=\u001b[0m \u001b[0;34m\"Girl put your record on tell me your favorite song just go ahead let your hair down\"\u001b[0m\u001b[0;34m\u001b[0m\u001b[0;34m\u001b[0m\u001b[0m\n\u001b[1;32m      5\u001b[0m \u001b[0;34m\u001b[0m\u001b[0m\n\u001b[0;32m----> 6\u001b[0;31m \u001b[0mrgrg_string_test\u001b[0m\u001b[0;34m(\u001b[0m\u001b[0mtest_text1\u001b[0m\u001b[0;34m)\u001b[0m\u001b[0;34m\u001b[0m\u001b[0;34m\u001b[0m\u001b[0m\n\u001b[0m\u001b[1;32m      7\u001b[0m \u001b[0mprint\u001b[0m\u001b[0;34m(\u001b[0m\u001b[0;34m'\\n'\u001b[0m\u001b[0;34m)\u001b[0m\u001b[0;34m\u001b[0m\u001b[0;34m\u001b[0m\u001b[0m\n\u001b[1;32m      8\u001b[0m \u001b[0mrgrg_string_test\u001b[0m\u001b[0;34m(\u001b[0m\u001b[0mtest_text2\u001b[0m\u001b[0;34m)\u001b[0m\u001b[0;34m\u001b[0m\u001b[0;34m\u001b[0m\u001b[0m\n",
      "\u001b[0;32m<ipython-input-10-218409762e8b>\u001b[0m in \u001b[0;36mrgrg_string_test\u001b[0;34m(lyrics)\u001b[0m\n\u001b[1;32m      5\u001b[0m     \u001b[0mprint\u001b[0m\u001b[0;34m(\u001b[0m\u001b[0;34m\"the processed lyrics are: \"\u001b[0m\u001b[0;34m,\u001b[0m \u001b[0mnew_lyrics\u001b[0m\u001b[0;34m)\u001b[0m\u001b[0;34m\u001b[0m\u001b[0;34m\u001b[0m\u001b[0m\n\u001b[1;32m      6\u001b[0m \u001b[0;34m\u001b[0m\u001b[0m\n\u001b[0;32m----> 7\u001b[0;31m     \u001b[0mnew_text_vectorized\u001b[0m \u001b[0;34m=\u001b[0m \u001b[0mvectorizer\u001b[0m\u001b[0;34m.\u001b[0m\u001b[0mtransform\u001b[0m\u001b[0;34m(\u001b[0m\u001b[0;34m[\u001b[0m\u001b[0mnew_lyrics\u001b[0m\u001b[0;34m]\u001b[0m\u001b[0;34m)\u001b[0m\u001b[0;34m\u001b[0m\u001b[0;34m\u001b[0m\u001b[0m\n\u001b[0m\u001b[1;32m      8\u001b[0m \u001b[0;34m\u001b[0m\u001b[0m\n\u001b[1;32m      9\u001b[0m     \u001b[0mvalue\u001b[0m \u001b[0;34m=\u001b[0m \u001b[0mrf_model\u001b[0m\u001b[0;34m.\u001b[0m\u001b[0mpredict\u001b[0m\u001b[0;34m(\u001b[0m\u001b[0mnew_text_vectorized\u001b[0m\u001b[0;34m)\u001b[0m\u001b[0;34m\u001b[0m\u001b[0;34m\u001b[0m\u001b[0m\n",
      "\u001b[0;31mNameError\u001b[0m: name 'vectorizer' is not defined"
     ]
    }
   ],
   "source": [
    "test_text1 = \"Hit me baby one more time my lonliness is killing me and I must confess I still believe\"\n",
    "test_text2 = \"Oh, baby, when you talk like that You make a woman go mad So be wise and keep on Reading the signs of my body\"\n",
    "test_text3 = \"looking out on the pouring rain I used to feel so uninspired\"\n",
    "test_text4 = \"Girl put your record on tell me your favorite song just go ahead let your hair down\"\n",
    "\n",
    "rgrg_string_test(test_text1)\n",
    "print('\\n')\n",
    "rgrg_string_test(test_text2)\n",
    "print('\\n')\n",
    "rgrg_string_test(test_text3)\n",
    "print('\\n')\n",
    "rgrg_string_test(test_text4)"
   ]
  },
  {
   "cell_type": "markdown",
   "metadata": {},
   "source": [
    "# Running Larger RF Test on 1687 samples from each Genre\n",
    "\n",
    "- to-do: break this testing out into a function instead of repeating code "
   ]
  },
  {
   "cell_type": "code",
   "execution_count": 101,
   "metadata": {},
   "outputs": [
    {
     "name": "stdout",
     "output_type": "stream",
     "text": [
      "(8435, 7)\n"
     ]
    },
    {
     "data": {
      "text/html": [
       "<div>\n",
       "<style scoped>\n",
       "    .dataframe tbody tr th:only-of-type {\n",
       "        vertical-align: middle;\n",
       "    }\n",
       "\n",
       "    .dataframe tbody tr th {\n",
       "        vertical-align: top;\n",
       "    }\n",
       "\n",
       "    .dataframe thead th {\n",
       "        text-align: right;\n",
       "    }\n",
       "</style>\n",
       "<table border=\"1\" class=\"dataframe\">\n",
       "  <thead>\n",
       "    <tr style=\"text-align: right;\">\n",
       "      <th></th>\n",
       "      <th>Unnamed: 0</th>\n",
       "      <th>artist</th>\n",
       "      <th>seq</th>\n",
       "      <th>song</th>\n",
       "      <th>label</th>\n",
       "      <th>genre</th>\n",
       "      <th>seq_clean</th>\n",
       "    </tr>\n",
       "  </thead>\n",
       "  <tbody>\n",
       "    <tr>\n",
       "      <th>51095</th>\n",
       "      <td>17518</td>\n",
       "      <td>Donna Summer</td>\n",
       "      <td>Here I am on my own again\\nThe days rush by\\nT...</td>\n",
       "      <td>On My Honor</td>\n",
       "      <td>0.156</td>\n",
       "      <td>R&amp;B</td>\n",
       "      <td>days rush nights seems slow guess ive let way ...</td>\n",
       "    </tr>\n",
       "    <tr>\n",
       "      <th>43146</th>\n",
       "      <td>156269</td>\n",
       "      <td>Jagged Edge</td>\n",
       "      <td>[JD (JE)]\\r\\n(Girl I got it)\\r\\nShake, shake i...</td>\n",
       "      <td>I Got It</td>\n",
       "      <td>0.881</td>\n",
       "      <td>R&amp;B</td>\n",
       "      <td>jd je girl got shake shake baby shake shake sh...</td>\n",
       "    </tr>\n",
       "    <tr>\n",
       "      <th>9224</th>\n",
       "      <td>144417</td>\n",
       "      <td>Freddie Hubbard</td>\n",
       "      <td>Skylark\\r\\nHave you anything to say to me?\\r\\n...</td>\n",
       "      <td>Skylark</td>\n",
       "      <td>0.103</td>\n",
       "      <td>R&amp;B</td>\n",
       "      <td>skylark anything say wont tell love meadow mis...</td>\n",
       "    </tr>\n",
       "    <tr>\n",
       "      <th>38011</th>\n",
       "      <td>42985</td>\n",
       "      <td>T-Pain</td>\n",
       "      <td>I-I-I'm back!\\nFreaknik's back baby!\\n\\nWhat's...</td>\n",
       "      <td>Freaknik Is Back</td>\n",
       "      <td>0.319</td>\n",
       "      <td>R&amp;B</td>\n",
       "      <td>iiim back freakniks back baby whats happen mo ...</td>\n",
       "    </tr>\n",
       "    <tr>\n",
       "      <th>20314</th>\n",
       "      <td>134197</td>\n",
       "      <td>Sky</td>\n",
       "      <td>Cause I just\\r\\nCause I just\\r\\nCould you be h...</td>\n",
       "      <td>Push</td>\n",
       "      <td>0.269</td>\n",
       "      <td>R&amp;B</td>\n",
       "      <td>cause cause could holding something maybe im y...</td>\n",
       "    </tr>\n",
       "    <tr>\n",
       "      <th>31346</th>\n",
       "      <td>156280</td>\n",
       "      <td>Jagged Edge</td>\n",
       "      <td>I see you sitting there\\r\\nLooking like you gl...</td>\n",
       "      <td>Dance Floor</td>\n",
       "      <td>0.737</td>\n",
       "      <td>R&amp;B</td>\n",
       "      <td>see sitting looking like glued chair party goi...</td>\n",
       "    </tr>\n",
       "    <tr>\n",
       "      <th>49569</th>\n",
       "      <td>70519</td>\n",
       "      <td>Ray J</td>\n",
       "      <td>Is a precious lil girl n such a pretty lil gir...</td>\n",
       "      <td>Sex in the Rain</td>\n",
       "      <td>0.614</td>\n",
       "      <td>R&amp;B</td>\n",
       "      <td>precious lil girl n pretty lil girl shes grown...</td>\n",
       "    </tr>\n",
       "    <tr>\n",
       "      <th>9933</th>\n",
       "      <td>35772</td>\n",
       "      <td>Otis Redding</td>\n",
       "      <td>I want to thank you for being so nice now \\r\\n...</td>\n",
       "      <td>I Want to Thank You</td>\n",
       "      <td>0.961</td>\n",
       "      <td>R&amp;B</td>\n",
       "      <td>want thank nice want thank giving pride sweet ...</td>\n",
       "    </tr>\n",
       "    <tr>\n",
       "      <th>12183</th>\n",
       "      <td>120461</td>\n",
       "      <td>Tory Lanez</td>\n",
       "      <td>Staring, looking at you from a long way\\r\\nPas...</td>\n",
       "      <td>High</td>\n",
       "      <td>0.387</td>\n",
       "      <td>R&amp;B</td>\n",
       "      <td>staring looking long way passing ceilings keep...</td>\n",
       "    </tr>\n",
       "    <tr>\n",
       "      <th>32704</th>\n",
       "      <td>26366</td>\n",
       "      <td>Leonard Cohen</td>\n",
       "      <td>When it all went down\\r\\nAnd the pain came thr...</td>\n",
       "      <td>There for You</td>\n",
       "      <td>0.702</td>\n",
       "      <td>R&amp;B</td>\n",
       "      <td>went pain came get dont ask know true get make...</td>\n",
       "    </tr>\n",
       "  </tbody>\n",
       "</table>\n",
       "</div>"
      ],
      "text/plain": [
       "      Unnamed: 0           artist  \\\n",
       "51095      17518     Donna Summer   \n",
       "43146     156269      Jagged Edge   \n",
       "9224      144417  Freddie Hubbard   \n",
       "38011      42985           T-Pain   \n",
       "20314     134197              Sky   \n",
       "31346     156280      Jagged Edge   \n",
       "49569      70519            Ray J   \n",
       "9933       35772     Otis Redding   \n",
       "12183     120461       Tory Lanez   \n",
       "32704      26366    Leonard Cohen   \n",
       "\n",
       "                                                     seq                 song  \\\n",
       "51095  Here I am on my own again\\nThe days rush by\\nT...          On My Honor   \n",
       "43146  [JD (JE)]\\r\\n(Girl I got it)\\r\\nShake, shake i...             I Got It   \n",
       "9224   Skylark\\r\\nHave you anything to say to me?\\r\\n...              Skylark   \n",
       "38011  I-I-I'm back!\\nFreaknik's back baby!\\n\\nWhat's...     Freaknik Is Back   \n",
       "20314  Cause I just\\r\\nCause I just\\r\\nCould you be h...                 Push   \n",
       "31346  I see you sitting there\\r\\nLooking like you gl...          Dance Floor   \n",
       "49569  Is a precious lil girl n such a pretty lil gir...      Sex in the Rain   \n",
       "9933   I want to thank you for being so nice now \\r\\n...  I Want to Thank You   \n",
       "12183  Staring, looking at you from a long way\\r\\nPas...                 High   \n",
       "32704  When it all went down\\r\\nAnd the pain came thr...        There for You   \n",
       "\n",
       "       label genre                                          seq_clean  \n",
       "51095  0.156   R&B  days rush nights seems slow guess ive let way ...  \n",
       "43146  0.881   R&B  jd je girl got shake shake baby shake shake sh...  \n",
       "9224   0.103   R&B  skylark anything say wont tell love meadow mis...  \n",
       "38011  0.319   R&B  iiim back freakniks back baby whats happen mo ...  \n",
       "20314  0.269   R&B  cause cause could holding something maybe im y...  \n",
       "31346  0.737   R&B  see sitting looking like glued chair party goi...  \n",
       "49569  0.614   R&B  precious lil girl n pretty lil girl shes grown...  \n",
       "9933   0.961   R&B  want thank nice want thank giving pride sweet ...  \n",
       "12183  0.387   R&B  staring looking long way passing ceilings keep...  \n",
       "32704  0.702   R&B  went pain came get dont ask know true get make...  "
      ]
     },
     "execution_count": 101,
     "metadata": {},
     "output_type": "execute_result"
    }
   ],
   "source": [
    "# sampling from the dataframe, k is 1687 which is the max number of samples from R&B the smallest Genre pool \n",
    "\n",
    "df_sampled2 = genre_sample(df, k=1687)\n",
    "print(df_sampled2.shape)\n",
    "df_sampled2.head(10)"
   ]
  },
  {
   "cell_type": "code",
   "execution_count": 102,
   "metadata": {},
   "outputs": [
    {
     "data": {
      "text/plain": [
       "Rap        1687\n",
       "R&B        1687\n",
       "Country    1687\n",
       "Pop        1687\n",
       "Rock       1687\n",
       "Name: genre, dtype: int64"
      ]
     },
     "execution_count": 102,
     "metadata": {},
     "output_type": "execute_result"
    }
   ],
   "source": [
    "#checking correct amounts of samples per genre were obtained\n",
    "\n",
    "df_sampled2.genre.value_counts()"
   ]
  },
  {
   "cell_type": "code",
   "execution_count": 103,
   "metadata": {},
   "outputs": [],
   "source": [
    "X_sampled2 = df_sampled2['seq_clean'].values\n",
    "\n",
    "y_sampled2 = df_sampled2['label'].values"
   ]
  },
  {
   "cell_type": "code",
   "execution_count": 104,
   "metadata": {},
   "outputs": [],
   "source": [
    "X_train_sample2, X_test_sample2, y_train_sample2, y_test_sample2 = train_test_split(X_sampled2, y_sampled2, \n",
    "                                                                             test_size=0.33, random_state=42)"
   ]
  },
  {
   "cell_type": "code",
   "execution_count": 105,
   "metadata": {},
   "outputs": [
    {
     "name": "stdout",
     "output_type": "stream",
     "text": [
      "(5651, 35571) <class 'scipy.sparse.csr.csr_matrix'>\n"
     ]
    }
   ],
   "source": [
    "vectorizer2 = TfidfVectorizer()\n",
    "vectorizer2.fit(X_train_sample2)\n",
    "\n",
    "X_train_sample2 = vectorizer2.transform(X_train_sample2)\n",
    "X_test_sample2 = vectorizer2.transform(X_test_sample2)\n",
    "\n",
    "print(X_train_sample2.shape, type(X_train_sample2))"
   ]
  },
  {
   "cell_type": "code",
   "execution_count": 106,
   "metadata": {},
   "outputs": [
    {
     "data": {
      "text/plain": [
       "RandomForestRegressor(n_estimators=1000)"
      ]
     },
     "execution_count": 106,
     "metadata": {},
     "output_type": "execute_result"
    }
   ],
   "source": [
    "#Optimal Hyperparameters for RandomForestRegressor based on GridSearchCV\n",
    "\n",
    "rf_model2 = RandomForestRegressor(n_estimators=1000, bootstrap = True)\n",
    "\n",
    "# 2. Fit the model to the training data below\n",
    "rf_model2.fit(X_train_sample2, y_train_sample2)"
   ]
  },
  {
   "cell_type": "code",
   "execution_count": 112,
   "metadata": {},
   "outputs": [
    {
     "name": "stdout",
     "output_type": "stream",
     "text": [
      "[RF] Mean Squared Error: 0.05101035414841959\n",
      "[RF] R2: 0.1205852034338123\n"
     ]
    }
   ],
   "source": [
    "y_sample_pred2 = rf_model2.predict(X_test_sample2)\n",
    "y_sample_pred2\n",
    "\n",
    "rf_mse2 = mean_squared_error(y_test_sample2, y_sample_pred2)\n",
    "rf_r2_2 = r2_score(y_test_sample2, y_sample_pred2)\n",
    "\n",
    "print('on sample size of 1687/genre  with optimal hyperparameters:')\n",
    "print('[RF] Mean Squared Error: {0}'.format(rf_mse2))\n",
    "print('[RF] R2: {0}'.format(rf_r2_2))\n",
    "\n",
    "# on sample size 1687/genre with optimal hyperprameters:\n",
    "# - [RF] Mean Squared Error: 0.05101035414841959\n",
    "# - [RF] R2: 0.1205852034338123"
   ]
  },
  {
   "cell_type": "markdown",
   "metadata": {},
   "source": [
    "# conclusion on tesing Random Forest Regressors\n",
    "\n",
    "Not much gained or lost from increase in sample size. \n",
    "R2 error increased by .02 which is not too significant \n",
    "\n",
    "on sample size 500/genre with optimal hyperparameters:\n",
    "- [RF] Mean Squared Error: 0.05222244210798196\n",
    "- [RF] R2: 0.10795588207769391\n",
    "\n",
    "on sample size 1687/genre with optimal hyperprameters:\n",
    "- [RF] Mean Squared Error: 0.05101035414841959\n",
    "- [RF] R2: 0.1205852034338123"
   ]
  },
  {
   "cell_type": "markdown",
   "metadata": {},
   "source": [
    "# Running RF Test on Full Data Set "
   ]
  },
  {
   "cell_type": "code",
   "execution_count": 25,
   "metadata": {},
   "outputs": [],
   "source": [
    "X_train, X_test, y_train, y_test = train_test_split(\n",
    "    X, y, test_size=0.33, random_state=42)"
   ]
  },
  {
   "cell_type": "code",
   "execution_count": 26,
   "metadata": {},
   "outputs": [
    {
     "name": "stdout",
     "output_type": "stream",
     "text": [
      "(24773, 66588) <class 'numpy.ndarray'>\n",
      "<class 'scipy.sparse.csr.csr_matrix'>\n"
     ]
    }
   ],
   "source": [
    "# Initialize our vectorizer\n",
    "vectorizer = TfidfVectorizer()\n",
    "\n",
    "# 3. Fit your vectorizer using your X data\n",
    "# This makes your vocab matrix\n",
    "vectorizer.fit(X_train)\n",
    "\n",
    "# 4. Transform your X data using your fitted vectorizer. \n",
    "# This transforms your documents into vectors.\n",
    "X_train = vectorizer.transform(X_train)\n",
    "X_test = vectorizer.transform(X_test)\n",
    "\n",
    "print(X_train.shape, type(X))\n",
    "print(type(X_train))"
   ]
  },
  {
   "cell_type": "code",
   "execution_count": 27,
   "metadata": {},
   "outputs": [
    {
     "data": {
      "text/plain": [
       "RandomForestRegressor(n_estimators=1000)"
      ]
     },
     "execution_count": 27,
     "metadata": {},
     "output_type": "execute_result"
    }
   ],
   "source": [
    "#Optimal Hyperparameters for RandomForestRegressor based on GridSearchCV\n",
    "\n",
    "rf_model = RandomForestRegressor(n_estimators=1000, bootstrap = True)\n",
    "\n",
    "# 2. Fit the model to the training data below\n",
    "rf_model.fit(X_train, y_train)"
   ]
  },
  {
   "cell_type": "code",
   "execution_count": 28,
   "metadata": {},
   "outputs": [
    {
     "name": "stdout",
     "output_type": "stream",
     "text": [
      "[RF] Mean Squared Error: 0.05115798019890316\n",
      "[RF] R2: 0.15070068589697727\n"
     ]
    }
   ],
   "source": [
    "y_pred = rf_model.predict(X_test)\n",
    "y_pred\n",
    "\n",
    "rf_mse = mean_squared_error(y_test, y_pred)\n",
    "rf_r2 = r2_score(y_test, y_pred)\n",
    "\n",
    "print('on full data set with optimal hyperparameters:')\n",
    "print('[RF] Mean Squared Error: {0}'.format(rf_mse))\n",
    "print('[RF] R2: {0}'.format(rf_r2))"
   ]
  },
  {
   "cell_type": "code",
   "execution_count": 2,
   "metadata": {},
   "outputs": [],
   "source": [
    "#end of RF testing"
   ]
  },
  {
   "cell_type": "markdown",
   "metadata": {},
   "source": [
    "---"
   ]
  },
  {
   "cell_type": "markdown",
   "metadata": {},
   "source": [
    "# Gradient Boosting Regressor\n",
    "Gradient boosting is a technique for repeatedly adding decision trees so that the next decision tree corrects the previous decision tree error."
   ]
  },
  {
   "cell_type": "code",
   "execution_count": 29,
   "metadata": {},
   "outputs": [
    {
     "name": "stdout",
     "output_type": "stream",
     "text": [
      "(2500, 7)\n"
     ]
    },
    {
     "data": {
      "text/html": [
       "<div>\n",
       "<style scoped>\n",
       "    .dataframe tbody tr th:only-of-type {\n",
       "        vertical-align: middle;\n",
       "    }\n",
       "\n",
       "    .dataframe tbody tr th {\n",
       "        vertical-align: top;\n",
       "    }\n",
       "\n",
       "    .dataframe thead th {\n",
       "        text-align: right;\n",
       "    }\n",
       "</style>\n",
       "<table border=\"1\" class=\"dataframe\">\n",
       "  <thead>\n",
       "    <tr style=\"text-align: right;\">\n",
       "      <th></th>\n",
       "      <th>Unnamed: 0</th>\n",
       "      <th>artist</th>\n",
       "      <th>seq</th>\n",
       "      <th>song</th>\n",
       "      <th>label</th>\n",
       "      <th>genre</th>\n",
       "      <th>seq_clean</th>\n",
       "    </tr>\n",
       "  </thead>\n",
       "  <tbody>\n",
       "    <tr>\n",
       "      <th>27175</th>\n",
       "      <td>104823</td>\n",
       "      <td>Najee</td>\n",
       "      <td>La la la la la la lala la\\r\\nLa la la la la la...</td>\n",
       "      <td>Another Star</td>\n",
       "      <td>0.9680</td>\n",
       "      <td>R&amp;B</td>\n",
       "      <td>la la la la la la lala la la la la la la la la...</td>\n",
       "    </tr>\n",
       "    <tr>\n",
       "      <th>47700</th>\n",
       "      <td>124966</td>\n",
       "      <td>Andreya Triana</td>\n",
       "      <td>Wait for all the broken pieces to fade\\r\\nAnd ...</td>\n",
       "      <td>Song For A Friend</td>\n",
       "      <td>0.2610</td>\n",
       "      <td>R&amp;B</td>\n",
       "      <td>wait broken pieces fade lay head upon shoulder...</td>\n",
       "    </tr>\n",
       "    <tr>\n",
       "      <th>39277</th>\n",
       "      <td>76472</td>\n",
       "      <td>Wax Tailor</td>\n",
       "      <td>A record of the delightful piece they're going...</td>\n",
       "      <td>Que Sera</td>\n",
       "      <td>0.4190</td>\n",
       "      <td>R&amp;B</td>\n",
       "      <td>record delightful piece theyre going play even...</td>\n",
       "    </tr>\n",
       "    <tr>\n",
       "      <th>53230</th>\n",
       "      <td>129079</td>\n",
       "      <td>Roy Woods</td>\n",
       "      <td>Gwan big up urself\\r\\nOhh, ohh, yeah girl\\r\\n\\...</td>\n",
       "      <td>Gwan Big Up Urself</td>\n",
       "      <td>0.2720</td>\n",
       "      <td>R&amp;B</td>\n",
       "      <td>gwan big urself ohh ohh yeah girl come thru mi...</td>\n",
       "    </tr>\n",
       "    <tr>\n",
       "      <th>18050</th>\n",
       "      <td>35787</td>\n",
       "      <td>Otis Redding</td>\n",
       "      <td>I know you told me, long time ago\\r\\nThat you ...</td>\n",
       "      <td>A Fool for You</td>\n",
       "      <td>0.5110</td>\n",
       "      <td>R&amp;B</td>\n",
       "      <td>know told long time ago didnt want yeah didnt ...</td>\n",
       "    </tr>\n",
       "    <tr>\n",
       "      <th>45833</th>\n",
       "      <td>70927</td>\n",
       "      <td>Monifah</td>\n",
       "      <td>Yeah, uh uh\\r\\nYeah, uh uh\\r\\nDon't look at me...</td>\n",
       "      <td>Brown Eyes</td>\n",
       "      <td>0.7810</td>\n",
       "      <td>R&amp;B</td>\n",
       "      <td>yeah uh uh yeah uh uh dont look like cant resi...</td>\n",
       "    </tr>\n",
       "    <tr>\n",
       "      <th>28792</th>\n",
       "      <td>49433</td>\n",
       "      <td>Avant</td>\n",
       "      <td>This girl was so fine, much more than two guns...</td>\n",
       "      <td>AV</td>\n",
       "      <td>0.4750</td>\n",
       "      <td>R&amp;B</td>\n",
       "      <td>girl fine much two guns pump brakes man looked...</td>\n",
       "    </tr>\n",
       "    <tr>\n",
       "      <th>22811</th>\n",
       "      <td>20123</td>\n",
       "      <td>Brandy</td>\n",
       "      <td>[Chorus: x2]\\r\\nWhat's a sunny day without you...</td>\n",
       "      <td>Sunny Day</td>\n",
       "      <td>0.9150</td>\n",
       "      <td>R&amp;B</td>\n",
       "      <td>chorus x2 whats sunny day without another 24 p...</td>\n",
       "    </tr>\n",
       "    <tr>\n",
       "      <th>43416</th>\n",
       "      <td>32723</td>\n",
       "      <td>Amanda Perez</td>\n",
       "      <td>Oh Oh\\r\\nIn my life, my life\\r\\nEverytime I se...</td>\n",
       "      <td>In My Life</td>\n",
       "      <td>0.5630</td>\n",
       "      <td>R&amp;B</td>\n",
       "      <td>oh oh life life everytime see lose cool goin m...</td>\n",
       "    </tr>\n",
       "    <tr>\n",
       "      <th>42926</th>\n",
       "      <td>91147</td>\n",
       "      <td>The Time</td>\n",
       "      <td>Hey, are y'all ready to party up in here?\\nI s...</td>\n",
       "      <td>Dreamland</td>\n",
       "      <td>0.0324</td>\n",
       "      <td>R&amp;B</td>\n",
       "      <td>hey yall ready party said ready party want put...</td>\n",
       "    </tr>\n",
       "  </tbody>\n",
       "</table>\n",
       "</div>"
      ],
      "text/plain": [
       "      Unnamed: 0          artist  \\\n",
       "27175     104823           Najee   \n",
       "47700     124966  Andreya Triana   \n",
       "39277      76472      Wax Tailor   \n",
       "53230     129079       Roy Woods   \n",
       "18050      35787    Otis Redding   \n",
       "45833      70927         Monifah   \n",
       "28792      49433           Avant   \n",
       "22811      20123          Brandy   \n",
       "43416      32723    Amanda Perez   \n",
       "42926      91147        The Time   \n",
       "\n",
       "                                                     seq                song  \\\n",
       "27175  La la la la la la lala la\\r\\nLa la la la la la...        Another Star   \n",
       "47700  Wait for all the broken pieces to fade\\r\\nAnd ...   Song For A Friend   \n",
       "39277  A record of the delightful piece they're going...            Que Sera   \n",
       "53230  Gwan big up urself\\r\\nOhh, ohh, yeah girl\\r\\n\\...  Gwan Big Up Urself   \n",
       "18050  I know you told me, long time ago\\r\\nThat you ...      A Fool for You   \n",
       "45833  Yeah, uh uh\\r\\nYeah, uh uh\\r\\nDon't look at me...          Brown Eyes   \n",
       "28792  This girl was so fine, much more than two guns...                  AV   \n",
       "22811  [Chorus: x2]\\r\\nWhat's a sunny day without you...           Sunny Day   \n",
       "43416  Oh Oh\\r\\nIn my life, my life\\r\\nEverytime I se...          In My Life   \n",
       "42926  Hey, are y'all ready to party up in here?\\nI s...           Dreamland   \n",
       "\n",
       "        label genre                                          seq_clean  \n",
       "27175  0.9680   R&B  la la la la la la lala la la la la la la la la...  \n",
       "47700  0.2610   R&B  wait broken pieces fade lay head upon shoulder...  \n",
       "39277  0.4190   R&B  record delightful piece theyre going play even...  \n",
       "53230  0.2720   R&B  gwan big urself ohh ohh yeah girl come thru mi...  \n",
       "18050  0.5110   R&B  know told long time ago didnt want yeah didnt ...  \n",
       "45833  0.7810   R&B  yeah uh uh yeah uh uh dont look like cant resi...  \n",
       "28792  0.4750   R&B  girl fine much two guns pump brakes man looked...  \n",
       "22811  0.9150   R&B  chorus x2 whats sunny day without another 24 p...  \n",
       "43416  0.5630   R&B  oh oh life life everytime see lose cool goin m...  \n",
       "42926  0.0324   R&B  hey yall ready party said ready party want put...  "
      ]
     },
     "execution_count": 29,
     "metadata": {},
     "output_type": "execute_result"
    }
   ],
   "source": [
    "# sampling from the dataframe, k is the # of samples from each genre\n",
    "\n",
    "df_sampled3 = genre_sample(df, k=500)\n",
    "print(df_sampled3.shape)\n",
    "df_sampled3.head(10)\n"
   ]
  },
  {
   "cell_type": "code",
   "execution_count": 30,
   "metadata": {},
   "outputs": [
    {
     "data": {
      "text/plain": [
       "Rock       500\n",
       "Country    500\n",
       "R&B        500\n",
       "Pop        500\n",
       "Rap        500\n",
       "Name: genre, dtype: int64"
      ]
     },
     "execution_count": 30,
     "metadata": {},
     "output_type": "execute_result"
    }
   ],
   "source": [
    "#checking correct amounts of samples per genre were obtained\n",
    "df_sampled3.genre.value_counts()"
   ]
  },
  {
   "cell_type": "code",
   "execution_count": 33,
   "metadata": {},
   "outputs": [],
   "source": [
    "X_sampled3 = df_sampled3['seq_clean'].values\n",
    "y_sampled3 = df_sampled3['label'].values"
   ]
  },
  {
   "cell_type": "code",
   "execution_count": 34,
   "metadata": {},
   "outputs": [],
   "source": [
    "X_train_sample3, X_test_sample3, y_train_sample3, y_test_sample3 = train_test_split(X_sampled3, y_sampled3, \n",
    "                                                                                    test_size=0.33, random_state=42)"
   ]
  },
  {
   "cell_type": "code",
   "execution_count": 35,
   "metadata": {},
   "outputs": [
    {
     "name": "stdout",
     "output_type": "stream",
     "text": [
      "(1675, 18951) <class 'scipy.sparse.csr.csr_matrix'>\n"
     ]
    }
   ],
   "source": [
    "vectorizer3 = TfidfVectorizer()\n",
    "vectorizer3.fit(X_train_sample3)\n",
    "\n",
    "X_train_sample3 = vectorizer3.transform(X_train_sample3)\n",
    "X_test_sample3 = vectorizer3.transform(X_test_sample3)\n",
    "\n",
    "print(X_train_sample3.shape, type(X_train_sample3))"
   ]
  },
  {
   "cell_type": "code",
   "execution_count": 36,
   "metadata": {},
   "outputs": [],
   "source": [
    "gb = GradientBoostingRegressor()"
   ]
  },
  {
   "cell_type": "code",
   "execution_count": 37,
   "metadata": {},
   "outputs": [
    {
     "data": {
      "text/plain": [
       "GradientBoostingRegressor()"
      ]
     },
     "execution_count": 37,
     "metadata": {},
     "output_type": "execute_result"
    }
   ],
   "source": [
    "gb.fit(X_train_sample3, y_train_sample3)"
   ]
  },
  {
   "cell_type": "code",
   "execution_count": 38,
   "metadata": {},
   "outputs": [],
   "source": [
    "y_pred_sample3 = gb.predict(X_test_sample3)"
   ]
  },
  {
   "cell_type": "code",
   "execution_count": 39,
   "metadata": {},
   "outputs": [
    {
     "name": "stdout",
     "output_type": "stream",
     "text": [
      "For a sample size of 500 and NO hyperparameter tuning:\n",
      "[GB] Mean Squared Error: 0.05264719893512396\n",
      "[GB] R2: 0.08043425668821236\n",
      "\n",
      " Gradient Boosting Regressor produces same MSE as Random Forest but r2 has improved by .05\n"
     ]
    }
   ],
   "source": [
    "gb_mse = mean_squared_error(y_test_sample3, y_pred_sample3)\n",
    "gb_r2 = r2_score(y_test_sample3, y_pred_sample3)\n",
    "\n",
    "print('For a sample size of 500 and NO hyperparameter tuning:')\n",
    "print('[GB] Mean Squared Error: {0}'.format(gb_mse))\n",
    "print('[GB] R2: {0}'.format(gb_r2))\n",
    "print(\"\\n Gradient Boosting Regressor produces same MSE as Random Forest but r2 has improved by .05\")\n",
    "\n",
    "# For a sample size of 500 and NO hyperparameter tuning:\n",
    "# [GB] Mean Squared Error: 0.05264719893512396\n",
    "# [GB] R2: 0.08043425668821236"
   ]
  },
  {
   "cell_type": "markdown",
   "metadata": {},
   "source": [
    "### Hyperparameter Tuning of Gradiet Boosting Regressor with GridSearchCV\n",
    "- need to run overnight"
   ]
  },
  {
   "cell_type": "code",
   "execution_count": 40,
   "metadata": {},
   "outputs": [],
   "source": [
    "gb_param_grid= {'n_estimators': [100, 1000, 1500],\n",
    "                'learning_rate' : [0.1, 0.3, 0.5],\n",
    "                'max_depth': [3, 8, 16, 32]\n",
    "                }"
   ]
  },
  {
   "cell_type": "markdown",
   "metadata": {},
   "source": [
    "### *Do not run the next cell unless you have 2 hours to kill*"
   ]
  },
  {
   "cell_type": "code",
   "execution_count": 41,
   "metadata": {},
   "outputs": [
    {
     "name": "stdout",
     "output_type": "stream",
     "text": [
      "Running Grid Search ... \n",
      "Running the fit..\n",
      "Done.\n",
      "The best score is:  0.07331262579138897\n",
      "The best parameters are:  {'learning_rate': 0.1, 'max_depth': 3, 'n_estimators': 100}\n"
     ]
    }
   ],
   "source": [
    "print(\"Running Grid Search ... \")\n",
    "\n",
    "gb_regressor = GradientBoostingRegressor()\n",
    "\n",
    "gb_grid = GridSearchCV(estimator = gb_regressor, param_grid= gb_param_grid, cv=3, scoring= 'r2')\n",
    "\n",
    "print(\"Running the fit..\")\n",
    "\n",
    "gb_grid_search = gb_grid.fit(X_train_sample3, y_train_sample3)\n",
    "\n",
    "print(\"Done.\")\n",
    "\n",
    "best_score3 = gb_grid_search.best_score_\n",
    "print(\"The best score is: \", best_score3)\n",
    "\n",
    "gb_best_params = gb_grid_search.best_params_\n",
    "print(\"The best parameters are: \", gb_best_params)\n",
    "\n",
    "# The best score is:  0.07331262579138897\n",
    "# The best parameters are:  {'learning_rate': 0.1, 'max_depth': 3, 'n_estimators': 100}"
   ]
  },
  {
   "cell_type": "markdown",
   "metadata": {},
   "source": [
    "# Running Larger GB Test on 1687 samples from each Genre\n",
    "### with optimized hyper parameters {'learning_rate': 0.1, 'max_depth': 3, 'n_estimators': 100}"
   ]
  },
  {
   "cell_type": "code",
   "execution_count": 42,
   "metadata": {},
   "outputs": [
    {
     "name": "stdout",
     "output_type": "stream",
     "text": [
      "(8435, 7)\n"
     ]
    },
    {
     "data": {
      "text/html": [
       "<div>\n",
       "<style scoped>\n",
       "    .dataframe tbody tr th:only-of-type {\n",
       "        vertical-align: middle;\n",
       "    }\n",
       "\n",
       "    .dataframe tbody tr th {\n",
       "        vertical-align: top;\n",
       "    }\n",
       "\n",
       "    .dataframe thead th {\n",
       "        text-align: right;\n",
       "    }\n",
       "</style>\n",
       "<table border=\"1\" class=\"dataframe\">\n",
       "  <thead>\n",
       "    <tr style=\"text-align: right;\">\n",
       "      <th></th>\n",
       "      <th>Unnamed: 0</th>\n",
       "      <th>artist</th>\n",
       "      <th>seq</th>\n",
       "      <th>song</th>\n",
       "      <th>label</th>\n",
       "      <th>genre</th>\n",
       "      <th>seq_clean</th>\n",
       "    </tr>\n",
       "  </thead>\n",
       "  <tbody>\n",
       "    <tr>\n",
       "      <th>582</th>\n",
       "      <td>582</td>\n",
       "      <td>Ella Fitzgerald</td>\n",
       "      <td>Walked with no one and talked with no one\\r\\nA...</td>\n",
       "      <td>On the Sunny Side of the Street</td>\n",
       "      <td>0.541</td>\n",
       "      <td>R&amp;B</td>\n",
       "      <td>walked one talked one nothing shadows one morn...</td>\n",
       "    </tr>\n",
       "    <tr>\n",
       "      <th>39062</th>\n",
       "      <td>148849</td>\n",
       "      <td>Mariah Carey</td>\n",
       "      <td>When I am lost\\nYou shine a light for me\\nAnd ...</td>\n",
       "      <td>Music Box</td>\n",
       "      <td>0.036</td>\n",
       "      <td>R&amp;B</td>\n",
       "      <td>lost shine light set free low wash away tears ...</td>\n",
       "    </tr>\n",
       "    <tr>\n",
       "      <th>55058</th>\n",
       "      <td>156062</td>\n",
       "      <td>Anthony Hamilton</td>\n",
       "      <td>Mm, mm, mm\\r\\nMm, mm, yeah\\r\\nOh\\r\\nTheir used...</td>\n",
       "      <td>Ball and Chain</td>\n",
       "      <td>0.630</td>\n",
       "      <td>R&amp;B</td>\n",
       "      <td>mm mm mm mm mm yeah oh used little old boy rid...</td>\n",
       "    </tr>\n",
       "    <tr>\n",
       "      <th>32270</th>\n",
       "      <td>106918</td>\n",
       "      <td>Jessie Ware</td>\n",
       "      <td>You and I, blurred lines\\r\\nWe come together e...</td>\n",
       "      <td>Wildest Moments</td>\n",
       "      <td>0.483</td>\n",
       "      <td>R&amp;B</td>\n",
       "      <td>blurred lines come together every time two wro...</td>\n",
       "    </tr>\n",
       "    <tr>\n",
       "      <th>10054</th>\n",
       "      <td>35778</td>\n",
       "      <td>Otis Redding</td>\n",
       "      <td>I was dancing with my baby\\r\\nTo that Tennesse...</td>\n",
       "      <td>Tennessee Waltz</td>\n",
       "      <td>0.477</td>\n",
       "      <td>R&amp;B</td>\n",
       "      <td>dancing baby tennessee waltz old friend happen...</td>\n",
       "    </tr>\n",
       "    <tr>\n",
       "      <th>35160</th>\n",
       "      <td>46893</td>\n",
       "      <td>Faith Evans</td>\n",
       "      <td>I never knew there was a\\nLove like this befor...</td>\n",
       "      <td>Love Like This</td>\n",
       "      <td>0.796</td>\n",
       "      <td>R&amp;B</td>\n",
       "      <td>never knew love like never someone show love l...</td>\n",
       "    </tr>\n",
       "    <tr>\n",
       "      <th>30659</th>\n",
       "      <td>20142</td>\n",
       "      <td>Brandy</td>\n",
       "      <td>[Chorus]\\r\\nI never do anything that pleases y...</td>\n",
       "      <td>Apart</td>\n",
       "      <td>0.885</td>\n",
       "      <td>R&amp;B</td>\n",
       "      <td>chorus never anything pleases maybe better apa...</td>\n",
       "    </tr>\n",
       "    <tr>\n",
       "      <th>9087</th>\n",
       "      <td>62603</td>\n",
       "      <td>Sarah Vaughan</td>\n",
       "      <td>Got a little rhythm, a rhythm, a rhythm \\r\\nTh...</td>\n",
       "      <td>Fascinating Rhythm</td>\n",
       "      <td>0.720</td>\n",
       "      <td>R&amp;B</td>\n",
       "      <td>got little rhythm rhythm rhythm pitapats brain...</td>\n",
       "    </tr>\n",
       "    <tr>\n",
       "      <th>4374</th>\n",
       "      <td>4374</td>\n",
       "      <td>The Brothers Johnson</td>\n",
       "      <td>I want to know\\r\\nJust how you feel\\r\\nSaid-a ...</td>\n",
       "      <td>Ill Be Good to You</td>\n",
       "      <td>0.930</td>\n",
       "      <td>R&amp;B</td>\n",
       "      <td>want know feel saida want know feel real cause...</td>\n",
       "    </tr>\n",
       "    <tr>\n",
       "      <th>28444</th>\n",
       "      <td>150191</td>\n",
       "      <td>Kool &amp; the Gang</td>\n",
       "      <td>Sing it from the mountain, tell it to the peop...</td>\n",
       "      <td>In the Heart</td>\n",
       "      <td>0.930</td>\n",
       "      <td>R&amp;B</td>\n",
       "      <td>sing mountain tell people sing mountain tell p...</td>\n",
       "    </tr>\n",
       "  </tbody>\n",
       "</table>\n",
       "</div>"
      ],
      "text/plain": [
       "      Unnamed: 0                artist  \\\n",
       "582          582       Ella Fitzgerald   \n",
       "39062     148849          Mariah Carey   \n",
       "55058     156062      Anthony Hamilton   \n",
       "32270     106918           Jessie Ware   \n",
       "10054      35778          Otis Redding   \n",
       "35160      46893           Faith Evans   \n",
       "30659      20142                Brandy   \n",
       "9087       62603         Sarah Vaughan   \n",
       "4374        4374  The Brothers Johnson   \n",
       "28444     150191       Kool & the Gang   \n",
       "\n",
       "                                                     seq  \\\n",
       "582    Walked with no one and talked with no one\\r\\nA...   \n",
       "39062  When I am lost\\nYou shine a light for me\\nAnd ...   \n",
       "55058  Mm, mm, mm\\r\\nMm, mm, yeah\\r\\nOh\\r\\nTheir used...   \n",
       "32270  You and I, blurred lines\\r\\nWe come together e...   \n",
       "10054  I was dancing with my baby\\r\\nTo that Tennesse...   \n",
       "35160  I never knew there was a\\nLove like this befor...   \n",
       "30659  [Chorus]\\r\\nI never do anything that pleases y...   \n",
       "9087   Got a little rhythm, a rhythm, a rhythm \\r\\nTh...   \n",
       "4374   I want to know\\r\\nJust how you feel\\r\\nSaid-a ...   \n",
       "28444  Sing it from the mountain, tell it to the peop...   \n",
       "\n",
       "                                  song  label genre  \\\n",
       "582    On the Sunny Side of the Street  0.541   R&B   \n",
       "39062                        Music Box  0.036   R&B   \n",
       "55058                   Ball and Chain  0.630   R&B   \n",
       "32270                  Wildest Moments  0.483   R&B   \n",
       "10054                  Tennessee Waltz  0.477   R&B   \n",
       "35160                   Love Like This  0.796   R&B   \n",
       "30659                            Apart  0.885   R&B   \n",
       "9087                Fascinating Rhythm  0.720   R&B   \n",
       "4374                Ill Be Good to You  0.930   R&B   \n",
       "28444                     In the Heart  0.930   R&B   \n",
       "\n",
       "                                               seq_clean  \n",
       "582    walked one talked one nothing shadows one morn...  \n",
       "39062  lost shine light set free low wash away tears ...  \n",
       "55058  mm mm mm mm mm yeah oh used little old boy rid...  \n",
       "32270  blurred lines come together every time two wro...  \n",
       "10054  dancing baby tennessee waltz old friend happen...  \n",
       "35160  never knew love like never someone show love l...  \n",
       "30659  chorus never anything pleases maybe better apa...  \n",
       "9087   got little rhythm rhythm rhythm pitapats brain...  \n",
       "4374   want know feel saida want know feel real cause...  \n",
       "28444  sing mountain tell people sing mountain tell p...  "
      ]
     },
     "execution_count": 42,
     "metadata": {},
     "output_type": "execute_result"
    }
   ],
   "source": [
    "# sampling from the dataframe, k is 1687 which is the max number of samples from R&B the smallest Genre pool \n",
    "\n",
    "df_sampled4 = genre_sample(df, k=1687)\n",
    "print(df_sampled4.shape)\n",
    "df_sampled4.head(10)"
   ]
  },
  {
   "cell_type": "code",
   "execution_count": 44,
   "metadata": {},
   "outputs": [
    {
     "data": {
      "text/plain": [
       "Country    1687\n",
       "R&B        1687\n",
       "Rap        1687\n",
       "Pop        1687\n",
       "Rock       1687\n",
       "Name: genre, dtype: int64"
      ]
     },
     "execution_count": 44,
     "metadata": {},
     "output_type": "execute_result"
    }
   ],
   "source": [
    "#checking correct amounts of samples per genre were obtained\n",
    "\n",
    "df_sampled4.genre.value_counts()"
   ]
  },
  {
   "cell_type": "code",
   "execution_count": 45,
   "metadata": {},
   "outputs": [],
   "source": [
    "X_sampled4 = df_sampled4['seq_clean'].values\n",
    "\n",
    "y_sampled4 = df_sampled4['label'].values"
   ]
  },
  {
   "cell_type": "code",
   "execution_count": 46,
   "metadata": {},
   "outputs": [],
   "source": [
    "X_train_sample4, X_test_sample4, y_train_sample4, y_test_sample4 = train_test_split(X_sampled4, y_sampled4, \n",
    "                                                                                    test_size=0.33, random_state=42)"
   ]
  },
  {
   "cell_type": "code",
   "execution_count": 47,
   "metadata": {},
   "outputs": [
    {
     "name": "stdout",
     "output_type": "stream",
     "text": [
      "(5651, 36249) <class 'scipy.sparse.csr.csr_matrix'>\n"
     ]
    }
   ],
   "source": [
    "vectorizer4 = TfidfVectorizer()\n",
    "vectorizer4.fit(X_train_sample4)\n",
    "\n",
    "X_train_sample4 = vectorizer4.transform(X_train_sample4)\n",
    "X_test_sample4 = vectorizer4.transform(X_test_sample4)\n",
    "\n",
    "print(X_train_sample4.shape, type(X_train_sample4))"
   ]
  },
  {
   "cell_type": "code",
   "execution_count": 48,
   "metadata": {},
   "outputs": [
    {
     "data": {
      "text/plain": [
       "GradientBoostingRegressor()"
      ]
     },
     "execution_count": 48,
     "metadata": {},
     "output_type": "execute_result"
    }
   ],
   "source": [
    "gb2 = GradientBoostingRegressor(learning_rate=0.1, max_depth=3, n_estimators= 100)\n",
    "gb2.fit(X_train_sample4, y_train_sample4)"
   ]
  },
  {
   "cell_type": "code",
   "execution_count": 49,
   "metadata": {},
   "outputs": [],
   "source": [
    "y_pred_sample4 = gb2.predict(X_test_sample4)"
   ]
  },
  {
   "cell_type": "code",
   "execution_count": 51,
   "metadata": {},
   "outputs": [
    {
     "name": "stdout",
     "output_type": "stream",
     "text": [
      "For a sample size of 1687 and optimal hyperparameters:\n",
      "[GB] Mean Squared Error: 0.05200244352093515\n",
      "[GB] R2: 0.09854691815352778\n"
     ]
    }
   ],
   "source": [
    "gb_mse2 = mean_squared_error(y_test_sample4, y_pred_sample4)\n",
    "gb_r2_2 = r2_score(y_test_sample4, y_pred_sample4)\n",
    "\n",
    "print('For a sample size of 1687 and optimal hyperparameters:')\n",
    "print('[GB] Mean Squared Error: {0}'.format(gb_mse2))\n",
    "print('[GB] R2: {0}'.format(gb_r2_2))\n",
    "\n",
    "# For a sample size of 1687 and optimal hyperparameters:\n",
    "# [GB] Mean Squared Error: 0.05200244352093515\n",
    "# [GB] R2: 0.09854691815352778"
   ]
  },
  {
   "cell_type": "markdown",
   "metadata": {},
   "source": [
    "# Running GB on full data set with optimal hyperparameters"
   ]
  },
  {
   "cell_type": "code",
   "execution_count": 53,
   "metadata": {},
   "outputs": [],
   "source": [
    "X_train, X_test, y_train, y_test = train_test_split(\n",
    "    X, y, test_size=0.33, random_state=42)"
   ]
  },
  {
   "cell_type": "code",
   "execution_count": 54,
   "metadata": {},
   "outputs": [
    {
     "name": "stdout",
     "output_type": "stream",
     "text": [
      "(24773, 66588) <class 'numpy.ndarray'>\n",
      "<class 'scipy.sparse.csr.csr_matrix'>\n"
     ]
    }
   ],
   "source": [
    "# Initialize our vectorizer\n",
    "vectorizer = TfidfVectorizer()\n",
    "\n",
    "# 3. Fit your vectorizer using your X data\n",
    "# This makes your vocab matrix\n",
    "vectorizer.fit(X_train)\n",
    "\n",
    "# 4. Transform your X data using your fitted vectorizer. \n",
    "# This transforms your documents into vectors.\n",
    "X_train = vectorizer.transform(X_train)\n",
    "X_test = vectorizer.transform(X_test)\n",
    "\n",
    "print(X_train.shape, type(X))\n",
    "print(type(X_train))"
   ]
  },
  {
   "cell_type": "code",
   "execution_count": 55,
   "metadata": {},
   "outputs": [
    {
     "data": {
      "text/plain": [
       "GradientBoostingRegressor()"
      ]
     },
     "execution_count": 55,
     "metadata": {},
     "output_type": "execute_result"
    }
   ],
   "source": [
    "gb3 = GradientBoostingRegressor()\n",
    "gb3.fit(X_train, y_train)"
   ]
  },
  {
   "cell_type": "code",
   "execution_count": 56,
   "metadata": {},
   "outputs": [
    {
     "name": "stdout",
     "output_type": "stream",
     "text": [
      "On the full data set and optimal hyperparameter tuning:\n",
      "[GB] Mean Squared Error: 0.05284822264086245\n",
      "[GB] R2: 0.12264012250017176\n",
      "\n",
      " ...\n"
     ]
    }
   ],
   "source": [
    "y_pred = gb3.predict(X_test)\n",
    "gb3_mse = mean_squared_error(y_test, y_pred)\n",
    "gb3_r2 = r2_score(y_test, y_pred)\n",
    "\n",
    "print('On the full data set and optimal hyperparameter tuning:')\n",
    "print('[GB] Mean Squared Error: {0}'.format(gb3_mse))\n",
    "print('[GB] R2: {0}'.format(gb3_r2))\n",
    "print(\"\\n ...\")\n",
    "\n",
    "# On the full data set and optimal hyperparameter tuning:\n",
    "# [GB] Mean Squared Error: 0.05284822264086245\n",
    "# [GB] R2: 0.12264012250017176"
   ]
  },
  {
   "cell_type": "markdown",
   "metadata": {},
   "source": [
    "# conclusion on tesing Gradient Boosting Regressors\n",
    "\n",
    "Not much gained or lost from increase in sample size. \n",
    "R2 error increased by .018 which is not too significant \n",
    "\n",
    "on sample size 500/genre and NO hyperparameter tuning:\n",
    "- [GB] Mean Squared Error: 0.05264719893512396\n",
    "- [GB] R2: 0.08043425668821236\n",
    "\n",
    "on sample size 1687/genre with optimal hyperparamers: {'learning_rate': 0.1, 'max_depth': 3, 'n_estimators': 100}:\n",
    "- [GB] Mean Squared Error: 0.05200244352093515\n",
    "- [GB] R2: 0.09854691815352778\n",
    "\n",
    "on full data set with optimal hyperparamers:\n",
    "- [GB] Mean Squared Error: 0.05284822264086245\n",
    "- [GB] R2: 0.12264012250017176\n",
    "\n",
    "** GB runs MUCH faster than RFreg and produces better r2 on the full data set"
   ]
  },
  {
   "cell_type": "markdown",
   "metadata": {},
   "source": [
    "---\n",
    "copied from previous cells for comparisson: \n",
    "\n",
    "# conclusion on tesing Random Forest Regressors\n",
    "\n",
    "Not much gained or lost from increase in sample size. \n",
    "R2 error increased by .02 which is not too significant \n",
    "\n",
    "on sample size 500/genre with optimal hyperparamers:\n",
    "- [RF] Mean Squared Error: 0.05222244210798196\n",
    "- [RF] R2: 0.10795588207769391\n",
    "\n",
    "on sample size 1687/genre with optimal hyperparamers:\n",
    "- [RF] Mean Squared Error: 0.05101035414841959\n",
    "- [RF] R2: 0.1205852034338123\n",
    "\n",
    "on full data set with optimal hyperparamers:\n",
    "- [RF] Mean Squared Error: 0.05115798019890316\n",
    "- [RF] R2: 0.15070068589697727"
   ]
  },
  {
   "cell_type": "code",
   "execution_count": null,
   "metadata": {},
   "outputs": [],
   "source": []
  }
 ],
 "metadata": {
  "kernelspec": {
   "display_name": "Python 3",
   "language": "python",
   "name": "python3"
  },
  "language_info": {
   "codemirror_mode": {
    "name": "ipython",
    "version": 3
   },
   "file_extension": ".py",
   "mimetype": "text/x-python",
   "name": "python",
   "nbconvert_exporter": "python",
   "pygments_lexer": "ipython3",
   "version": "3.8.3"
  }
 },
 "nbformat": 4,
 "nbformat_minor": 4
}
