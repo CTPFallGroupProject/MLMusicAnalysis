{
 "cells": [
  {
   "cell_type": "code",
   "execution_count": 90,
   "metadata": {},
   "outputs": [
    {
     "name": "stderr",
     "output_type": "stream",
     "text": [
      "[nltk_data] Downloading package stopwords to\n",
      "[nltk_data]     /Users/aleksandrageorgievska/nltk_data...\n",
      "[nltk_data]   Package stopwords is already up-to-date!\n",
      "[nltk_data] Downloading package punkt to\n",
      "[nltk_data]     /Users/aleksandrageorgievska/nltk_data...\n",
      "[nltk_data]   Package punkt is already up-to-date!\n",
      "[nltk_data] Downloading package wordnet to\n",
      "[nltk_data]     /Users/aleksandrageorgievska/nltk_data...\n",
      "[nltk_data]   Package wordnet is already up-to-date!\n"
     ]
    }
   ],
   "source": [
    "# Import pandas for data handling\n",
    "import pandas as pd\n",
    "\n",
    "# NLTK is our Natural-Language-Took-Kit\n",
    "import nltk\n",
    "from nltk.corpus import stopwords\n",
    "from nltk import word_tokenize\n",
    "from nltk.stem import PorterStemmer\n",
    "from nltk.stem import WordNetLemmatizer\n",
    "from nltk.corpus import wordnet\n",
    "nltk.download('stopwords')\n",
    "nltk.download('punkt')\n",
    "nltk.download('wordnet')\n",
    "stopwords = stopwords.words('english')\n",
    "\n",
    "# Libraries for helping us with strings\n",
    "import string\n",
    "# Regular Expression Library\n",
    "import re\n",
    "\n",
    "# Import text vectorizers\n",
    "from sklearn.feature_extraction.text import CountVectorizer\n",
    "from sklearn.feature_extraction.text import TfidfVectorizer\n",
    "\n",
    "# Import classifiers\n",
    "from sklearn.naive_bayes import MultinomialNB\n",
    "from sklearn.ensemble import RandomForestClassifier\n",
    "from sklearn.neighbors import KNeighborsClassifier\n",
    "from sklearn.model_selection import KFold\n",
    "\n",
    "#Import Regressor Models\n",
    "from sklearn.linear_model import LinearRegression\n",
    "from sklearn.ensemble import RandomForestRegressor\n",
    "\n",
    "# Import some ML helper function\n",
    "from sklearn.model_selection import train_test_split\n",
    "from sklearn.metrics import plot_confusion_matrix\n",
    "from sklearn.metrics import classification_report\n",
    "\n",
    "\n",
    "# Import our metrics to evaluate our model\n",
    "from sklearn import metrics\n",
    "from sklearn.metrics import classification_report\n",
    "from sklearn.metrics import accuracy_score\n",
    "from sklearn.model_selection import cross_val_score\n",
    "\n",
    "\n",
    "# Library for plotting\n",
    "import matplotlib.pyplot as plt\n",
    "import seaborn as sns\n",
    "import scipy.sparse as sparse"
   ]
  },
  {
   "cell_type": "code",
   "execution_count": 6,
   "metadata": {},
   "outputs": [],
   "source": [
    "df = pd.read_csv('../data/labeled_lyrics_w_genres.csv')"
   ]
  },
  {
   "cell_type": "markdown",
   "metadata": {},
   "source": [
    "# Inspecting The Data"
   ]
  },
  {
   "cell_type": "code",
   "execution_count": 7,
   "metadata": {},
   "outputs": [
    {
     "data": {
      "text/html": [
       "<div>\n",
       "<style scoped>\n",
       "    .dataframe tbody tr th:only-of-type {\n",
       "        vertical-align: middle;\n",
       "    }\n",
       "\n",
       "    .dataframe tbody tr th {\n",
       "        vertical-align: top;\n",
       "    }\n",
       "\n",
       "    .dataframe thead th {\n",
       "        text-align: right;\n",
       "    }\n",
       "</style>\n",
       "<table border=\"1\" class=\"dataframe\">\n",
       "  <thead>\n",
       "    <tr style=\"text-align: right;\">\n",
       "      <th></th>\n",
       "      <th>Unnamed: 0</th>\n",
       "      <th>artist</th>\n",
       "      <th>seq</th>\n",
       "      <th>song</th>\n",
       "      <th>label</th>\n",
       "      <th>genre</th>\n",
       "    </tr>\n",
       "  </thead>\n",
       "  <tbody>\n",
       "    <tr>\n",
       "      <th>0</th>\n",
       "      <td>0</td>\n",
       "      <td>Elijah Blake</td>\n",
       "      <td>No, no\\r\\nI ain't ever trapped out the bando\\r...</td>\n",
       "      <td>Everyday</td>\n",
       "      <td>0.626</td>\n",
       "      <td>R&amp;B</td>\n",
       "    </tr>\n",
       "    <tr>\n",
       "      <th>1</th>\n",
       "      <td>1</td>\n",
       "      <td>Elijah Blake</td>\n",
       "      <td>The drinks go down and smoke goes up, I feel m...</td>\n",
       "      <td>Live Till We Die</td>\n",
       "      <td>0.630</td>\n",
       "      <td>Pop</td>\n",
       "    </tr>\n",
       "    <tr>\n",
       "      <th>2</th>\n",
       "      <td>2</td>\n",
       "      <td>Elijah Blake</td>\n",
       "      <td>She don't live on planet Earth no more\\r\\nShe ...</td>\n",
       "      <td>The Otherside</td>\n",
       "      <td>0.240</td>\n",
       "      <td>R&amp;B</td>\n",
       "    </tr>\n",
       "    <tr>\n",
       "      <th>3</th>\n",
       "      <td>3</td>\n",
       "      <td>Elijah Blake</td>\n",
       "      <td>Trippin' off that Grigio, mobbin', lights low\\...</td>\n",
       "      <td>Pinot</td>\n",
       "      <td>0.536</td>\n",
       "      <td>R&amp;B</td>\n",
       "    </tr>\n",
       "    <tr>\n",
       "      <th>4</th>\n",
       "      <td>4</td>\n",
       "      <td>Elijah Blake</td>\n",
       "      <td>I see a midnight panther, so gallant and so br...</td>\n",
       "      <td>Shadows &amp; Diamonds</td>\n",
       "      <td>0.371</td>\n",
       "      <td>R&amp;B</td>\n",
       "    </tr>\n",
       "  </tbody>\n",
       "</table>\n",
       "</div>"
      ],
      "text/plain": [
       "   Unnamed: 0        artist  \\\n",
       "0           0  Elijah Blake   \n",
       "1           1  Elijah Blake   \n",
       "2           2  Elijah Blake   \n",
       "3           3  Elijah Blake   \n",
       "4           4  Elijah Blake   \n",
       "\n",
       "                                                 seq                song  \\\n",
       "0  No, no\\r\\nI ain't ever trapped out the bando\\r...            Everyday   \n",
       "1  The drinks go down and smoke goes up, I feel m...    Live Till We Die   \n",
       "2  She don't live on planet Earth no more\\r\\nShe ...       The Otherside   \n",
       "3  Trippin' off that Grigio, mobbin', lights low\\...               Pinot   \n",
       "4  I see a midnight panther, so gallant and so br...  Shadows & Diamonds   \n",
       "\n",
       "   label genre  \n",
       "0  0.626   R&B  \n",
       "1  0.630   Pop  \n",
       "2  0.240   R&B  \n",
       "3  0.536   R&B  \n",
       "4  0.371   R&B  "
      ]
     },
     "execution_count": 7,
     "metadata": {},
     "output_type": "execute_result"
    }
   ],
   "source": [
    "df.head()"
   ]
  },
  {
   "cell_type": "code",
   "execution_count": 8,
   "metadata": {},
   "outputs": [
    {
     "data": {
      "text/plain": [
       "0"
      ]
     },
     "execution_count": 8,
     "metadata": {},
     "output_type": "execute_result"
    }
   ],
   "source": [
    "df.isnull().sum().sum()"
   ]
  },
  {
   "cell_type": "code",
   "execution_count": 9,
   "metadata": {},
   "outputs": [
    {
     "data": {
      "text/plain": [
       "0"
      ]
     },
     "execution_count": 9,
     "metadata": {},
     "output_type": "execute_result"
    }
   ],
   "source": [
    "df.duplicated().sum()"
   ]
  },
  {
   "cell_type": "code",
   "execution_count": 10,
   "metadata": {},
   "outputs": [
    {
     "data": {
      "text/plain": [
       "(58100, 6)"
      ]
     },
     "execution_count": 10,
     "metadata": {},
     "output_type": "execute_result"
    }
   ],
   "source": [
    "df.shape"
   ]
  },
  {
   "cell_type": "code",
   "execution_count": 12,
   "metadata": {},
   "outputs": [
    {
     "data": {
      "text/plain": [
       "No_genre     21069\n",
       "Pop          20691\n",
       "Rock          9783\n",
       "Country       2503\n",
       "Rap           2311\n",
       "R&B           1687\n",
       "Non-Music       56\n",
       "Name: genre, dtype: int64"
      ]
     },
     "execution_count": 12,
     "metadata": {},
     "output_type": "execute_result"
    }
   ],
   "source": [
    "df.genre.value_counts()"
   ]
  },
  {
   "cell_type": "markdown",
   "metadata": {},
   "source": [
    "### removing No_genre and Non-Music"
   ]
  },
  {
   "cell_type": "code",
   "execution_count": 40,
   "metadata": {},
   "outputs": [],
   "source": [
    "df_dropped = df[(df['genre'] == 'No_genre') | (df['genre'] == 'Non-Music')].index\n",
    "df.drop(df_dropped, inplace=True, axis='index')"
   ]
  },
  {
   "cell_type": "code",
   "execution_count": 41,
   "metadata": {},
   "outputs": [
    {
     "name": "stdout",
     "output_type": "stream",
     "text": [
      "(36975, 6)\n"
     ]
    },
    {
     "data": {
      "text/html": [
       "<div>\n",
       "<style scoped>\n",
       "    .dataframe tbody tr th:only-of-type {\n",
       "        vertical-align: middle;\n",
       "    }\n",
       "\n",
       "    .dataframe tbody tr th {\n",
       "        vertical-align: top;\n",
       "    }\n",
       "\n",
       "    .dataframe thead th {\n",
       "        text-align: right;\n",
       "    }\n",
       "</style>\n",
       "<table border=\"1\" class=\"dataframe\">\n",
       "  <thead>\n",
       "    <tr style=\"text-align: right;\">\n",
       "      <th></th>\n",
       "      <th>Unnamed: 0</th>\n",
       "      <th>artist</th>\n",
       "      <th>seq</th>\n",
       "      <th>song</th>\n",
       "      <th>label</th>\n",
       "      <th>genre</th>\n",
       "    </tr>\n",
       "  </thead>\n",
       "  <tbody>\n",
       "    <tr>\n",
       "      <th>0</th>\n",
       "      <td>0</td>\n",
       "      <td>Elijah Blake</td>\n",
       "      <td>No, no\\r\\nI ain't ever trapped out the bando\\r...</td>\n",
       "      <td>Everyday</td>\n",
       "      <td>0.6260</td>\n",
       "      <td>R&amp;B</td>\n",
       "    </tr>\n",
       "    <tr>\n",
       "      <th>1</th>\n",
       "      <td>1</td>\n",
       "      <td>Elijah Blake</td>\n",
       "      <td>The drinks go down and smoke goes up, I feel m...</td>\n",
       "      <td>Live Till We Die</td>\n",
       "      <td>0.6300</td>\n",
       "      <td>Pop</td>\n",
       "    </tr>\n",
       "    <tr>\n",
       "      <th>2</th>\n",
       "      <td>2</td>\n",
       "      <td>Elijah Blake</td>\n",
       "      <td>She don't live on planet Earth no more\\r\\nShe ...</td>\n",
       "      <td>The Otherside</td>\n",
       "      <td>0.2400</td>\n",
       "      <td>R&amp;B</td>\n",
       "    </tr>\n",
       "    <tr>\n",
       "      <th>3</th>\n",
       "      <td>3</td>\n",
       "      <td>Elijah Blake</td>\n",
       "      <td>Trippin' off that Grigio, mobbin', lights low\\...</td>\n",
       "      <td>Pinot</td>\n",
       "      <td>0.5360</td>\n",
       "      <td>R&amp;B</td>\n",
       "    </tr>\n",
       "    <tr>\n",
       "      <th>4</th>\n",
       "      <td>4</td>\n",
       "      <td>Elijah Blake</td>\n",
       "      <td>I see a midnight panther, so gallant and so br...</td>\n",
       "      <td>Shadows &amp; Diamonds</td>\n",
       "      <td>0.3710</td>\n",
       "      <td>R&amp;B</td>\n",
       "    </tr>\n",
       "    <tr>\n",
       "      <th>5</th>\n",
       "      <td>5</td>\n",
       "      <td>Elijah Blake</td>\n",
       "      <td>I just want to ready your mind\\r\\n'Cause I'll ...</td>\n",
       "      <td>Uno</td>\n",
       "      <td>0.3210</td>\n",
       "      <td>R&amp;B</td>\n",
       "    </tr>\n",
       "    <tr>\n",
       "      <th>7</th>\n",
       "      <td>7</td>\n",
       "      <td>Elis</td>\n",
       "      <td>Dieses ist lange her.\\r\\nDa ich deine schmalen...</td>\n",
       "      <td>Abendlied</td>\n",
       "      <td>0.3330</td>\n",
       "      <td>Pop</td>\n",
       "    </tr>\n",
       "    <tr>\n",
       "      <th>8</th>\n",
       "      <td>8</td>\n",
       "      <td>Elis</td>\n",
       "      <td>A child is born\\r\\nOut of the womb of a mother...</td>\n",
       "      <td>Child</td>\n",
       "      <td>0.5060</td>\n",
       "      <td>Pop</td>\n",
       "    </tr>\n",
       "    <tr>\n",
       "      <th>9</th>\n",
       "      <td>9</td>\n",
       "      <td>Elis</td>\n",
       "      <td>Out of the darkness you came \\r\\nYou looked so...</td>\n",
       "      <td>Come to Me</td>\n",
       "      <td>0.1790</td>\n",
       "      <td>Pop</td>\n",
       "    </tr>\n",
       "    <tr>\n",
       "      <th>10</th>\n",
       "      <td>10</td>\n",
       "      <td>Elis</td>\n",
       "      <td>Each night I lie in my bed \\r\\nAnd I think abo...</td>\n",
       "      <td>Do You Believe</td>\n",
       "      <td>0.2090</td>\n",
       "      <td>Pop</td>\n",
       "    </tr>\n",
       "    <tr>\n",
       "      <th>11</th>\n",
       "      <td>11</td>\n",
       "      <td>Elis</td>\n",
       "      <td>Nebel zieh'n gespentisch vor \\r\\nDer Sucher se...</td>\n",
       "      <td>Engel der Nacht</td>\n",
       "      <td>0.3210</td>\n",
       "      <td>Pop</td>\n",
       "    </tr>\n",
       "    <tr>\n",
       "      <th>12</th>\n",
       "      <td>12</td>\n",
       "      <td>Elis</td>\n",
       "      <td>I'm a lonely stranger \\r\\nIn this world of pai...</td>\n",
       "      <td>My Only Love</td>\n",
       "      <td>0.2010</td>\n",
       "      <td>Pop</td>\n",
       "    </tr>\n",
       "    <tr>\n",
       "      <th>13</th>\n",
       "      <td>13</td>\n",
       "      <td>Elis</td>\n",
       "      <td>Schwere Tranen \\r\\nVergebens geweint \\r\\nRinne...</td>\n",
       "      <td>Sie Erfasst Mein Herz</td>\n",
       "      <td>0.2180</td>\n",
       "      <td>Pop</td>\n",
       "    </tr>\n",
       "    <tr>\n",
       "      <th>14</th>\n",
       "      <td>14</td>\n",
       "      <td>Elis</td>\n",
       "      <td>Come calm my anger\\n\\nOur love is like a perfe...</td>\n",
       "      <td>Anger</td>\n",
       "      <td>0.3060</td>\n",
       "      <td>Pop</td>\n",
       "    </tr>\n",
       "    <tr>\n",
       "      <th>15</th>\n",
       "      <td>15</td>\n",
       "      <td>Elis</td>\n",
       "      <td>I was walking through the night\\nSuddenly I re...</td>\n",
       "      <td>Black Angel</td>\n",
       "      <td>0.0958</td>\n",
       "      <td>Pop</td>\n",
       "    </tr>\n",
       "  </tbody>\n",
       "</table>\n",
       "</div>"
      ],
      "text/plain": [
       "    Unnamed: 0        artist  \\\n",
       "0            0  Elijah Blake   \n",
       "1            1  Elijah Blake   \n",
       "2            2  Elijah Blake   \n",
       "3            3  Elijah Blake   \n",
       "4            4  Elijah Blake   \n",
       "5            5  Elijah Blake   \n",
       "7            7          Elis   \n",
       "8            8          Elis   \n",
       "9            9          Elis   \n",
       "10          10          Elis   \n",
       "11          11          Elis   \n",
       "12          12          Elis   \n",
       "13          13          Elis   \n",
       "14          14          Elis   \n",
       "15          15          Elis   \n",
       "\n",
       "                                                  seq                   song  \\\n",
       "0   No, no\\r\\nI ain't ever trapped out the bando\\r...               Everyday   \n",
       "1   The drinks go down and smoke goes up, I feel m...       Live Till We Die   \n",
       "2   She don't live on planet Earth no more\\r\\nShe ...          The Otherside   \n",
       "3   Trippin' off that Grigio, mobbin', lights low\\...                  Pinot   \n",
       "4   I see a midnight panther, so gallant and so br...     Shadows & Diamonds   \n",
       "5   I just want to ready your mind\\r\\n'Cause I'll ...                    Uno   \n",
       "7   Dieses ist lange her.\\r\\nDa ich deine schmalen...              Abendlied   \n",
       "8   A child is born\\r\\nOut of the womb of a mother...                  Child   \n",
       "9   Out of the darkness you came \\r\\nYou looked so...             Come to Me   \n",
       "10  Each night I lie in my bed \\r\\nAnd I think abo...         Do You Believe   \n",
       "11  Nebel zieh'n gespentisch vor \\r\\nDer Sucher se...        Engel der Nacht   \n",
       "12  I'm a lonely stranger \\r\\nIn this world of pai...           My Only Love   \n",
       "13  Schwere Tranen \\r\\nVergebens geweint \\r\\nRinne...  Sie Erfasst Mein Herz   \n",
       "14  Come calm my anger\\n\\nOur love is like a perfe...                  Anger   \n",
       "15  I was walking through the night\\nSuddenly I re...            Black Angel   \n",
       "\n",
       "     label genre  \n",
       "0   0.6260   R&B  \n",
       "1   0.6300   Pop  \n",
       "2   0.2400   R&B  \n",
       "3   0.5360   R&B  \n",
       "4   0.3710   R&B  \n",
       "5   0.3210   R&B  \n",
       "7   0.3330   Pop  \n",
       "8   0.5060   Pop  \n",
       "9   0.1790   Pop  \n",
       "10  0.2090   Pop  \n",
       "11  0.3210   Pop  \n",
       "12  0.2010   Pop  \n",
       "13  0.2180   Pop  \n",
       "14  0.3060   Pop  \n",
       "15  0.0958   Pop  "
      ]
     },
     "execution_count": 41,
     "metadata": {},
     "output_type": "execute_result"
    }
   ],
   "source": [
    "print(df.shape)\n",
    "df.head(15)"
   ]
  },
  {
   "cell_type": "code",
   "execution_count": 42,
   "metadata": {},
   "outputs": [
    {
     "data": {
      "text/plain": [
       "Pop        20691\n",
       "Rock        9783\n",
       "Country     2503\n",
       "Rap         2311\n",
       "R&B         1687\n",
       "Name: genre, dtype: int64"
      ]
     },
     "execution_count": 42,
     "metadata": {},
     "output_type": "execute_result"
    }
   ],
   "source": [
    "df.genre.value_counts()"
   ]
  },
  {
   "cell_type": "markdown",
   "metadata": {},
   "source": [
    "# Data Cleaning (Text Pre Processing)\n"
   ]
  },
  {
   "cell_type": "code",
   "execution_count": 43,
   "metadata": {},
   "outputs": [],
   "source": [
    "# 1. function that makes all text lowercase.\n",
    "def make_lowercase(test_string):\n",
    "    return test_string.lower()\n",
    "\n",
    "# 2. function that removes all punctuation. \n",
    "def remove_punc(test_string):\n",
    "    test_string = re.sub(r'[^\\w\\s]', '', test_string)\n",
    "    return test_string\n",
    "\n",
    "# 3. function that removes all stopwords.\n",
    "def remove_stopwords(test_string):\n",
    "    # Break the sentence down into a list of words\n",
    "    words = word_tokenize(test_string)\n",
    "    \n",
    "    # Make a list to append valid words into\n",
    "    valid_words = []\n",
    "    \n",
    "    # Loop through all the words\n",
    "    for word in words:\n",
    "        \n",
    "        # Check if word is not in stopwords. Stopwords was imported from nltk.corpus\n",
    "        if word not in stopwords:\n",
    "            \n",
    "            # If word not in stopwords, append to our valid_words\n",
    "            valid_words.append(word)\n",
    "\n",
    "    # Join the list of words together into a string\n",
    "    a_string = ' '.join(valid_words)\n",
    "\n",
    "    return a_string\n",
    "\n",
    "# 4. function to break words into their stem words\n",
    "def stem_words(a_string):\n",
    "    # Initalize our Stemmer\n",
    "    porter = PorterStemmer()\n",
    "    \n",
    "    # Break the sentence down into a list of words\n",
    "    words = word_tokenize(a_string)\n",
    "    \n",
    "    # Make a list to append valid words into\n",
    "    valid_words = []\n",
    "\n",
    "    # Loop through all the words\n",
    "    for word in words:\n",
    "        # Stem the word\n",
    "        stemmed_word = porter.stem(word) #from nltk.stem import PorterStemmer\n",
    "        \n",
    "        # Append stemmed word to our valid_words\n",
    "        valid_words.append(stemmed_word)\n",
    "        \n",
    "    # Join the list of words together into a string\n",
    "    a_string = ' '.join(valid_words)\n",
    "\n",
    "    return a_string "
   ]
  },
  {
   "cell_type": "code",
   "execution_count": 45,
   "metadata": {},
   "outputs": [],
   "source": [
    "# Pipeline\n",
    "\n",
    "def text_processing_pipeline(a_string):\n",
    "    a_string = make_lowercase(a_string)\n",
    "    a_string = remove_punc(a_string)\n",
    "    a_string = remove_stopwords(a_string)\n",
    "    a_string = stem_words(a_string)\n",
    "    return a_string\n"
   ]
  },
  {
   "cell_type": "code",
   "execution_count": 47,
   "metadata": {},
   "outputs": [],
   "source": [
    "df['seq_clean'] = df['seq'].apply(text_processing_pipeline)"
   ]
  },
  {
   "cell_type": "code",
   "execution_count": 48,
   "metadata": {},
   "outputs": [
    {
     "data": {
      "text/html": [
       "<div>\n",
       "<style scoped>\n",
       "    .dataframe tbody tr th:only-of-type {\n",
       "        vertical-align: middle;\n",
       "    }\n",
       "\n",
       "    .dataframe tbody tr th {\n",
       "        vertical-align: top;\n",
       "    }\n",
       "\n",
       "    .dataframe thead th {\n",
       "        text-align: right;\n",
       "    }\n",
       "</style>\n",
       "<table border=\"1\" class=\"dataframe\">\n",
       "  <thead>\n",
       "    <tr style=\"text-align: right;\">\n",
       "      <th></th>\n",
       "      <th>Unnamed: 0</th>\n",
       "      <th>artist</th>\n",
       "      <th>seq</th>\n",
       "      <th>song</th>\n",
       "      <th>label</th>\n",
       "      <th>genre</th>\n",
       "      <th>seq_clean</th>\n",
       "    </tr>\n",
       "  </thead>\n",
       "  <tbody>\n",
       "    <tr>\n",
       "      <th>0</th>\n",
       "      <td>0</td>\n",
       "      <td>Elijah Blake</td>\n",
       "      <td>No, no\\r\\nI ain't ever trapped out the bando\\r...</td>\n",
       "      <td>Everyday</td>\n",
       "      <td>0.626</td>\n",
       "      <td>R&amp;B</td>\n",
       "      <td>aint ever trap bando oh lord dont get wrong kn...</td>\n",
       "    </tr>\n",
       "    <tr>\n",
       "      <th>1</th>\n",
       "      <td>1</td>\n",
       "      <td>Elijah Blake</td>\n",
       "      <td>The drinks go down and smoke goes up, I feel m...</td>\n",
       "      <td>Live Till We Die</td>\n",
       "      <td>0.630</td>\n",
       "      <td>Pop</td>\n",
       "      <td>drink go smoke goe feel got let go care get lo...</td>\n",
       "    </tr>\n",
       "    <tr>\n",
       "      <th>2</th>\n",
       "      <td>2</td>\n",
       "      <td>Elijah Blake</td>\n",
       "      <td>She don't live on planet Earth no more\\r\\nShe ...</td>\n",
       "      <td>The Otherside</td>\n",
       "      <td>0.240</td>\n",
       "      <td>R&amp;B</td>\n",
       "      <td>dont live planet earth found love venu that wo...</td>\n",
       "    </tr>\n",
       "    <tr>\n",
       "      <th>3</th>\n",
       "      <td>3</td>\n",
       "      <td>Elijah Blake</td>\n",
       "      <td>Trippin' off that Grigio, mobbin', lights low\\...</td>\n",
       "      <td>Pinot</td>\n",
       "      <td>0.536</td>\n",
       "      <td>R&amp;B</td>\n",
       "      <td>trippin grigio mobbin light low trippin grigio...</td>\n",
       "    </tr>\n",
       "    <tr>\n",
       "      <th>4</th>\n",
       "      <td>4</td>\n",
       "      <td>Elijah Blake</td>\n",
       "      <td>I see a midnight panther, so gallant and so br...</td>\n",
       "      <td>Shadows &amp; Diamonds</td>\n",
       "      <td>0.371</td>\n",
       "      <td>R&amp;B</td>\n",
       "      <td>see midnight panther gallant brave found found...</td>\n",
       "    </tr>\n",
       "  </tbody>\n",
       "</table>\n",
       "</div>"
      ],
      "text/plain": [
       "   Unnamed: 0        artist  \\\n",
       "0           0  Elijah Blake   \n",
       "1           1  Elijah Blake   \n",
       "2           2  Elijah Blake   \n",
       "3           3  Elijah Blake   \n",
       "4           4  Elijah Blake   \n",
       "\n",
       "                                                 seq                song  \\\n",
       "0  No, no\\r\\nI ain't ever trapped out the bando\\r...            Everyday   \n",
       "1  The drinks go down and smoke goes up, I feel m...    Live Till We Die   \n",
       "2  She don't live on planet Earth no more\\r\\nShe ...       The Otherside   \n",
       "3  Trippin' off that Grigio, mobbin', lights low\\...               Pinot   \n",
       "4  I see a midnight panther, so gallant and so br...  Shadows & Diamonds   \n",
       "\n",
       "   label genre                                          seq_clean  \n",
       "0  0.626   R&B  aint ever trap bando oh lord dont get wrong kn...  \n",
       "1  0.630   Pop  drink go smoke goe feel got let go care get lo...  \n",
       "2  0.240   R&B  dont live planet earth found love venu that wo...  \n",
       "3  0.536   R&B  trippin grigio mobbin light low trippin grigio...  \n",
       "4  0.371   R&B  see midnight panther gallant brave found found...  "
      ]
     },
     "execution_count": 48,
     "metadata": {},
     "output_type": "execute_result"
    }
   ],
   "source": [
    "df.head()"
   ]
  },
  {
   "cell_type": "markdown",
   "metadata": {},
   "source": [
    "# Testing Regression Models for label prediction:\n",
    "label = float scale (0-1) which signifies valence \n",
    "\n"
   ]
  },
  {
   "cell_type": "code",
   "execution_count": 49,
   "metadata": {},
   "outputs": [],
   "source": [
    "X = df['seq_clean'].values\n",
    "\n",
    "y = df['label'].values"
   ]
  },
  {
   "cell_type": "code",
   "execution_count": 50,
   "metadata": {},
   "outputs": [],
   "source": [
    "# Split our data into testing and training like always. \n",
    "X_train, X_test, y_train, y_test = train_test_split(\n",
    "    X, y, test_size=0.2, random_state=42)\n",
    "\n",
    "\n",
    "# Save the raw text for later just incase\n",
    "X_train_text = X_train\n",
    "X_test_text = X_test"
   ]
  },
  {
   "cell_type": "code",
   "execution_count": 51,
   "metadata": {},
   "outputs": [
    {
     "name": "stdout",
     "output_type": "stream",
     "text": [
      "(29580, 53841) <class 'numpy.ndarray'>\n"
     ]
    }
   ],
   "source": [
    "# Initialize our vectorizer\n",
    "vectorizer = TfidfVectorizer()\n",
    "\n",
    "# 3. Fit your vectorizer using your X data\n",
    "# This makes your vocab matrix\n",
    "vectorizer.fit(X_train)\n",
    "\n",
    "# 4. Transform your X data using your fitted vectorizer. \n",
    "# This transforms your documents into vectors.\n",
    "X_train = vectorizer.transform(X_train)\n",
    "X_test = vectorizer.transform(X_test)\n",
    "\n",
    "# 5. Print the shape of your X.  53841 features (aka columns)\n",
    "print(X_train.shape, type(X))"
   ]
  },
  {
   "cell_type": "code",
   "execution_count": 52,
   "metadata": {},
   "outputs": [
    {
     "name": "stdout",
     "output_type": "stream",
     "text": [
      "53841 53841\n"
     ]
    },
    {
     "data": {
      "text/html": [
       "<div>\n",
       "<style scoped>\n",
       "    .dataframe tbody tr th:only-of-type {\n",
       "        vertical-align: middle;\n",
       "    }\n",
       "\n",
       "    .dataframe tbody tr th {\n",
       "        vertical-align: top;\n",
       "    }\n",
       "\n",
       "    .dataframe thead th {\n",
       "        text-align: right;\n",
       "    }\n",
       "</style>\n",
       "<table border=\"1\" class=\"dataframe\">\n",
       "  <thead>\n",
       "    <tr style=\"text-align: right;\">\n",
       "      <th></th>\n",
       "      <th>feature</th>\n",
       "      <th>idf</th>\n",
       "    </tr>\n",
       "  </thead>\n",
       "  <tbody>\n",
       "    <tr>\n",
       "      <th>0</th>\n",
       "      <td>00</td>\n",
       "      <td>10.601740</td>\n",
       "    </tr>\n",
       "    <tr>\n",
       "      <th>30796</th>\n",
       "      <td>mrmarsello</td>\n",
       "      <td>10.601740</td>\n",
       "    </tr>\n",
       "    <tr>\n",
       "      <th>30798</th>\n",
       "      <td>mroe</td>\n",
       "      <td>10.601740</td>\n",
       "    </tr>\n",
       "    <tr>\n",
       "      <th>30799</th>\n",
       "      <td>mroffic</td>\n",
       "      <td>10.601740</td>\n",
       "    </tr>\n",
       "    <tr>\n",
       "      <th>30800</th>\n",
       "      <td>mrp</td>\n",
       "      <td>10.601740</td>\n",
       "    </tr>\n",
       "    <tr>\n",
       "      <th>...</th>\n",
       "      <td>...</td>\n",
       "      <td>...</td>\n",
       "    </tr>\n",
       "    <tr>\n",
       "      <th>27682</th>\n",
       "      <td>love</td>\n",
       "      <td>1.889392</td>\n",
       "    </tr>\n",
       "    <tr>\n",
       "      <th>27040</th>\n",
       "      <td>like</td>\n",
       "      <td>1.885778</td>\n",
       "    </tr>\n",
       "    <tr>\n",
       "      <th>13620</th>\n",
       "      <td>dont</td>\n",
       "      <td>1.855740</td>\n",
       "    </tr>\n",
       "    <tr>\n",
       "      <th>25718</th>\n",
       "      <td>know</td>\n",
       "      <td>1.746861</td>\n",
       "    </tr>\n",
       "    <tr>\n",
       "      <th>23130</th>\n",
       "      <td>im</td>\n",
       "      <td>1.735441</td>\n",
       "    </tr>\n",
       "  </tbody>\n",
       "</table>\n",
       "<p>53841 rows × 2 columns</p>\n",
       "</div>"
      ],
      "text/plain": [
       "          feature        idf\n",
       "0              00  10.601740\n",
       "30796  mrmarsello  10.601740\n",
       "30798        mroe  10.601740\n",
       "30799     mroffic  10.601740\n",
       "30800         mrp  10.601740\n",
       "...           ...        ...\n",
       "27682        love   1.889392\n",
       "27040        like   1.885778\n",
       "13620        dont   1.855740\n",
       "25718        know   1.746861\n",
       "23130          im   1.735441\n",
       "\n",
       "[53841 rows x 2 columns]"
      ]
     },
     "execution_count": 52,
     "metadata": {},
     "output_type": "execute_result"
    }
   ],
   "source": [
    "features = vectorizer.get_feature_names()\n",
    "weights = vectorizer.idf_\n",
    "\n",
    "print(len(features), len(weights))\n",
    "\n",
    "df_idf = pd.DataFrame.from_dict( {'feature': features, 'idf': weights})\n",
    "\n",
    "df_idf = df_idf.sort_values(by='idf', ascending=False)\n",
    "\n",
    "df_idf"
   ]
  },
  {
   "cell_type": "code",
   "execution_count": 54,
   "metadata": {},
   "outputs": [],
   "source": [
    "lr = LinearRegression()\n",
    "lr.fit(X_train, y_train)\n",
    "y_pred = lr.predict(X_test)\n",
    "\n"
   ]
  },
  {
   "cell_type": "code",
   "execution_count": 55,
   "metadata": {},
   "outputs": [
    {
     "name": "stdout",
     "output_type": "stream",
     "text": [
      "Model Accuracy: -163.282398\n",
      "R-Squared Score: -163.282397824294\n",
      "Mean Absolute Error: 1.3832761064926713\n"
     ]
    }
   ],
   "source": [
    "accuracy = lr.score(X_test, y_test)\n",
    "print(\"Model Accuracy: %f\" % accuracy)\n",
    "\n",
    "r_squared = metrics.r2_score(y_test, y_pred)\n",
    "print('R-Squared Score:', r_squared)\n",
    "\n",
    "# USE SKLEARN'S MEAN_ABSOLUTE_ERROR FUNCTION TO SCORE OUR PREDICTIONS VS OUR ACTUAL\n",
    "mae = metrics.mean_absolute_error(y_test, y_pred)\n",
    "print(\"Mean Absolute Error:\", mae)"
   ]
  },
  {
   "cell_type": "markdown",
   "metadata": {},
   "source": [
    "# Summary So Far for Valence Prediction:\n",
    "### Models that did not work:\n",
    "- LinearRegression\n",
    "    - Model Accuracy: -163.282398\n",
    "    - R-Squared Score: -163.282397824294\n",
    "    - Mean Absolute Error: 1.3832761064926713\n"
   ]
  },
  {
   "cell_type": "markdown",
   "metadata": {},
   "source": [
    "# Testing Classification Models for genre prediction:\n",
    "\n"
   ]
  },
  {
   "cell_type": "code",
   "execution_count": 56,
   "metadata": {},
   "outputs": [
    {
     "name": "stdout",
     "output_type": "stream",
     "text": [
      "(29580, 53841) <class 'numpy.ndarray'>\n"
     ]
    }
   ],
   "source": [
    "X = df['seq_clean'].values\n",
    "y = df['genre'].values\n",
    "\n",
    "# Split our data into testing and training like always. \n",
    "X_train, X_test, y_train, y_test = train_test_split(\n",
    "    X, y, test_size=0.2, random_state=42)\n",
    "\n",
    "\n",
    "# Save the raw text for later just incase\n",
    "X_train_text = X_train\n",
    "X_test_text = X_test\n",
    "\n",
    "# Initialize our vectorizer\n",
    "vectorizer = TfidfVectorizer()\n",
    "\n",
    "# 3. Fit your vectorizer using your X data\n",
    "# This makes your vocab matrix\n",
    "vectorizer.fit(X_train)\n",
    "\n",
    "# 4. Transform your X data using your fitted vectorizer. \n",
    "# This transforms your documents into vectors.\n",
    "X_train = vectorizer.transform(X_train)\n",
    "X_test = vectorizer.transform(X_test)\n",
    "\n",
    "# 5. Print the shape of your X.  53841 features (aka columns)\n",
    "print(X_train.shape, type(X))"
   ]
  },
  {
   "cell_type": "markdown",
   "metadata": {},
   "source": [
    "### Multinomial Naive Bayes"
   ]
  },
  {
   "cell_type": "code",
   "execution_count": 73,
   "metadata": {},
   "outputs": [
    {
     "name": "stdout",
     "output_type": "stream",
     "text": [
      "Model Accuracy: 0.603110\n"
     ]
    }
   ],
   "source": [
    "# Initalize our model.\n",
    "mnb = MultinomialNB(alpha=.05)\n",
    "\n",
    "# Fit our model with our training data.\n",
    "mnb.fit(X_train, y_train)\n",
    "\n",
    "# Make new predictions of our testing data. \n",
    "y_pred = mnb.predict(X_test)\n",
    "\n",
    "# Make predicted probabilites of our testing data\n",
    "y_pred_proba = mnb.predict_proba(X_test)\n",
    "\n",
    "# Evaluate our model\n",
    "accuracy =  mnb.score(X_test, y_test)\n",
    "\n",
    "# Print our evaluation metrics\n",
    "print(\"Model Accuracy: %f\" % accuracy)"
   ]
  },
  {
   "cell_type": "code",
   "execution_count": 74,
   "metadata": {},
   "outputs": [
    {
     "name": "stdout",
     "output_type": "stream",
     "text": [
      "              precision    recall  f1-score   support\n",
      "\n",
      "     Country       0.51      0.04      0.07       536\n",
      "         Pop       0.60      0.91      0.72      4133\n",
      "         R&B       0.40      0.02      0.03       345\n",
      "         Rap       0.80      0.70      0.74       433\n",
      "        Rock       0.53      0.19      0.28      1948\n",
      "\n",
      "    accuracy                           0.60      7395\n",
      "   macro avg       0.57      0.37      0.37      7395\n",
      "weighted avg       0.58      0.60      0.53      7395\n",
      "\n"
     ]
    }
   ],
   "source": [
    "print(classification_report(y_test, y_pred, target_names=mnb.classes_))"
   ]
  },
  {
   "cell_type": "code",
   "execution_count": 75,
   "metadata": {},
   "outputs": [
    {
     "data": {
      "text/plain": [
       "<sklearn.metrics._plot.confusion_matrix.ConfusionMatrixDisplay at 0x7ffc407e2e20>"
      ]
     },
     "execution_count": 75,
     "metadata": {},
     "output_type": "execute_result"
    },
    {
     "data": {
      "image/png": "[encoded data removed]",
      "text/plain": [
       "<Figure size 576x576 with 2 Axes>"
      ]
     },
     "metadata": {
      "needs_background": "light"
     },
     "output_type": "display_data"
    }
   ],
   "source": [
    "# Plot the confusion matrix of our results\n",
    "fig, ax = plt.subplots(figsize=(8, 8))\n",
    "\n",
    "disp = plot_confusion_matrix(mnb, X_test, y_test,\n",
    "                             display_labels=mnb.classes_,\n",
    "                             cmap=plt.cm.Blues, ax=ax)\n",
    "plt.xticks(rotation=90)\n",
    "disp"
   ]
  },
  {
   "cell_type": "markdown",
   "metadata": {},
   "source": [
    "### Random Forest Classifier"
   ]
  },
  {
   "cell_type": "code",
   "execution_count": 67,
   "metadata": {},
   "outputs": [
    {
     "name": "stdout",
     "output_type": "stream",
     "text": [
      "Model Accuracy: 0.596078\n",
      "              precision    recall  f1-score   support\n",
      "\n",
      "     Country       0.33      0.02      0.03       536\n",
      "         Pop       0.59      0.96      0.73      4133\n",
      "         R&B       0.18      0.01      0.02       345\n",
      "         Rap       0.88      0.64      0.74       433\n",
      "        Rock       0.57      0.07      0.13      1948\n",
      "\n",
      "    accuracy                           0.60      7395\n",
      "   macro avg       0.51      0.34      0.33      7395\n",
      "weighted avg       0.56      0.60      0.49      7395\n",
      "\n"
     ]
    }
   ],
   "source": [
    "rf_model = RandomForestClassifier()\n",
    "\n",
    "# Fit our model with our training data.\n",
    "rf_model.fit(X_train, y_train)\n",
    "\n",
    "\n",
    "# Make new predictions of our testing data. \n",
    "y_pred = rf_model.predict(X_test)\n",
    "\n",
    "\n",
    "# Make predicted probabilites of our testing data\n",
    "y_pred_proba = rf_model.predict_proba(X_test)\n",
    "\n",
    "# Evaluate our model\n",
    "accuracy =  rf_model.score(X_test, y_test)\n",
    "\n",
    "# Print our evaluation metrics\n",
    "print(\"Model Accuracy: %f\" % accuracy)\n",
    "\n",
    "print(classification_report(y_test, y_pred, target_names=rf_model.classes_))"
   ]
  },
  {
   "cell_type": "code",
   "execution_count": 76,
   "metadata": {},
   "outputs": [
    {
     "data": {
      "text/plain": [
       "<sklearn.metrics._plot.confusion_matrix.ConfusionMatrixDisplay at 0x7ffc408b2910>"
      ]
     },
     "execution_count": 76,
     "metadata": {},
     "output_type": "execute_result"
    },
    {
     "data": {
      "image/png": "[encoded data removed]",
      "text/plain": [
       "<Figure size 576x576 with 2 Axes>"
      ]
     },
     "metadata": {
      "needs_background": "light"
     },
     "output_type": "display_data"
    }
   ],
   "source": [
    "# Plot the confusion matrix of our results\n",
    "fig, ax = plt.subplots(figsize=(8, 8))\n",
    "\n",
    "disp = plot_confusion_matrix(rf_model, X_test, y_test,\n",
    "                             display_labels=rf_model.classes_,\n",
    "                             cmap=plt.cm.Blues, ax=ax)\n",
    "plt.xticks(rotation=90)\n",
    "disp"
   ]
  },
  {
   "cell_type": "markdown",
   "metadata": {},
   "source": [
    "# Observations:\n",
    "#### RF & MNB most confused:\n",
    "- Pop with Rock (~1500 to 1800)  \n",
    "- Pop with Country (~500)"
   ]
  },
  {
   "cell_type": "code",
   "execution_count": 64,
   "metadata": {},
   "outputs": [],
   "source": [
    "# Models to test: RandomForest, DT, MultinomialNB, KNN\n"
   ]
  },
  {
   "cell_type": "markdown",
   "metadata": {},
   "source": [
    "### KNN "
   ]
  },
  {
   "cell_type": "code",
   "execution_count": 79,
   "metadata": {},
   "outputs": [],
   "source": [
    "def train_test_knn(X_train, X_test, y_train, y_test, k):\n",
    "    '''\n",
    "    Fit a k Nearest Neighbors classifier to the training data X_train, y_train.\n",
    "    Return the accuracy of resulting predictions on the test data.\n",
    "    '''\n",
    "    \n",
    "    # 1. Create the  KNeighborsClassifier model object below and assign to variable 'model'\n",
    "    model = KNeighborsClassifier(n_neighbors = k)\n",
    "\n",
    "    # 2. Fit the model to the training data below\n",
    "    model.fit(X_train, y_train)\n",
    "    \n",
    "    # 3. Make predictions on the test data below and assign the result to the variable 'class_label_predictions'\n",
    "    class_label_predictions = model.predict(X_test)\n",
    "\n",
    "    # 4. Compute the accuracy here and save the result to the variable 'acc_score'\n",
    "    acc_score = accuracy_score(y_test, class_label_predictions)\n",
    "    \n",
    "    \n",
    "    return acc_score"
   ]
  },
  {
   "cell_type": "code",
   "execution_count": 81,
   "metadata": {},
   "outputs": [
    {
     "name": "stdout",
     "output_type": "stream",
     "text": [
      "k=10, accuracy score: 0.5663286004056796\n",
      "k=100, accuracy score: 0.586342123056119\n",
      "k=1000, accuracy score: 0.5843137254901961\n",
      "k=10000, accuracy score: 0.5588911426639621\n"
     ]
    }
   ],
   "source": [
    "k_values = [10, 100, 1000, 10000]\n",
    "\n",
    "acc1 = [] \n",
    "\n",
    "for k in k_values:\n",
    "    score = train_test_knn(X_train, X_test, y_train, y_test, k)\n",
    "    print('k=' + str(k) + ', accuracy score: ' + str(score))\n",
    "    acc1.append(float(score))\n",
    "  "
   ]
  },
  {
   "cell_type": "code",
   "execution_count": 82,
   "metadata": {},
   "outputs": [],
   "source": [
    "knn = KNeighborsClassifier(n_neighbors = 100)\n",
    "knn.fit(X_train, y_train)\n",
    "y_pred = knn.predict(X_test)"
   ]
  },
  {
   "cell_type": "code",
   "execution_count": 84,
   "metadata": {},
   "outputs": [
    {
     "name": "stdout",
     "output_type": "stream",
     "text": [
      "              precision    recall  f1-score   support\n",
      "\n",
      "     Country       0.00      0.00      0.00       536\n",
      "         Pop       0.58      0.99      0.73      4133\n",
      "         R&B       0.00      0.00      0.00       345\n",
      "         Rap       0.86      0.48      0.62       433\n",
      "        Rock       0.64      0.02      0.04      1948\n",
      "\n",
      "    accuracy                           0.59      7395\n",
      "   macro avg       0.42      0.30      0.28      7395\n",
      "weighted avg       0.54      0.59      0.45      7395\n",
      "\n"
     ]
    }
   ],
   "source": [
    "print(classification_report(y_test, y_pred, target_names=knn.classes_))"
   ]
  },
  {
   "cell_type": "code",
   "execution_count": 87,
   "metadata": {},
   "outputs": [
    {
     "ename": "AttributeError",
     "evalue": "iloc not found",
     "output_type": "error",
     "traceback": [
      "\u001b[0;31m---------------------------------------------------------------------------\u001b[0m",
      "\u001b[0;31mAttributeError\u001b[0m                            Traceback (most recent call last)",
      "\u001b[0;32m<ipython-input-87-4f1c5ac80d82>\u001b[0m in \u001b[0;36m<module>\u001b[0;34m\u001b[0m\n\u001b[1;32m      9\u001b[0m \u001b[0;34m\u001b[0m\u001b[0m\n\u001b[1;32m     10\u001b[0m     \u001b[0;31m# our new partition of X_train and X_val\u001b[0m\u001b[0;34m\u001b[0m\u001b[0;34m\u001b[0m\u001b[0;34m\u001b[0m\u001b[0m\n\u001b[0;32m---> 11\u001b[0;31m     \u001b[0mX_train_new\u001b[0m  \u001b[0;34m=\u001b[0m \u001b[0mX_train\u001b[0m\u001b[0;34m.\u001b[0m\u001b[0miloc\u001b[0m\u001b[0;34m[\u001b[0m\u001b[0mtrain_row_index\u001b[0m\u001b[0;34m]\u001b[0m\u001b[0;34m\u001b[0m\u001b[0;34m\u001b[0m\u001b[0m\n\u001b[0m\u001b[1;32m     12\u001b[0m     \u001b[0mX_val\u001b[0m \u001b[0;34m=\u001b[0m \u001b[0mX_train\u001b[0m\u001b[0;34m.\u001b[0m\u001b[0miloc\u001b[0m\u001b[0;34m[\u001b[0m\u001b[0mtest_row_index\u001b[0m\u001b[0;34m]\u001b[0m\u001b[0;34m\u001b[0m\u001b[0;34m\u001b[0m\u001b[0m\n\u001b[1;32m     13\u001b[0m \u001b[0;34m\u001b[0m\u001b[0m\n",
      "\u001b[0;32m~/opt/anaconda3/lib/python3.8/site-packages/scipy/sparse/base.py\u001b[0m in \u001b[0;36m__getattr__\u001b[0;34m(self, attr)\u001b[0m\n\u001b[1;32m    685\u001b[0m             \u001b[0;32mreturn\u001b[0m \u001b[0mself\u001b[0m\u001b[0;34m.\u001b[0m\u001b[0mgetnnz\u001b[0m\u001b[0;34m(\u001b[0m\u001b[0;34m)\u001b[0m\u001b[0;34m\u001b[0m\u001b[0;34m\u001b[0m\u001b[0m\n\u001b[1;32m    686\u001b[0m         \u001b[0;32melse\u001b[0m\u001b[0;34m:\u001b[0m\u001b[0;34m\u001b[0m\u001b[0;34m\u001b[0m\u001b[0m\n\u001b[0;32m--> 687\u001b[0;31m             \u001b[0;32mraise\u001b[0m \u001b[0mAttributeError\u001b[0m\u001b[0;34m(\u001b[0m\u001b[0mattr\u001b[0m \u001b[0;34m+\u001b[0m \u001b[0;34m\" not found\"\u001b[0m\u001b[0;34m)\u001b[0m\u001b[0;34m\u001b[0m\u001b[0;34m\u001b[0m\u001b[0m\n\u001b[0m\u001b[1;32m    688\u001b[0m \u001b[0;34m\u001b[0m\u001b[0m\n\u001b[1;32m    689\u001b[0m     \u001b[0;32mdef\u001b[0m \u001b[0mtranspose\u001b[0m\u001b[0;34m(\u001b[0m\u001b[0mself\u001b[0m\u001b[0;34m,\u001b[0m \u001b[0maxes\u001b[0m\u001b[0;34m=\u001b[0m\u001b[0;32mNone\u001b[0m\u001b[0;34m,\u001b[0m \u001b[0mcopy\u001b[0m\u001b[0;34m=\u001b[0m\u001b[0;32mFalse\u001b[0m\u001b[0;34m)\u001b[0m\u001b[0;34m:\u001b[0m\u001b[0;34m\u001b[0m\u001b[0;34m\u001b[0m\u001b[0m\n",
      "\u001b[0;31mAttributeError\u001b[0m: iloc not found"
     ]
    }
   ],
   "source": [
    "# Trying to improve knn with KFold Cross Validation\n",
    "\n",
    "num_folds = 5\n",
    "folds = KFold(n_splits = num_folds, random_state=None)\n",
    "\n",
    "acc_scores = []\n",
    "\n",
    "for train_row_index, test_row_index in folds.split(X_train): \n",
    "    \n",
    "    # our new partition of X_train and X_val\n",
    "    X_train_new = X_train.iloc[train_row_index] # cannot use iloc because X_train is matrix not pandas object\n",
    "    X_val = X_train.iloc[test_row_index]\n",
    "    \n",
    "    # our new partition of y_train and y_val\n",
    "    y_train_new = y_train.iloc[train_row_index]\n",
    "    y_val = y_train.iloc[test_row_index]\n",
    "    \n",
    "    knn_model.fit(X_train_new, y_train_new)\n",
    "    predictions = knn_model.predict(X_val)\n",
    "     \n",
    "    iteration_accuracy = accuracy_score(predictions , y_val)\n",
    "    acc_scores.append(iteration_accuracy)\n",
    "     \n",
    "        \n",
    "for i in range(len(acc_scores)):\n",
    "    print('Accuracy score for iteration {0}: {1}'.format(i+1, acc_scores[i]))\n",
    "\n",
    "avg_scores = sum(acc_scores)/num_folds\n",
    "print('\\nAverage accuracy score: {}'.format(avg_scores))"
   ]
  },
  {
   "cell_type": "code",
   "execution_count": 89,
   "metadata": {},
   "outputs": [
    {
     "data": {
      "text/plain": [
       "scipy.sparse.csr.csr_matrix"
      ]
     },
     "execution_count": 89,
     "metadata": {},
     "output_type": "execute_result"
    }
   ],
   "source": [
    "type(X_train)"
   ]
  },
  {
   "cell_type": "markdown",
   "metadata": {},
   "source": [
    "# To-Do research improving KNN\n",
    "- cannot use iloc in KFold splitting because X_train is matrix not pandas object\n",
    "- Read this:\n",
    "    - https://towardsdatascience.com/text-classification-using-k-nearest-neighbors-46fa8a77acc5"
   ]
  },
  {
   "cell_type": "markdown",
   "metadata": {},
   "source": [
    "# Summary So Far for Genre Classification:\n",
    "- Multinomial Naive Bayes\n",
    "    - Model Accuracy: 0.603110\n",
    "- Random Forest Classifier\n",
    "    - Model Accuracy: 0.596078\n",
    "- Knn\n",
    "    - where k=1000, accuracy score: 0.5843137254901961"
   ]
  },
  {
   "cell_type": "code",
   "execution_count": null,
   "metadata": {},
   "outputs": [],
   "source": []
  }
 ],
 "metadata": {
  "kernelspec": {
   "display_name": "Python 3",
   "language": "python",
   "name": "python3"
  },
  "language_info": {
   "codemirror_mode": {
    "name": "ipython",
    "version": 3
   },
   "file_extension": ".py",
   "mimetype": "text/x-python",
   "name": "python",
   "nbconvert_exporter": "python",
   "pygments_lexer": "ipython3",
   "version": "3.8.3"
  }
 },
 "nbformat": 4,
 "nbformat_minor": 4
}
