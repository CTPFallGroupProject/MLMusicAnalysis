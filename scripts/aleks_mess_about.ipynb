{
 "cells": [
  {
   "cell_type": "code",
   "execution_count": 114,
   "metadata": {},
   "outputs": [
    {
     "name": "stderr",
     "output_type": "stream",
     "text": [
      "[nltk_data] Downloading package stopwords to\n",
      "[nltk_data]     /Users/aleksandrageorgievska/nltk_data...\n",
      "[nltk_data]   Package stopwords is already up-to-date!\n",
      "[nltk_data] Downloading package punkt to\n",
      "[nltk_data]     /Users/aleksandrageorgievska/nltk_data...\n",
      "[nltk_data]   Package punkt is already up-to-date!\n",
      "[nltk_data] Downloading package wordnet to\n",
      "[nltk_data]     /Users/aleksandrageorgievska/nltk_data...\n",
      "[nltk_data]   Package wordnet is already up-to-date!\n"
     ]
    }
   ],
   "source": [
    "# Import pandas for data handling\n",
    "import pandas as pd\n",
    "\n",
    "# NLTK is our Natural-Language-Took-Kit\n",
    "import nltk\n",
    "from nltk.corpus import stopwords\n",
    "from nltk import word_tokenize\n",
    "from nltk.stem import PorterStemmer\n",
    "from nltk.stem import WordNetLemmatizer\n",
    "from nltk.corpus import wordnet\n",
    "nltk.download('stopwords')\n",
    "nltk.download('punkt')\n",
    "nltk.download('wordnet')\n",
    "stopwords = stopwords.words('english')\n",
    "\n",
    "# Libraries for helping us with strings\n",
    "import string\n",
    "# Regular Expression Library\n",
    "import re\n",
    "\n",
    "# Import text vectorizers\n",
    "from sklearn.feature_extraction.text import CountVectorizer\n",
    "from sklearn.feature_extraction.text import TfidfVectorizer\n",
    "\n",
    "# Import classifiers\n",
    "from sklearn.naive_bayes import MultinomialNB\n",
    "from sklearn.ensemble import RandomForestClassifier\n",
    "from sklearn.neighbors import KNeighborsClassifier\n",
    "from sklearn.model_selection import KFold\n",
    "\n",
    "#Import Regressor Models\n",
    "from sklearn.linear_model import LinearRegression\n",
    "from sklearn.ensemble import RandomForestRegressor, GradientBoostingRegressor\n",
    "\n",
    "# Import some ML helper function\n",
    "from sklearn.model_selection import train_test_split, GridSearchCV\n",
    "from sklearn.metrics import plot_confusion_matrix\n",
    "from sklearn.metrics import classification_report\n",
    "\n",
    "\n",
    "# Import our metrics to evaluate our model\n",
    "from sklearn import metrics\n",
    "from sklearn.metrics import classification_report\n",
    "from sklearn.metrics import accuracy_score\n",
    "from sklearn.metrics import mean_squared_error, r2_score\n",
    "from sklearn.model_selection import cross_val_score\n",
    "\n",
    "\n",
    "# Library for plotting\n",
    "import matplotlib.pyplot as plt\n",
    "import seaborn as sns\n",
    "import scipy.sparse as sparse"
   ]
  },
  {
   "cell_type": "code",
   "execution_count": 14,
   "metadata": {},
   "outputs": [],
   "source": [
    "df = pd.read_csv('../data/labeled_lyrics_w_genres.csv')"
   ]
  },
  {
   "cell_type": "markdown",
   "metadata": {},
   "source": [
    "# Inspecting The Data"
   ]
  },
  {
   "cell_type": "code",
   "execution_count": 15,
   "metadata": {},
   "outputs": [
    {
     "data": {
      "text/html": [
       "<div>\n",
       "<style scoped>\n",
       "    .dataframe tbody tr th:only-of-type {\n",
       "        vertical-align: middle;\n",
       "    }\n",
       "\n",
       "    .dataframe tbody tr th {\n",
       "        vertical-align: top;\n",
       "    }\n",
       "\n",
       "    .dataframe thead th {\n",
       "        text-align: right;\n",
       "    }\n",
       "</style>\n",
       "<table border=\"1\" class=\"dataframe\">\n",
       "  <thead>\n",
       "    <tr style=\"text-align: right;\">\n",
       "      <th></th>\n",
       "      <th>Unnamed: 0</th>\n",
       "      <th>artist</th>\n",
       "      <th>seq</th>\n",
       "      <th>song</th>\n",
       "      <th>label</th>\n",
       "      <th>genre</th>\n",
       "    </tr>\n",
       "  </thead>\n",
       "  <tbody>\n",
       "    <tr>\n",
       "      <th>0</th>\n",
       "      <td>0</td>\n",
       "      <td>Elijah Blake</td>\n",
       "      <td>No, no\\r\\nI ain't ever trapped out the bando\\r...</td>\n",
       "      <td>Everyday</td>\n",
       "      <td>0.626</td>\n",
       "      <td>R&amp;B</td>\n",
       "    </tr>\n",
       "    <tr>\n",
       "      <th>1</th>\n",
       "      <td>1</td>\n",
       "      <td>Elijah Blake</td>\n",
       "      <td>The drinks go down and smoke goes up, I feel m...</td>\n",
       "      <td>Live Till We Die</td>\n",
       "      <td>0.630</td>\n",
       "      <td>Pop</td>\n",
       "    </tr>\n",
       "    <tr>\n",
       "      <th>2</th>\n",
       "      <td>2</td>\n",
       "      <td>Elijah Blake</td>\n",
       "      <td>She don't live on planet Earth no more\\r\\nShe ...</td>\n",
       "      <td>The Otherside</td>\n",
       "      <td>0.240</td>\n",
       "      <td>R&amp;B</td>\n",
       "    </tr>\n",
       "    <tr>\n",
       "      <th>3</th>\n",
       "      <td>3</td>\n",
       "      <td>Elijah Blake</td>\n",
       "      <td>Trippin' off that Grigio, mobbin', lights low\\...</td>\n",
       "      <td>Pinot</td>\n",
       "      <td>0.536</td>\n",
       "      <td>R&amp;B</td>\n",
       "    </tr>\n",
       "    <tr>\n",
       "      <th>4</th>\n",
       "      <td>4</td>\n",
       "      <td>Elijah Blake</td>\n",
       "      <td>I see a midnight panther, so gallant and so br...</td>\n",
       "      <td>Shadows &amp; Diamonds</td>\n",
       "      <td>0.371</td>\n",
       "      <td>R&amp;B</td>\n",
       "    </tr>\n",
       "  </tbody>\n",
       "</table>\n",
       "</div>"
      ],
      "text/plain": [
       "   Unnamed: 0        artist  \\\n",
       "0           0  Elijah Blake   \n",
       "1           1  Elijah Blake   \n",
       "2           2  Elijah Blake   \n",
       "3           3  Elijah Blake   \n",
       "4           4  Elijah Blake   \n",
       "\n",
       "                                                 seq                song  \\\n",
       "0  No, no\\r\\nI ain't ever trapped out the bando\\r...            Everyday   \n",
       "1  The drinks go down and smoke goes up, I feel m...    Live Till We Die   \n",
       "2  She don't live on planet Earth no more\\r\\nShe ...       The Otherside   \n",
       "3  Trippin' off that Grigio, mobbin', lights low\\...               Pinot   \n",
       "4  I see a midnight panther, so gallant and so br...  Shadows & Diamonds   \n",
       "\n",
       "   label genre  \n",
       "0  0.626   R&B  \n",
       "1  0.630   Pop  \n",
       "2  0.240   R&B  \n",
       "3  0.536   R&B  \n",
       "4  0.371   R&B  "
      ]
     },
     "execution_count": 15,
     "metadata": {},
     "output_type": "execute_result"
    }
   ],
   "source": [
    "df.head()"
   ]
  },
  {
   "cell_type": "code",
   "execution_count": 16,
   "metadata": {},
   "outputs": [
    {
     "data": {
      "text/plain": [
       "0"
      ]
     },
     "execution_count": 16,
     "metadata": {},
     "output_type": "execute_result"
    }
   ],
   "source": [
    "df.isnull().sum().sum()"
   ]
  },
  {
   "cell_type": "code",
   "execution_count": 17,
   "metadata": {},
   "outputs": [
    {
     "data": {
      "text/plain": [
       "0"
      ]
     },
     "execution_count": 17,
     "metadata": {},
     "output_type": "execute_result"
    }
   ],
   "source": [
    "df.duplicated().sum()"
   ]
  },
  {
   "cell_type": "code",
   "execution_count": 18,
   "metadata": {},
   "outputs": [
    {
     "data": {
      "text/plain": [
       "(58100, 6)"
      ]
     },
     "execution_count": 18,
     "metadata": {},
     "output_type": "execute_result"
    }
   ],
   "source": [
    "df.shape"
   ]
  },
  {
   "cell_type": "code",
   "execution_count": 19,
   "metadata": {},
   "outputs": [
    {
     "data": {
      "text/plain": [
       "No_genre     21069\n",
       "Pop          20691\n",
       "Rock          9783\n",
       "Country       2503\n",
       "Rap           2311\n",
       "R&B           1687\n",
       "Non-Music       56\n",
       "Name: genre, dtype: int64"
      ]
     },
     "execution_count": 19,
     "metadata": {},
     "output_type": "execute_result"
    }
   ],
   "source": [
    "df.genre.value_counts()"
   ]
  },
  {
   "cell_type": "markdown",
   "metadata": {},
   "source": [
    "### removing No_genre and Non-Music"
   ]
  },
  {
   "cell_type": "code",
   "execution_count": 20,
   "metadata": {},
   "outputs": [],
   "source": [
    "df_dropped = df[(df['genre'] == 'No_genre') | (df['genre'] == 'Non-Music')].index\n",
    "df.drop(df_dropped, inplace=True, axis='index')"
   ]
  },
  {
   "cell_type": "code",
   "execution_count": 21,
   "metadata": {},
   "outputs": [
    {
     "name": "stdout",
     "output_type": "stream",
     "text": [
      "(36975, 6)\n"
     ]
    },
    {
     "data": {
      "text/html": [
       "<div>\n",
       "<style scoped>\n",
       "    .dataframe tbody tr th:only-of-type {\n",
       "        vertical-align: middle;\n",
       "    }\n",
       "\n",
       "    .dataframe tbody tr th {\n",
       "        vertical-align: top;\n",
       "    }\n",
       "\n",
       "    .dataframe thead th {\n",
       "        text-align: right;\n",
       "    }\n",
       "</style>\n",
       "<table border=\"1\" class=\"dataframe\">\n",
       "  <thead>\n",
       "    <tr style=\"text-align: right;\">\n",
       "      <th></th>\n",
       "      <th>Unnamed: 0</th>\n",
       "      <th>artist</th>\n",
       "      <th>seq</th>\n",
       "      <th>song</th>\n",
       "      <th>label</th>\n",
       "      <th>genre</th>\n",
       "    </tr>\n",
       "  </thead>\n",
       "  <tbody>\n",
       "    <tr>\n",
       "      <th>0</th>\n",
       "      <td>0</td>\n",
       "      <td>Elijah Blake</td>\n",
       "      <td>No, no\\r\\nI ain't ever trapped out the bando\\r...</td>\n",
       "      <td>Everyday</td>\n",
       "      <td>0.6260</td>\n",
       "      <td>R&amp;B</td>\n",
       "    </tr>\n",
       "    <tr>\n",
       "      <th>1</th>\n",
       "      <td>1</td>\n",
       "      <td>Elijah Blake</td>\n",
       "      <td>The drinks go down and smoke goes up, I feel m...</td>\n",
       "      <td>Live Till We Die</td>\n",
       "      <td>0.6300</td>\n",
       "      <td>Pop</td>\n",
       "    </tr>\n",
       "    <tr>\n",
       "      <th>2</th>\n",
       "      <td>2</td>\n",
       "      <td>Elijah Blake</td>\n",
       "      <td>She don't live on planet Earth no more\\r\\nShe ...</td>\n",
       "      <td>The Otherside</td>\n",
       "      <td>0.2400</td>\n",
       "      <td>R&amp;B</td>\n",
       "    </tr>\n",
       "    <tr>\n",
       "      <th>3</th>\n",
       "      <td>3</td>\n",
       "      <td>Elijah Blake</td>\n",
       "      <td>Trippin' off that Grigio, mobbin', lights low\\...</td>\n",
       "      <td>Pinot</td>\n",
       "      <td>0.5360</td>\n",
       "      <td>R&amp;B</td>\n",
       "    </tr>\n",
       "    <tr>\n",
       "      <th>4</th>\n",
       "      <td>4</td>\n",
       "      <td>Elijah Blake</td>\n",
       "      <td>I see a midnight panther, so gallant and so br...</td>\n",
       "      <td>Shadows &amp; Diamonds</td>\n",
       "      <td>0.3710</td>\n",
       "      <td>R&amp;B</td>\n",
       "    </tr>\n",
       "    <tr>\n",
       "      <th>5</th>\n",
       "      <td>5</td>\n",
       "      <td>Elijah Blake</td>\n",
       "      <td>I just want to ready your mind\\r\\n'Cause I'll ...</td>\n",
       "      <td>Uno</td>\n",
       "      <td>0.3210</td>\n",
       "      <td>R&amp;B</td>\n",
       "    </tr>\n",
       "    <tr>\n",
       "      <th>7</th>\n",
       "      <td>7</td>\n",
       "      <td>Elis</td>\n",
       "      <td>Dieses ist lange her.\\r\\nDa ich deine schmalen...</td>\n",
       "      <td>Abendlied</td>\n",
       "      <td>0.3330</td>\n",
       "      <td>Pop</td>\n",
       "    </tr>\n",
       "    <tr>\n",
       "      <th>8</th>\n",
       "      <td>8</td>\n",
       "      <td>Elis</td>\n",
       "      <td>A child is born\\r\\nOut of the womb of a mother...</td>\n",
       "      <td>Child</td>\n",
       "      <td>0.5060</td>\n",
       "      <td>Pop</td>\n",
       "    </tr>\n",
       "    <tr>\n",
       "      <th>9</th>\n",
       "      <td>9</td>\n",
       "      <td>Elis</td>\n",
       "      <td>Out of the darkness you came \\r\\nYou looked so...</td>\n",
       "      <td>Come to Me</td>\n",
       "      <td>0.1790</td>\n",
       "      <td>Pop</td>\n",
       "    </tr>\n",
       "    <tr>\n",
       "      <th>10</th>\n",
       "      <td>10</td>\n",
       "      <td>Elis</td>\n",
       "      <td>Each night I lie in my bed \\r\\nAnd I think abo...</td>\n",
       "      <td>Do You Believe</td>\n",
       "      <td>0.2090</td>\n",
       "      <td>Pop</td>\n",
       "    </tr>\n",
       "    <tr>\n",
       "      <th>11</th>\n",
       "      <td>11</td>\n",
       "      <td>Elis</td>\n",
       "      <td>Nebel zieh'n gespentisch vor \\r\\nDer Sucher se...</td>\n",
       "      <td>Engel der Nacht</td>\n",
       "      <td>0.3210</td>\n",
       "      <td>Pop</td>\n",
       "    </tr>\n",
       "    <tr>\n",
       "      <th>12</th>\n",
       "      <td>12</td>\n",
       "      <td>Elis</td>\n",
       "      <td>I'm a lonely stranger \\r\\nIn this world of pai...</td>\n",
       "      <td>My Only Love</td>\n",
       "      <td>0.2010</td>\n",
       "      <td>Pop</td>\n",
       "    </tr>\n",
       "    <tr>\n",
       "      <th>13</th>\n",
       "      <td>13</td>\n",
       "      <td>Elis</td>\n",
       "      <td>Schwere Tranen \\r\\nVergebens geweint \\r\\nRinne...</td>\n",
       "      <td>Sie Erfasst Mein Herz</td>\n",
       "      <td>0.2180</td>\n",
       "      <td>Pop</td>\n",
       "    </tr>\n",
       "    <tr>\n",
       "      <th>14</th>\n",
       "      <td>14</td>\n",
       "      <td>Elis</td>\n",
       "      <td>Come calm my anger\\n\\nOur love is like a perfe...</td>\n",
       "      <td>Anger</td>\n",
       "      <td>0.3060</td>\n",
       "      <td>Pop</td>\n",
       "    </tr>\n",
       "    <tr>\n",
       "      <th>15</th>\n",
       "      <td>15</td>\n",
       "      <td>Elis</td>\n",
       "      <td>I was walking through the night\\nSuddenly I re...</td>\n",
       "      <td>Black Angel</td>\n",
       "      <td>0.0958</td>\n",
       "      <td>Pop</td>\n",
       "    </tr>\n",
       "  </tbody>\n",
       "</table>\n",
       "</div>"
      ],
      "text/plain": [
       "    Unnamed: 0        artist  \\\n",
       "0            0  Elijah Blake   \n",
       "1            1  Elijah Blake   \n",
       "2            2  Elijah Blake   \n",
       "3            3  Elijah Blake   \n",
       "4            4  Elijah Blake   \n",
       "5            5  Elijah Blake   \n",
       "7            7          Elis   \n",
       "8            8          Elis   \n",
       "9            9          Elis   \n",
       "10          10          Elis   \n",
       "11          11          Elis   \n",
       "12          12          Elis   \n",
       "13          13          Elis   \n",
       "14          14          Elis   \n",
       "15          15          Elis   \n",
       "\n",
       "                                                  seq                   song  \\\n",
       "0   No, no\\r\\nI ain't ever trapped out the bando\\r...               Everyday   \n",
       "1   The drinks go down and smoke goes up, I feel m...       Live Till We Die   \n",
       "2   She don't live on planet Earth no more\\r\\nShe ...          The Otherside   \n",
       "3   Trippin' off that Grigio, mobbin', lights low\\...                  Pinot   \n",
       "4   I see a midnight panther, so gallant and so br...     Shadows & Diamonds   \n",
       "5   I just want to ready your mind\\r\\n'Cause I'll ...                    Uno   \n",
       "7   Dieses ist lange her.\\r\\nDa ich deine schmalen...              Abendlied   \n",
       "8   A child is born\\r\\nOut of the womb of a mother...                  Child   \n",
       "9   Out of the darkness you came \\r\\nYou looked so...             Come to Me   \n",
       "10  Each night I lie in my bed \\r\\nAnd I think abo...         Do You Believe   \n",
       "11  Nebel zieh'n gespentisch vor \\r\\nDer Sucher se...        Engel der Nacht   \n",
       "12  I'm a lonely stranger \\r\\nIn this world of pai...           My Only Love   \n",
       "13  Schwere Tranen \\r\\nVergebens geweint \\r\\nRinne...  Sie Erfasst Mein Herz   \n",
       "14  Come calm my anger\\n\\nOur love is like a perfe...                  Anger   \n",
       "15  I was walking through the night\\nSuddenly I re...            Black Angel   \n",
       "\n",
       "     label genre  \n",
       "0   0.6260   R&B  \n",
       "1   0.6300   Pop  \n",
       "2   0.2400   R&B  \n",
       "3   0.5360   R&B  \n",
       "4   0.3710   R&B  \n",
       "5   0.3210   R&B  \n",
       "7   0.3330   Pop  \n",
       "8   0.5060   Pop  \n",
       "9   0.1790   Pop  \n",
       "10  0.2090   Pop  \n",
       "11  0.3210   Pop  \n",
       "12  0.2010   Pop  \n",
       "13  0.2180   Pop  \n",
       "14  0.3060   Pop  \n",
       "15  0.0958   Pop  "
      ]
     },
     "execution_count": 21,
     "metadata": {},
     "output_type": "execute_result"
    }
   ],
   "source": [
    "print(df.shape)\n",
    "df.head(15)"
   ]
  },
  {
   "cell_type": "code",
   "execution_count": 22,
   "metadata": {},
   "outputs": [
    {
     "data": {
      "text/plain": [
       "Pop        20691\n",
       "Rock        9783\n",
       "Country     2503\n",
       "Rap         2311\n",
       "R&B         1687\n",
       "Name: genre, dtype: int64"
      ]
     },
     "execution_count": 22,
     "metadata": {},
     "output_type": "execute_result"
    }
   ],
   "source": [
    "df.genre.value_counts()"
   ]
  },
  {
   "cell_type": "markdown",
   "metadata": {},
   "source": [
    "---\n",
    "\n",
    "# Data Cleaning (Text Pre Processing)"
   ]
  },
  {
   "cell_type": "code",
   "execution_count": 23,
   "metadata": {},
   "outputs": [],
   "source": [
    "# 1. function that makes all text lowercase.\n",
    "def make_lowercase(test_string):\n",
    "    return test_string.lower()\n",
    "\n",
    "# 2. function that removes all punctuation. \n",
    "def remove_punc(test_string):\n",
    "    test_string = re.sub(r'[^\\w\\s]', '', test_string)\n",
    "    return test_string\n",
    "\n",
    "# 3. function that removes all stopwords.\n",
    "def remove_stopwords(test_string):\n",
    "    # Break the sentence down into a list of words\n",
    "    words = word_tokenize(test_string)\n",
    "    \n",
    "    # Make a list to append valid words into\n",
    "    valid_words = []\n",
    "    \n",
    "    # Loop through all the words\n",
    "    for word in words:\n",
    "        \n",
    "        # Check if word is not in stopwords. Stopwords was imported from nltk.corpus\n",
    "        if word not in stopwords:\n",
    "            \n",
    "            # If word not in stopwords, append to our valid_words\n",
    "            valid_words.append(word)\n",
    "\n",
    "    # Join the list of words together into a string\n",
    "    a_string = ' '.join(valid_words)\n",
    "\n",
    "    return a_string\n",
    "\n",
    "# 4. function to break words into their stem words\n",
    "def stem_words(a_string):\n",
    "    # Initalize our Stemmer\n",
    "    porter = PorterStemmer()\n",
    "    \n",
    "    # Break the sentence down into a list of words\n",
    "    words = word_tokenize(a_string)\n",
    "    \n",
    "    # Make a list to append valid words into\n",
    "    valid_words = []\n",
    "\n",
    "    # Loop through all the words\n",
    "    for word in words:\n",
    "        # Stem the word\n",
    "        stemmed_word = porter.stem(word) #from nltk.stem import PorterStemmer\n",
    "        \n",
    "        # Append stemmed word to our valid_words\n",
    "        valid_words.append(stemmed_word)\n",
    "        \n",
    "    # Join the list of words together into a string\n",
    "    a_string = ' '.join(valid_words)\n",
    "\n",
    "    return a_string "
   ]
  },
  {
   "cell_type": "code",
   "execution_count": 27,
   "metadata": {},
   "outputs": [],
   "source": [
    "# Pipeline function \n",
    "\n",
    "def text_processing_pipeline(a_string):\n",
    "    a_string = make_lowercase(a_string)\n",
    "    a_string = remove_punc(a_string)\n",
    "    #a_string = stem_words(a_string) #removing stem_words for now because making lyrics gibberish\n",
    "    a_string = remove_stopwords(a_string)\n",
    "    return a_string"
   ]
  },
  {
   "cell_type": "code",
   "execution_count": 28,
   "metadata": {},
   "outputs": [],
   "source": [
    "# apply preprocessing pipeline \n",
    "\n",
    "df['seq_clean'] = df['seq'].apply(text_processing_pipeline)"
   ]
  },
  {
   "cell_type": "code",
   "execution_count": 30,
   "metadata": {},
   "outputs": [
    {
     "data": {
      "text/html": [
       "<div>\n",
       "<style scoped>\n",
       "    .dataframe tbody tr th:only-of-type {\n",
       "        vertical-align: middle;\n",
       "    }\n",
       "\n",
       "    .dataframe tbody tr th {\n",
       "        vertical-align: top;\n",
       "    }\n",
       "\n",
       "    .dataframe thead th {\n",
       "        text-align: right;\n",
       "    }\n",
       "</style>\n",
       "<table border=\"1\" class=\"dataframe\">\n",
       "  <thead>\n",
       "    <tr style=\"text-align: right;\">\n",
       "      <th></th>\n",
       "      <th>Unnamed: 0</th>\n",
       "      <th>artist</th>\n",
       "      <th>seq</th>\n",
       "      <th>song</th>\n",
       "      <th>label</th>\n",
       "      <th>genre</th>\n",
       "      <th>seq_clean</th>\n",
       "    </tr>\n",
       "  </thead>\n",
       "  <tbody>\n",
       "    <tr>\n",
       "      <th>0</th>\n",
       "      <td>0</td>\n",
       "      <td>Elijah Blake</td>\n",
       "      <td>No, no\\r\\nI ain't ever trapped out the bando\\r...</td>\n",
       "      <td>Everyday</td>\n",
       "      <td>0.626</td>\n",
       "      <td>R&amp;B</td>\n",
       "      <td>aint ever trapped bando oh lord dont get wrong...</td>\n",
       "    </tr>\n",
       "    <tr>\n",
       "      <th>1</th>\n",
       "      <td>1</td>\n",
       "      <td>Elijah Blake</td>\n",
       "      <td>The drinks go down and smoke goes up, I feel m...</td>\n",
       "      <td>Live Till We Die</td>\n",
       "      <td>0.630</td>\n",
       "      <td>Pop</td>\n",
       "      <td>drinks go smoke goes feel got let go cares get...</td>\n",
       "    </tr>\n",
       "    <tr>\n",
       "      <th>2</th>\n",
       "      <td>2</td>\n",
       "      <td>Elijah Blake</td>\n",
       "      <td>She don't live on planet Earth no more\\r\\nShe ...</td>\n",
       "      <td>The Otherside</td>\n",
       "      <td>0.240</td>\n",
       "      <td>R&amp;B</td>\n",
       "      <td>dont live planet earth found love venus thats ...</td>\n",
       "    </tr>\n",
       "    <tr>\n",
       "      <th>3</th>\n",
       "      <td>3</td>\n",
       "      <td>Elijah Blake</td>\n",
       "      <td>Trippin' off that Grigio, mobbin', lights low\\...</td>\n",
       "      <td>Pinot</td>\n",
       "      <td>0.536</td>\n",
       "      <td>R&amp;B</td>\n",
       "      <td>trippin grigio mobbin lights low trippin grigi...</td>\n",
       "    </tr>\n",
       "    <tr>\n",
       "      <th>4</th>\n",
       "      <td>4</td>\n",
       "      <td>Elijah Blake</td>\n",
       "      <td>I see a midnight panther, so gallant and so br...</td>\n",
       "      <td>Shadows &amp; Diamonds</td>\n",
       "      <td>0.371</td>\n",
       "      <td>R&amp;B</td>\n",
       "      <td>see midnight panther gallant brave found found...</td>\n",
       "    </tr>\n",
       "  </tbody>\n",
       "</table>\n",
       "</div>"
      ],
      "text/plain": [
       "   Unnamed: 0        artist  \\\n",
       "0           0  Elijah Blake   \n",
       "1           1  Elijah Blake   \n",
       "2           2  Elijah Blake   \n",
       "3           3  Elijah Blake   \n",
       "4           4  Elijah Blake   \n",
       "\n",
       "                                                 seq                song  \\\n",
       "0  No, no\\r\\nI ain't ever trapped out the bando\\r...            Everyday   \n",
       "1  The drinks go down and smoke goes up, I feel m...    Live Till We Die   \n",
       "2  She don't live on planet Earth no more\\r\\nShe ...       The Otherside   \n",
       "3  Trippin' off that Grigio, mobbin', lights low\\...               Pinot   \n",
       "4  I see a midnight panther, so gallant and so br...  Shadows & Diamonds   \n",
       "\n",
       "   label genre                                          seq_clean  \n",
       "0  0.626   R&B  aint ever trapped bando oh lord dont get wrong...  \n",
       "1  0.630   Pop  drinks go smoke goes feel got let go cares get...  \n",
       "2  0.240   R&B  dont live planet earth found love venus thats ...  \n",
       "3  0.536   R&B  trippin grigio mobbin lights low trippin grigi...  \n",
       "4  0.371   R&B  see midnight panther gallant brave found found...  "
      ]
     },
     "execution_count": 30,
     "metadata": {},
     "output_type": "execute_result"
    }
   ],
   "source": [
    "df.head()"
   ]
  },
  {
   "cell_type": "code",
   "execution_count": 31,
   "metadata": {},
   "outputs": [],
   "source": [
    "X = df['seq_clean'].values\n",
    "\n",
    "y = df['label'].values"
   ]
  },
  {
   "cell_type": "markdown",
   "metadata": {},
   "source": [
    "# Sampling smaller batches from dataframe for faster testing"
   ]
  },
  {
   "cell_type": "code",
   "execution_count": 34,
   "metadata": {},
   "outputs": [],
   "source": [
    "#function to randomly sample n values from each genre for smaller random forest testing\n",
    "\n",
    "def genre_sample(dataframe, k):\n",
    "    #make an empty dataframe\n",
    "    df_genre_sample = pd.DataFrame(columns = ['Unnamed: 0', 'artist', 'seq', 'song', 'label', 'genre', 'seq_clean'])\n",
    "    \n",
    "    genres = ['R&B', 'Pop', 'Rap', 'Rock', 'Country']\n",
    "    for genre in genres:\n",
    "         df_genre_sample = df_genre_sample.append((dataframe[dataframe[\"genre\"]==genre].sample(n=k)))\n",
    "    \n",
    "    return df_genre_sample"
   ]
  },
  {
   "cell_type": "code",
   "execution_count": 99,
   "metadata": {},
   "outputs": [
    {
     "name": "stdout",
     "output_type": "stream",
     "text": [
      "(2500, 7)\n"
     ]
    },
    {
     "data": {
      "text/html": [
       "<div>\n",
       "<style scoped>\n",
       "    .dataframe tbody tr th:only-of-type {\n",
       "        vertical-align: middle;\n",
       "    }\n",
       "\n",
       "    .dataframe tbody tr th {\n",
       "        vertical-align: top;\n",
       "    }\n",
       "\n",
       "    .dataframe thead th {\n",
       "        text-align: right;\n",
       "    }\n",
       "</style>\n",
       "<table border=\"1\" class=\"dataframe\">\n",
       "  <thead>\n",
       "    <tr style=\"text-align: right;\">\n",
       "      <th></th>\n",
       "      <th>Unnamed: 0</th>\n",
       "      <th>artist</th>\n",
       "      <th>seq</th>\n",
       "      <th>song</th>\n",
       "      <th>label</th>\n",
       "      <th>genre</th>\n",
       "      <th>seq_clean</th>\n",
       "    </tr>\n",
       "  </thead>\n",
       "  <tbody>\n",
       "    <tr>\n",
       "      <th>3227</th>\n",
       "      <td>3227</td>\n",
       "      <td>Jodeci</td>\n",
       "      <td>Miggity, mix check one, two get ready uh huh\\r...</td>\n",
       "      <td>Sweaty</td>\n",
       "      <td>0.404</td>\n",
       "      <td>R&amp;B</td>\n",
       "      <td>miggity mix check one two get ready uh huh ima...</td>\n",
       "    </tr>\n",
       "    <tr>\n",
       "      <th>35207</th>\n",
       "      <td>52542</td>\n",
       "      <td>Prince</td>\n",
       "      <td>Come here, baby \\r\\nCome and get your come on\\...</td>\n",
       "      <td>One Kiss at a Time</td>\n",
       "      <td>0.173</td>\n",
       "      <td>R&amp;B</td>\n",
       "      <td>come baby come get come oh see wanted one kiss...</td>\n",
       "    </tr>\n",
       "    <tr>\n",
       "      <th>50914</th>\n",
       "      <td>88062</td>\n",
       "      <td>Smokie Norful</td>\n",
       "      <td>You know  I was looking at the conditon of the...</td>\n",
       "      <td>Same Sad Song</td>\n",
       "      <td>0.450</td>\n",
       "      <td>R&amp;B</td>\n",
       "      <td>know looking conditon world thee day seems the...</td>\n",
       "    </tr>\n",
       "    <tr>\n",
       "      <th>43067</th>\n",
       "      <td>156368</td>\n",
       "      <td>Jaheim</td>\n",
       "      <td>Forever\\nThe love I have for you will last\\nFo...</td>\n",
       "      <td>Forever</td>\n",
       "      <td>0.203</td>\n",
       "      <td>R&amp;B</td>\n",
       "      <td>forever love last forever loving always foreve...</td>\n",
       "    </tr>\n",
       "    <tr>\n",
       "      <th>55933</th>\n",
       "      <td>67442</td>\n",
       "      <td>Patti LaBelle</td>\n",
       "      <td>We talk, it's always good\\r\\nSo much is alread...</td>\n",
       "      <td>Something More</td>\n",
       "      <td>0.334</td>\n",
       "      <td>R&amp;B</td>\n",
       "      <td>talk always good much already understood spend...</td>\n",
       "    </tr>\n",
       "    <tr>\n",
       "      <th>4369</th>\n",
       "      <td>4369</td>\n",
       "      <td>The Brothers Johnson</td>\n",
       "      <td>Light up the night\\r\\nBurn out the dark\\r\\nLet...</td>\n",
       "      <td>Light Up the Night</td>\n",
       "      <td>0.926</td>\n",
       "      <td>R&amp;B</td>\n",
       "      <td>light night burn dark lets set world fire ligh...</td>\n",
       "    </tr>\n",
       "    <tr>\n",
       "      <th>2515</th>\n",
       "      <td>2515</td>\n",
       "      <td>Little Walter</td>\n",
       "      <td>Blues with a feelin'\\nThat's what I have today...</td>\n",
       "      <td>Blues With a Feeling</td>\n",
       "      <td>0.647</td>\n",
       "      <td>R&amp;B</td>\n",
       "      <td>blues feelin thats today blues feelin thats to...</td>\n",
       "    </tr>\n",
       "    <tr>\n",
       "      <th>42244</th>\n",
       "      <td>91428</td>\n",
       "      <td>Justin Guarini</td>\n",
       "      <td>How much time has passed since you said goodby...</td>\n",
       "      <td>Condition of My Heart</td>\n",
       "      <td>0.394</td>\n",
       "      <td>R&amp;B</td>\n",
       "      <td>much time passed since said goodbye got messag...</td>\n",
       "    </tr>\n",
       "    <tr>\n",
       "      <th>56397</th>\n",
       "      <td>90876</td>\n",
       "      <td>The Temptations</td>\n",
       "      <td>No more water in the well, no more.\\r\\nNo more...</td>\n",
       "      <td>No More Water in the Well</td>\n",
       "      <td>0.916</td>\n",
       "      <td>R&amp;B</td>\n",
       "      <td>water well water well take love granted like w...</td>\n",
       "    </tr>\n",
       "    <tr>\n",
       "      <th>8016</th>\n",
       "      <td>8016</td>\n",
       "      <td>Ray Charles</td>\n",
       "      <td>Am I blue? Am I blue?\\r\\nAin't these tears\\r\\n...</td>\n",
       "      <td>Am I Blue</td>\n",
       "      <td>0.316</td>\n",
       "      <td>R&amp;B</td>\n",
       "      <td>blue blue aint tears eyes telling blue youll p...</td>\n",
       "    </tr>\n",
       "  </tbody>\n",
       "</table>\n",
       "</div>"
      ],
      "text/plain": [
       "      Unnamed: 0                artist  \\\n",
       "3227        3227                Jodeci   \n",
       "35207      52542                Prince   \n",
       "50914      88062         Smokie Norful   \n",
       "43067     156368                Jaheim   \n",
       "55933      67442         Patti LaBelle   \n",
       "4369        4369  The Brothers Johnson   \n",
       "2515        2515         Little Walter   \n",
       "42244      91428        Justin Guarini   \n",
       "56397      90876       The Temptations   \n",
       "8016        8016           Ray Charles   \n",
       "\n",
       "                                                     seq  \\\n",
       "3227   Miggity, mix check one, two get ready uh huh\\r...   \n",
       "35207  Come here, baby \\r\\nCome and get your come on\\...   \n",
       "50914  You know  I was looking at the conditon of the...   \n",
       "43067  Forever\\nThe love I have for you will last\\nFo...   \n",
       "55933  We talk, it's always good\\r\\nSo much is alread...   \n",
       "4369   Light up the night\\r\\nBurn out the dark\\r\\nLet...   \n",
       "2515   Blues with a feelin'\\nThat's what I have today...   \n",
       "42244  How much time has passed since you said goodby...   \n",
       "56397  No more water in the well, no more.\\r\\nNo more...   \n",
       "8016   Am I blue? Am I blue?\\r\\nAin't these tears\\r\\n...   \n",
       "\n",
       "                            song  label genre  \\\n",
       "3227                      Sweaty  0.404   R&B   \n",
       "35207         One Kiss at a Time  0.173   R&B   \n",
       "50914              Same Sad Song  0.450   R&B   \n",
       "43067                    Forever  0.203   R&B   \n",
       "55933             Something More  0.334   R&B   \n",
       "4369          Light Up the Night  0.926   R&B   \n",
       "2515        Blues With a Feeling  0.647   R&B   \n",
       "42244      Condition of My Heart  0.394   R&B   \n",
       "56397  No More Water in the Well  0.916   R&B   \n",
       "8016                   Am I Blue  0.316   R&B   \n",
       "\n",
       "                                               seq_clean  \n",
       "3227   miggity mix check one two get ready uh huh ima...  \n",
       "35207  come baby come get come oh see wanted one kiss...  \n",
       "50914  know looking conditon world thee day seems the...  \n",
       "43067  forever love last forever loving always foreve...  \n",
       "55933  talk always good much already understood spend...  \n",
       "4369   light night burn dark lets set world fire ligh...  \n",
       "2515   blues feelin thats today blues feelin thats to...  \n",
       "42244  much time passed since said goodbye got messag...  \n",
       "56397  water well water well take love granted like w...  \n",
       "8016   blue blue aint tears eyes telling blue youll p...  "
      ]
     },
     "execution_count": 99,
     "metadata": {},
     "output_type": "execute_result"
    }
   ],
   "source": [
    "# sampling from the dataframe, k is the # of samples from each genre\n",
    "\n",
    "df_sampled = genre_sample(df, k=500)\n",
    "print(df_sampled.shape)\n",
    "df_sampled.head(10)"
   ]
  },
  {
   "cell_type": "code",
   "execution_count": 100,
   "metadata": {},
   "outputs": [
    {
     "data": {
      "text/plain": [
       "Rap        500\n",
       "Country    500\n",
       "Pop        500\n",
       "R&B        500\n",
       "Rock       500\n",
       "Name: genre, dtype: int64"
      ]
     },
     "execution_count": 100,
     "metadata": {},
     "output_type": "execute_result"
    }
   ],
   "source": [
    "#checking correct amounts of samples per genre were obtained\n",
    "\n",
    "df_sampled.genre.value_counts()"
   ]
  },
  {
   "cell_type": "code",
   "execution_count": 96,
   "metadata": {},
   "outputs": [
    {
     "data": {
      "text/plain": [
       "'cmon cmon yeah cmon yeah uh ooooooooooooh uh oh oh oh uh ooooooooooooh uh oh oh oh uh ooooooooooooh uh oh oh oh uh ooooooooooooh partys let know dont trippin see us club show little love represent side like cause round slick pick hot one ride shotgun couple em got one belvedere rear club pulled dubs bout go buy bar sure aint playin hang lames hit park sayin ay party girls way bacardi models models talkin know cant forget thugs party girls party club party partys youre let hear say uh ooooooooooooh uh oh oh oh uh ooooooooooooh uh oh oh oh uh ooooooooooooh uh oh oh oh uh ooooooooooooh partys youre let know girls club best outfits showin skin tryna make nigga wan na spit girl friend need come back got locked white tshirt threepiece suit dont matter wear matters jiggy straight grindin club good time ay party girls way bacardi models models talkin know cant forget thugs party girls party club party partys youre let hear say uh ooooooooooooh uh oh oh oh uh ooooooooooooh uh oh oh oh uh ooooooooooooh uh oh oh oh uh ooooooooooooh partys youre let know got tto show party dirty somewhere crackin right around onethirty never get done early come doorags tims im rollin past little jag benz rolls one stem one rims one seem make enemies friends im slidin past doors eyes closed arms rose charms froze soso de dot f im buyin bottles bottles aint none left im quick go left blaze rep jams def baby show club im like hey bacardi come mix cris baby whats wrong vip twisted right spliffed two way ooh makin like missed ay party girls way bacardi models models talkin know cant forget thugs party girls party club party partys youre let hear say uh ooooooooooooh uh oh oh oh uh ooooooooooooh uh oh oh oh uh ooooooooooooh uh oh oh oh uh ooooooooooooh partys youre let know uh ooooooooooooh uh oh oh oh uh ooooooooooooh uh oh oh oh uh ooooooooooooh uh oh oh oh partys youre let know left side put hands throw em right side put hands throw em everybody put hands throw em beat come back around erybody eastside run mutha ya hell yeah southside run mutha ya hell yeah haters aint hittin aint talkin bout us look like partys youre let hear say'"
      ]
     },
     "execution_count": 96,
     "metadata": {},
     "output_type": "execute_result"
    }
   ],
   "source": [
    "# obtaining lyrics from one row for observation. \n",
    "# was seeing gibberish text with the use of the stemming function \n",
    "\n",
    "df_text_sample= df_sampled['seq_clean']\n",
    "df_text_sample[47275]"
   ]
  },
  {
   "cell_type": "markdown",
   "metadata": {},
   "source": [
    "# Testing Regression Models for label prediction:\n",
    "label = float scale (0-1) which signifies valence \n",
    "\n"
   ]
  },
  {
   "cell_type": "markdown",
   "metadata": {},
   "source": [
    "## Random Forest Regressor\n",
    "\n",
    "to-do fine tuning:\n",
    "- try word3vec instead of TF-IDF\n"
   ]
  },
  {
   "cell_type": "markdown",
   "metadata": {},
   "source": [
    "### using the sampled dataset for faster testing"
   ]
  },
  {
   "cell_type": "code",
   "execution_count": 40,
   "metadata": {},
   "outputs": [],
   "source": [
    "X_sampled = df_sampled['seq_clean'].values\n",
    "\n",
    "y_sampled = df_sampled['label'].values"
   ]
  },
  {
   "cell_type": "code",
   "execution_count": 41,
   "metadata": {},
   "outputs": [],
   "source": [
    "X_train_sample, X_test_sample, y_train_sample, y_test_sample = train_test_split(X_sampled, y_sampled, \n",
    "                                                                             test_size=0.33, random_state=42)"
   ]
  },
  {
   "cell_type": "code",
   "execution_count": 42,
   "metadata": {},
   "outputs": [
    {
     "name": "stdout",
     "output_type": "stream",
     "text": [
      "(1675, 18822) <class 'scipy.sparse.csr.csr_matrix'>\n"
     ]
    }
   ],
   "source": [
    "vectorizer = TfidfVectorizer()\n",
    "vectorizer.fit(X_train_sample)\n",
    "\n",
    "X_train_sample = vectorizer.transform(X_train_sample)\n",
    "X_test_sample = vectorizer.transform(X_test_sample)\n",
    "\n",
    "print(X_train_sample.shape, type(X_train_sample))"
   ]
  },
  {
   "cell_type": "code",
   "execution_count": 68,
   "metadata": {},
   "outputs": [],
   "source": [
    "# function to find the best parameters for RandomForestRegressor\n",
    "\n",
    "param_grid = {'n_estimators': [10, 50, 100, 500, 1000], \n",
    "              'bootstrap': [True, False],\n",
    "             }\n",
    "\n",
    "# there are more parameters to test but I was getting errors and need to investigate more\n",
    "\n",
    "# param_grid = {'criterion': ['squared_error', 'absolute_error', 'poisson'],\n",
    "#               'n_estimators': [10, 50, 100, 500, 1000], \n",
    "#               'max_depth': [2, 4, 8, 16, 32, 64], \n",
    "#               'min_samples_leaf': [1, 10, 25, 50],\n",
    "#               'bootstrap': [True, False],\n",
    "#               'min_samples_split': [0, 2, 4, 8, 16, 32]\n",
    "#              }"
   ]
  },
  {
   "cell_type": "code",
   "execution_count": 69,
   "metadata": {},
   "outputs": [
    {
     "name": "stdout",
     "output_type": "stream",
     "text": [
      "Running Grid Search...\n",
      "Done\n"
     ]
    }
   ],
   "source": [
    "print('Running Grid Search...')\n",
    "\n",
    "# 1. Create a RandomForestRegressor model object without supplying arguments. \n",
    "\n",
    "rf_regressor = RandomForestRegressor()\n",
    "\n",
    "# 2. Run a Grid Search with 3-fold cross-validation and assign the output to the object 'rf_grid'.\n",
    "#    * Pass the model and the parameter grid to GridSearchCV()\n",
    "#    * Set the number of folds to 3\n",
    "#    * Specify the scoring method\n",
    "\n",
    "rf_grid = GridSearchCV(estimator=rf_regressor, param_grid = param_grid, cv=3, scoring='r2')\n",
    "\n",
    "# 3. Fit the model (use the 'grid' variable) on the training data and assign the fitted model to the \n",
    "#    variable 'rf_grid_search'\n",
    "\n",
    "rf_grid_search = rf_grid.fit(X_train_sample, y_train_sample)\n",
    "\n",
    "\n",
    "print('Done')"
   ]
  },
  {
   "cell_type": "code",
   "execution_count": 75,
   "metadata": {},
   "outputs": [
    {
     "name": "stdout",
     "output_type": "stream",
     "text": [
      "The best score is:  0.05717528295973725\n",
      "The best params is:  {'bootstrap': True, 'n_estimators': 1000}\n"
     ]
    }
   ],
   "source": [
    "# finding best parameters for the Random Forest Regressor\n",
    "\n",
    "best_score = rf_grid_search.best_score_\n",
    "print(\"The best score is: \", best_score)\n",
    "\n",
    "rf_best_params = rf_grid_search.best_params_\n",
    "print(\"The best params is: \", rf_best_params)\n"
   ]
  },
  {
   "cell_type": "code",
   "execution_count": 76,
   "metadata": {},
   "outputs": [
    {
     "data": {
      "text/plain": [
       "RandomForestRegressor(n_estimators=1000)"
      ]
     },
     "execution_count": 76,
     "metadata": {},
     "output_type": "execute_result"
    }
   ],
   "source": [
    "#Optimal Hyperparameters for RandomForestRegressor based on GridSearchCV\n",
    "\n",
    "rf_model = RandomForestRegressor(n_estimators=1000, bootstrap = True)\n",
    "\n",
    "# 2. Fit the model to the training data below\n",
    "rf_model.fit(X_train_sample, y_train_sample)"
   ]
  },
  {
   "cell_type": "code",
   "execution_count": 88,
   "metadata": {},
   "outputs": [
    {
     "name": "stdout",
     "output_type": "stream",
     "text": [
      "[RF] Mean Squared Error: 0.05222244210798196\n",
      "[RF] R2: 0.10795588207769391\n"
     ]
    }
   ],
   "source": [
    "y_sample_pred = rf_model.predict(X_test_sample)\n",
    "\n",
    "rf_mse = mean_squared_error(y_test_sample, y_sample_pred)\n",
    "rf_r2 = r2_score(y_test_sample, y_sample_pred)\n",
    "\n",
    "print('[RF] Mean Squared Error: {0}'.format(rf_mse))\n",
    "print('[RF] R2: {0}'.format(rf_r2))"
   ]
  },
  {
   "cell_type": "code",
   "execution_count": 91,
   "metadata": {},
   "outputs": [],
   "source": [
    "# Function to test the predictions of the model with NEW unseen text (not part of testing set)\n",
    "\n",
    "def rgrg_string_test(lyrics):\n",
    "    new_lyrics = text_processing_pipeline(lyrics)\n",
    "    print(\"the processed lyrics are: \", new_lyrics)\n",
    "    \n",
    "    new_text_vectorized = vectorizer.transform([new_lyrics])\n",
    "    \n",
    "    value = rf_model.predict(new_text_vectorized)\n",
    "    print(\"Random Forest Regressor model gives a value of: \", value)\n",
    "    if(value < .50):\n",
    "        print(\"which is negative\")\n",
    "    else: \n",
    "        print(\"which is positive\")"
   ]
  },
  {
   "cell_type": "code",
   "execution_count": 95,
   "metadata": {},
   "outputs": [
    {
     "name": "stdout",
     "output_type": "stream",
     "text": [
      "the processed lyrics are:  hit baby one time lonliness killing must confess still believe\n",
      "Random Forest Regressor model gives a value of:  [0.35903648]\n",
      "which is negative\n",
      "\n",
      "\n",
      "the processed lyrics are:  oh baby talk like make woman go mad wise keep reading signs body\n",
      "Random Forest Regressor model gives a value of:  [0.52304362]\n",
      "which is positive\n",
      "\n",
      "\n",
      "the processed lyrics are:  looking pouring rain used feel uninspired\n",
      "Random Forest Regressor model gives a value of:  [0.39058667]\n",
      "which is negative\n",
      "\n",
      "\n",
      "the processed lyrics are:  girl put record tell favorite song go ahead let hair\n",
      "Random Forest Regressor model gives a value of:  [0.52279909]\n",
      "which is positive\n"
     ]
    }
   ],
   "source": [
    "test_text1 = \"Hit me baby one more time my lonliness is killing me and I must confess I still believe\"\n",
    "test_text2 = \"Oh, baby, when you talk like that You make a woman go mad So be wise and keep on Reading the signs of my body\"\n",
    "test_text3 = \"looking out on the pouring rain I used to feel so uninspired\"\n",
    "test_text4 = \"Girl put your record on tell me your favorite song just go ahead let your hair down\"\n",
    "\n",
    "rgrg_string_test(test_text1)\n",
    "print('\\n')\n",
    "rgrg_string_test(test_text2)\n",
    "print('\\n')\n",
    "rgrg_string_test(test_text3)\n",
    "print('\\n')\n",
    "rgrg_string_test(test_text4)"
   ]
  },
  {
   "cell_type": "markdown",
   "metadata": {},
   "source": [
    "# Running Larger RF Test on 1687 samples from each Genre\n",
    "\n",
    "- to-do: break this testing out into a function instead of repeating code "
   ]
  },
  {
   "cell_type": "code",
   "execution_count": 101,
   "metadata": {},
   "outputs": [
    {
     "name": "stdout",
     "output_type": "stream",
     "text": [
      "(8435, 7)\n"
     ]
    },
    {
     "data": {
      "text/html": [
       "<div>\n",
       "<style scoped>\n",
       "    .dataframe tbody tr th:only-of-type {\n",
       "        vertical-align: middle;\n",
       "    }\n",
       "\n",
       "    .dataframe tbody tr th {\n",
       "        vertical-align: top;\n",
       "    }\n",
       "\n",
       "    .dataframe thead th {\n",
       "        text-align: right;\n",
       "    }\n",
       "</style>\n",
       "<table border=\"1\" class=\"dataframe\">\n",
       "  <thead>\n",
       "    <tr style=\"text-align: right;\">\n",
       "      <th></th>\n",
       "      <th>Unnamed: 0</th>\n",
       "      <th>artist</th>\n",
       "      <th>seq</th>\n",
       "      <th>song</th>\n",
       "      <th>label</th>\n",
       "      <th>genre</th>\n",
       "      <th>seq_clean</th>\n",
       "    </tr>\n",
       "  </thead>\n",
       "  <tbody>\n",
       "    <tr>\n",
       "      <th>51095</th>\n",
       "      <td>17518</td>\n",
       "      <td>Donna Summer</td>\n",
       "      <td>Here I am on my own again\\nThe days rush by\\nT...</td>\n",
       "      <td>On My Honor</td>\n",
       "      <td>0.156</td>\n",
       "      <td>R&amp;B</td>\n",
       "      <td>days rush nights seems slow guess ive let way ...</td>\n",
       "    </tr>\n",
       "    <tr>\n",
       "      <th>43146</th>\n",
       "      <td>156269</td>\n",
       "      <td>Jagged Edge</td>\n",
       "      <td>[JD (JE)]\\r\\n(Girl I got it)\\r\\nShake, shake i...</td>\n",
       "      <td>I Got It</td>\n",
       "      <td>0.881</td>\n",
       "      <td>R&amp;B</td>\n",
       "      <td>jd je girl got shake shake baby shake shake sh...</td>\n",
       "    </tr>\n",
       "    <tr>\n",
       "      <th>9224</th>\n",
       "      <td>144417</td>\n",
       "      <td>Freddie Hubbard</td>\n",
       "      <td>Skylark\\r\\nHave you anything to say to me?\\r\\n...</td>\n",
       "      <td>Skylark</td>\n",
       "      <td>0.103</td>\n",
       "      <td>R&amp;B</td>\n",
       "      <td>skylark anything say wont tell love meadow mis...</td>\n",
       "    </tr>\n",
       "    <tr>\n",
       "      <th>38011</th>\n",
       "      <td>42985</td>\n",
       "      <td>T-Pain</td>\n",
       "      <td>I-I-I'm back!\\nFreaknik's back baby!\\n\\nWhat's...</td>\n",
       "      <td>Freaknik Is Back</td>\n",
       "      <td>0.319</td>\n",
       "      <td>R&amp;B</td>\n",
       "      <td>iiim back freakniks back baby whats happen mo ...</td>\n",
       "    </tr>\n",
       "    <tr>\n",
       "      <th>20314</th>\n",
       "      <td>134197</td>\n",
       "      <td>Sky</td>\n",
       "      <td>Cause I just\\r\\nCause I just\\r\\nCould you be h...</td>\n",
       "      <td>Push</td>\n",
       "      <td>0.269</td>\n",
       "      <td>R&amp;B</td>\n",
       "      <td>cause cause could holding something maybe im y...</td>\n",
       "    </tr>\n",
       "    <tr>\n",
       "      <th>31346</th>\n",
       "      <td>156280</td>\n",
       "      <td>Jagged Edge</td>\n",
       "      <td>I see you sitting there\\r\\nLooking like you gl...</td>\n",
       "      <td>Dance Floor</td>\n",
       "      <td>0.737</td>\n",
       "      <td>R&amp;B</td>\n",
       "      <td>see sitting looking like glued chair party goi...</td>\n",
       "    </tr>\n",
       "    <tr>\n",
       "      <th>49569</th>\n",
       "      <td>70519</td>\n",
       "      <td>Ray J</td>\n",
       "      <td>Is a precious lil girl n such a pretty lil gir...</td>\n",
       "      <td>Sex in the Rain</td>\n",
       "      <td>0.614</td>\n",
       "      <td>R&amp;B</td>\n",
       "      <td>precious lil girl n pretty lil girl shes grown...</td>\n",
       "    </tr>\n",
       "    <tr>\n",
       "      <th>9933</th>\n",
       "      <td>35772</td>\n",
       "      <td>Otis Redding</td>\n",
       "      <td>I want to thank you for being so nice now \\r\\n...</td>\n",
       "      <td>I Want to Thank You</td>\n",
       "      <td>0.961</td>\n",
       "      <td>R&amp;B</td>\n",
       "      <td>want thank nice want thank giving pride sweet ...</td>\n",
       "    </tr>\n",
       "    <tr>\n",
       "      <th>12183</th>\n",
       "      <td>120461</td>\n",
       "      <td>Tory Lanez</td>\n",
       "      <td>Staring, looking at you from a long way\\r\\nPas...</td>\n",
       "      <td>High</td>\n",
       "      <td>0.387</td>\n",
       "      <td>R&amp;B</td>\n",
       "      <td>staring looking long way passing ceilings keep...</td>\n",
       "    </tr>\n",
       "    <tr>\n",
       "      <th>32704</th>\n",
       "      <td>26366</td>\n",
       "      <td>Leonard Cohen</td>\n",
       "      <td>When it all went down\\r\\nAnd the pain came thr...</td>\n",
       "      <td>There for You</td>\n",
       "      <td>0.702</td>\n",
       "      <td>R&amp;B</td>\n",
       "      <td>went pain came get dont ask know true get make...</td>\n",
       "    </tr>\n",
       "  </tbody>\n",
       "</table>\n",
       "</div>"
      ],
      "text/plain": [
       "      Unnamed: 0           artist  \\\n",
       "51095      17518     Donna Summer   \n",
       "43146     156269      Jagged Edge   \n",
       "9224      144417  Freddie Hubbard   \n",
       "38011      42985           T-Pain   \n",
       "20314     134197              Sky   \n",
       "31346     156280      Jagged Edge   \n",
       "49569      70519            Ray J   \n",
       "9933       35772     Otis Redding   \n",
       "12183     120461       Tory Lanez   \n",
       "32704      26366    Leonard Cohen   \n",
       "\n",
       "                                                     seq                 song  \\\n",
       "51095  Here I am on my own again\\nThe days rush by\\nT...          On My Honor   \n",
       "43146  [JD (JE)]\\r\\n(Girl I got it)\\r\\nShake, shake i...             I Got It   \n",
       "9224   Skylark\\r\\nHave you anything to say to me?\\r\\n...              Skylark   \n",
       "38011  I-I-I'm back!\\nFreaknik's back baby!\\n\\nWhat's...     Freaknik Is Back   \n",
       "20314  Cause I just\\r\\nCause I just\\r\\nCould you be h...                 Push   \n",
       "31346  I see you sitting there\\r\\nLooking like you gl...          Dance Floor   \n",
       "49569  Is a precious lil girl n such a pretty lil gir...      Sex in the Rain   \n",
       "9933   I want to thank you for being so nice now \\r\\n...  I Want to Thank You   \n",
       "12183  Staring, looking at you from a long way\\r\\nPas...                 High   \n",
       "32704  When it all went down\\r\\nAnd the pain came thr...        There for You   \n",
       "\n",
       "       label genre                                          seq_clean  \n",
       "51095  0.156   R&B  days rush nights seems slow guess ive let way ...  \n",
       "43146  0.881   R&B  jd je girl got shake shake baby shake shake sh...  \n",
       "9224   0.103   R&B  skylark anything say wont tell love meadow mis...  \n",
       "38011  0.319   R&B  iiim back freakniks back baby whats happen mo ...  \n",
       "20314  0.269   R&B  cause cause could holding something maybe im y...  \n",
       "31346  0.737   R&B  see sitting looking like glued chair party goi...  \n",
       "49569  0.614   R&B  precious lil girl n pretty lil girl shes grown...  \n",
       "9933   0.961   R&B  want thank nice want thank giving pride sweet ...  \n",
       "12183  0.387   R&B  staring looking long way passing ceilings keep...  \n",
       "32704  0.702   R&B  went pain came get dont ask know true get make...  "
      ]
     },
     "execution_count": 101,
     "metadata": {},
     "output_type": "execute_result"
    }
   ],
   "source": [
    "# sampling from the dataframe, k is 1687 which is the max number of samples from R&B the smallest Genre pool \n",
    "\n",
    "df_sampled2 = genre_sample(df, k=1687)\n",
    "print(df_sampled2.shape)\n",
    "df_sampled2.head(10)"
   ]
  },
  {
   "cell_type": "code",
   "execution_count": 102,
   "metadata": {},
   "outputs": [
    {
     "data": {
      "text/plain": [
       "Rap        1687\n",
       "R&B        1687\n",
       "Country    1687\n",
       "Pop        1687\n",
       "Rock       1687\n",
       "Name: genre, dtype: int64"
      ]
     },
     "execution_count": 102,
     "metadata": {},
     "output_type": "execute_result"
    }
   ],
   "source": [
    "#checking correct amounts of samples per genre were obtained\n",
    "\n",
    "df_sampled2.genre.value_counts()"
   ]
  },
  {
   "cell_type": "code",
   "execution_count": 103,
   "metadata": {},
   "outputs": [],
   "source": [
    "X_sampled2 = df_sampled2['seq_clean'].values\n",
    "\n",
    "y_sampled2 = df_sampled2['label'].values"
   ]
  },
  {
   "cell_type": "code",
   "execution_count": 104,
   "metadata": {},
   "outputs": [],
   "source": [
    "X_train_sample2, X_test_sample2, y_train_sample2, y_test_sample2 = train_test_split(X_sampled2, y_sampled2, \n",
    "                                                                             test_size=0.33, random_state=42)"
   ]
  },
  {
   "cell_type": "code",
   "execution_count": 105,
   "metadata": {},
   "outputs": [
    {
     "name": "stdout",
     "output_type": "stream",
     "text": [
      "(5651, 35571) <class 'scipy.sparse.csr.csr_matrix'>\n"
     ]
    }
   ],
   "source": [
    "vectorizer2 = TfidfVectorizer()\n",
    "vectorizer2.fit(X_train_sample2)\n",
    "\n",
    "X_train_sample2 = vectorizer2.transform(X_train_sample2)\n",
    "X_test_sample2 = vectorizer2.transform(X_test_sample2)\n",
    "\n",
    "print(X_train_sample2.shape, type(X_train_sample2))"
   ]
  },
  {
   "cell_type": "code",
   "execution_count": 106,
   "metadata": {},
   "outputs": [
    {
     "data": {
      "text/plain": [
       "RandomForestRegressor(n_estimators=1000)"
      ]
     },
     "execution_count": 106,
     "metadata": {},
     "output_type": "execute_result"
    }
   ],
   "source": [
    "#Optimal Hyperparameters for RandomForestRegressor based on GridSearchCV\n",
    "\n",
    "rf_model2 = RandomForestRegressor(n_estimators=1000, bootstrap = True)\n",
    "\n",
    "# 2. Fit the model to the training data below\n",
    "rf_model2.fit(X_train_sample2, y_train_sample2)"
   ]
  },
  {
   "cell_type": "code",
   "execution_count": 112,
   "metadata": {},
   "outputs": [
    {
     "name": "stdout",
     "output_type": "stream",
     "text": [
      "[RF] Mean Squared Error: 0.05101035414841959\n",
      "[RF] R2: 0.1205852034338123\n"
     ]
    }
   ],
   "source": [
    "y_sample_pred2 = rf_model2.predict(X_test_sample2)\n",
    "y_sample_pred2\n",
    "\n",
    "rf_mse2 = mean_squared_error(y_test_sample2, y_sample_pred2)\n",
    "rf_r2_2 = r2_score(y_test_sample2, y_sample_pred2)\n",
    "\n",
    "print('[RF] Mean Squared Error: {0}'.format(rf_mse2))\n",
    "print('[RF] R2: {0}'.format(rf_r2_2))"
   ]
  },
  {
   "cell_type": "markdown",
   "metadata": {},
   "source": [
    "# conclusion on tesing Random Forest Regressors\n",
    "\n",
    "Not much gained or lost from increase in sample size. \n",
    "R2 error increased by .02 which is not too significant \n",
    "\n",
    "on sample size 500/genre:\n",
    "- [RF] Mean Squared Error: 0.05222244210798196\n",
    "- [RF] R2: 0.10795588207769391\n",
    "\n",
    "on sample size 1687/genre:\n",
    "- [RF] Mean Squared Error: 0.05101035414841959\n",
    "- [RF] R2: 0.1205852034338123"
   ]
  },
  {
   "cell_type": "markdown",
   "metadata": {},
   "source": [
    "# To-Do: Run RF Test on Full Data Set "
   ]
  },
  {
   "cell_type": "code",
   "execution_count": 32,
   "metadata": {},
   "outputs": [],
   "source": [
    "# Split our data into testing and training like always. \n",
    "X_train, X_test, y_train, y_test = train_test_split(\n",
    "    X, y, test_size=0.33, random_state=42)\n",
    "\n",
    "\n",
    "# Save the raw text for later just incase\n",
    "X_train_text = X_train\n",
    "X_test_text = X_test"
   ]
  },
  {
   "cell_type": "code",
   "execution_count": 33,
   "metadata": {},
   "outputs": [
    {
     "name": "stdout",
     "output_type": "stream",
     "text": [
      "(24773, 66588) <class 'numpy.ndarray'>\n",
      "<class 'scipy.sparse.csr.csr_matrix'>\n"
     ]
    }
   ],
   "source": [
    "# Initialize our vectorizer\n",
    "vectorizer = TfidfVectorizer()\n",
    "\n",
    "# 3. Fit your vectorizer using your X data\n",
    "# This makes your vocab matrix\n",
    "vectorizer.fit(X_train)\n",
    "\n",
    "# 4. Transform your X data using your fitted vectorizer. \n",
    "# This transforms your documents into vectors.\n",
    "X_train = vectorizer.transform(X_train)\n",
    "X_test = vectorizer.transform(X_test)\n",
    "\n",
    "print(X_train.shape, type(X))\n",
    "print(type(X_train))"
   ]
  },
  {
   "cell_type": "code",
   "execution_count": null,
   "metadata": {},
   "outputs": [],
   "source": [
    "# ... to do overnight "
   ]
  },
  {
   "cell_type": "code",
   "execution_count": null,
   "metadata": {},
   "outputs": [],
   "source": [
    "# ..."
   ]
  },
  {
   "cell_type": "markdown",
   "metadata": {},
   "source": [
    "# ... next to try Gradient Boosting Regressor\n",
    "Gradient boosting is a technique for repeatedly adding decision trees so that the next decision tree corrects the previous decision tree error."
   ]
  },
  {
   "cell_type": "code",
   "execution_count": 115,
   "metadata": {},
   "outputs": [
    {
     "name": "stdout",
     "output_type": "stream",
     "text": [
      "(2500, 7)\n"
     ]
    },
    {
     "data": {
      "text/html": [
       "<div>\n",
       "<style scoped>\n",
       "    .dataframe tbody tr th:only-of-type {\n",
       "        vertical-align: middle;\n",
       "    }\n",
       "\n",
       "    .dataframe tbody tr th {\n",
       "        vertical-align: top;\n",
       "    }\n",
       "\n",
       "    .dataframe thead th {\n",
       "        text-align: right;\n",
       "    }\n",
       "</style>\n",
       "<table border=\"1\" class=\"dataframe\">\n",
       "  <thead>\n",
       "    <tr style=\"text-align: right;\">\n",
       "      <th></th>\n",
       "      <th>Unnamed: 0</th>\n",
       "      <th>artist</th>\n",
       "      <th>seq</th>\n",
       "      <th>song</th>\n",
       "      <th>label</th>\n",
       "      <th>genre</th>\n",
       "      <th>seq_clean</th>\n",
       "    </tr>\n",
       "  </thead>\n",
       "  <tbody>\n",
       "    <tr>\n",
       "      <th>54843</th>\n",
       "      <td>13166</td>\n",
       "      <td>Prince</td>\n",
       "      <td>Open your heart, open your mind\\r\\nA train is ...</td>\n",
       "      <td>Around the World in a Day</td>\n",
       "      <td>0.5940</td>\n",
       "      <td>R&amp;B</td>\n",
       "      <td>open heart open mind train leaving day wonderf...</td>\n",
       "    </tr>\n",
       "    <tr>\n",
       "      <th>18050</th>\n",
       "      <td>35787</td>\n",
       "      <td>Otis Redding</td>\n",
       "      <td>I know you told me, long time ago\\r\\nThat you ...</td>\n",
       "      <td>A Fool for You</td>\n",
       "      <td>0.5110</td>\n",
       "      <td>R&amp;B</td>\n",
       "      <td>know told long time ago didnt want yeah didnt ...</td>\n",
       "    </tr>\n",
       "    <tr>\n",
       "      <th>22612</th>\n",
       "      <td>112277</td>\n",
       "      <td>New Edition</td>\n",
       "      <td>In our world all things must change\\r\\nJust as...</td>\n",
       "      <td>Introduction</td>\n",
       "      <td>0.0783</td>\n",
       "      <td>R&amp;B</td>\n",
       "      <td>world things must change new edition rearrange...</td>\n",
       "    </tr>\n",
       "    <tr>\n",
       "      <th>41476</th>\n",
       "      <td>46953</td>\n",
       "      <td>Faith Evans</td>\n",
       "      <td>Oh woh hoh, oh woh\\r\\nDoo doo doo doo, doo doo...</td>\n",
       "      <td>Maybe</td>\n",
       "      <td>0.6050</td>\n",
       "      <td>R&amp;B</td>\n",
       "      <td>oh woh hoh oh woh doo doo doo doo doo doo doo ...</td>\n",
       "    </tr>\n",
       "    <tr>\n",
       "      <th>55742</th>\n",
       "      <td>114539</td>\n",
       "      <td>Kem</td>\n",
       "      <td>Yesterday I missed you sad\\nAnd today I miss y...</td>\n",
       "      <td>Miss You</td>\n",
       "      <td>0.3430</td>\n",
       "      <td>R&amp;B</td>\n",
       "      <td>yesterday missed sad today miss bad baby miss ...</td>\n",
       "    </tr>\n",
       "    <tr>\n",
       "      <th>39475</th>\n",
       "      <td>113690</td>\n",
       "      <td>K-Ci &amp; JoJo</td>\n",
       "      <td>Let's make love tonight, I'm in the mood to ma...</td>\n",
       "      <td>Honest Lover</td>\n",
       "      <td>0.3150</td>\n",
       "      <td>R&amp;B</td>\n",
       "      <td>lets make love tonight im mood make love repea...</td>\n",
       "    </tr>\n",
       "    <tr>\n",
       "      <th>50388</th>\n",
       "      <td>84260</td>\n",
       "      <td>Tina Turner</td>\n",
       "      <td>When I was younger, so much younger than today...</td>\n",
       "      <td>Help</td>\n",
       "      <td>0.3830</td>\n",
       "      <td>R&amp;B</td>\n",
       "      <td>younger much younger today yeah never needed a...</td>\n",
       "    </tr>\n",
       "    <tr>\n",
       "      <th>38240</th>\n",
       "      <td>50803</td>\n",
       "      <td>Carla Thomas</td>\n",
       "      <td>I look at the mountain\\r\\nI look at the sun\\r\\...</td>\n",
       "      <td>A Love of My Own</td>\n",
       "      <td>0.4350</td>\n",
       "      <td>R&amp;B</td>\n",
       "      <td>look mountain look sun look everything mother ...</td>\n",
       "    </tr>\n",
       "    <tr>\n",
       "      <th>8296</th>\n",
       "      <td>8296</td>\n",
       "      <td>Brian McKnight</td>\n",
       "      <td>Tell, tell me it isn't so\\r\\nYou say you have ...</td>\n",
       "      <td>Kiss Your Love Goodbye</td>\n",
       "      <td>0.1440</td>\n",
       "      <td>R&amp;B</td>\n",
       "      <td>tell tell isnt say reasons leaving go watch tu...</td>\n",
       "    </tr>\n",
       "    <tr>\n",
       "      <th>50828</th>\n",
       "      <td>99900</td>\n",
       "      <td>Raheem DeVaughn</td>\n",
       "      <td>Bliss, magnificent, orgasmic\\r\\nLove can be al...</td>\n",
       "      <td>Complicated</td>\n",
       "      <td>0.4750</td>\n",
       "      <td>R&amp;B</td>\n",
       "      <td>bliss magnificent orgasmic love things say mak...</td>\n",
       "    </tr>\n",
       "  </tbody>\n",
       "</table>\n",
       "</div>"
      ],
      "text/plain": [
       "      Unnamed: 0           artist  \\\n",
       "54843      13166           Prince   \n",
       "18050      35787     Otis Redding   \n",
       "22612     112277      New Edition   \n",
       "41476      46953      Faith Evans   \n",
       "55742     114539              Kem   \n",
       "39475     113690      K-Ci & JoJo   \n",
       "50388      84260      Tina Turner   \n",
       "38240      50803     Carla Thomas   \n",
       "8296        8296   Brian McKnight   \n",
       "50828      99900  Raheem DeVaughn   \n",
       "\n",
       "                                                     seq  \\\n",
       "54843  Open your heart, open your mind\\r\\nA train is ...   \n",
       "18050  I know you told me, long time ago\\r\\nThat you ...   \n",
       "22612  In our world all things must change\\r\\nJust as...   \n",
       "41476  Oh woh hoh, oh woh\\r\\nDoo doo doo doo, doo doo...   \n",
       "55742  Yesterday I missed you sad\\nAnd today I miss y...   \n",
       "39475  Let's make love tonight, I'm in the mood to ma...   \n",
       "50388  When I was younger, so much younger than today...   \n",
       "38240  I look at the mountain\\r\\nI look at the sun\\r\\...   \n",
       "8296   Tell, tell me it isn't so\\r\\nYou say you have ...   \n",
       "50828  Bliss, magnificent, orgasmic\\r\\nLove can be al...   \n",
       "\n",
       "                            song   label genre  \\\n",
       "54843  Around the World in a Day  0.5940   R&B   \n",
       "18050             A Fool for You  0.5110   R&B   \n",
       "22612               Introduction  0.0783   R&B   \n",
       "41476                      Maybe  0.6050   R&B   \n",
       "55742                   Miss You  0.3430   R&B   \n",
       "39475               Honest Lover  0.3150   R&B   \n",
       "50388                       Help  0.3830   R&B   \n",
       "38240           A Love of My Own  0.4350   R&B   \n",
       "8296      Kiss Your Love Goodbye  0.1440   R&B   \n",
       "50828                Complicated  0.4750   R&B   \n",
       "\n",
       "                                               seq_clean  \n",
       "54843  open heart open mind train leaving day wonderf...  \n",
       "18050  know told long time ago didnt want yeah didnt ...  \n",
       "22612  world things must change new edition rearrange...  \n",
       "41476  oh woh hoh oh woh doo doo doo doo doo doo doo ...  \n",
       "55742  yesterday missed sad today miss bad baby miss ...  \n",
       "39475  lets make love tonight im mood make love repea...  \n",
       "50388  younger much younger today yeah never needed a...  \n",
       "38240  look mountain look sun look everything mother ...  \n",
       "8296   tell tell isnt say reasons leaving go watch tu...  \n",
       "50828  bliss magnificent orgasmic love things say mak...  "
      ]
     },
     "execution_count": 115,
     "metadata": {},
     "output_type": "execute_result"
    }
   ],
   "source": [
    "# sampling from the dataframe, k is the # of samples from each genre\n",
    "\n",
    "df_sampled3 = genre_sample(df, k=500)\n",
    "print(df_sampled3.shape)\n",
    "df_sampled3.head(10)\n"
   ]
  },
  {
   "cell_type": "code",
   "execution_count": 116,
   "metadata": {},
   "outputs": [
    {
     "data": {
      "text/plain": [
       "Rap        500\n",
       "Country    500\n",
       "Pop        500\n",
       "R&B        500\n",
       "Rock       500\n",
       "Name: genre, dtype: int64"
      ]
     },
     "execution_count": 116,
     "metadata": {},
     "output_type": "execute_result"
    }
   ],
   "source": [
    "#checking correct amounts of samples per genre were obtained\n",
    "df_sampled3.genre.value_counts()"
   ]
  },
  {
   "cell_type": "code",
   "execution_count": 118,
   "metadata": {},
   "outputs": [
    {
     "data": {
      "text/plain": [
       "'tell tell isnt say reasons leaving go watch turn walk away im searching find right words say hoping praying youll stay chorus ill kiss love goodbye guess wasnt meant gave youve tried see love caught eye went blind makes cry thing kiss love goodbye look deep inside find went wrong girl cause youll still gone oh ive tried though gave best determined leave theres nothing guess none dreams wont come true chorus wont ask wont ask give back pride cause time mend heart youve broken baby ill let go though love ill find way kiss love goodbye chorus guess wasnt meant gave youve tried see love caught eye went blind makes cry thing kiss love kiss love kiss love goodbye goodbye'"
      ]
     },
     "execution_count": 118,
     "metadata": {},
     "output_type": "execute_result"
    }
   ],
   "source": [
    "# obtaining lyrics from one row for observation.\n",
    "# was seeing gibberish text with the use of the stemming function\n",
    "\n",
    "df_text_sample3 = df_sampled3['seq_clean']\n",
    "df_text_sample3[8296]"
   ]
  },
  {
   "cell_type": "code",
   "execution_count": 119,
   "metadata": {},
   "outputs": [],
   "source": [
    "X_sampled3 = df_sampled3['seq_clean'].values\n",
    "y_sampled3 = df_sampled3['label'].values"
   ]
  },
  {
   "cell_type": "code",
   "execution_count": 120,
   "metadata": {},
   "outputs": [],
   "source": [
    "X_train_sample3, X_test_sample3, y_train_sample3, y_test_sample3 = train_test_split(X_sampled3, y_sampled3, \n",
    "                                                                                    test_size=0.33, random_state=42)"
   ]
  },
  {
   "cell_type": "code",
   "execution_count": 121,
   "metadata": {},
   "outputs": [
    {
     "name": "stdout",
     "output_type": "stream",
     "text": [
      "(1675, 19015) <class 'scipy.sparse.csr.csr_matrix'>\n"
     ]
    }
   ],
   "source": [
    "vectorizer3 = TfidfVectorizer()\n",
    "vectorizer3.fit(X_train_sample3)\n",
    "\n",
    "X_train_sample3 = vectorizer3.transform(X_train_sample3)\n",
    "X_test_sample3 = vectorizer3.transform(X_test_sample3)\n",
    "\n",
    "print(X_train_sample3.shape, type(X_train_sample3))"
   ]
  },
  {
   "cell_type": "code",
   "execution_count": 122,
   "metadata": {},
   "outputs": [],
   "source": [
    "gb = GradientBoostingRegressor()"
   ]
  },
  {
   "cell_type": "code",
   "execution_count": 123,
   "metadata": {},
   "outputs": [
    {
     "data": {
      "text/plain": [
       "GradientBoostingRegressor()"
      ]
     },
     "execution_count": 123,
     "metadata": {},
     "output_type": "execute_result"
    }
   ],
   "source": [
    "gb.fit(X_train_sample3, y_train_sample3)"
   ]
  },
  {
   "cell_type": "code",
   "execution_count": 125,
   "metadata": {},
   "outputs": [],
   "source": [
    "y_pred_sample3 = gb.predict(X_test_sample3)"
   ]
  },
  {
   "cell_type": "code",
   "execution_count": 126,
   "metadata": {},
   "outputs": [
    {
     "name": "stdout",
     "output_type": "stream",
     "text": [
      "For a sample size of 500 and NO hyperparameter tuning:\n",
      "[GB] Mean Squared Error: 0.05567842687302583\n",
      "[GB] R2: 0.1025863627581386\n",
      "\n",
      " Gradient Boosting Regressor produces same MSE as Random Forest but r2 has improved by .05\n"
     ]
    }
   ],
   "source": [
    "gb_mse = mean_squared_error(y_test_sample3, y_pred_sample3)\n",
    "gb_r2 = r2_score(y_test_sample3, y_pred_sample3)\n",
    "\n",
    "print('For a sample size of 500 and NO hyperparameter tuning:')\n",
    "print('[GB] Mean Squared Error: {0}'.format(gb_mse))\n",
    "print('[GB] R2: {0}'.format(gb_r2))\n",
    "print(\"\\n Gradient Boosting Regressor produces same MSE as Random Forest but r2 has improved by .05\")"
   ]
  },
  {
   "cell_type": "markdown",
   "metadata": {},
   "source": [
    "### Hyperparameter Tuning of Gradiet Boosting Regressor with GridSearchCV\n",
    "- need to run overnight"
   ]
  },
  {
   "cell_type": "code",
   "execution_count": 124,
   "metadata": {},
   "outputs": [],
   "source": [
    "gb_param_grid= {'n_estimators': [100, 1000, 1500],\n",
    "                'learning_rate' : [0.1, 0.3, 0.5],\n",
    "                'max_depth': [3, 8, 16, 32]\n",
    "                }"
   ]
  },
  {
   "cell_type": "code",
   "execution_count": null,
   "metadata": {},
   "outputs": [],
   "source": [
    "print(\"Running Grid Search ... \")\n",
    "\n",
    "gb_regressor = GradientBoostingRegressor()\n",
    "\n",
    "gb_grid = GridSearchCV(estimator = gb_regressor, param_grid= gb_param_grid, cv=3, scoring= 'r2')\n",
    "\n",
    "print(\"Running the fit..\")\n",
    "\n",
    "gb_grid_search = gb_grid.fit(X_train_sample3, y_train_sample3)\n",
    "\n",
    "print(\"Done.\")\n",
    "\n",
    "best_score3 = gb_grid_search.best_score_\n",
    "print(\"The best score is: \", best_score3)\n",
    "\n",
    "gb_best_params = gb_grid_search.best_params_\n",
    "print(\"The best parameters are: \", gb_best_params)"
   ]
  },
  {
   "cell_type": "code",
   "execution_count": null,
   "metadata": {},
   "outputs": [],
   "source": []
  },
  {
   "cell_type": "code",
   "execution_count": null,
   "metadata": {},
   "outputs": [],
   "source": []
  },
  {
   "cell_type": "code",
   "execution_count": null,
   "metadata": {},
   "outputs": [],
   "source": []
  },
  {
   "cell_type": "code",
   "execution_count": null,
   "metadata": {},
   "outputs": [],
   "source": [
    "#end of regressor testing and end of new material "
   ]
  },
  {
   "cell_type": "code",
   "execution_count": null,
   "metadata": {},
   "outputs": [],
   "source": [
    "#ignore everything below "
   ]
  },
  {
   "cell_type": "code",
   "execution_count": null,
   "metadata": {},
   "outputs": [],
   "source": []
  },
  {
   "cell_type": "code",
   "execution_count": null,
   "metadata": {},
   "outputs": [],
   "source": []
  },
  {
   "cell_type": "code",
   "execution_count": null,
   "metadata": {},
   "outputs": [],
   "source": []
  },
  {
   "cell_type": "code",
   "execution_count": null,
   "metadata": {},
   "outputs": [],
   "source": []
  },
  {
   "cell_type": "code",
   "execution_count": null,
   "metadata": {},
   "outputs": [],
   "source": []
  },
  {
   "cell_type": "code",
   "execution_count": null,
   "metadata": {},
   "outputs": [],
   "source": []
  },
  {
   "cell_type": "markdown",
   "metadata": {},
   "source": [
    "# Testing Classification Models for genre prediction:\n",
    "\n"
   ]
  },
  {
   "cell_type": "code",
   "execution_count": null,
   "metadata": {},
   "outputs": [],
   "source": [
    "X = df['seq_clean'].values\n",
    "y = df['genre'].values\n",
    "\n",
    "# Split our data into testing and training like always. \n",
    "X_train, X_test, y_train, y_test = train_test_split(\n",
    "    X, y, test_size=0.2, random_state=42)\n",
    "\n",
    "\n",
    "# Save the raw text for later just incase\n",
    "X_train_text = X_train\n",
    "X_test_text = X_test\n",
    "\n",
    "# Initialize our vectorizer\n",
    "vectorizer = TfidfVectorizer()\n",
    "\n",
    "# 3. Fit your vectorizer using your X data\n",
    "# This makes your vocab matrix\n",
    "vectorizer.fit(X_train)\n",
    "\n",
    "# 4. Transform your X data using your fitted vectorizer. \n",
    "# This transforms your documents into vectors.\n",
    "X_train = vectorizer.transform(X_train)\n",
    "X_test = vectorizer.transform(X_test)\n",
    "\n",
    "# 5. Print the shape of your X.  53841 features (aka columns)\n",
    "print(X_train.shape, type(X))"
   ]
  },
  {
   "cell_type": "markdown",
   "metadata": {},
   "source": [
    "### Multinomial Naive Bayes"
   ]
  },
  {
   "cell_type": "code",
   "execution_count": null,
   "metadata": {},
   "outputs": [],
   "source": [
    "# Initalize our model.\n",
    "mnb = MultinomialNB(alpha=.05)\n",
    "\n",
    "# Fit our model with our training data.\n",
    "mnb.fit(X_train, y_train)\n",
    "\n",
    "# Make new predictions of our testing data. \n",
    "y_pred = mnb.predict(X_test)\n",
    "\n",
    "# Make predicted probabilites of our testing data\n",
    "y_pred_proba = mnb.predict_proba(X_test)\n",
    "\n",
    "# Evaluate our model\n",
    "accuracy =  mnb.score(X_test, y_test)\n",
    "\n",
    "# Print our evaluation metrics\n",
    "print(\"Model Accuracy: %f\" % accuracy)"
   ]
  },
  {
   "cell_type": "code",
   "execution_count": null,
   "metadata": {},
   "outputs": [],
   "source": [
    "print(classification_report(y_test, y_pred, target_names=mnb.classes_))"
   ]
  },
  {
   "cell_type": "code",
   "execution_count": null,
   "metadata": {},
   "outputs": [],
   "source": [
    "# Plot the confusion matrix of our results\n",
    "fig, ax = plt.subplots(figsize=(8, 8))\n",
    "\n",
    "disp = plot_confusion_matrix(mnb, X_test, y_test,\n",
    "                             display_labels=mnb.classes_,\n",
    "                             cmap=plt.cm.Blues, ax=ax)\n",
    "plt.xticks(rotation=90)\n",
    "disp"
   ]
  },
  {
   "cell_type": "markdown",
   "metadata": {},
   "source": [
    "### Random Forest Classifier"
   ]
  },
  {
   "cell_type": "code",
   "execution_count": null,
   "metadata": {},
   "outputs": [],
   "source": [
    "rf_model = RandomForestClassifier()\n",
    "\n",
    "# Fit our model with our training data.\n",
    "rf_model.fit(X_train, y_train)\n",
    "\n",
    "\n",
    "# Make new predictions of our testing data. \n",
    "y_pred = rf_model.predict(X_test)\n",
    "\n",
    "\n",
    "# Make predicted probabilites of our testing data\n",
    "y_pred_proba = rf_model.predict_proba(X_test)\n",
    "\n",
    "# Evaluate our model\n",
    "accuracy =  rf_model.score(X_test, y_test)\n",
    "\n",
    "# Print our evaluation metrics\n",
    "print(\"Model Accuracy: %f\" % accuracy)\n",
    "\n",
    "print(classification_report(y_test, y_pred, target_names=rf_model.classes_))"
   ]
  },
  {
   "cell_type": "code",
   "execution_count": null,
   "metadata": {},
   "outputs": [],
   "source": [
    "# Plot the confusion matrix of our results\n",
    "fig, ax = plt.subplots(figsize=(8, 8))\n",
    "\n",
    "disp = plot_confusion_matrix(rf_model, X_test, y_test,\n",
    "                             display_labels=rf_model.classes_,\n",
    "                             cmap=plt.cm.Blues, ax=ax)\n",
    "plt.xticks(rotation=90)\n",
    "disp"
   ]
  },
  {
   "cell_type": "markdown",
   "metadata": {},
   "source": [
    "# Observations:\n",
    "#### RF & MNB most confused:\n",
    "- Pop with Rock (~1500 to 1800)  \n",
    "- Pop with Country (~500)"
   ]
  },
  {
   "cell_type": "code",
   "execution_count": null,
   "metadata": {},
   "outputs": [],
   "source": [
    "# Models to test: RandomForest, DT, MultinomialNB, KNN\n"
   ]
  },
  {
   "cell_type": "markdown",
   "metadata": {},
   "source": [
    "### KNN "
   ]
  },
  {
   "cell_type": "code",
   "execution_count": null,
   "metadata": {},
   "outputs": [],
   "source": [
    "def train_test_knn(X_train, X_test, y_train, y_test, k):\n",
    "    '''\n",
    "    Fit a k Nearest Neighbors classifier to the training data X_train, y_train.\n",
    "    Return the accuracy of resulting predictions on the test data.\n",
    "    '''\n",
    "    \n",
    "    # 1. Create the  KNeighborsClassifier model object below and assign to variable 'model'\n",
    "    model = KNeighborsClassifier(n_neighbors = k)\n",
    "\n",
    "    # 2. Fit the model to the training data below\n",
    "    model.fit(X_train, y_train)\n",
    "    \n",
    "    # 3. Make predictions on the test data below and assign the result to the variable 'class_label_predictions'\n",
    "    class_label_predictions = model.predict(X_test)\n",
    "\n",
    "    # 4. Compute the accuracy here and save the result to the variable 'acc_score'\n",
    "    acc_score = accuracy_score(y_test, class_label_predictions)\n",
    "    \n",
    "    \n",
    "    return acc_score"
   ]
  },
  {
   "cell_type": "code",
   "execution_count": null,
   "metadata": {},
   "outputs": [],
   "source": [
    "k_values = [10, 100, 1000, 10000]\n",
    "\n",
    "acc1 = [] \n",
    "\n",
    "for k in k_values:\n",
    "    score = train_test_knn(X_train, X_test, y_train, y_test, k)\n",
    "    print('k=' + str(k) + ', accuracy score: ' + str(score))\n",
    "    acc1.append(float(score))\n",
    "  "
   ]
  },
  {
   "cell_type": "code",
   "execution_count": null,
   "metadata": {},
   "outputs": [],
   "source": [
    "knn = KNeighborsClassifier(n_neighbors = 100)\n",
    "knn.fit(X_train, y_train)\n",
    "y_pred = knn.predict(X_test)"
   ]
  },
  {
   "cell_type": "code",
   "execution_count": null,
   "metadata": {},
   "outputs": [],
   "source": [
    "print(classification_report(y_test, y_pred, target_names=knn.classes_))"
   ]
  },
  {
   "cell_type": "code",
   "execution_count": null,
   "metadata": {},
   "outputs": [],
   "source": [
    "# Trying to improve knn with KFold Cross Validation\n",
    "\n",
    "num_folds = 5\n",
    "folds = KFold(n_splits = num_folds, random_state=None)\n",
    "\n",
    "acc_scores = []\n",
    "\n",
    "for train_row_index, test_row_index in folds.split(X_train): \n",
    "    \n",
    "    # our new partition of X_train and X_val\n",
    "    X_train_new = X_train.iloc[train_row_index] # cannot use iloc because X_train is matrix not pandas object\n",
    "    X_val = X_train.iloc[test_row_index]\n",
    "    \n",
    "    # our new partition of y_train and y_val\n",
    "    y_train_new = y_train.iloc[train_row_index]\n",
    "    y_val = y_train.iloc[test_row_index]\n",
    "    \n",
    "    knn_model.fit(X_train_new, y_train_new)\n",
    "    predictions = knn_model.predict(X_val)\n",
    "     \n",
    "    iteration_accuracy = accuracy_score(predictions , y_val)\n",
    "    acc_scores.append(iteration_accuracy)\n",
    "     \n",
    "        \n",
    "for i in range(len(acc_scores)):\n",
    "    print('Accuracy score for iteration {0}: {1}'.format(i+1, acc_scores[i]))\n",
    "\n",
    "avg_scores = sum(acc_scores)/num_folds\n",
    "print('\\nAverage accuracy score: {}'.format(avg_scores))"
   ]
  },
  {
   "cell_type": "code",
   "execution_count": null,
   "metadata": {},
   "outputs": [],
   "source": [
    "type(X_train)"
   ]
  },
  {
   "cell_type": "markdown",
   "metadata": {},
   "source": [
    "# To-Do research improving KNN\n",
    "- cannot use iloc in KFold splitting because X_train is matrix not pandas object\n",
    "- Read this:\n",
    "    - https://towardsdatascience.com/text-classification-using-k-nearest-neighbors-46fa8a77acc5"
   ]
  },
  {
   "cell_type": "markdown",
   "metadata": {},
   "source": [
    "# Summary So Far for Genre Classification:\n",
    "- Multinomial Naive Bayes\n",
    "    - Model Accuracy: 0.603110\n",
    "- Random Forest Classifier\n",
    "    - Model Accuracy: 0.596078\n",
    "- Knn\n",
    "    - where k=1000, accuracy score: 0.5843137254901961"
   ]
  },
  {
   "cell_type": "code",
   "execution_count": null,
   "metadata": {},
   "outputs": [],
   "source": []
  }
 ],
 "metadata": {
  "kernelspec": {
   "display_name": "Python 3",
   "language": "python",
   "name": "python3"
  },
  "language_info": {
   "codemirror_mode": {
    "name": "ipython",
    "version": 3
   },
   "file_extension": ".py",
   "mimetype": "text/x-python",
   "name": "python",
   "nbconvert_exporter": "python",
   "pygments_lexer": "ipython3",
   "version": "3.8.3"
  }
 },
 "nbformat": 4,
 "nbformat_minor": 4
}
