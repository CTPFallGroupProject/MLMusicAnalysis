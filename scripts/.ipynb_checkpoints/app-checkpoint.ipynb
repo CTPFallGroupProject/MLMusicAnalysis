{
 "cells": [
  {
   "cell_type": "code",
   "execution_count": 60,
   "id": "167497dc",
   "metadata": {},
   "outputs": [],
   "source": [
    "import pandas as pd\n",
    "from nltk import word_tokenize\n",
    "from tqdm import tqdm\n",
    "import time\n",
    "\n",
    "#for Requests\n",
    "from bs4 import BeautifulSoup\n",
    "import requests as re"
   ]
  },
  {
   "cell_type": "markdown",
   "id": "fdf9f6de",
   "metadata": {},
   "source": [
    "### Note: \n",
    "\n",
    "It seems the we can't do read_csv from google drive for a large file either. So, I have added a .gitignore file on the repo. That means we can have the 180mb data file on our /data folder, and when we push the repo, the .csv file won't be included. That's how we can push and pull without a probelem.\n",
    "\n",
    "PS: MAKE sure to have the labeled_lyrics_cleaned.csv file to your data folder after cloning this repo."
   ]
  },
  {
   "cell_type": "code",
   "execution_count": 13,
   "id": "c563e63e",
   "metadata": {},
   "outputs": [],
   "source": [
    "# 150_k_dataset\n",
    "df_150k = pd.read_csv('../data/labeled_lyrics_cleaned.csv')"
   ]
  },
  {
   "cell_type": "code",
   "execution_count": 14,
   "id": "944a3999",
   "metadata": {},
   "outputs": [
    {
     "data": {
      "text/html": [
       "<div>\n",
       "<style scoped>\n",
       "    .dataframe tbody tr th:only-of-type {\n",
       "        vertical-align: middle;\n",
       "    }\n",
       "\n",
       "    .dataframe tbody tr th {\n",
       "        vertical-align: top;\n",
       "    }\n",
       "\n",
       "    .dataframe thead th {\n",
       "        text-align: right;\n",
       "    }\n",
       "</style>\n",
       "<table border=\"1\" class=\"dataframe\">\n",
       "  <thead>\n",
       "    <tr style=\"text-align: right;\">\n",
       "      <th></th>\n",
       "      <th>Unnamed: 0</th>\n",
       "      <th>artist</th>\n",
       "      <th>seq</th>\n",
       "      <th>song</th>\n",
       "      <th>label</th>\n",
       "    </tr>\n",
       "  </thead>\n",
       "  <tbody>\n",
       "    <tr>\n",
       "      <th>0</th>\n",
       "      <td>0</td>\n",
       "      <td>Elijah Blake</td>\n",
       "      <td>No, no\\r\\nI ain't ever trapped out the bando\\r...</td>\n",
       "      <td>Everyday</td>\n",
       "      <td>0.626</td>\n",
       "    </tr>\n",
       "    <tr>\n",
       "      <th>1</th>\n",
       "      <td>1</td>\n",
       "      <td>Elijah Blake</td>\n",
       "      <td>The drinks go down and smoke goes up, I feel m...</td>\n",
       "      <td>Live Till We Die</td>\n",
       "      <td>0.630</td>\n",
       "    </tr>\n",
       "    <tr>\n",
       "      <th>2</th>\n",
       "      <td>2</td>\n",
       "      <td>Elijah Blake</td>\n",
       "      <td>She don't live on planet Earth no more\\r\\nShe ...</td>\n",
       "      <td>The Otherside</td>\n",
       "      <td>0.240</td>\n",
       "    </tr>\n",
       "    <tr>\n",
       "      <th>3</th>\n",
       "      <td>3</td>\n",
       "      <td>Elijah Blake</td>\n",
       "      <td>Trippin' off that Grigio, mobbin', lights low\\...</td>\n",
       "      <td>Pinot</td>\n",
       "      <td>0.536</td>\n",
       "    </tr>\n",
       "    <tr>\n",
       "      <th>4</th>\n",
       "      <td>4</td>\n",
       "      <td>Elijah Blake</td>\n",
       "      <td>I see a midnight panther, so gallant and so br...</td>\n",
       "      <td>Shadows &amp; Diamonds</td>\n",
       "      <td>0.371</td>\n",
       "    </tr>\n",
       "  </tbody>\n",
       "</table>\n",
       "</div>"
      ],
      "text/plain": [
       "   Unnamed: 0        artist  \\\n",
       "0           0  Elijah Blake   \n",
       "1           1  Elijah Blake   \n",
       "2           2  Elijah Blake   \n",
       "3           3  Elijah Blake   \n",
       "4           4  Elijah Blake   \n",
       "\n",
       "                                                 seq                song  \\\n",
       "0  No, no\\r\\nI ain't ever trapped out the bando\\r...            Everyday   \n",
       "1  The drinks go down and smoke goes up, I feel m...    Live Till We Die   \n",
       "2  She don't live on planet Earth no more\\r\\nShe ...       The Otherside   \n",
       "3  Trippin' off that Grigio, mobbin', lights low\\...               Pinot   \n",
       "4  I see a midnight panther, so gallant and so br...  Shadows & Diamonds   \n",
       "\n",
       "   label  \n",
       "0  0.626  \n",
       "1  0.630  \n",
       "2  0.240  \n",
       "3  0.536  \n",
       "4  0.371  "
      ]
     },
     "execution_count": 14,
     "metadata": {},
     "output_type": "execute_result"
    }
   ],
   "source": [
    "df_150k.head()"
   ]
  },
  {
   "cell_type": "code",
   "execution_count": 54,
   "id": "f5e948fd",
   "metadata": {},
   "outputs": [],
   "source": [
    "artist = list(df_150k['artist'].unique())"
   ]
  },
  {
   "cell_type": "code",
   "execution_count": 12,
   "id": "b2c6125b",
   "metadata": {},
   "outputs": [
    {
     "name": "stdout",
     "output_type": "stream",
     "text": [
      "I-want-to-break-free-sks\n"
     ]
    }
   ],
   "source": [
    "def add_dash(input_str):\n",
    "    tokenize = word_tokenize(input_str)\n",
    "    return \"-\".join(tokenize)\n",
    "\n",
    "input_str = '''I want to break free sks'''\n",
    "print(add_dash(input_str))"
   ]
  },
  {
   "cell_type": "code",
   "execution_count": 16,
   "id": "fb0a1c5b",
   "metadata": {},
   "outputs": [],
   "source": [
    "df_150k['ar_dash'] = df_150k['artist'].apply(add_dash)"
   ]
  },
  {
   "cell_type": "code",
   "execution_count": 19,
   "id": "dac29f19",
   "metadata": {},
   "outputs": [],
   "source": [
    "df_150k['title_dash']  = df_150k['song'].apply(add_dash)"
   ]
  },
  {
   "cell_type": "code",
   "execution_count": 27,
   "id": "db1511f0",
   "metadata": {},
   "outputs": [],
   "source": [
    "df_150k['url'] = df_150k['ar_dash'] + '-' + df_150k[\"title_dash\"] + \"-lyrics\""
   ]
  },
  {
   "cell_type": "code",
   "execution_count": 38,
   "id": "350071dc",
   "metadata": {},
   "outputs": [],
   "source": [
    "df_150k = df_150k.rename(columns={'url': 'song_path'})"
   ]
  },
  {
   "cell_type": "code",
   "execution_count": 39,
   "id": "8e7edb28",
   "metadata": {},
   "outputs": [
    {
     "data": {
      "text/html": [
       "<div>\n",
       "<style scoped>\n",
       "    .dataframe tbody tr th:only-of-type {\n",
       "        vertical-align: middle;\n",
       "    }\n",
       "\n",
       "    .dataframe tbody tr th {\n",
       "        vertical-align: top;\n",
       "    }\n",
       "\n",
       "    .dataframe thead th {\n",
       "        text-align: right;\n",
       "    }\n",
       "</style>\n",
       "<table border=\"1\" class=\"dataframe\">\n",
       "  <thead>\n",
       "    <tr style=\"text-align: right;\">\n",
       "      <th></th>\n",
       "      <th>Unnamed: 0</th>\n",
       "      <th>artist</th>\n",
       "      <th>seq</th>\n",
       "      <th>song</th>\n",
       "      <th>label</th>\n",
       "      <th>ar_dash</th>\n",
       "      <th>title_dash</th>\n",
       "      <th>song_path</th>\n",
       "    </tr>\n",
       "  </thead>\n",
       "  <tbody>\n",
       "    <tr>\n",
       "      <th>0</th>\n",
       "      <td>0</td>\n",
       "      <td>Elijah Blake</td>\n",
       "      <td>No, no\\r\\nI ain't ever trapped out the bando\\r...</td>\n",
       "      <td>Everyday</td>\n",
       "      <td>0.626</td>\n",
       "      <td>Elijah-Blake</td>\n",
       "      <td>Everyday</td>\n",
       "      <td>Elijah-Blake-Everyday-lyrics</td>\n",
       "    </tr>\n",
       "    <tr>\n",
       "      <th>1</th>\n",
       "      <td>1</td>\n",
       "      <td>Elijah Blake</td>\n",
       "      <td>The drinks go down and smoke goes up, I feel m...</td>\n",
       "      <td>Live Till We Die</td>\n",
       "      <td>0.630</td>\n",
       "      <td>Elijah-Blake</td>\n",
       "      <td>Live-Till-We-Die</td>\n",
       "      <td>Elijah-Blake-Live-Till-We-Die-lyrics</td>\n",
       "    </tr>\n",
       "    <tr>\n",
       "      <th>2</th>\n",
       "      <td>2</td>\n",
       "      <td>Elijah Blake</td>\n",
       "      <td>She don't live on planet Earth no more\\r\\nShe ...</td>\n",
       "      <td>The Otherside</td>\n",
       "      <td>0.240</td>\n",
       "      <td>Elijah-Blake</td>\n",
       "      <td>The-Otherside</td>\n",
       "      <td>Elijah-Blake-The-Otherside-lyrics</td>\n",
       "    </tr>\n",
       "    <tr>\n",
       "      <th>3</th>\n",
       "      <td>3</td>\n",
       "      <td>Elijah Blake</td>\n",
       "      <td>Trippin' off that Grigio, mobbin', lights low\\...</td>\n",
       "      <td>Pinot</td>\n",
       "      <td>0.536</td>\n",
       "      <td>Elijah-Blake</td>\n",
       "      <td>Pinot</td>\n",
       "      <td>Elijah-Blake-Pinot-lyrics</td>\n",
       "    </tr>\n",
       "    <tr>\n",
       "      <th>4</th>\n",
       "      <td>4</td>\n",
       "      <td>Elijah Blake</td>\n",
       "      <td>I see a midnight panther, so gallant and so br...</td>\n",
       "      <td>Shadows &amp; Diamonds</td>\n",
       "      <td>0.371</td>\n",
       "      <td>Elijah-Blake</td>\n",
       "      <td>Shadows-&amp;-Diamonds</td>\n",
       "      <td>Elijah-Blake-Shadows-&amp;-Diamonds-lyrics</td>\n",
       "    </tr>\n",
       "  </tbody>\n",
       "</table>\n",
       "</div>"
      ],
      "text/plain": [
       "   Unnamed: 0        artist  \\\n",
       "0           0  Elijah Blake   \n",
       "1           1  Elijah Blake   \n",
       "2           2  Elijah Blake   \n",
       "3           3  Elijah Blake   \n",
       "4           4  Elijah Blake   \n",
       "\n",
       "                                                 seq                song  \\\n",
       "0  No, no\\r\\nI ain't ever trapped out the bando\\r...            Everyday   \n",
       "1  The drinks go down and smoke goes up, I feel m...    Live Till We Die   \n",
       "2  She don't live on planet Earth no more\\r\\nShe ...       The Otherside   \n",
       "3  Trippin' off that Grigio, mobbin', lights low\\...               Pinot   \n",
       "4  I see a midnight panther, so gallant and so br...  Shadows & Diamonds   \n",
       "\n",
       "   label       ar_dash          title_dash  \\\n",
       "0  0.626  Elijah-Blake            Everyday   \n",
       "1  0.630  Elijah-Blake    Live-Till-We-Die   \n",
       "2  0.240  Elijah-Blake       The-Otherside   \n",
       "3  0.536  Elijah-Blake               Pinot   \n",
       "4  0.371  Elijah-Blake  Shadows-&-Diamonds   \n",
       "\n",
       "                                song_path  \n",
       "0            Elijah-Blake-Everyday-lyrics  \n",
       "1    Elijah-Blake-Live-Till-We-Die-lyrics  \n",
       "2       Elijah-Blake-The-Otherside-lyrics  \n",
       "3               Elijah-Blake-Pinot-lyrics  \n",
       "4  Elijah-Blake-Shadows-&-Diamonds-lyrics  "
      ]
     },
     "execution_count": 39,
     "metadata": {},
     "output_type": "execute_result"
    }
   ],
   "source": [
    "df_150k.head()"
   ]
  },
  {
   "cell_type": "code",
   "execution_count": 40,
   "id": "cfe58d9f",
   "metadata": {},
   "outputs": [],
   "source": [
    "base_link = 'https://genius.com/'\n",
    "df_150k['url'] = base_link + df_150k['song_path']"
   ]
  },
  {
   "cell_type": "code",
   "execution_count": 82,
   "id": "6bd64318",
   "metadata": {},
   "outputs": [],
   "source": [
    "dff = df_150k.iloc[666:671]"
   ]
  },
  {
   "cell_type": "code",
   "execution_count": 86,
   "id": "a03171ae",
   "metadata": {},
   "outputs": [
    {
     "name": "stdout",
     "output_type": "stream",
     "text": [
      "https://genius.com/Judy-Garland-Shenandoah-lyrics\n",
      "No_genre\n",
      "None\n",
      "https://genius.com/Judy-Garland-Among-My-Souvenirs-lyrics\n",
      "Pop\n",
      "https://genius.com/Judy-Garland-Little-Drops-of-Rain-lyrics\n",
      "Pop\n",
      "https://genius.com/Judy-Garland-Love-lyrics\n",
      "Pop\n",
      "https://genius.com/Judy-Garland-Poor-You-lyrics\n",
      "Pop\n"
     ]
    }
   ],
   "source": [
    "for i in dff['url']:\n",
    "    print(i)\n",
    "    print(get_genre(i))\n",
    "    time.sleep(1)"
   ]
  },
  {
   "cell_type": "code",
   "execution_count": 79,
   "id": "1a42d21c",
   "metadata": {},
   "outputs": [
    {
     "name": "stdout",
     "output_type": "stream",
     "text": [
      "Genre:  Pop\n"
     ]
    }
   ],
   "source": [
    "get_genre('https://genius.com/Ella-Fitzgerald-Dindi-lyrics')"
   ]
  },
  {
   "cell_type": "code",
   "execution_count": 85,
   "id": "06262069",
   "metadata": {},
   "outputs": [],
   "source": [
    "def get_genre(url):\n",
    "\n",
    "    HEADERS = {'user-agent': ('Mozilla/5.0 (Macintosh; Intel Mac OS X 10_10_5)'\n",
    "                          'AppleWebKit/537.36 (KHTML, like Gecko)'\n",
    "                          'Chrome/45.0.2454.101 Safari/537.36'),\n",
    "                          'referer': 'http://stats.nba.com/scores/'}\n",
    "    \n",
    "    source = re.get(url).text\n",
    "\n",
    "    #soup object \n",
    "    soup = BeautifulSoup(source, 'lxml')\n",
    "\n",
    "    #get the Genre class \n",
    "    tag_div = soup.find('div', class_='SongTags__Container-xixwg3-1 bZsZHM')\n",
    "    \n",
    "    #get the first genre from genre class\n",
    "    try:\n",
    "        tag_name = tag_div.a.text\n",
    "        return tag_name\n",
    "    except:\n",
    "        return \"No_genre\";"
   ]
  },
  {
   "cell_type": "code",
   "execution_count": 71,
   "id": "a85b0c5f",
   "metadata": {},
   "outputs": [
    {
     "name": "stdout",
     "output_type": "stream",
     "text": [
      "https://genius.com/the-beatles-hey-jude-lyrics\n",
      "Genre:  Rock\n"
     ]
    }
   ],
   "source": [
    "base_link = 'https://genius.com/'\n",
    "artist = 'the-beatles-'\n",
    "song_title = 'hey-jude-'\n",
    "page = base_link + artist + song_title + 'lyrics'\n",
    "print(page)\n",
    "source = re.get(page).text\n",
    "\n",
    "#soup object \n",
    "soup = BeautifulSoup(source, 'lxml')\n",
    "\n",
    "#get the Genre class \n",
    "tag_div = soup.find('div', class_='SongTags__Container-xixwg3-1 bZsZHM')\n",
    "\n",
    "#get the first genre from genre class\n",
    "tag_name = tag_div.a.text\n",
    "\n",
    "print(\"Genre: \", tag_name)\n",
    "\n",
    "#prints \n",
    "# https://genius.com/song_name\n",
    "# Genre: Rock"
   ]
  }
 ],
 "metadata": {
  "kernelspec": {
   "display_name": "Python 3 (ipykernel)",
   "language": "python",
   "name": "python3"
  },
  "language_info": {
   "codemirror_mode": {
    "name": "ipython",
    "version": 3
   },
   "file_extension": ".py",
   "mimetype": "text/x-python",
   "name": "python",
   "nbconvert_exporter": "python",
   "pygments_lexer": "ipython3",
   "version": "3.10.4"
  }
 },
 "nbformat": 4,
 "nbformat_minor": 5
}
