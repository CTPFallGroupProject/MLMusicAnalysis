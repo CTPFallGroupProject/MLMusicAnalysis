{
 "cells": [
  {
   "cell_type": "code",
   "execution_count": 60,
   "id": "167497dc",
   "metadata": {},
   "outputs": [],
   "source": [
    "import pandas as pd\n",
    "from nltk import word_tokenize\n",
    "from tqdm import tqdm\n",
    "import time\n",
    "\n",
    "#for Requests\n",
    "from bs4 import BeautifulSoup\n",
    "import requests as re"
   ]
  },
  {
   "cell_type": "markdown",
   "id": "fdf9f6de",
   "metadata": {},
   "source": [
    "### Note: \n",
    "\n",
    "It seems the we can't do read_csv from google drive for a large file either. So, I have added a .gitignore file on the repo. That means we can have the 180mb data file on our /data folder, and when we push the repo, the .csv file won't be included. That's how we can push and pull without a probelem.\n",
    "\n",
    "PS: MAKE sure to have the labeled_lyrics_cleaned.csv file to your data folder after cloning this repo."
   ]
  },
  {
   "cell_type": "code",
   "execution_count": 13,
   "id": "c563e63e",
   "metadata": {},
   "outputs": [],
   "source": [
    "# 150_k_dataset\n",
    "df_150k = pd.read_csv('../data/labeled_lyrics_cleaned.csv')"
   ]
  },
  {
   "cell_type": "code",
   "execution_count": 14,
   "id": "944a3999",
   "metadata": {},
   "outputs": [
    {
     "data": {
      "text/html": [
       "<div>\n",
       "<style scoped>\n",
       "    .dataframe tbody tr th:only-of-type {\n",
       "        vertical-align: middle;\n",
       "    }\n",
       "\n",
       "    .dataframe tbody tr th {\n",
       "        vertical-align: top;\n",
       "    }\n",
       "\n",
       "    .dataframe thead th {\n",
       "        text-align: right;\n",
       "    }\n",
       "</style>\n",
       "<table border=\"1\" class=\"dataframe\">\n",
       "  <thead>\n",
       "    <tr style=\"text-align: right;\">\n",
       "      <th></th>\n",
       "      <th>Unnamed: 0</th>\n",
       "      <th>artist</th>\n",
       "      <th>seq</th>\n",
       "      <th>song</th>\n",
       "      <th>label</th>\n",
       "    </tr>\n",
       "  </thead>\n",
       "  <tbody>\n",
       "    <tr>\n",
       "      <th>0</th>\n",
       "      <td>0</td>\n",
       "      <td>Elijah Blake</td>\n",
       "      <td>No, no\\r\\nI ain't ever trapped out the bando\\r...</td>\n",
       "      <td>Everyday</td>\n",
       "      <td>0.626</td>\n",
       "    </tr>\n",
       "    <tr>\n",
       "      <th>1</th>\n",
       "      <td>1</td>\n",
       "      <td>Elijah Blake</td>\n",
       "      <td>The drinks go down and smoke goes up, I feel m...</td>\n",
       "      <td>Live Till We Die</td>\n",
       "      <td>0.630</td>\n",
       "    </tr>\n",
       "    <tr>\n",
       "      <th>2</th>\n",
       "      <td>2</td>\n",
       "      <td>Elijah Blake</td>\n",
       "      <td>She don't live on planet Earth no more\\r\\nShe ...</td>\n",
       "      <td>The Otherside</td>\n",
       "      <td>0.240</td>\n",
       "    </tr>\n",
       "    <tr>\n",
       "      <th>3</th>\n",
       "      <td>3</td>\n",
       "      <td>Elijah Blake</td>\n",
       "      <td>Trippin' off that Grigio, mobbin', lights low\\...</td>\n",
       "      <td>Pinot</td>\n",
       "      <td>0.536</td>\n",
       "    </tr>\n",
       "    <tr>\n",
       "      <th>4</th>\n",
       "      <td>4</td>\n",
       "      <td>Elijah Blake</td>\n",
       "      <td>I see a midnight panther, so gallant and so br...</td>\n",
       "      <td>Shadows &amp; Diamonds</td>\n",
       "      <td>0.371</td>\n",
       "    </tr>\n",
       "  </tbody>\n",
       "</table>\n",
       "</div>"
      ],
      "text/plain": [
       "   Unnamed: 0        artist  \\\n",
       "0           0  Elijah Blake   \n",
       "1           1  Elijah Blake   \n",
       "2           2  Elijah Blake   \n",
       "3           3  Elijah Blake   \n",
       "4           4  Elijah Blake   \n",
       "\n",
       "                                                 seq                song  \\\n",
       "0  No, no\\r\\nI ain't ever trapped out the bando\\r...            Everyday   \n",
       "1  The drinks go down and smoke goes up, I feel m...    Live Till We Die   \n",
       "2  She don't live on planet Earth no more\\r\\nShe ...       The Otherside   \n",
       "3  Trippin' off that Grigio, mobbin', lights low\\...               Pinot   \n",
       "4  I see a midnight panther, so gallant and so br...  Shadows & Diamonds   \n",
       "\n",
       "   label  \n",
       "0  0.626  \n",
       "1  0.630  \n",
       "2  0.240  \n",
       "3  0.536  \n",
       "4  0.371  "
      ]
     },
     "execution_count": 14,
     "metadata": {},
     "output_type": "execute_result"
    }
   ],
   "source": [
    "df_150k.head()"
   ]
  },
  {
   "cell_type": "code",
   "execution_count": 54,
   "id": "f5e948fd",
   "metadata": {},
   "outputs": [],
   "source": [
    "artist = list(df_150k['artist'].unique())"
   ]
  },
  {
   "cell_type": "code",
   "execution_count": 12,
   "id": "b2c6125b",
   "metadata": {},
   "outputs": [
    {
     "name": "stdout",
     "output_type": "stream",
     "text": [
      "I-want-to-break-free-sks\n"
     ]
    }
   ],
   "source": [
    "def add_dash(input_str):\n",
    "    tokenize = word_tokenize(input_str)\n",
    "    return \"-\".join(tokenize)\n",
    "\n",
    "input_str = '''I want to break free sks'''\n",
    "print(add_dash(input_str))"
   ]
  },
  {
   "cell_type": "code",
   "execution_count": 16,
   "id": "bd53c350",
   "metadata": {},
   "outputs": [],
   "source": [
    "df_150k['ar_dash'] = df_150k['artist'].apply(add_dash)"
   ]
  },
  {
   "cell_type": "code",
   "execution_count": 19,
   "id": "524d48fa",
   "metadata": {},
   "outputs": [],
   "source": [
    "df_150k['title_dash']  = df_150k['song'].apply(add_dash)"
   ]
  },
  {
   "cell_type": "code",
   "execution_count": 27,
   "id": "bffe6cde",
   "metadata": {},
   "outputs": [],
   "source": [
    "df_150k['url'] = df_150k['ar_dash'] + '-' + df_150k[\"title_dash\"] + \"-lyrics\""
   ]
  },
  {
   "cell_type": "code",
   "execution_count": 38,
   "id": "cbb976f2",
   "metadata": {},
   "outputs": [],
   "source": [
    "df_150k = df_150k.rename(columns={'url': 'song_path'})"
   ]
  },
  {
   "cell_type": "code",
   "execution_count": 39,
   "id": "05d0b04e",
   "metadata": {},
   "outputs": [
    {
     "data": {
      "text/html": [
       "<div>\n",
       "<style scoped>\n",
       "    .dataframe tbody tr th:only-of-type {\n",
       "        vertical-align: middle;\n",
       "    }\n",
       "\n",
       "    .dataframe tbody tr th {\n",
       "        vertical-align: top;\n",
       "    }\n",
       "\n",
       "    .dataframe thead th {\n",
       "        text-align: right;\n",
       "    }\n",
       "</style>\n",
       "<table border=\"1\" class=\"dataframe\">\n",
       "  <thead>\n",
       "    <tr style=\"text-align: right;\">\n",
       "      <th></th>\n",
       "      <th>Unnamed: 0</th>\n",
       "      <th>artist</th>\n",
       "      <th>seq</th>\n",
       "      <th>song</th>\n",
       "      <th>label</th>\n",
       "      <th>ar_dash</th>\n",
       "      <th>title_dash</th>\n",
       "      <th>song_path</th>\n",
       "    </tr>\n",
       "  </thead>\n",
       "  <tbody>\n",
       "    <tr>\n",
       "      <th>0</th>\n",
       "      <td>0</td>\n",
       "      <td>Elijah Blake</td>\n",
       "      <td>No, no\\r\\nI ain't ever trapped out the bando\\r...</td>\n",
       "      <td>Everyday</td>\n",
       "      <td>0.626</td>\n",
       "      <td>Elijah-Blake</td>\n",
       "      <td>Everyday</td>\n",
       "      <td>Elijah-Blake-Everyday-lyrics</td>\n",
       "    </tr>\n",
       "    <tr>\n",
       "      <th>1</th>\n",
       "      <td>1</td>\n",
       "      <td>Elijah Blake</td>\n",
       "      <td>The drinks go down and smoke goes up, I feel m...</td>\n",
       "      <td>Live Till We Die</td>\n",
       "      <td>0.630</td>\n",
       "      <td>Elijah-Blake</td>\n",
       "      <td>Live-Till-We-Die</td>\n",
       "      <td>Elijah-Blake-Live-Till-We-Die-lyrics</td>\n",
       "    </tr>\n",
       "    <tr>\n",
       "      <th>2</th>\n",
       "      <td>2</td>\n",
       "      <td>Elijah Blake</td>\n",
       "      <td>She don't live on planet Earth no more\\r\\nShe ...</td>\n",
       "      <td>The Otherside</td>\n",
       "      <td>0.240</td>\n",
       "      <td>Elijah-Blake</td>\n",
       "      <td>The-Otherside</td>\n",
       "      <td>Elijah-Blake-The-Otherside-lyrics</td>\n",
       "    </tr>\n",
       "    <tr>\n",
       "      <th>3</th>\n",
       "      <td>3</td>\n",
       "      <td>Elijah Blake</td>\n",
       "      <td>Trippin' off that Grigio, mobbin', lights low\\...</td>\n",
       "      <td>Pinot</td>\n",
       "      <td>0.536</td>\n",
       "      <td>Elijah-Blake</td>\n",
       "      <td>Pinot</td>\n",
       "      <td>Elijah-Blake-Pinot-lyrics</td>\n",
       "    </tr>\n",
       "    <tr>\n",
       "      <th>4</th>\n",
       "      <td>4</td>\n",
       "      <td>Elijah Blake</td>\n",
       "      <td>I see a midnight panther, so gallant and so br...</td>\n",
       "      <td>Shadows &amp; Diamonds</td>\n",
       "      <td>0.371</td>\n",
       "      <td>Elijah-Blake</td>\n",
       "      <td>Shadows-&amp;-Diamonds</td>\n",
       "      <td>Elijah-Blake-Shadows-&amp;-Diamonds-lyrics</td>\n",
       "    </tr>\n",
       "  </tbody>\n",
       "</table>\n",
       "</div>"
      ],
      "text/plain": [
       "   Unnamed: 0        artist  \\\n",
       "0           0  Elijah Blake   \n",
       "1           1  Elijah Blake   \n",
       "2           2  Elijah Blake   \n",
       "3           3  Elijah Blake   \n",
       "4           4  Elijah Blake   \n",
       "\n",
       "                                                 seq                song  \\\n",
       "0  No, no\\r\\nI ain't ever trapped out the bando\\r...            Everyday   \n",
       "1  The drinks go down and smoke goes up, I feel m...    Live Till We Die   \n",
       "2  She don't live on planet Earth no more\\r\\nShe ...       The Otherside   \n",
       "3  Trippin' off that Grigio, mobbin', lights low\\...               Pinot   \n",
       "4  I see a midnight panther, so gallant and so br...  Shadows & Diamonds   \n",
       "\n",
       "   label       ar_dash          title_dash  \\\n",
       "0  0.626  Elijah-Blake            Everyday   \n",
       "1  0.630  Elijah-Blake    Live-Till-We-Die   \n",
       "2  0.240  Elijah-Blake       The-Otherside   \n",
       "3  0.536  Elijah-Blake               Pinot   \n",
       "4  0.371  Elijah-Blake  Shadows-&-Diamonds   \n",
       "\n",
       "                                song_path  \n",
       "0            Elijah-Blake-Everyday-lyrics  \n",
       "1    Elijah-Blake-Live-Till-We-Die-lyrics  \n",
       "2       Elijah-Blake-The-Otherside-lyrics  \n",
       "3               Elijah-Blake-Pinot-lyrics  \n",
       "4  Elijah-Blake-Shadows-&-Diamonds-lyrics  "
      ]
     },
     "execution_count": 39,
     "metadata": {},
     "output_type": "execute_result"
    }
   ],
   "source": [
    "df_150k.head()"
   ]
  },
  {
   "cell_type": "code",
   "execution_count": 90,
   "id": "31e80ae4",
   "metadata": {},
   "outputs": [
    {
     "data": {
      "text/plain": [
       "158353"
      ]
     },
     "execution_count": 90,
     "metadata": {},
     "output_type": "execute_result"
    }
   ],
   "source": [
    "len(df_150k)"
   ]
  },
  {
   "cell_type": "code",
   "execution_count": 40,
   "id": "19257de4",
   "metadata": {},
   "outputs": [],
   "source": [
    "base_link = 'https://genius.com/'\n",
    "df_150k['url'] = base_link + df_150k['song_path']"
   ]
  },
  {
   "cell_type": "code",
   "execution_count": 88,
   "id": "19c49765",
   "metadata": {},
   "outputs": [],
   "source": [
    "dff = df_150k.iloc[966:971]"
   ]
  },
  {
   "cell_type": "code",
   "execution_count": 89,
   "id": "45d55c7e",
   "metadata": {},
   "outputs": [
    {
     "name": "stdout",
     "output_type": "stream",
     "text": [
      "https://genius.com/Julia-Holter-Try-To-Make-Yourself-a-Work-of-Art-lyrics\n",
      "Pop\n",
      "https://genius.com/Julia-Holter-Feel-You-lyrics\n",
      "Pop\n",
      "https://genius.com/Julia-Holter-Everytime-Boots-lyrics\n",
      "Pop\n",
      "https://genius.com/Julia-Holter-Have-You-in-My-Wilderness-lyrics\n",
      "Pop\n",
      "https://genius.com/Julia-Holter-How-Long-?-lyrics\n",
      "No_genre\n"
     ]
    }
   ],
   "source": [
    "for i in dff['url']:\n",
    "    print(i)\n",
    "    print(get_genre(i))\n",
    "    time.sleep(1)"
   ]
  },
  {
   "cell_type": "code",
   "execution_count": null,
   "id": "3e72499b",
   "metadata": {},
   "outputs": [],
   "source": []
  },
  {
   "cell_type": "code",
   "execution_count": 79,
   "id": "f1af0b64",
   "metadata": {},
   "outputs": [
    {
     "name": "stdout",
     "output_type": "stream",
     "text": [
      "Genre:  Pop\n"
     ]
    }
   ],
   "source": [
    "get_genre('https://genius.com/Ella-Fitzgerald-Dindi-lyrics')"
   ]
  },
  {
   "cell_type": "code",
   "execution_count": 87,
   "id": "b265a11a",
   "metadata": {},
   "outputs": [],
   "source": [
    "def get_genre(url):\n",
    "\n",
    "    HEADERS = {'user-agent': ('Mozilla/5.0 (Macintosh; Intel Mac OS X 10_10_5)'\n",
    "                          'AppleWebKit/537.36 (KHTML, like Gecko)'\n",
    "                          'Chrome/45.0.2454.101 Safari/537.36'),\n",
    "                          'referer': 'http://stats.nba.com/scores/'}\n",
    "    \n",
    "    source = re.get(url).text\n",
    "\n",
    "    #soup object \n",
    "    soup = BeautifulSoup(source, 'lxml')\n",
    "\n",
    "    #get the Genre class \n",
    "    tag_div = soup.find('div', class_='SongTags__Container-xixwg3-1 bZsZHM')\n",
    "    \n",
    "    #get the first genre from genre class\n",
    "    try:\n",
    "        tag_name = tag_div.a.text\n",
    "        return tag_name\n",
    "    except:\n",
    "        return \"No_genre\";"
   ]
  },
  {
   "cell_type": "code",
   "execution_count": 92,
   "id": "7b1c9f24",
   "metadata": {},
   "outputs": [
    {
     "data": {
      "text/plain": [
       "7917.65"
      ]
     },
     "execution_count": 92,
     "metadata": {},
     "output_type": "execute_result"
    }
   ],
   "source": [
    "158353/20"
   ]
  },
  {
   "cell_type": "code",
   "execution_count": 94,
   "id": "b9299d0f",
   "metadata": {},
   "outputs": [],
   "source": [
    "df_01 = df_150k.iloc[0:7917]"
   ]
  },
  {
   "cell_type": "code",
   "execution_count": 95,
   "id": "ef410b33",
   "metadata": {},
   "outputs": [
    {
     "data": {
      "text/html": [
       "<div>\n",
       "<style scoped>\n",
       "    .dataframe tbody tr th:only-of-type {\n",
       "        vertical-align: middle;\n",
       "    }\n",
       "\n",
       "    .dataframe tbody tr th {\n",
       "        vertical-align: top;\n",
       "    }\n",
       "\n",
       "    .dataframe thead th {\n",
       "        text-align: right;\n",
       "    }\n",
       "</style>\n",
       "<table border=\"1\" class=\"dataframe\">\n",
       "  <thead>\n",
       "    <tr style=\"text-align: right;\">\n",
       "      <th></th>\n",
       "      <th>Unnamed: 0</th>\n",
       "      <th>artist</th>\n",
       "      <th>seq</th>\n",
       "      <th>song</th>\n",
       "      <th>label</th>\n",
       "      <th>ar_dash</th>\n",
       "      <th>title_dash</th>\n",
       "      <th>song_path</th>\n",
       "      <th>url</th>\n",
       "    </tr>\n",
       "  </thead>\n",
       "  <tbody>\n",
       "    <tr>\n",
       "      <th>0</th>\n",
       "      <td>0</td>\n",
       "      <td>Elijah Blake</td>\n",
       "      <td>No, no\\r\\nI ain't ever trapped out the bando\\r...</td>\n",
       "      <td>Everyday</td>\n",
       "      <td>0.626</td>\n",
       "      <td>Elijah-Blake</td>\n",
       "      <td>Everyday</td>\n",
       "      <td>Elijah-Blake-Everyday-lyrics</td>\n",
       "      <td>https://genius.com/Elijah-Blake-Everyday-lyrics</td>\n",
       "    </tr>\n",
       "    <tr>\n",
       "      <th>1</th>\n",
       "      <td>1</td>\n",
       "      <td>Elijah Blake</td>\n",
       "      <td>The drinks go down and smoke goes up, I feel m...</td>\n",
       "      <td>Live Till We Die</td>\n",
       "      <td>0.630</td>\n",
       "      <td>Elijah-Blake</td>\n",
       "      <td>Live-Till-We-Die</td>\n",
       "      <td>Elijah-Blake-Live-Till-We-Die-lyrics</td>\n",
       "      <td>https://genius.com/Elijah-Blake-Live-Till-We-D...</td>\n",
       "    </tr>\n",
       "    <tr>\n",
       "      <th>2</th>\n",
       "      <td>2</td>\n",
       "      <td>Elijah Blake</td>\n",
       "      <td>She don't live on planet Earth no more\\r\\nShe ...</td>\n",
       "      <td>The Otherside</td>\n",
       "      <td>0.240</td>\n",
       "      <td>Elijah-Blake</td>\n",
       "      <td>The-Otherside</td>\n",
       "      <td>Elijah-Blake-The-Otherside-lyrics</td>\n",
       "      <td>https://genius.com/Elijah-Blake-The-Otherside-...</td>\n",
       "    </tr>\n",
       "    <tr>\n",
       "      <th>3</th>\n",
       "      <td>3</td>\n",
       "      <td>Elijah Blake</td>\n",
       "      <td>Trippin' off that Grigio, mobbin', lights low\\...</td>\n",
       "      <td>Pinot</td>\n",
       "      <td>0.536</td>\n",
       "      <td>Elijah-Blake</td>\n",
       "      <td>Pinot</td>\n",
       "      <td>Elijah-Blake-Pinot-lyrics</td>\n",
       "      <td>https://genius.com/Elijah-Blake-Pinot-lyrics</td>\n",
       "    </tr>\n",
       "    <tr>\n",
       "      <th>4</th>\n",
       "      <td>4</td>\n",
       "      <td>Elijah Blake</td>\n",
       "      <td>I see a midnight panther, so gallant and so br...</td>\n",
       "      <td>Shadows &amp; Diamonds</td>\n",
       "      <td>0.371</td>\n",
       "      <td>Elijah-Blake</td>\n",
       "      <td>Shadows-&amp;-Diamonds</td>\n",
       "      <td>Elijah-Blake-Shadows-&amp;-Diamonds-lyrics</td>\n",
       "      <td>https://genius.com/Elijah-Blake-Shadows-&amp;-Diam...</td>\n",
       "    </tr>\n",
       "    <tr>\n",
       "      <th>...</th>\n",
       "      <td>...</td>\n",
       "      <td>...</td>\n",
       "      <td>...</td>\n",
       "      <td>...</td>\n",
       "      <td>...</td>\n",
       "      <td>...</td>\n",
       "      <td>...</td>\n",
       "      <td>...</td>\n",
       "      <td>...</td>\n",
       "    </tr>\n",
       "    <tr>\n",
       "      <th>7912</th>\n",
       "      <td>7912</td>\n",
       "      <td>Ray Anthony</td>\n",
       "      <td>You know the feeling of something half remembe...</td>\n",
       "      <td>Laura</td>\n",
       "      <td>0.114</td>\n",
       "      <td>Ray-Anthony</td>\n",
       "      <td>Laura</td>\n",
       "      <td>Ray-Anthony-Laura-lyrics</td>\n",
       "      <td>https://genius.com/Ray-Anthony-Laura-lyrics</td>\n",
       "    </tr>\n",
       "    <tr>\n",
       "      <th>7913</th>\n",
       "      <td>7913</td>\n",
       "      <td>Ray Anthony</td>\n",
       "      <td>The falling leaves drift by the window\\r\\nThe ...</td>\n",
       "      <td>Autumn Leaves</td>\n",
       "      <td>0.248</td>\n",
       "      <td>Ray-Anthony</td>\n",
       "      <td>Autumn-Leaves</td>\n",
       "      <td>Ray-Anthony-Autumn-Leaves-lyrics</td>\n",
       "      <td>https://genius.com/Ray-Anthony-Autumn-Leaves-l...</td>\n",
       "    </tr>\n",
       "    <tr>\n",
       "      <th>7914</th>\n",
       "      <td>7914</td>\n",
       "      <td>Ray Anthony</td>\n",
       "      <td>I'm doing all I can... to separate your hate f...</td>\n",
       "      <td>I Believe</td>\n",
       "      <td>0.766</td>\n",
       "      <td>Ray-Anthony</td>\n",
       "      <td>I-Believe</td>\n",
       "      <td>Ray-Anthony-I-Believe-lyrics</td>\n",
       "      <td>https://genius.com/Ray-Anthony-I-Believe-lyrics</td>\n",
       "    </tr>\n",
       "    <tr>\n",
       "      <th>7915</th>\n",
       "      <td>7915</td>\n",
       "      <td>Ray Anthony</td>\n",
       "      <td>It seems we stood and talked like this before\\...</td>\n",
       "      <td>Where or When</td>\n",
       "      <td>0.573</td>\n",
       "      <td>Ray-Anthony</td>\n",
       "      <td>Where-or-When</td>\n",
       "      <td>Ray-Anthony-Where-or-When-lyrics</td>\n",
       "      <td>https://genius.com/Ray-Anthony-Where-or-When-l...</td>\n",
       "    </tr>\n",
       "    <tr>\n",
       "      <th>7916</th>\n",
       "      <td>7916</td>\n",
       "      <td>Ray Anthony</td>\n",
       "      <td>Your cheating will make you weep\\r\\nYou'll cry...</td>\n",
       "      <td>Your Cheatin' Heart</td>\n",
       "      <td>0.300</td>\n",
       "      <td>Ray-Anthony</td>\n",
       "      <td>Your-Cheatin-'-Heart</td>\n",
       "      <td>Ray-Anthony-Your-Cheatin-'-Heart-lyrics</td>\n",
       "      <td>https://genius.com/Ray-Anthony-Your-Cheatin-'-...</td>\n",
       "    </tr>\n",
       "  </tbody>\n",
       "</table>\n",
       "<p>7917 rows × 9 columns</p>\n",
       "</div>"
      ],
      "text/plain": [
       "      Unnamed: 0        artist  \\\n",
       "0              0  Elijah Blake   \n",
       "1              1  Elijah Blake   \n",
       "2              2  Elijah Blake   \n",
       "3              3  Elijah Blake   \n",
       "4              4  Elijah Blake   \n",
       "...          ...           ...   \n",
       "7912        7912   Ray Anthony   \n",
       "7913        7913   Ray Anthony   \n",
       "7914        7914   Ray Anthony   \n",
       "7915        7915   Ray Anthony   \n",
       "7916        7916   Ray Anthony   \n",
       "\n",
       "                                                    seq                 song  \\\n",
       "0     No, no\\r\\nI ain't ever trapped out the bando\\r...             Everyday   \n",
       "1     The drinks go down and smoke goes up, I feel m...     Live Till We Die   \n",
       "2     She don't live on planet Earth no more\\r\\nShe ...        The Otherside   \n",
       "3     Trippin' off that Grigio, mobbin', lights low\\...                Pinot   \n",
       "4     I see a midnight panther, so gallant and so br...   Shadows & Diamonds   \n",
       "...                                                 ...                  ...   \n",
       "7912  You know the feeling of something half remembe...                Laura   \n",
       "7913  The falling leaves drift by the window\\r\\nThe ...        Autumn Leaves   \n",
       "7914  I'm doing all I can... to separate your hate f...            I Believe   \n",
       "7915  It seems we stood and talked like this before\\...        Where or When   \n",
       "7916  Your cheating will make you weep\\r\\nYou'll cry...  Your Cheatin' Heart   \n",
       "\n",
       "      label       ar_dash            title_dash  \\\n",
       "0     0.626  Elijah-Blake              Everyday   \n",
       "1     0.630  Elijah-Blake      Live-Till-We-Die   \n",
       "2     0.240  Elijah-Blake         The-Otherside   \n",
       "3     0.536  Elijah-Blake                 Pinot   \n",
       "4     0.371  Elijah-Blake    Shadows-&-Diamonds   \n",
       "...     ...           ...                   ...   \n",
       "7912  0.114   Ray-Anthony                 Laura   \n",
       "7913  0.248   Ray-Anthony         Autumn-Leaves   \n",
       "7914  0.766   Ray-Anthony             I-Believe   \n",
       "7915  0.573   Ray-Anthony         Where-or-When   \n",
       "7916  0.300   Ray-Anthony  Your-Cheatin-'-Heart   \n",
       "\n",
       "                                    song_path  \\\n",
       "0                Elijah-Blake-Everyday-lyrics   \n",
       "1        Elijah-Blake-Live-Till-We-Die-lyrics   \n",
       "2           Elijah-Blake-The-Otherside-lyrics   \n",
       "3                   Elijah-Blake-Pinot-lyrics   \n",
       "4      Elijah-Blake-Shadows-&-Diamonds-lyrics   \n",
       "...                                       ...   \n",
       "7912                 Ray-Anthony-Laura-lyrics   \n",
       "7913         Ray-Anthony-Autumn-Leaves-lyrics   \n",
       "7914             Ray-Anthony-I-Believe-lyrics   \n",
       "7915         Ray-Anthony-Where-or-When-lyrics   \n",
       "7916  Ray-Anthony-Your-Cheatin-'-Heart-lyrics   \n",
       "\n",
       "                                                    url  \n",
       "0       https://genius.com/Elijah-Blake-Everyday-lyrics  \n",
       "1     https://genius.com/Elijah-Blake-Live-Till-We-D...  \n",
       "2     https://genius.com/Elijah-Blake-The-Otherside-...  \n",
       "3          https://genius.com/Elijah-Blake-Pinot-lyrics  \n",
       "4     https://genius.com/Elijah-Blake-Shadows-&-Diam...  \n",
       "...                                                 ...  \n",
       "7912        https://genius.com/Ray-Anthony-Laura-lyrics  \n",
       "7913  https://genius.com/Ray-Anthony-Autumn-Leaves-l...  \n",
       "7914    https://genius.com/Ray-Anthony-I-Believe-lyrics  \n",
       "7915  https://genius.com/Ray-Anthony-Where-or-When-l...  \n",
       "7916  https://genius.com/Ray-Anthony-Your-Cheatin-'-...  \n",
       "\n",
       "[7917 rows x 9 columns]"
      ]
     },
     "execution_count": 95,
     "metadata": {},
     "output_type": "execute_result"
    }
   ],
   "source": [
    "df_02 = df_150k.iloc[0:()]"
   ]
  }
 ],
 "metadata": {
  "kernelspec": {
   "display_name": "Python 3 (ipykernel)",
   "language": "python",
   "name": "python3"
  },
  "language_info": {
   "codemirror_mode": {
    "name": "ipython",
    "version": 3
   },
   "file_extension": ".py",
   "mimetype": "text/x-python",
   "name": "python",
   "nbconvert_exporter": "python",
   "pygments_lexer": "ipython3",
   "version": "3.10.4"
  }
 },
 "nbformat": 4,
 "nbformat_minor": 5
}
